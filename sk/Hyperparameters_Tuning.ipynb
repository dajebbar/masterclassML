{
  "nbformat": 4,
  "nbformat_minor": 0,
  "metadata": {
    "colab": {
      "provenance": []
    },
    "kernelspec": {
      "name": "python3",
      "display_name": "Python 3"
    },
    "language_info": {
      "name": "python"
    }
  },
  "cells": [
    {
      "cell_type": "code",
      "execution_count": 1,
      "metadata": {
        "id": "RitUExncG94S"
      },
      "outputs": [],
      "source": [
        "import pandas as pd\n",
        "from sklearn import model_selection\n",
        "from sklearn.compose import(\n",
        "    make_column_selector as selector,\n",
        "    ColumnTransformer,\n",
        ")\n",
        "\n",
        "from sklearn.preprocessing import OrdinalEncoder\n",
        "from sklearn.ensemble import HistGradientBoostingClassifier\n",
        "from sklearn.pipeline import Pipeline"
      ]
    },
    {
      "cell_type": "code",
      "source": [
        "df = pd.read_csv('adult_cencus.csv')\n",
        "df.sample(n=5)"
      ],
      "metadata": {
        "colab": {
          "base_uri": "https://localhost:8080/",
          "height": 374
        },
        "id": "omTWDKCrHpCS",
        "outputId": "15cb2ed0-5cbd-49c7-9f7f-afc30995d082"
      },
      "execution_count": 2,
      "outputs": [
        {
          "output_type": "execute_result",
          "data": {
            "text/plain": [
              "       age   workclass  fnlwgt      education  education_num  \\\n",
              "40383   33     Private  234537        HS-grad              9   \n",
              "26248   65     Private  180807        HS-grad              9   \n",
              "5698    51     Private  240988           11th              7   \n",
              "39304   35   Local-gov  184117        Masters             14   \n",
              "28943   23         NaN   86337   Some-college             10   \n",
              "\n",
              "            marital_status          occupation    relationship  \\\n",
              "40383   Married-civ-spouse        Craft-repair         Husband   \n",
              "26248            Separated     Protective-serv   Not-in-family   \n",
              "5698    Married-civ-spouse   Machine-op-inspct         Husband   \n",
              "39304        Never-married      Prof-specialty       Own-child   \n",
              "28943        Never-married                 NaN   Not-in-family   \n",
              "\n",
              "                      race      sex  capital_gain  capital_loss  \\\n",
              "40383                White     Male             0             0   \n",
              "26248                White     Male           991             0   \n",
              "5698    Asian-Pac-Islander     Male             0             0   \n",
              "39304                White   Female             0             0   \n",
              "28943                White   Female             0             0   \n",
              "\n",
              "       hours_per_week  native_country   class  \n",
              "40383              40   United-States   <=50K  \n",
              "26248              20   United-States   <=50K  \n",
              "5698               40     Philippines   <=50K  \n",
              "39304              25   United-States   <=50K  \n",
              "28943              15   United-States   <=50K  "
            ],
            "text/html": [
              "\n",
              "  <div id=\"df-442300d8-3fd7-4c09-869c-596cf2bea4b9\">\n",
              "    <div class=\"colab-df-container\">\n",
              "      <div>\n",
              "<style scoped>\n",
              "    .dataframe tbody tr th:only-of-type {\n",
              "        vertical-align: middle;\n",
              "    }\n",
              "\n",
              "    .dataframe tbody tr th {\n",
              "        vertical-align: top;\n",
              "    }\n",
              "\n",
              "    .dataframe thead th {\n",
              "        text-align: right;\n",
              "    }\n",
              "</style>\n",
              "<table border=\"1\" class=\"dataframe\">\n",
              "  <thead>\n",
              "    <tr style=\"text-align: right;\">\n",
              "      <th></th>\n",
              "      <th>age</th>\n",
              "      <th>workclass</th>\n",
              "      <th>fnlwgt</th>\n",
              "      <th>education</th>\n",
              "      <th>education_num</th>\n",
              "      <th>marital_status</th>\n",
              "      <th>occupation</th>\n",
              "      <th>relationship</th>\n",
              "      <th>race</th>\n",
              "      <th>sex</th>\n",
              "      <th>capital_gain</th>\n",
              "      <th>capital_loss</th>\n",
              "      <th>hours_per_week</th>\n",
              "      <th>native_country</th>\n",
              "      <th>class</th>\n",
              "    </tr>\n",
              "  </thead>\n",
              "  <tbody>\n",
              "    <tr>\n",
              "      <th>40383</th>\n",
              "      <td>33</td>\n",
              "      <td>Private</td>\n",
              "      <td>234537</td>\n",
              "      <td>HS-grad</td>\n",
              "      <td>9</td>\n",
              "      <td>Married-civ-spouse</td>\n",
              "      <td>Craft-repair</td>\n",
              "      <td>Husband</td>\n",
              "      <td>White</td>\n",
              "      <td>Male</td>\n",
              "      <td>0</td>\n",
              "      <td>0</td>\n",
              "      <td>40</td>\n",
              "      <td>United-States</td>\n",
              "      <td>&lt;=50K</td>\n",
              "    </tr>\n",
              "    <tr>\n",
              "      <th>26248</th>\n",
              "      <td>65</td>\n",
              "      <td>Private</td>\n",
              "      <td>180807</td>\n",
              "      <td>HS-grad</td>\n",
              "      <td>9</td>\n",
              "      <td>Separated</td>\n",
              "      <td>Protective-serv</td>\n",
              "      <td>Not-in-family</td>\n",
              "      <td>White</td>\n",
              "      <td>Male</td>\n",
              "      <td>991</td>\n",
              "      <td>0</td>\n",
              "      <td>20</td>\n",
              "      <td>United-States</td>\n",
              "      <td>&lt;=50K</td>\n",
              "    </tr>\n",
              "    <tr>\n",
              "      <th>5698</th>\n",
              "      <td>51</td>\n",
              "      <td>Private</td>\n",
              "      <td>240988</td>\n",
              "      <td>11th</td>\n",
              "      <td>7</td>\n",
              "      <td>Married-civ-spouse</td>\n",
              "      <td>Machine-op-inspct</td>\n",
              "      <td>Husband</td>\n",
              "      <td>Asian-Pac-Islander</td>\n",
              "      <td>Male</td>\n",
              "      <td>0</td>\n",
              "      <td>0</td>\n",
              "      <td>40</td>\n",
              "      <td>Philippines</td>\n",
              "      <td>&lt;=50K</td>\n",
              "    </tr>\n",
              "    <tr>\n",
              "      <th>39304</th>\n",
              "      <td>35</td>\n",
              "      <td>Local-gov</td>\n",
              "      <td>184117</td>\n",
              "      <td>Masters</td>\n",
              "      <td>14</td>\n",
              "      <td>Never-married</td>\n",
              "      <td>Prof-specialty</td>\n",
              "      <td>Own-child</td>\n",
              "      <td>White</td>\n",
              "      <td>Female</td>\n",
              "      <td>0</td>\n",
              "      <td>0</td>\n",
              "      <td>25</td>\n",
              "      <td>United-States</td>\n",
              "      <td>&lt;=50K</td>\n",
              "    </tr>\n",
              "    <tr>\n",
              "      <th>28943</th>\n",
              "      <td>23</td>\n",
              "      <td>NaN</td>\n",
              "      <td>86337</td>\n",
              "      <td>Some-college</td>\n",
              "      <td>10</td>\n",
              "      <td>Never-married</td>\n",
              "      <td>NaN</td>\n",
              "      <td>Not-in-family</td>\n",
              "      <td>White</td>\n",
              "      <td>Female</td>\n",
              "      <td>0</td>\n",
              "      <td>0</td>\n",
              "      <td>15</td>\n",
              "      <td>United-States</td>\n",
              "      <td>&lt;=50K</td>\n",
              "    </tr>\n",
              "  </tbody>\n",
              "</table>\n",
              "</div>\n",
              "      <button class=\"colab-df-convert\" onclick=\"convertToInteractive('df-442300d8-3fd7-4c09-869c-596cf2bea4b9')\"\n",
              "              title=\"Convert this dataframe to an interactive table.\"\n",
              "              style=\"display:none;\">\n",
              "        \n",
              "  <svg xmlns=\"http://www.w3.org/2000/svg\" height=\"24px\"viewBox=\"0 0 24 24\"\n",
              "       width=\"24px\">\n",
              "    <path d=\"M0 0h24v24H0V0z\" fill=\"none\"/>\n",
              "    <path d=\"M18.56 5.44l.94 2.06.94-2.06 2.06-.94-2.06-.94-.94-2.06-.94 2.06-2.06.94zm-11 1L8.5 8.5l.94-2.06 2.06-.94-2.06-.94L8.5 2.5l-.94 2.06-2.06.94zm10 10l.94 2.06.94-2.06 2.06-.94-2.06-.94-.94-2.06-.94 2.06-2.06.94z\"/><path d=\"M17.41 7.96l-1.37-1.37c-.4-.4-.92-.59-1.43-.59-.52 0-1.04.2-1.43.59L10.3 9.45l-7.72 7.72c-.78.78-.78 2.05 0 2.83L4 21.41c.39.39.9.59 1.41.59.51 0 1.02-.2 1.41-.59l7.78-7.78 2.81-2.81c.8-.78.8-2.07 0-2.86zM5.41 20L4 18.59l7.72-7.72 1.47 1.35L5.41 20z\"/>\n",
              "  </svg>\n",
              "      </button>\n",
              "      \n",
              "  <style>\n",
              "    .colab-df-container {\n",
              "      display:flex;\n",
              "      flex-wrap:wrap;\n",
              "      gap: 12px;\n",
              "    }\n",
              "\n",
              "    .colab-df-convert {\n",
              "      background-color: #E8F0FE;\n",
              "      border: none;\n",
              "      border-radius: 50%;\n",
              "      cursor: pointer;\n",
              "      display: none;\n",
              "      fill: #1967D2;\n",
              "      height: 32px;\n",
              "      padding: 0 0 0 0;\n",
              "      width: 32px;\n",
              "    }\n",
              "\n",
              "    .colab-df-convert:hover {\n",
              "      background-color: #E2EBFA;\n",
              "      box-shadow: 0px 1px 2px rgba(60, 64, 67, 0.3), 0px 1px 3px 1px rgba(60, 64, 67, 0.15);\n",
              "      fill: #174EA6;\n",
              "    }\n",
              "\n",
              "    [theme=dark] .colab-df-convert {\n",
              "      background-color: #3B4455;\n",
              "      fill: #D2E3FC;\n",
              "    }\n",
              "\n",
              "    [theme=dark] .colab-df-convert:hover {\n",
              "      background-color: #434B5C;\n",
              "      box-shadow: 0px 1px 3px 1px rgba(0, 0, 0, 0.15);\n",
              "      filter: drop-shadow(0px 1px 2px rgba(0, 0, 0, 0.3));\n",
              "      fill: #FFFFFF;\n",
              "    }\n",
              "  </style>\n",
              "\n",
              "      <script>\n",
              "        const buttonEl =\n",
              "          document.querySelector('#df-442300d8-3fd7-4c09-869c-596cf2bea4b9 button.colab-df-convert');\n",
              "        buttonEl.style.display =\n",
              "          google.colab.kernel.accessAllowed ? 'block' : 'none';\n",
              "\n",
              "        async function convertToInteractive(key) {\n",
              "          const element = document.querySelector('#df-442300d8-3fd7-4c09-869c-596cf2bea4b9');\n",
              "          const dataTable =\n",
              "            await google.colab.kernel.invokeFunction('convertToInteractive',\n",
              "                                                     [key], {});\n",
              "          if (!dataTable) return;\n",
              "\n",
              "          const docLinkHtml = 'Like what you see? Visit the ' +\n",
              "            '<a target=\"_blank\" href=https://colab.research.google.com/notebooks/data_table.ipynb>data table notebook</a>'\n",
              "            + ' to learn more about interactive tables.';\n",
              "          element.innerHTML = '';\n",
              "          dataTable['output_type'] = 'display_data';\n",
              "          await google.colab.output.renderOutput(dataTable, element);\n",
              "          const docLink = document.createElement('div');\n",
              "          docLink.innerHTML = docLinkHtml;\n",
              "          element.appendChild(docLink);\n",
              "        }\n",
              "      </script>\n",
              "    </div>\n",
              "  </div>\n",
              "  "
            ]
          },
          "metadata": {},
          "execution_count": 2
        }
      ]
    },
    {
      "cell_type": "code",
      "source": [
        "df.isna().sum()"
      ],
      "metadata": {
        "colab": {
          "base_uri": "https://localhost:8080/"
        },
        "id": "flJs3koKIVgS",
        "outputId": "6d18532a-9491-4c8d-f19b-24e6f9a54e3a"
      },
      "execution_count": 3,
      "outputs": [
        {
          "output_type": "execute_result",
          "data": {
            "text/plain": [
              "age                  0\n",
              "workclass         2799\n",
              "fnlwgt               0\n",
              "education            0\n",
              "education_num        0\n",
              "marital_status       0\n",
              "occupation        2809\n",
              "relationship         0\n",
              "race                 0\n",
              "sex                  0\n",
              "capital_gain         0\n",
              "capital_loss         0\n",
              "hours_per_week       0\n",
              "native_country     857\n",
              "class                0\n",
              "dtype: int64"
            ]
          },
          "metadata": {},
          "execution_count": 3
        }
      ]
    },
    {
      "cell_type": "code",
      "source": [
        "data, target = df.drop(columns=['education_num', 'class']), df['class'].map({' >50K':1, ' <=50K':0})"
      ],
      "metadata": {
        "id": "Lew3aPPXIkU2"
      },
      "execution_count": 4,
      "outputs": []
    },
    {
      "cell_type": "code",
      "source": [
        "target.isna().sum()"
      ],
      "metadata": {
        "colab": {
          "base_uri": "https://localhost:8080/"
        },
        "id": "AT1he0aolFie",
        "outputId": "a61109df-6648-419f-ea83-80fe59ec28a2"
      },
      "execution_count": 5,
      "outputs": [
        {
          "output_type": "execute_result",
          "data": {
            "text/plain": [
              "0"
            ]
          },
          "metadata": {},
          "execution_count": 5
        }
      ]
    },
    {
      "cell_type": "code",
      "source": [
        "X_full_train, X_test, y_full_train, y_test = model_selection.train_test_split(\n",
        "    data,\n",
        "    target,\n",
        "    test_size=.2,\n",
        "    random_state=42\n",
        ")\n",
        "\n",
        "X_full_train.shape, y_full_train.shape, X_test.shape, y_test.shape"
      ],
      "metadata": {
        "colab": {
          "base_uri": "https://localhost:8080/"
        },
        "id": "4WBsntQbJOrs",
        "outputId": "1f7d3a83-54f1-4397-8ce5-7a08b3db962b"
      },
      "execution_count": 6,
      "outputs": [
        {
          "output_type": "execute_result",
          "data": {
            "text/plain": [
              "((39073, 13), (39073,), (9769, 13), (9769,))"
            ]
          },
          "metadata": {},
          "execution_count": 6
        }
      ]
    },
    {
      "cell_type": "code",
      "source": [
        "categorical = selector(dtype_include=object)(data)\n",
        "cat_preprocessor = OrdinalEncoder(\n",
        "    handle_unknown='use_encoded_value', \n",
        "    unknown_value=-1\n",
        ")\n",
        "\n",
        "preprocessor = ColumnTransformer([\n",
        "    ('cat_preprocessor', cat_preprocessor, categorical)\n",
        "],\n",
        "remainder='passthrough', sparse_threshold=0\n",
        ")"
      ],
      "metadata": {
        "id": "hRcgiaJpJ1v7"
      },
      "execution_count": 7,
      "outputs": []
    },
    {
      "cell_type": "code",
      "source": [
        "model = Pipeline([\n",
        "    ('preprocessor', preprocessor),\n",
        "    ('classifier', HistGradientBoostingClassifier(random_state=42))\n",
        "])"
      ],
      "metadata": {
        "id": "XdJNGPBPLPh_"
      },
      "execution_count": 8,
      "outputs": []
    },
    {
      "cell_type": "code",
      "source": [
        "for param in model.get_params():\n",
        "  print(param)"
      ],
      "metadata": {
        "colab": {
          "base_uri": "https://localhost:8080/"
        },
        "id": "k9tl2tJWLsmW",
        "outputId": "71a742f6-a077-4bc8-97bc-b8a8fe06d9dc"
      },
      "execution_count": 9,
      "outputs": [
        {
          "output_type": "stream",
          "name": "stdout",
          "text": [
            "memory\n",
            "steps\n",
            "verbose\n",
            "preprocessor\n",
            "classifier\n",
            "preprocessor__n_jobs\n",
            "preprocessor__remainder\n",
            "preprocessor__sparse_threshold\n",
            "preprocessor__transformer_weights\n",
            "preprocessor__transformers\n",
            "preprocessor__verbose\n",
            "preprocessor__verbose_feature_names_out\n",
            "preprocessor__cat_preprocessor\n",
            "preprocessor__cat_preprocessor__categories\n",
            "preprocessor__cat_preprocessor__dtype\n",
            "preprocessor__cat_preprocessor__handle_unknown\n",
            "preprocessor__cat_preprocessor__unknown_value\n",
            "classifier__categorical_features\n",
            "classifier__early_stopping\n",
            "classifier__l2_regularization\n",
            "classifier__learning_rate\n",
            "classifier__loss\n",
            "classifier__max_bins\n",
            "classifier__max_depth\n",
            "classifier__max_iter\n",
            "classifier__max_leaf_nodes\n",
            "classifier__min_samples_leaf\n",
            "classifier__monotonic_cst\n",
            "classifier__n_iter_no_change\n",
            "classifier__random_state\n",
            "classifier__scoring\n",
            "classifier__tol\n",
            "classifier__validation_fraction\n",
            "classifier__verbose\n",
            "classifier__warm_start\n"
          ]
        }
      ]
    },
    {
      "cell_type": "markdown",
      "source": [
        "# Tuning hyperparameters manually"
      ],
      "metadata": {
        "id": "75migMLiMMV4"
      }
    },
    {
      "cell_type": "markdown",
      "source": [
        "Make a search of the best combinations of the `learning_rate` and `max_leaf_nodes`"
      ],
      "metadata": {
        "id": "Cs51M9rgMSXu"
      }
    },
    {
      "cell_type": "code",
      "source": [
        "best_params = {}\n",
        "score = 0\n",
        "\n",
        "for lr in [0.01, 0.1, 1, 10.]:\n",
        "  for leaf in [3, 10, 30]:\n",
        "    model.set_params(\n",
        "        classifier__learning_rate=lr, \n",
        "        classifier__max_leaf_nodes=leaf\n",
        "    )\n",
        "\n",
        "    cv_score = model_selection.cross_val_score(\n",
        "        model,\n",
        "        X_full_train,\n",
        "        y_full_train,\n",
        "        cv=10,\n",
        "        n_jobs=-1\n",
        "    )\n",
        "    if cv_score.mean() > score:\n",
        "      score = cv_score.mean()\n",
        "      best_params['lr'] = lr\n",
        "      best_params['max_leaf_nodes'] = leaf\n",
        "      best_params['score'] = score\n",
        "      best_params['std'] = score.std()\n",
        "    \n",
        "    print(f\"lr:{lr} - max-leaf-nodes:{leaf} - score:{cv_score.mean():.3f} \"\n",
        "          f\"std: {cv_score.std():.3f}\"\n",
        "    )\n",
        "print()\n",
        "print(f\"best lr: {best_params['lr']}, best max leaf nodes:{best_params['max_leaf_nodes']} \"\n",
        "      f\"best score: {best_params['score']:.3f} +/- {best_params['std']:.3f}\"\n",
        ")"
      ],
      "metadata": {
        "colab": {
          "base_uri": "https://localhost:8080/"
        },
        "id": "NannejP7L1h7",
        "outputId": "c11398a3-d650-44c9-ce2e-032bd2022522"
      },
      "execution_count": 10,
      "outputs": [
        {
          "output_type": "stream",
          "name": "stdout",
          "text": [
            "lr:0.01 - max-leaf-nodes:3 - score:0.800 std: 0.003\n",
            "lr:0.01 - max-leaf-nodes:10 - score:0.820 std: 0.004\n",
            "lr:0.01 - max-leaf-nodes:30 - score:0.849 std: 0.004\n",
            "lr:0.1 - max-leaf-nodes:3 - score:0.855 std: 0.004\n",
            "lr:0.1 - max-leaf-nodes:10 - score:0.871 std: 0.005\n",
            "lr:0.1 - max-leaf-nodes:30 - score:0.874 std: 0.004\n",
            "lr:1 - max-leaf-nodes:3 - score:0.866 std: 0.005\n",
            "lr:1 - max-leaf-nodes:10 - score:0.866 std: 0.006\n",
            "lr:1 - max-leaf-nodes:30 - score:0.860 std: 0.010\n",
            "lr:10.0 - max-leaf-nodes:3 - score:0.279 std: 0.008\n",
            "lr:10.0 - max-leaf-nodes:10 - score:0.743 std: 0.082\n",
            "lr:10.0 - max-leaf-nodes:30 - score:0.656 std: 0.161\n",
            "\n",
            "best lr: 0.1, best max leaf nodes:30 best score: 0.874 +/- 0.000\n"
          ]
        }
      ]
    },
    {
      "cell_type": "code",
      "source": [
        "model.set_params(\n",
        "    classifier__learning_rate=best_params['lr'], \n",
        "    classifier__max_leaf_nodes=best_params['max_leaf_nodes']\n",
        ")\n",
        "\n",
        "model.fit(X_full_train, y_full_train)"
      ],
      "metadata": {
        "colab": {
          "base_uri": "https://localhost:8080/"
        },
        "id": "X_H-B0LGQcoL",
        "outputId": "d0bd9a4c-2fa6-405b-f604-362381297a85"
      },
      "execution_count": 11,
      "outputs": [
        {
          "output_type": "execute_result",
          "data": {
            "text/plain": [
              "Pipeline(steps=[('preprocessor',\n",
              "                 ColumnTransformer(remainder='passthrough', sparse_threshold=0,\n",
              "                                   transformers=[('cat_preprocessor',\n",
              "                                                  OrdinalEncoder(handle_unknown='use_encoded_value',\n",
              "                                                                 unknown_value=-1),\n",
              "                                                  ['workclass', 'education',\n",
              "                                                   'marital_status',\n",
              "                                                   'occupation', 'relationship',\n",
              "                                                   'race', 'sex',\n",
              "                                                   'native_country'])])),\n",
              "                ('classifier',\n",
              "                 HistGradientBoostingClassifier(max_leaf_nodes=30,\n",
              "                                                random_state=42))])"
            ]
          },
          "metadata": {},
          "execution_count": 11
        }
      ]
    },
    {
      "cell_type": "code",
      "source": [
        "y_pred = model.predict(X_test)"
      ],
      "metadata": {
        "id": "qCTXKqVCSmnL"
      },
      "execution_count": 12,
      "outputs": []
    },
    {
      "cell_type": "code",
      "source": [
        "y_pred[:5]"
      ],
      "metadata": {
        "colab": {
          "base_uri": "https://localhost:8080/"
        },
        "id": "2HLbmx1LmkcK",
        "outputId": "f5b4e18b-fef8-4d08-c79c-f75d9ba6d869"
      },
      "execution_count": 13,
      "outputs": [
        {
          "output_type": "execute_result",
          "data": {
            "text/plain": [
              "array([0, 0, 0, 0, 0])"
            ]
          },
          "metadata": {},
          "execution_count": 13
        }
      ]
    },
    {
      "cell_type": "code",
      "source": [
        "score = model.score(X_test, y_test)\n",
        "score.round(3)"
      ],
      "metadata": {
        "colab": {
          "base_uri": "https://localhost:8080/"
        },
        "id": "H6ajeLKVSuWD",
        "outputId": "90848f51-3506-4646-c2e9-c8185f57cbde"
      },
      "execution_count": 14,
      "outputs": [
        {
          "output_type": "execute_result",
          "data": {
            "text/plain": [
              "0.874"
            ]
          },
          "metadata": {},
          "execution_count": 14
        }
      ]
    },
    {
      "cell_type": "code",
      "source": [
        "from sklearn import metrics\n",
        "\n",
        "recall_score = metrics.recall_score(y_test, y_pred)\n",
        "pecision_score = metrics.precision_score(y_test, y_pred)\n",
        "auc = metrics.roc_auc_score(y_test, y_pred)\n",
        "\n",
        "print(f'recall: {recall_score:.3f}')\n",
        "print(f'precision: {pecision_score:.3f}')\n",
        "print(f'auc: {auc:.3f}')"
      ],
      "metadata": {
        "colab": {
          "base_uri": "https://localhost:8080/"
        },
        "id": "3sd4eFlRS0RY",
        "outputId": "31192bad-858c-4531-bef5-258c4dcb2241"
      },
      "execution_count": 16,
      "outputs": [
        {
          "output_type": "stream",
          "name": "stdout",
          "text": [
            "recall: 0.642\n",
            "precision: 0.795\n",
            "auc: 0.795\n"
          ]
        }
      ]
    },
    {
      "cell_type": "markdown",
      "source": [
        "# Hyperparameter tuning by grid-search"
      ],
      "metadata": {
        "id": "v3Gi7anxryCa"
      }
    },
    {
      "cell_type": "code",
      "source": [
        "param_grid = {\n",
        "    'classifier__learning_rate': [0.01, 0.1, 1, 10], \n",
        "    'classifier__max_leaf_nodes': [3, 10, 30],\n",
        "}\n",
        "\n",
        "model_grid_search = model_selection.GridSearchCV(\n",
        "    model,\n",
        "    param_grid=param_grid,\n",
        "    cv=10,\n",
        "    n_jobs=-1\n",
        "\n",
        ").fit( X_full_train,y_full_train)"
      ],
      "metadata": {
        "id": "BRrQ115QTDC-"
      },
      "execution_count": 18,
      "outputs": []
    },
    {
      "cell_type": "code",
      "source": [
        "accuracy = model_grid_search.score(X_test, y_test)\n",
        "print(\n",
        "    f\"The test accuracy score of the grid-searched pipeline is: \"\n",
        "    f\"{accuracy:.2f}\"\n",
        ")"
      ],
      "metadata": {
        "colab": {
          "base_uri": "https://localhost:8080/"
        },
        "id": "yszghmvmtCA2",
        "outputId": "0ac048d7-48c2-4174-91dd-acc2620aa06f"
      },
      "execution_count": 19,
      "outputs": [
        {
          "output_type": "stream",
          "name": "stdout",
          "text": [
            "The test accuracy score of the grid-searched pipeline is: 0.87\n"
          ]
        }
      ]
    },
    {
      "cell_type": "markdown",
      "source": [
        "The `GridSearchCV` estimator takes a `param_grid` parameter which defines all hyperparameters and their associated values. The grid-search will be in charge of creating all possible combinations and test them.\n",
        "\n",
        "The number of combinations will be equal to the product of the number of values to explore for each parameter (e.g. in our example 4 x 3 combinations). Thus, adding new parameters with their associated values to be explored become rapidly computationally expensive.\n",
        "\n",
        "Once the grid-search is fitted, it can be used as any other predictor by calling `predict` and `predict_proba`. Internally, it will use the model with the best parameters found during `fit`."
      ],
      "metadata": {
        "id": "PTrWvhxeukvd"
      }
    },
    {
      "cell_type": "markdown",
      "source": [
        "You can know about these parameters by looking at the `best_params_` attribute."
      ],
      "metadata": {
        "id": "-khmHQwPvCq1"
      }
    },
    {
      "cell_type": "code",
      "source": [
        "print(f\"The best set of parameters is: \"\n",
        "      f\"{model_grid_search.best_params_}\"\n",
        ")"
      ],
      "metadata": {
        "colab": {
          "base_uri": "https://localhost:8080/"
        },
        "id": "CUWJOZDYttHz",
        "outputId": "cbdd83f6-4d96-4100-dc26-7e5494edcee4"
      },
      "execution_count": 20,
      "outputs": [
        {
          "output_type": "stream",
          "name": "stdout",
          "text": [
            "The best set of parameters is: {'classifier__learning_rate': 0.1, 'classifier__max_leaf_nodes': 30}\n"
          ]
        }
      ]
    },
    {
      "cell_type": "markdown",
      "source": [
        "The accuracy and the best parameters of the grid-searched pipeline are similar to the ones we found in the previous exercise, where we searched the best parameters \"by hand\" through a double for loop.\n",
        "\n",
        "In addition, we can inspect all results which are stored in the attribute `cv_results_` of the grid-search. We will filter some specific columns from these results.\n"
      ],
      "metadata": {
        "id": "qcrk3bk4vbva"
      }
    },
    {
      "cell_type": "code",
      "source": [
        "cv_results = pd.DataFrame(model_grid_search.cv_results_).sort_values(\n",
        "    \"mean_test_score\",\n",
        "    ascending=False\n",
        ")\n",
        "\n",
        "cv_results.head()"
      ],
      "metadata": {
        "colab": {
          "base_uri": "https://localhost:8080/",
          "height": 357
        },
        "id": "gCR-Nx3NvUzw",
        "outputId": "af7b7ef0-b1e3-4fdf-fcdb-a5bef0a95b6a"
      },
      "execution_count": 21,
      "outputs": [
        {
          "output_type": "execute_result",
          "data": {
            "text/plain": [
              "   mean_fit_time  std_fit_time  mean_score_time  std_score_time  \\\n",
              "5       2.833829      0.038581         0.098685        0.016626   \n",
              "4       2.367050      0.059774         0.081676        0.010385   \n",
              "6       1.689116      0.102000         0.048815        0.009528   \n",
              "7       1.538802      0.084523         0.041000        0.006003   \n",
              "8       1.592369      0.178050         0.041580        0.007018   \n",
              "\n",
              "  param_classifier__learning_rate param_classifier__max_leaf_nodes  \\\n",
              "5                             0.1                               30   \n",
              "4                             0.1                               10   \n",
              "6                               1                                3   \n",
              "7                               1                               10   \n",
              "8                               1                               30   \n",
              "\n",
              "                                              params  split0_test_score  \\\n",
              "5  {'classifier__learning_rate': 0.1, 'classifier...           0.878199   \n",
              "4  {'classifier__learning_rate': 0.1, 'classifier...           0.874360   \n",
              "6  {'classifier__learning_rate': 1, 'classifier__...           0.868219   \n",
              "7  {'classifier__learning_rate': 1, 'classifier__...           0.868219   \n",
              "8  {'classifier__learning_rate': 1, 'classifier__...           0.869243   \n",
              "\n",
              "   split1_test_score  split2_test_score  split3_test_score  split4_test_score  \\\n",
              "5           0.873081           0.876663           0.877655           0.868953   \n",
              "4           0.866428           0.873849           0.876888           0.866650   \n",
              "6           0.861566           0.869754           0.877400           0.861275   \n",
              "7           0.857472           0.871290           0.870745           0.863578   \n",
              "8           0.857472           0.832139           0.867673           0.859227   \n",
              "\n",
              "   split5_test_score  split6_test_score  split7_test_score  split8_test_score  \\\n",
              "5           0.875096           0.869977           0.867929           0.874328   \n",
              "4           0.868185           0.863322           0.865114           0.872792   \n",
              "6           0.868441           0.863066           0.862554           0.864858   \n",
              "7           0.866394           0.860763           0.854620           0.869721   \n",
              "8           0.864858           0.855388           0.862042           0.861787   \n",
              "\n",
              "   split9_test_score  mean_test_score  std_test_score  rank_test_score  \n",
              "5           0.880983         0.874286        0.004083                1  \n",
              "4           0.877655         0.870524        0.004906                2  \n",
              "6           0.860251         0.865738        0.005011                3  \n",
              "7           0.873816         0.865662        0.006041                4  \n",
              "8           0.868441         0.859827        0.010250                5  "
            ],
            "text/html": [
              "\n",
              "  <div id=\"df-b2ee9450-b85e-4657-aafb-5f26aadd2c23\">\n",
              "    <div class=\"colab-df-container\">\n",
              "      <div>\n",
              "<style scoped>\n",
              "    .dataframe tbody tr th:only-of-type {\n",
              "        vertical-align: middle;\n",
              "    }\n",
              "\n",
              "    .dataframe tbody tr th {\n",
              "        vertical-align: top;\n",
              "    }\n",
              "\n",
              "    .dataframe thead th {\n",
              "        text-align: right;\n",
              "    }\n",
              "</style>\n",
              "<table border=\"1\" class=\"dataframe\">\n",
              "  <thead>\n",
              "    <tr style=\"text-align: right;\">\n",
              "      <th></th>\n",
              "      <th>mean_fit_time</th>\n",
              "      <th>std_fit_time</th>\n",
              "      <th>mean_score_time</th>\n",
              "      <th>std_score_time</th>\n",
              "      <th>param_classifier__learning_rate</th>\n",
              "      <th>param_classifier__max_leaf_nodes</th>\n",
              "      <th>params</th>\n",
              "      <th>split0_test_score</th>\n",
              "      <th>split1_test_score</th>\n",
              "      <th>split2_test_score</th>\n",
              "      <th>split3_test_score</th>\n",
              "      <th>split4_test_score</th>\n",
              "      <th>split5_test_score</th>\n",
              "      <th>split6_test_score</th>\n",
              "      <th>split7_test_score</th>\n",
              "      <th>split8_test_score</th>\n",
              "      <th>split9_test_score</th>\n",
              "      <th>mean_test_score</th>\n",
              "      <th>std_test_score</th>\n",
              "      <th>rank_test_score</th>\n",
              "    </tr>\n",
              "  </thead>\n",
              "  <tbody>\n",
              "    <tr>\n",
              "      <th>5</th>\n",
              "      <td>2.833829</td>\n",
              "      <td>0.038581</td>\n",
              "      <td>0.098685</td>\n",
              "      <td>0.016626</td>\n",
              "      <td>0.1</td>\n",
              "      <td>30</td>\n",
              "      <td>{'classifier__learning_rate': 0.1, 'classifier...</td>\n",
              "      <td>0.878199</td>\n",
              "      <td>0.873081</td>\n",
              "      <td>0.876663</td>\n",
              "      <td>0.877655</td>\n",
              "      <td>0.868953</td>\n",
              "      <td>0.875096</td>\n",
              "      <td>0.869977</td>\n",
              "      <td>0.867929</td>\n",
              "      <td>0.874328</td>\n",
              "      <td>0.880983</td>\n",
              "      <td>0.874286</td>\n",
              "      <td>0.004083</td>\n",
              "      <td>1</td>\n",
              "    </tr>\n",
              "    <tr>\n",
              "      <th>4</th>\n",
              "      <td>2.367050</td>\n",
              "      <td>0.059774</td>\n",
              "      <td>0.081676</td>\n",
              "      <td>0.010385</td>\n",
              "      <td>0.1</td>\n",
              "      <td>10</td>\n",
              "      <td>{'classifier__learning_rate': 0.1, 'classifier...</td>\n",
              "      <td>0.874360</td>\n",
              "      <td>0.866428</td>\n",
              "      <td>0.873849</td>\n",
              "      <td>0.876888</td>\n",
              "      <td>0.866650</td>\n",
              "      <td>0.868185</td>\n",
              "      <td>0.863322</td>\n",
              "      <td>0.865114</td>\n",
              "      <td>0.872792</td>\n",
              "      <td>0.877655</td>\n",
              "      <td>0.870524</td>\n",
              "      <td>0.004906</td>\n",
              "      <td>2</td>\n",
              "    </tr>\n",
              "    <tr>\n",
              "      <th>6</th>\n",
              "      <td>1.689116</td>\n",
              "      <td>0.102000</td>\n",
              "      <td>0.048815</td>\n",
              "      <td>0.009528</td>\n",
              "      <td>1</td>\n",
              "      <td>3</td>\n",
              "      <td>{'classifier__learning_rate': 1, 'classifier__...</td>\n",
              "      <td>0.868219</td>\n",
              "      <td>0.861566</td>\n",
              "      <td>0.869754</td>\n",
              "      <td>0.877400</td>\n",
              "      <td>0.861275</td>\n",
              "      <td>0.868441</td>\n",
              "      <td>0.863066</td>\n",
              "      <td>0.862554</td>\n",
              "      <td>0.864858</td>\n",
              "      <td>0.860251</td>\n",
              "      <td>0.865738</td>\n",
              "      <td>0.005011</td>\n",
              "      <td>3</td>\n",
              "    </tr>\n",
              "    <tr>\n",
              "      <th>7</th>\n",
              "      <td>1.538802</td>\n",
              "      <td>0.084523</td>\n",
              "      <td>0.041000</td>\n",
              "      <td>0.006003</td>\n",
              "      <td>1</td>\n",
              "      <td>10</td>\n",
              "      <td>{'classifier__learning_rate': 1, 'classifier__...</td>\n",
              "      <td>0.868219</td>\n",
              "      <td>0.857472</td>\n",
              "      <td>0.871290</td>\n",
              "      <td>0.870745</td>\n",
              "      <td>0.863578</td>\n",
              "      <td>0.866394</td>\n",
              "      <td>0.860763</td>\n",
              "      <td>0.854620</td>\n",
              "      <td>0.869721</td>\n",
              "      <td>0.873816</td>\n",
              "      <td>0.865662</td>\n",
              "      <td>0.006041</td>\n",
              "      <td>4</td>\n",
              "    </tr>\n",
              "    <tr>\n",
              "      <th>8</th>\n",
              "      <td>1.592369</td>\n",
              "      <td>0.178050</td>\n",
              "      <td>0.041580</td>\n",
              "      <td>0.007018</td>\n",
              "      <td>1</td>\n",
              "      <td>30</td>\n",
              "      <td>{'classifier__learning_rate': 1, 'classifier__...</td>\n",
              "      <td>0.869243</td>\n",
              "      <td>0.857472</td>\n",
              "      <td>0.832139</td>\n",
              "      <td>0.867673</td>\n",
              "      <td>0.859227</td>\n",
              "      <td>0.864858</td>\n",
              "      <td>0.855388</td>\n",
              "      <td>0.862042</td>\n",
              "      <td>0.861787</td>\n",
              "      <td>0.868441</td>\n",
              "      <td>0.859827</td>\n",
              "      <td>0.010250</td>\n",
              "      <td>5</td>\n",
              "    </tr>\n",
              "  </tbody>\n",
              "</table>\n",
              "</div>\n",
              "      <button class=\"colab-df-convert\" onclick=\"convertToInteractive('df-b2ee9450-b85e-4657-aafb-5f26aadd2c23')\"\n",
              "              title=\"Convert this dataframe to an interactive table.\"\n",
              "              style=\"display:none;\">\n",
              "        \n",
              "  <svg xmlns=\"http://www.w3.org/2000/svg\" height=\"24px\"viewBox=\"0 0 24 24\"\n",
              "       width=\"24px\">\n",
              "    <path d=\"M0 0h24v24H0V0z\" fill=\"none\"/>\n",
              "    <path d=\"M18.56 5.44l.94 2.06.94-2.06 2.06-.94-2.06-.94-.94-2.06-.94 2.06-2.06.94zm-11 1L8.5 8.5l.94-2.06 2.06-.94-2.06-.94L8.5 2.5l-.94 2.06-2.06.94zm10 10l.94 2.06.94-2.06 2.06-.94-2.06-.94-.94-2.06-.94 2.06-2.06.94z\"/><path d=\"M17.41 7.96l-1.37-1.37c-.4-.4-.92-.59-1.43-.59-.52 0-1.04.2-1.43.59L10.3 9.45l-7.72 7.72c-.78.78-.78 2.05 0 2.83L4 21.41c.39.39.9.59 1.41.59.51 0 1.02-.2 1.41-.59l7.78-7.78 2.81-2.81c.8-.78.8-2.07 0-2.86zM5.41 20L4 18.59l7.72-7.72 1.47 1.35L5.41 20z\"/>\n",
              "  </svg>\n",
              "      </button>\n",
              "      \n",
              "  <style>\n",
              "    .colab-df-container {\n",
              "      display:flex;\n",
              "      flex-wrap:wrap;\n",
              "      gap: 12px;\n",
              "    }\n",
              "\n",
              "    .colab-df-convert {\n",
              "      background-color: #E8F0FE;\n",
              "      border: none;\n",
              "      border-radius: 50%;\n",
              "      cursor: pointer;\n",
              "      display: none;\n",
              "      fill: #1967D2;\n",
              "      height: 32px;\n",
              "      padding: 0 0 0 0;\n",
              "      width: 32px;\n",
              "    }\n",
              "\n",
              "    .colab-df-convert:hover {\n",
              "      background-color: #E2EBFA;\n",
              "      box-shadow: 0px 1px 2px rgba(60, 64, 67, 0.3), 0px 1px 3px 1px rgba(60, 64, 67, 0.15);\n",
              "      fill: #174EA6;\n",
              "    }\n",
              "\n",
              "    [theme=dark] .colab-df-convert {\n",
              "      background-color: #3B4455;\n",
              "      fill: #D2E3FC;\n",
              "    }\n",
              "\n",
              "    [theme=dark] .colab-df-convert:hover {\n",
              "      background-color: #434B5C;\n",
              "      box-shadow: 0px 1px 3px 1px rgba(0, 0, 0, 0.15);\n",
              "      filter: drop-shadow(0px 1px 2px rgba(0, 0, 0, 0.3));\n",
              "      fill: #FFFFFF;\n",
              "    }\n",
              "  </style>\n",
              "\n",
              "      <script>\n",
              "        const buttonEl =\n",
              "          document.querySelector('#df-b2ee9450-b85e-4657-aafb-5f26aadd2c23 button.colab-df-convert');\n",
              "        buttonEl.style.display =\n",
              "          google.colab.kernel.accessAllowed ? 'block' : 'none';\n",
              "\n",
              "        async function convertToInteractive(key) {\n",
              "          const element = document.querySelector('#df-b2ee9450-b85e-4657-aafb-5f26aadd2c23');\n",
              "          const dataTable =\n",
              "            await google.colab.kernel.invokeFunction('convertToInteractive',\n",
              "                                                     [key], {});\n",
              "          if (!dataTable) return;\n",
              "\n",
              "          const docLinkHtml = 'Like what you see? Visit the ' +\n",
              "            '<a target=\"_blank\" href=https://colab.research.google.com/notebooks/data_table.ipynb>data table notebook</a>'\n",
              "            + ' to learn more about interactive tables.';\n",
              "          element.innerHTML = '';\n",
              "          dataTable['output_type'] = 'display_data';\n",
              "          await google.colab.output.renderOutput(dataTable, element);\n",
              "          const docLink = document.createElement('div');\n",
              "          docLink.innerHTML = docLinkHtml;\n",
              "          element.appendChild(docLink);\n",
              "        }\n",
              "      </script>\n",
              "    </div>\n",
              "  </div>\n",
              "  "
            ]
          },
          "metadata": {},
          "execution_count": 21
        }
      ]
    },
    {
      "cell_type": "code",
      "source": [
        "column_results = [f'param_{name}' for name in param_grid.keys()]\n",
        "column_results += ['mean_test_score', 'std_test_score', 'rank_test_score']\n",
        "cv_results = cv_results[column_results]\n",
        "cv_results.columns = cv_results.columns.str.replace('param_classifier__', '')\n",
        "cv_results.head()"
      ],
      "metadata": {
        "colab": {
          "base_uri": "https://localhost:8080/",
          "height": 206
        },
        "id": "mgcQ8163wDEX",
        "outputId": "36c45e79-ad24-4ddf-872d-347a4f4a2d95"
      },
      "execution_count": 24,
      "outputs": [
        {
          "output_type": "execute_result",
          "data": {
            "text/plain": [
              "  learning_rate max_leaf_nodes  mean_test_score  std_test_score  \\\n",
              "5           0.1             30         0.874286        0.004083   \n",
              "4           0.1             10         0.870524        0.004906   \n",
              "6             1              3         0.865738        0.005011   \n",
              "7             1             10         0.865662        0.006041   \n",
              "8             1             30         0.859827        0.010250   \n",
              "\n",
              "   rank_test_score  \n",
              "5                1  \n",
              "4                2  \n",
              "6                3  \n",
              "7                4  \n",
              "8                5  "
            ],
            "text/html": [
              "\n",
              "  <div id=\"df-1a1744f3-caa1-4b39-aee3-a31744e6f189\">\n",
              "    <div class=\"colab-df-container\">\n",
              "      <div>\n",
              "<style scoped>\n",
              "    .dataframe tbody tr th:only-of-type {\n",
              "        vertical-align: middle;\n",
              "    }\n",
              "\n",
              "    .dataframe tbody tr th {\n",
              "        vertical-align: top;\n",
              "    }\n",
              "\n",
              "    .dataframe thead th {\n",
              "        text-align: right;\n",
              "    }\n",
              "</style>\n",
              "<table border=\"1\" class=\"dataframe\">\n",
              "  <thead>\n",
              "    <tr style=\"text-align: right;\">\n",
              "      <th></th>\n",
              "      <th>learning_rate</th>\n",
              "      <th>max_leaf_nodes</th>\n",
              "      <th>mean_test_score</th>\n",
              "      <th>std_test_score</th>\n",
              "      <th>rank_test_score</th>\n",
              "    </tr>\n",
              "  </thead>\n",
              "  <tbody>\n",
              "    <tr>\n",
              "      <th>5</th>\n",
              "      <td>0.1</td>\n",
              "      <td>30</td>\n",
              "      <td>0.874286</td>\n",
              "      <td>0.004083</td>\n",
              "      <td>1</td>\n",
              "    </tr>\n",
              "    <tr>\n",
              "      <th>4</th>\n",
              "      <td>0.1</td>\n",
              "      <td>10</td>\n",
              "      <td>0.870524</td>\n",
              "      <td>0.004906</td>\n",
              "      <td>2</td>\n",
              "    </tr>\n",
              "    <tr>\n",
              "      <th>6</th>\n",
              "      <td>1</td>\n",
              "      <td>3</td>\n",
              "      <td>0.865738</td>\n",
              "      <td>0.005011</td>\n",
              "      <td>3</td>\n",
              "    </tr>\n",
              "    <tr>\n",
              "      <th>7</th>\n",
              "      <td>1</td>\n",
              "      <td>10</td>\n",
              "      <td>0.865662</td>\n",
              "      <td>0.006041</td>\n",
              "      <td>4</td>\n",
              "    </tr>\n",
              "    <tr>\n",
              "      <th>8</th>\n",
              "      <td>1</td>\n",
              "      <td>30</td>\n",
              "      <td>0.859827</td>\n",
              "      <td>0.010250</td>\n",
              "      <td>5</td>\n",
              "    </tr>\n",
              "  </tbody>\n",
              "</table>\n",
              "</div>\n",
              "      <button class=\"colab-df-convert\" onclick=\"convertToInteractive('df-1a1744f3-caa1-4b39-aee3-a31744e6f189')\"\n",
              "              title=\"Convert this dataframe to an interactive table.\"\n",
              "              style=\"display:none;\">\n",
              "        \n",
              "  <svg xmlns=\"http://www.w3.org/2000/svg\" height=\"24px\"viewBox=\"0 0 24 24\"\n",
              "       width=\"24px\">\n",
              "    <path d=\"M0 0h24v24H0V0z\" fill=\"none\"/>\n",
              "    <path d=\"M18.56 5.44l.94 2.06.94-2.06 2.06-.94-2.06-.94-.94-2.06-.94 2.06-2.06.94zm-11 1L8.5 8.5l.94-2.06 2.06-.94-2.06-.94L8.5 2.5l-.94 2.06-2.06.94zm10 10l.94 2.06.94-2.06 2.06-.94-2.06-.94-.94-2.06-.94 2.06-2.06.94z\"/><path d=\"M17.41 7.96l-1.37-1.37c-.4-.4-.92-.59-1.43-.59-.52 0-1.04.2-1.43.59L10.3 9.45l-7.72 7.72c-.78.78-.78 2.05 0 2.83L4 21.41c.39.39.9.59 1.41.59.51 0 1.02-.2 1.41-.59l7.78-7.78 2.81-2.81c.8-.78.8-2.07 0-2.86zM5.41 20L4 18.59l7.72-7.72 1.47 1.35L5.41 20z\"/>\n",
              "  </svg>\n",
              "      </button>\n",
              "      \n",
              "  <style>\n",
              "    .colab-df-container {\n",
              "      display:flex;\n",
              "      flex-wrap:wrap;\n",
              "      gap: 12px;\n",
              "    }\n",
              "\n",
              "    .colab-df-convert {\n",
              "      background-color: #E8F0FE;\n",
              "      border: none;\n",
              "      border-radius: 50%;\n",
              "      cursor: pointer;\n",
              "      display: none;\n",
              "      fill: #1967D2;\n",
              "      height: 32px;\n",
              "      padding: 0 0 0 0;\n",
              "      width: 32px;\n",
              "    }\n",
              "\n",
              "    .colab-df-convert:hover {\n",
              "      background-color: #E2EBFA;\n",
              "      box-shadow: 0px 1px 2px rgba(60, 64, 67, 0.3), 0px 1px 3px 1px rgba(60, 64, 67, 0.15);\n",
              "      fill: #174EA6;\n",
              "    }\n",
              "\n",
              "    [theme=dark] .colab-df-convert {\n",
              "      background-color: #3B4455;\n",
              "      fill: #D2E3FC;\n",
              "    }\n",
              "\n",
              "    [theme=dark] .colab-df-convert:hover {\n",
              "      background-color: #434B5C;\n",
              "      box-shadow: 0px 1px 3px 1px rgba(0, 0, 0, 0.15);\n",
              "      filter: drop-shadow(0px 1px 2px rgba(0, 0, 0, 0.3));\n",
              "      fill: #FFFFFF;\n",
              "    }\n",
              "  </style>\n",
              "\n",
              "      <script>\n",
              "        const buttonEl =\n",
              "          document.querySelector('#df-1a1744f3-caa1-4b39-aee3-a31744e6f189 button.colab-df-convert');\n",
              "        buttonEl.style.display =\n",
              "          google.colab.kernel.accessAllowed ? 'block' : 'none';\n",
              "\n",
              "        async function convertToInteractive(key) {\n",
              "          const element = document.querySelector('#df-1a1744f3-caa1-4b39-aee3-a31744e6f189');\n",
              "          const dataTable =\n",
              "            await google.colab.kernel.invokeFunction('convertToInteractive',\n",
              "                                                     [key], {});\n",
              "          if (!dataTable) return;\n",
              "\n",
              "          const docLinkHtml = 'Like what you see? Visit the ' +\n",
              "            '<a target=\"_blank\" href=https://colab.research.google.com/notebooks/data_table.ipynb>data table notebook</a>'\n",
              "            + ' to learn more about interactive tables.';\n",
              "          element.innerHTML = '';\n",
              "          dataTable['output_type'] = 'display_data';\n",
              "          await google.colab.output.renderOutput(dataTable, element);\n",
              "          const docLink = document.createElement('div');\n",
              "          docLink.innerHTML = docLinkHtml;\n",
              "          element.appendChild(docLink);\n",
              "        }\n",
              "      </script>\n",
              "    </div>\n",
              "  </div>\n",
              "  "
            ]
          },
          "metadata": {},
          "execution_count": 24
        }
      ]
    },
    {
      "cell_type": "markdown",
      "source": [
        "\n",
        "\n",
        "With only 2 parameters, we might want to visualize the grid-search as a heatmap. We need to transform our `cv_results` into a dataframe where:\n",
        "\n",
        "- the rows will correspond to the learning-rate values;\n",
        "- the columns will correspond to the maximum number of leaf;\n",
        "- the content of the dataframe will be the mean test scores.\n",
        "\n"
      ],
      "metadata": {
        "id": "fR7E4QuzzsOD"
      }
    },
    {
      "cell_type": "code",
      "source": [
        "pivoted_cv_results = cv_results.pivot_table(\n",
        "    values=\"mean_test_score\", index=[\"learning_rate\"],\n",
        "    columns=[\"max_leaf_nodes\"])\n",
        "\n",
        "pivoted_cv_results"
      ],
      "metadata": {
        "colab": {
          "base_uri": "https://localhost:8080/",
          "height": 206
        },
        "id": "y3UqXUL7yL0d",
        "outputId": "bad19192-f54c-493b-881e-295179a732c2"
      },
      "execution_count": 25,
      "outputs": [
        {
          "output_type": "execute_result",
          "data": {
            "text/plain": [
              "max_leaf_nodes        3         10        30\n",
              "learning_rate                               \n",
              "0.01            0.800194  0.820413  0.849410\n",
              "0.10            0.855296  0.870524  0.874286\n",
              "1.00            0.865738  0.865662  0.859827\n",
              "10.00           0.278965  0.742533  0.655650"
            ],
            "text/html": [
              "\n",
              "  <div id=\"df-f1df0a30-159b-4c59-be8d-e87c6d828711\">\n",
              "    <div class=\"colab-df-container\">\n",
              "      <div>\n",
              "<style scoped>\n",
              "    .dataframe tbody tr th:only-of-type {\n",
              "        vertical-align: middle;\n",
              "    }\n",
              "\n",
              "    .dataframe tbody tr th {\n",
              "        vertical-align: top;\n",
              "    }\n",
              "\n",
              "    .dataframe thead th {\n",
              "        text-align: right;\n",
              "    }\n",
              "</style>\n",
              "<table border=\"1\" class=\"dataframe\">\n",
              "  <thead>\n",
              "    <tr style=\"text-align: right;\">\n",
              "      <th>max_leaf_nodes</th>\n",
              "      <th>3</th>\n",
              "      <th>10</th>\n",
              "      <th>30</th>\n",
              "    </tr>\n",
              "    <tr>\n",
              "      <th>learning_rate</th>\n",
              "      <th></th>\n",
              "      <th></th>\n",
              "      <th></th>\n",
              "    </tr>\n",
              "  </thead>\n",
              "  <tbody>\n",
              "    <tr>\n",
              "      <th>0.01</th>\n",
              "      <td>0.800194</td>\n",
              "      <td>0.820413</td>\n",
              "      <td>0.849410</td>\n",
              "    </tr>\n",
              "    <tr>\n",
              "      <th>0.10</th>\n",
              "      <td>0.855296</td>\n",
              "      <td>0.870524</td>\n",
              "      <td>0.874286</td>\n",
              "    </tr>\n",
              "    <tr>\n",
              "      <th>1.00</th>\n",
              "      <td>0.865738</td>\n",
              "      <td>0.865662</td>\n",
              "      <td>0.859827</td>\n",
              "    </tr>\n",
              "    <tr>\n",
              "      <th>10.00</th>\n",
              "      <td>0.278965</td>\n",
              "      <td>0.742533</td>\n",
              "      <td>0.655650</td>\n",
              "    </tr>\n",
              "  </tbody>\n",
              "</table>\n",
              "</div>\n",
              "      <button class=\"colab-df-convert\" onclick=\"convertToInteractive('df-f1df0a30-159b-4c59-be8d-e87c6d828711')\"\n",
              "              title=\"Convert this dataframe to an interactive table.\"\n",
              "              style=\"display:none;\">\n",
              "        \n",
              "  <svg xmlns=\"http://www.w3.org/2000/svg\" height=\"24px\"viewBox=\"0 0 24 24\"\n",
              "       width=\"24px\">\n",
              "    <path d=\"M0 0h24v24H0V0z\" fill=\"none\"/>\n",
              "    <path d=\"M18.56 5.44l.94 2.06.94-2.06 2.06-.94-2.06-.94-.94-2.06-.94 2.06-2.06.94zm-11 1L8.5 8.5l.94-2.06 2.06-.94-2.06-.94L8.5 2.5l-.94 2.06-2.06.94zm10 10l.94 2.06.94-2.06 2.06-.94-2.06-.94-.94-2.06-.94 2.06-2.06.94z\"/><path d=\"M17.41 7.96l-1.37-1.37c-.4-.4-.92-.59-1.43-.59-.52 0-1.04.2-1.43.59L10.3 9.45l-7.72 7.72c-.78.78-.78 2.05 0 2.83L4 21.41c.39.39.9.59 1.41.59.51 0 1.02-.2 1.41-.59l7.78-7.78 2.81-2.81c.8-.78.8-2.07 0-2.86zM5.41 20L4 18.59l7.72-7.72 1.47 1.35L5.41 20z\"/>\n",
              "  </svg>\n",
              "      </button>\n",
              "      \n",
              "  <style>\n",
              "    .colab-df-container {\n",
              "      display:flex;\n",
              "      flex-wrap:wrap;\n",
              "      gap: 12px;\n",
              "    }\n",
              "\n",
              "    .colab-df-convert {\n",
              "      background-color: #E8F0FE;\n",
              "      border: none;\n",
              "      border-radius: 50%;\n",
              "      cursor: pointer;\n",
              "      display: none;\n",
              "      fill: #1967D2;\n",
              "      height: 32px;\n",
              "      padding: 0 0 0 0;\n",
              "      width: 32px;\n",
              "    }\n",
              "\n",
              "    .colab-df-convert:hover {\n",
              "      background-color: #E2EBFA;\n",
              "      box-shadow: 0px 1px 2px rgba(60, 64, 67, 0.3), 0px 1px 3px 1px rgba(60, 64, 67, 0.15);\n",
              "      fill: #174EA6;\n",
              "    }\n",
              "\n",
              "    [theme=dark] .colab-df-convert {\n",
              "      background-color: #3B4455;\n",
              "      fill: #D2E3FC;\n",
              "    }\n",
              "\n",
              "    [theme=dark] .colab-df-convert:hover {\n",
              "      background-color: #434B5C;\n",
              "      box-shadow: 0px 1px 3px 1px rgba(0, 0, 0, 0.15);\n",
              "      filter: drop-shadow(0px 1px 2px rgba(0, 0, 0, 0.3));\n",
              "      fill: #FFFFFF;\n",
              "    }\n",
              "  </style>\n",
              "\n",
              "      <script>\n",
              "        const buttonEl =\n",
              "          document.querySelector('#df-f1df0a30-159b-4c59-be8d-e87c6d828711 button.colab-df-convert');\n",
              "        buttonEl.style.display =\n",
              "          google.colab.kernel.accessAllowed ? 'block' : 'none';\n",
              "\n",
              "        async function convertToInteractive(key) {\n",
              "          const element = document.querySelector('#df-f1df0a30-159b-4c59-be8d-e87c6d828711');\n",
              "          const dataTable =\n",
              "            await google.colab.kernel.invokeFunction('convertToInteractive',\n",
              "                                                     [key], {});\n",
              "          if (!dataTable) return;\n",
              "\n",
              "          const docLinkHtml = 'Like what you see? Visit the ' +\n",
              "            '<a target=\"_blank\" href=https://colab.research.google.com/notebooks/data_table.ipynb>data table notebook</a>'\n",
              "            + ' to learn more about interactive tables.';\n",
              "          element.innerHTML = '';\n",
              "          dataTable['output_type'] = 'display_data';\n",
              "          await google.colab.output.renderOutput(dataTable, element);\n",
              "          const docLink = document.createElement('div');\n",
              "          docLink.innerHTML = docLinkHtml;\n",
              "          element.appendChild(docLink);\n",
              "        }\n",
              "      </script>\n",
              "    </div>\n",
              "  </div>\n",
              "  "
            ]
          },
          "metadata": {},
          "execution_count": 25
        }
      ]
    },
    {
      "cell_type": "markdown",
      "source": [
        "We can use a heatmap representation to show the above dataframe visually."
      ],
      "metadata": {
        "id": "pMUWhS6d0D0Q"
      }
    },
    {
      "cell_type": "code",
      "source": [
        "import seaborn as sns\n",
        "import matplotlib.pyplot as plt\n",
        "\n",
        "\n",
        "plt.figure(figsize=(6,6), dpi=105)\n",
        "ax = sns.heatmap(\n",
        "    pivoted_cv_results, \n",
        "    annot=True,\n",
        "    cmap=\"YlGnBu\", \n",
        "    vmin=0.7,\n",
        "    vmax=0.9\n",
        ")\n",
        "\n",
        "ax.invert_yaxis()"
      ],
      "metadata": {
        "colab": {
          "base_uri": "https://localhost:8080/",
          "height": 566
        },
        "id": "NsfVGbZ1z8bk",
        "outputId": "acf5863d-f351-47d1-90c3-5416653b36af"
      },
      "execution_count": 27,
      "outputs": [
        {
          "output_type": "display_data",
          "data": {
            "text/plain": [
              "<Figure size 630x630 with 2 Axes>"
            ],
            "image/png": "[encoded data removed]"
          },
          "metadata": {
            "needs_background": "light"
          }
        }
      ]
    },
    {
      "cell_type": "markdown",
      "source": [
        "The above tables highlights the following things:\n",
        "\n",
        "* for too high values of `learning_rate`, the generalization performance of the model is degraded and adjusting the value of `max_leaf_nodes` cannot fix that problem;\n",
        "\n",
        "* outside of this pathological region, we observe that the optimal choice of `max_leaf_nodes` depends on the value of `learning_rate`;\n",
        "\n",
        "* in particular, we observe a \"diagonal\" of good models with an accuracy close to the maximal of 0.87: when the value of `max_leaf_nodes` is increased, one should decrease the value of `learning_rate` accordingly to preserve a good accuracy.\n"
      ],
      "metadata": {
        "id": "ta4vTgc_1mmG"
      }
    },
    {
      "cell_type": "markdown",
      "source": [
        "We can conclude:\n",
        "* that searching for more than two hyperparamters is too costly;\n",
        "* that a grid-search does not necessarily find an optimal solution."
      ],
      "metadata": {
        "id": "GDJ9YLNX19z6"
      }
    },
    {
      "cell_type": "markdown",
      "source": [
        "# Hyperparameter tuning by randomized-search"
      ],
      "metadata": {
        "id": "vMLj7CxU2r8K"
      }
    },
    {
      "cell_type": "markdown",
      "source": [
        "A grid-search approach has limitations. It does not scale when the number of parameters to tune is increasing. Also, the grid will impose a regularity during the search which might be problematic. However, we will present another method to tune hyperparameters called randomized search."
      ],
      "metadata": {
        "id": "UCukVlOd3hCf"
      }
    },
    {
      "cell_type": "markdown",
      "source": [
        "We will optimize 3 other parameters in addition to the ones we optimized with the `GridSearchCV`:\n",
        "\n",
        "* `l2_regularization`: it corresponds to the strength of the regularization;\n",
        "* `min_samples_leaf`: it corresponds to the minimum number of samples required in a leaf;\n",
        "* `max_bins`: it corresponds to the maximum number of bins to construct the histograms.\n",
        "\n",
        "We recall the meaning of the 2 remaining parameters:\n",
        "\n",
        "* `learning_rate`: it corresponds to the speed at which the gradient-boosting will correct the residuals at each boosting iteration;\n",
        "* `max_leaf_nodes`: it corresponds to the maximum number of leaves for each tree in the ensemble.\n"
      ],
      "metadata": {
        "id": "V2kRUzCG4aoP"
      }
    },
    {
      "cell_type": "markdown",
      "source": [
        "The `RandomizedSearchCV` class allows for such stochastic search. It is used similarly to the `GridSearchCV` but the sampling distributions need to be specified instead of the parameter values. For instance, we will draw candidates using a **log-uniform** distribution because the parameters we are interested in take positive values with a natural log scaling *(.1 is as close to 1 as 10 is)*.\n"
      ],
      "metadata": {
        "id": "HjUXvvn66JuY"
      }
    },
    {
      "cell_type": "code",
      "source": [
        "from scipy.stats import loguniform\n",
        "\n",
        "\n",
        "class loguniform_int:\n",
        "    \"\"\"Integer valued version of the log-uniform distribution\"\"\"\n",
        "    def __init__(self, a, b):\n",
        "        self._distribution = loguniform(a, b)\n",
        "\n",
        "    def rvs(self, *args, **kwargs):\n",
        "        \"\"\"Random variable sample\"\"\"\n",
        "        return self._distribution.rvs(*args, **kwargs).astype(int)\n"
      ],
      "metadata": {
        "id": "ObYVYPsg0ODF"
      },
      "execution_count": 28,
      "outputs": []
    },
    {
      "cell_type": "markdown",
      "source": [
        "Now, we can define the randomized search using the different distributions."
      ],
      "metadata": {
        "id": "9JDKsRwL6ps7"
      }
    },
    {
      "cell_type": "code",
      "source": [
        "%%time\n",
        "from sklearn.model_selection import RandomizedSearchCV\n",
        "\n",
        "param_distributions = {\n",
        "    'classifier__l2_regularization': loguniform(1e-6, 1e3),\n",
        "    'classifier__learning_rate': loguniform(0.001, 10),\n",
        "    'classifier__max_leaf_nodes': loguniform_int(2, 256),\n",
        "    'classifier__min_samples_leaf': loguniform_int(1, 100),\n",
        "    'classifier__max_bins': loguniform_int(2, 255),\n",
        "}\n",
        "\n",
        "model_random_search = RandomizedSearchCV(\n",
        "    model, \n",
        "    param_distributions=param_distributions,\n",
        "    n_iter=500,\n",
        "    cv=5,\n",
        "    verbose=1,\n",
        ").fit(X_full_train, y_full_train)"
      ],
      "metadata": {
        "colab": {
          "base_uri": "https://localhost:8080/"
        },
        "id": "uqLCy42L6hAB",
        "outputId": "220a3f72-76ae-4877-def4-83a19ed263aa"
      },
      "execution_count": 38,
      "outputs": [
        {
          "output_type": "stream",
          "name": "stdout",
          "text": [
            "Fitting 5 folds for each of 500 candidates, totalling 2500 fits\n",
            "CPU times: user 1h 9min 59s, sys: 1min 23s, total: 1h 11min 23s\n",
            "Wall time: 39min 2s\n"
          ]
        }
      ]
    },
    {
      "cell_type": "markdown",
      "source": [
        "Then, we can compute the accuracy score on the test set."
      ],
      "metadata": {
        "id": "vrtIAi0D7g4B"
      }
    },
    {
      "cell_type": "code",
      "source": [
        "accuracy = model_random_search.score(X_test, y_test)\n",
        "\n",
        "print(f\"The test accuracy score of the best model is \"\n",
        "      f\"{accuracy:.2f}\"\n",
        ")\n"
      ],
      "metadata": {
        "colab": {
          "base_uri": "https://localhost:8080/"
        },
        "id": "b7AUY2ho67Tb",
        "outputId": "1d85e2a0-c905-4995-d30f-c166a396293c"
      },
      "execution_count": 39,
      "outputs": [
        {
          "output_type": "stream",
          "name": "stdout",
          "text": [
            "The test accuracy score of the best model is 0.87\n"
          ]
        }
      ]
    },
    {
      "cell_type": "code",
      "source": [
        "from pprint import pprint\n",
        "\n",
        "print(\"The best parameters are:\")\n",
        "pprint(model_random_search.best_params_)"
      ],
      "metadata": {
        "colab": {
          "base_uri": "https://localhost:8080/"
        },
        "id": "2WZIAgfR7n3n",
        "outputId": "6b59448f-89f9-4004-84a9-db842127a7be"
      },
      "execution_count": 40,
      "outputs": [
        {
          "output_type": "stream",
          "name": "stdout",
          "text": [
            "The best parameters are:\n",
            "{'classifier__l2_regularization': 0.021329648717648208,\n",
            " 'classifier__learning_rate': 0.1307886059282795,\n",
            " 'classifier__max_bins': 157,\n",
            " 'classifier__max_leaf_nodes': 29,\n",
            " 'classifier__min_samples_leaf': 2}\n"
          ]
        }
      ]
    },
    {
      "cell_type": "markdown",
      "source": [
        "We can inspect the results using the attributes cv_results as we did previously."
      ],
      "metadata": {
        "id": "eQOxUIJ573p2"
      }
    },
    {
      "cell_type": "code",
      "source": [
        "column_results = [f'param_{name}' for name in param_distributions.keys()]\n",
        "column_results += ['mean_test_score', 'std_test_score', 'rank_test_score']\n",
        "\n",
        "cv_results = pd.DataFrame(model_random_search.cv_results_).sort_values(\n",
        "    \"mean_test_score\",\n",
        "    ascending=False\n",
        ")\n",
        "cv_results = cv_results[column_results]\n",
        "\n",
        "cv_results.columns = cv_results.columns.str.replace('param_classifier__', '')\n",
        "cv_results.head()"
      ],
      "metadata": {
        "colab": {
          "base_uri": "https://localhost:8080/",
          "height": 206
        },
        "id": "FRqYR6cp7v0M",
        "outputId": "a946af16-49dc-4f41-d315-e3bf78f5d94d"
      },
      "execution_count": 41,
      "outputs": [
        {
          "output_type": "execute_result",
          "data": {
            "text/plain": [
              "    l2_regularization learning_rate max_leaf_nodes min_samples_leaf max_bins  \\\n",
              "390           0.02133      0.130789             29                2      157   \n",
              "116          0.000023      0.210858             31                9      188   \n",
              "108          0.000009      0.429032              6               51      191   \n",
              "157          0.000089      0.051247            114                1      137   \n",
              "163          1.797504      0.040984            107                3      132   \n",
              "\n",
              "     mean_test_score  std_test_score  rank_test_score  \n",
              "390         0.873288        0.003448                1  \n",
              "116         0.871958        0.003403                2  \n",
              "108         0.871830        0.003433                3  \n",
              "157         0.871753        0.003713                4  \n",
              "163         0.871574        0.003413                5  "
            ],
            "text/html": [
              "\n",
              "  <div id=\"df-a6cca329-b1fd-4511-8aa1-183242ac2b0a\">\n",
              "    <div class=\"colab-df-container\">\n",
              "      <div>\n",
              "<style scoped>\n",
              "    .dataframe tbody tr th:only-of-type {\n",
              "        vertical-align: middle;\n",
              "    }\n",
              "\n",
              "    .dataframe tbody tr th {\n",
              "        vertical-align: top;\n",
              "    }\n",
              "\n",
              "    .dataframe thead th {\n",
              "        text-align: right;\n",
              "    }\n",
              "</style>\n",
              "<table border=\"1\" class=\"dataframe\">\n",
              "  <thead>\n",
              "    <tr style=\"text-align: right;\">\n",
              "      <th></th>\n",
              "      <th>l2_regularization</th>\n",
              "      <th>learning_rate</th>\n",
              "      <th>max_leaf_nodes</th>\n",
              "      <th>min_samples_leaf</th>\n",
              "      <th>max_bins</th>\n",
              "      <th>mean_test_score</th>\n",
              "      <th>std_test_score</th>\n",
              "      <th>rank_test_score</th>\n",
              "    </tr>\n",
              "  </thead>\n",
              "  <tbody>\n",
              "    <tr>\n",
              "      <th>390</th>\n",
              "      <td>0.02133</td>\n",
              "      <td>0.130789</td>\n",
              "      <td>29</td>\n",
              "      <td>2</td>\n",
              "      <td>157</td>\n",
              "      <td>0.873288</td>\n",
              "      <td>0.003448</td>\n",
              "      <td>1</td>\n",
              "    </tr>\n",
              "    <tr>\n",
              "      <th>116</th>\n",
              "      <td>0.000023</td>\n",
              "      <td>0.210858</td>\n",
              "      <td>31</td>\n",
              "      <td>9</td>\n",
              "      <td>188</td>\n",
              "      <td>0.871958</td>\n",
              "      <td>0.003403</td>\n",
              "      <td>2</td>\n",
              "    </tr>\n",
              "    <tr>\n",
              "      <th>108</th>\n",
              "      <td>0.000009</td>\n",
              "      <td>0.429032</td>\n",
              "      <td>6</td>\n",
              "      <td>51</td>\n",
              "      <td>191</td>\n",
              "      <td>0.871830</td>\n",
              "      <td>0.003433</td>\n",
              "      <td>3</td>\n",
              "    </tr>\n",
              "    <tr>\n",
              "      <th>157</th>\n",
              "      <td>0.000089</td>\n",
              "      <td>0.051247</td>\n",
              "      <td>114</td>\n",
              "      <td>1</td>\n",
              "      <td>137</td>\n",
              "      <td>0.871753</td>\n",
              "      <td>0.003713</td>\n",
              "      <td>4</td>\n",
              "    </tr>\n",
              "    <tr>\n",
              "      <th>163</th>\n",
              "      <td>1.797504</td>\n",
              "      <td>0.040984</td>\n",
              "      <td>107</td>\n",
              "      <td>3</td>\n",
              "      <td>132</td>\n",
              "      <td>0.871574</td>\n",
              "      <td>0.003413</td>\n",
              "      <td>5</td>\n",
              "    </tr>\n",
              "  </tbody>\n",
              "</table>\n",
              "</div>\n",
              "      <button class=\"colab-df-convert\" onclick=\"convertToInteractive('df-a6cca329-b1fd-4511-8aa1-183242ac2b0a')\"\n",
              "              title=\"Convert this dataframe to an interactive table.\"\n",
              "              style=\"display:none;\">\n",
              "        \n",
              "  <svg xmlns=\"http://www.w3.org/2000/svg\" height=\"24px\"viewBox=\"0 0 24 24\"\n",
              "       width=\"24px\">\n",
              "    <path d=\"M0 0h24v24H0V0z\" fill=\"none\"/>\n",
              "    <path d=\"M18.56 5.44l.94 2.06.94-2.06 2.06-.94-2.06-.94-.94-2.06-.94 2.06-2.06.94zm-11 1L8.5 8.5l.94-2.06 2.06-.94-2.06-.94L8.5 2.5l-.94 2.06-2.06.94zm10 10l.94 2.06.94-2.06 2.06-.94-2.06-.94-.94-2.06-.94 2.06-2.06.94z\"/><path d=\"M17.41 7.96l-1.37-1.37c-.4-.4-.92-.59-1.43-.59-.52 0-1.04.2-1.43.59L10.3 9.45l-7.72 7.72c-.78.78-.78 2.05 0 2.83L4 21.41c.39.39.9.59 1.41.59.51 0 1.02-.2 1.41-.59l7.78-7.78 2.81-2.81c.8-.78.8-2.07 0-2.86zM5.41 20L4 18.59l7.72-7.72 1.47 1.35L5.41 20z\"/>\n",
              "  </svg>\n",
              "      </button>\n",
              "      \n",
              "  <style>\n",
              "    .colab-df-container {\n",
              "      display:flex;\n",
              "      flex-wrap:wrap;\n",
              "      gap: 12px;\n",
              "    }\n",
              "\n",
              "    .colab-df-convert {\n",
              "      background-color: #E8F0FE;\n",
              "      border: none;\n",
              "      border-radius: 50%;\n",
              "      cursor: pointer;\n",
              "      display: none;\n",
              "      fill: #1967D2;\n",
              "      height: 32px;\n",
              "      padding: 0 0 0 0;\n",
              "      width: 32px;\n",
              "    }\n",
              "\n",
              "    .colab-df-convert:hover {\n",
              "      background-color: #E2EBFA;\n",
              "      box-shadow: 0px 1px 2px rgba(60, 64, 67, 0.3), 0px 1px 3px 1px rgba(60, 64, 67, 0.15);\n",
              "      fill: #174EA6;\n",
              "    }\n",
              "\n",
              "    [theme=dark] .colab-df-convert {\n",
              "      background-color: #3B4455;\n",
              "      fill: #D2E3FC;\n",
              "    }\n",
              "\n",
              "    [theme=dark] .colab-df-convert:hover {\n",
              "      background-color: #434B5C;\n",
              "      box-shadow: 0px 1px 3px 1px rgba(0, 0, 0, 0.15);\n",
              "      filter: drop-shadow(0px 1px 2px rgba(0, 0, 0, 0.3));\n",
              "      fill: #FFFFFF;\n",
              "    }\n",
              "  </style>\n",
              "\n",
              "      <script>\n",
              "        const buttonEl =\n",
              "          document.querySelector('#df-a6cca329-b1fd-4511-8aa1-183242ac2b0a button.colab-df-convert');\n",
              "        buttonEl.style.display =\n",
              "          google.colab.kernel.accessAllowed ? 'block' : 'none';\n",
              "\n",
              "        async function convertToInteractive(key) {\n",
              "          const element = document.querySelector('#df-a6cca329-b1fd-4511-8aa1-183242ac2b0a');\n",
              "          const dataTable =\n",
              "            await google.colab.kernel.invokeFunction('convertToInteractive',\n",
              "                                                     [key], {});\n",
              "          if (!dataTable) return;\n",
              "\n",
              "          const docLinkHtml = 'Like what you see? Visit the ' +\n",
              "            '<a target=\"_blank\" href=https://colab.research.google.com/notebooks/data_table.ipynb>data table notebook</a>'\n",
              "            + ' to learn more about interactive tables.';\n",
              "          element.innerHTML = '';\n",
              "          dataTable['output_type'] = 'display_data';\n",
              "          await google.colab.output.renderOutput(dataTable, element);\n",
              "          const docLink = document.createElement('div');\n",
              "          docLink.innerHTML = docLinkHtml;\n",
              "          element.appendChild(docLink);\n",
              "        }\n",
              "      </script>\n",
              "    </div>\n",
              "  </div>\n",
              "  "
            ]
          },
          "metadata": {},
          "execution_count": 41
        }
      ]
    },
    {
      "cell_type": "code",
      "source": [],
      "metadata": {
        "id": "at6uOGUD8Vp9"
      },
      "execution_count": null,
      "outputs": []
    }
  ]
}