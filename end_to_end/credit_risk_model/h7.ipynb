{
 "cells": [
  {
   "cell_type": "markdown",
   "id": "b1f18a49",
   "metadata": {},
   "source": [
    "# Bentoml Production"
   ]
  },
  {
   "cell_type": "markdown",
   "id": "39d4c8e3",
   "metadata": {},
   "source": [
    "## **Question 1**\n",
    "What's the version of BentoML you installed?"
   ]
  },
  {
   "cell_type": "markdown",
   "id": "86992f9b",
   "metadata": {},
   "source": [
    "![bento-version](img/img1.png)"
   ]
  },
  {
   "cell_type": "markdown",
   "id": "5b97b94e",
   "metadata": {},
   "source": [
    "## **Question 2**\n",
    "How big approximately is the saved BentoML model?"
   ]
  },
  {
   "cell_type": "markdown",
   "id": "13870cde",
   "metadata": {},
   "source": [
    "![risk-model-size](img/img2.png)"
   ]
  },
  {
   "cell_type": "markdown",
   "id": "f79ddb53",
   "metadata": {},
   "source": []
  }
 ],
 "metadata": {
  "kernelspec": {
   "display_name": "Python 3 (ipykernel)",
   "language": "python",
   "name": "python3"
  },
  "language_info": {
   "codemirror_mode": {
    "name": "ipython",
    "version": 3
   },
   "file_extension": ".py",
   "mimetype": "text/x-python",
   "name": "python",
   "nbconvert_exporter": "python",
   "pygments_lexer": "ipython3",
   "version": "3.9.12"
  }
 },
 "nbformat": 4,
 "nbformat_minor": 5
}
