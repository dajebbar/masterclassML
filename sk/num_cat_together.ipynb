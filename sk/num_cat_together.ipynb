{
  "nbformat": 4,
  "nbformat_minor": 0,
  "metadata": {
    "colab": {
      "provenance": []
    },
    "kernelspec": {
      "name": "python3",
      "display_name": "Python 3"
    },
    "language_info": {
      "name": "python"
    }
  },
  "cells": [
    {
      "cell_type": "markdown",
      "source": [
        "# Using numerical and categorical variables together\n",
        "\n",
        "How to combine the preprocessing steps to treat numerical and categorical variables?.\n",
        "\n",
        "Load the entire adult census dataset."
      ],
      "metadata": {
        "id": "Y_Oyr2nPk4hA"
      }
    },
    {
      "cell_type": "code",
      "execution_count": 1,
      "metadata": {
        "id": "sQ-PKdJGkjCY"
      },
      "outputs": [],
      "source": [
        "import pandas as pd\n",
        "import numpy as np\n",
        "import matplotlib.pyplot as plt\n",
        "plt.style.use('ggplot')"
      ]
    },
    {
      "cell_type": "code",
      "source": [
        "df = pd.read_csv('adult_cencus.csv')"
      ],
      "metadata": {
        "id": "AY-wE7dUlmFi"
      },
      "execution_count": 2,
      "outputs": []
    },
    {
      "cell_type": "markdown",
      "source": [
        "#### **Dealing with missing values**"
      ],
      "metadata": {
        "id": "x_zLJzjJlyG9"
      }
    },
    {
      "cell_type": "code",
      "source": [
        "df.isna().sum()"
      ],
      "metadata": {
        "colab": {
          "base_uri": "https://localhost:8080/"
        },
        "id": "7CVDC7RdluHn",
        "outputId": "7c28b786-8f0e-4bb7-a8b0-eeebb0ff98d9"
      },
      "execution_count": 3,
      "outputs": [
        {
          "output_type": "execute_result",
          "data": {
            "text/plain": [
              "age                  0\n",
              "workclass         2799\n",
              "fnlwgt               0\n",
              "education            0\n",
              "education_num        0\n",
              "marital_status       0\n",
              "occupation        2809\n",
              "relationship         0\n",
              "race                 0\n",
              "sex                  0\n",
              "capital_gain         0\n",
              "capital_loss         0\n",
              "hours_per_week       0\n",
              "native_country     857\n",
              "class                0\n",
              "dtype: int64"
            ]
          },
          "metadata": {},
          "execution_count": 3
        }
      ]
    },
    {
      "cell_type": "code",
      "source": [
        "df[['workclass', 'occupation', 'native_country']].dtypes"
      ],
      "metadata": {
        "colab": {
          "base_uri": "https://localhost:8080/"
        },
        "id": "ID9TlFmsl4c8",
        "outputId": "85de24e2-c004-4049-8575-f6899598f589"
      },
      "execution_count": 5,
      "outputs": [
        {
          "output_type": "execute_result",
          "data": {
            "text/plain": [
              "workclass         object\n",
              "occupation        object\n",
              "native_country    object\n",
              "dtype: object"
            ]
          },
          "metadata": {},
          "execution_count": 5
        }
      ]
    },
    {
      "cell_type": "markdown",
      "source": [
        "All missing values are in categorical features, so i choose to fill them with **'unknown'**."
      ],
      "metadata": {
        "id": "vpycfWZZmOBA"
      }
    },
    {
      "cell_type": "code",
      "source": [
        "df[['workclass', 'occupation', 'native_country']].fillna('Unknown', inplace=True)"
      ],
      "metadata": {
        "colab": {
          "base_uri": "https://localhost:8080/"
        },
        "id": "4QHMyvSGmJcC",
        "outputId": "d7fd161b-52aa-449c-e9c7-6aacb582abda"
      },
      "execution_count": 6,
      "outputs": [
        {
          "output_type": "stream",
          "name": "stderr",
          "text": [
            "/usr/local/lib/python3.7/dist-packages/pandas/core/frame.py:5182: SettingWithCopyWarning: \n",
            "A value is trying to be set on a copy of a slice from a DataFrame\n",
            "\n",
            "See the caveats in the documentation: https://pandas.pydata.org/pandas-docs/stable/user_guide/indexing.html#returning-a-view-versus-a-copy\n",
            "  downcast=downcast,\n"
          ]
        }
      ]
    },
    {
      "cell_type": "markdown",
      "source": [
        "Before continuing the processing steps, since education and education_num features gives the same information, ill keep just one of them, so education will be removed from the dataset"
      ],
      "metadata": {
        "id": "dtb2BVOrmtmw"
      }
    },
    {
      "cell_type": "code",
      "source": [
        "data, target = df.drop(columns=['education', 'class']), df['class']"
      ],
      "metadata": {
        "id": "GCg9tLzPmoY6"
      },
      "execution_count": 7,
      "outputs": []
    },
    {
      "cell_type": "markdown",
      "source": [
        "### **Separate categorical and numerical features**"
      ],
      "metadata": {
        "id": "xBw2nCyVngCV"
      }
    },
    {
      "cell_type": "code",
      "source": [
        "from sklearn.compose import make_column_selector as selector\n",
        "\n",
        "numerical = selector(dtype_include=np.number)(data)\n",
        "categorical = selector(dtype_include=object)(data)"
      ],
      "metadata": {
        "id": "S2luwkOwnd7A"
      },
      "execution_count": 8,
      "outputs": []
    },
    {
      "cell_type": "markdown",
      "source": [
        "Now the dataset is ready to be preprocessed"
      ],
      "metadata": {
        "id": "Z1S6SENAoQlR"
      }
    },
    {
      "cell_type": "code",
      "source": [
        "data.describe().T"
      ],
      "metadata": {
        "colab": {
          "base_uri": "https://localhost:8080/",
          "height": 238
        },
        "id": "-uGV2IjcoP3u",
        "outputId": "0014bb74-1b59-4d9a-c055-ef863a105023"
      },
      "execution_count": 9,
      "outputs": [
        {
          "output_type": "execute_result",
          "data": {
            "text/plain": [
              "                  count           mean            std      min       25%  \\\n",
              "age             48842.0      38.643585      13.710510     17.0      28.0   \n",
              "fnlwgt          48842.0  189664.134597  105604.025423  12285.0  117550.5   \n",
              "education_num   48842.0      10.078089       2.570973      1.0       9.0   \n",
              "capital_gain    48842.0    1079.067626    7452.019058      0.0       0.0   \n",
              "capital_loss    48842.0      87.502314     403.004552      0.0       0.0   \n",
              "hours_per_week  48842.0      40.422382      12.391444      1.0      40.0   \n",
              "\n",
              "                     50%       75%        max  \n",
              "age                 37.0      48.0       90.0  \n",
              "fnlwgt          178144.5  237642.0  1490400.0  \n",
              "education_num       10.0      12.0       16.0  \n",
              "capital_gain         0.0       0.0    99999.0  \n",
              "capital_loss         0.0       0.0     4356.0  \n",
              "hours_per_week      40.0      45.0       99.0  "
            ],
            "text/html": [
              "\n",
              "  <div id=\"df-3233718b-83f6-44ce-a00c-148fe016b588\">\n",
              "    <div class=\"colab-df-container\">\n",
              "      <div>\n",
              "<style scoped>\n",
              "    .dataframe tbody tr th:only-of-type {\n",
              "        vertical-align: middle;\n",
              "    }\n",
              "\n",
              "    .dataframe tbody tr th {\n",
              "        vertical-align: top;\n",
              "    }\n",
              "\n",
              "    .dataframe thead th {\n",
              "        text-align: right;\n",
              "    }\n",
              "</style>\n",
              "<table border=\"1\" class=\"dataframe\">\n",
              "  <thead>\n",
              "    <tr style=\"text-align: right;\">\n",
              "      <th></th>\n",
              "      <th>count</th>\n",
              "      <th>mean</th>\n",
              "      <th>std</th>\n",
              "      <th>min</th>\n",
              "      <th>25%</th>\n",
              "      <th>50%</th>\n",
              "      <th>75%</th>\n",
              "      <th>max</th>\n",
              "    </tr>\n",
              "  </thead>\n",
              "  <tbody>\n",
              "    <tr>\n",
              "      <th>age</th>\n",
              "      <td>48842.0</td>\n",
              "      <td>38.643585</td>\n",
              "      <td>13.710510</td>\n",
              "      <td>17.0</td>\n",
              "      <td>28.0</td>\n",
              "      <td>37.0</td>\n",
              "      <td>48.0</td>\n",
              "      <td>90.0</td>\n",
              "    </tr>\n",
              "    <tr>\n",
              "      <th>fnlwgt</th>\n",
              "      <td>48842.0</td>\n",
              "      <td>189664.134597</td>\n",
              "      <td>105604.025423</td>\n",
              "      <td>12285.0</td>\n",
              "      <td>117550.5</td>\n",
              "      <td>178144.5</td>\n",
              "      <td>237642.0</td>\n",
              "      <td>1490400.0</td>\n",
              "    </tr>\n",
              "    <tr>\n",
              "      <th>education_num</th>\n",
              "      <td>48842.0</td>\n",
              "      <td>10.078089</td>\n",
              "      <td>2.570973</td>\n",
              "      <td>1.0</td>\n",
              "      <td>9.0</td>\n",
              "      <td>10.0</td>\n",
              "      <td>12.0</td>\n",
              "      <td>16.0</td>\n",
              "    </tr>\n",
              "    <tr>\n",
              "      <th>capital_gain</th>\n",
              "      <td>48842.0</td>\n",
              "      <td>1079.067626</td>\n",
              "      <td>7452.019058</td>\n",
              "      <td>0.0</td>\n",
              "      <td>0.0</td>\n",
              "      <td>0.0</td>\n",
              "      <td>0.0</td>\n",
              "      <td>99999.0</td>\n",
              "    </tr>\n",
              "    <tr>\n",
              "      <th>capital_loss</th>\n",
              "      <td>48842.0</td>\n",
              "      <td>87.502314</td>\n",
              "      <td>403.004552</td>\n",
              "      <td>0.0</td>\n",
              "      <td>0.0</td>\n",
              "      <td>0.0</td>\n",
              "      <td>0.0</td>\n",
              "      <td>4356.0</td>\n",
              "    </tr>\n",
              "    <tr>\n",
              "      <th>hours_per_week</th>\n",
              "      <td>48842.0</td>\n",
              "      <td>40.422382</td>\n",
              "      <td>12.391444</td>\n",
              "      <td>1.0</td>\n",
              "      <td>40.0</td>\n",
              "      <td>40.0</td>\n",
              "      <td>45.0</td>\n",
              "      <td>99.0</td>\n",
              "    </tr>\n",
              "  </tbody>\n",
              "</table>\n",
              "</div>\n",
              "      <button class=\"colab-df-convert\" onclick=\"convertToInteractive('df-3233718b-83f6-44ce-a00c-148fe016b588')\"\n",
              "              title=\"Convert this dataframe to an interactive table.\"\n",
              "              style=\"display:none;\">\n",
              "        \n",
              "  <svg xmlns=\"http://www.w3.org/2000/svg\" height=\"24px\"viewBox=\"0 0 24 24\"\n",
              "       width=\"24px\">\n",
              "    <path d=\"M0 0h24v24H0V0z\" fill=\"none\"/>\n",
              "    <path d=\"M18.56 5.44l.94 2.06.94-2.06 2.06-.94-2.06-.94-.94-2.06-.94 2.06-2.06.94zm-11 1L8.5 8.5l.94-2.06 2.06-.94-2.06-.94L8.5 2.5l-.94 2.06-2.06.94zm10 10l.94 2.06.94-2.06 2.06-.94-2.06-.94-.94-2.06-.94 2.06-2.06.94z\"/><path d=\"M17.41 7.96l-1.37-1.37c-.4-.4-.92-.59-1.43-.59-.52 0-1.04.2-1.43.59L10.3 9.45l-7.72 7.72c-.78.78-.78 2.05 0 2.83L4 21.41c.39.39.9.59 1.41.59.51 0 1.02-.2 1.41-.59l7.78-7.78 2.81-2.81c.8-.78.8-2.07 0-2.86zM5.41 20L4 18.59l7.72-7.72 1.47 1.35L5.41 20z\"/>\n",
              "  </svg>\n",
              "      </button>\n",
              "      \n",
              "  <style>\n",
              "    .colab-df-container {\n",
              "      display:flex;\n",
              "      flex-wrap:wrap;\n",
              "      gap: 12px;\n",
              "    }\n",
              "\n",
              "    .colab-df-convert {\n",
              "      background-color: #E8F0FE;\n",
              "      border: none;\n",
              "      border-radius: 50%;\n",
              "      cursor: pointer;\n",
              "      display: none;\n",
              "      fill: #1967D2;\n",
              "      height: 32px;\n",
              "      padding: 0 0 0 0;\n",
              "      width: 32px;\n",
              "    }\n",
              "\n",
              "    .colab-df-convert:hover {\n",
              "      background-color: #E2EBFA;\n",
              "      box-shadow: 0px 1px 2px rgba(60, 64, 67, 0.3), 0px 1px 3px 1px rgba(60, 64, 67, 0.15);\n",
              "      fill: #174EA6;\n",
              "    }\n",
              "\n",
              "    [theme=dark] .colab-df-convert {\n",
              "      background-color: #3B4455;\n",
              "      fill: #D2E3FC;\n",
              "    }\n",
              "\n",
              "    [theme=dark] .colab-df-convert:hover {\n",
              "      background-color: #434B5C;\n",
              "      box-shadow: 0px 1px 3px 1px rgba(0, 0, 0, 0.15);\n",
              "      filter: drop-shadow(0px 1px 2px rgba(0, 0, 0, 0.3));\n",
              "      fill: #FFFFFF;\n",
              "    }\n",
              "  </style>\n",
              "\n",
              "      <script>\n",
              "        const buttonEl =\n",
              "          document.querySelector('#df-3233718b-83f6-44ce-a00c-148fe016b588 button.colab-df-convert');\n",
              "        buttonEl.style.display =\n",
              "          google.colab.kernel.accessAllowed ? 'block' : 'none';\n",
              "\n",
              "        async function convertToInteractive(key) {\n",
              "          const element = document.querySelector('#df-3233718b-83f6-44ce-a00c-148fe016b588');\n",
              "          const dataTable =\n",
              "            await google.colab.kernel.invokeFunction('convertToInteractive',\n",
              "                                                     [key], {});\n",
              "          if (!dataTable) return;\n",
              "\n",
              "          const docLinkHtml = 'Like what you see? Visit the ' +\n",
              "            '<a target=\"_blank\" href=https://colab.research.google.com/notebooks/data_table.ipynb>data table notebook</a>'\n",
              "            + ' to learn more about interactive tables.';\n",
              "          element.innerHTML = '';\n",
              "          dataTable['output_type'] = 'display_data';\n",
              "          await google.colab.output.renderOutput(dataTable, element);\n",
              "          const docLink = document.createElement('div');\n",
              "          docLink.innerHTML = docLinkHtml;\n",
              "          element.appendChild(docLink);\n",
              "        }\n",
              "      </script>\n",
              "    </div>\n",
              "  </div>\n",
              "  "
            ]
          },
          "metadata": {},
          "execution_count": 9
        }
      ]
    },
    {
      "cell_type": "markdown",
      "source": [
        "I note that the numerical features need to be scaled, since their averages are very different."
      ],
      "metadata": {
        "id": "Go9BvqA-pgVa"
      }
    },
    {
      "cell_type": "markdown",
      "source": [
        "## Dispatch columns to a specific processor\n",
        "\n",
        "I know that I need to treat data differently depending on their nature (i.e. numerical or categorical).\n",
        "\n",
        "Scikit-learn provides a `ColumnTransformer` class which will send specific\n",
        "columns to a specific transformer, making it easy to fit a single predictive model on a dataset that combines both kinds of variables together (heterogeneously typed tabular data).\n",
        "\n",
        "We first define the columns depending on their data type:\n",
        "\n",
        "* **one-hot encoding** will be applied to categorical columns. Besides, we\n",
        "  use `handle_unknown=\"ignore\"` to solve the potential issues due to rare\n",
        "  categories.\n",
        "* **numerical scaling** numerical features which will be standardized.\n",
        "\n",
        "`ColumnTransfomer` preprocessor contains three values:\n",
        "- the preprocessor name, \n",
        "- the transformer, \n",
        "- and the columns.\n",
        "\n",
        "First, let's create the preprocessors for the numerical and categorical\n",
        "parts."
      ],
      "metadata": {
        "id": "hLqVrr2XqL19"
      }
    },
    {
      "cell_type": "code",
      "source": [
        "from sklearn.preprocessing import OneHotEncoder, StandardScaler\n",
        "\n",
        "scaler = StandardScaler()\n",
        "encoder = OneHotEncoder(handle_unknown='ignore')"
      ],
      "metadata": {
        "id": "oDST-tZkpcH1"
      },
      "execution_count": 11,
      "outputs": []
    },
    {
      "cell_type": "markdown",
      "source": [
        "Now, I create the transformer and associate each of these preprocessors\n",
        "with their respective columns."
      ],
      "metadata": {
        "id": "qW0ThSuGrhmB"
      }
    },
    {
      "cell_type": "code",
      "source": [
        "from sklearn.compose import ColumnTransformer\n",
        "\n",
        "preprocessor = ColumnTransformer([\n",
        "    ('num_scaler', scaler, numerical),\n",
        "    ('onehot', encoder, categorical),\n",
        "])"
      ],
      "metadata": {
        "id": "8Pp9W7JbrVZt"
      },
      "execution_count": 13,
      "outputs": []
    },
    {
      "cell_type": "markdown",
      "source": [
        "![Screenshot from 2022-09-27 12-25-26.png](data:image/png;base64,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)"
      ],
      "metadata": {
        "id": "adHStwxwsihn"
      }
    },
    {
      "cell_type": "markdown",
      "source": [
        "A `ColumnTransformer` does the following:\n",
        "\n",
        "* It **splits the columns** of the original dataset based on the column names\n",
        "  or indices provided. We will obtain as many subsets as the number of\n",
        "  transformers passed into the `ColumnTransformer`.\n",
        "* It **transforms each subsets**. A specific transformer is applied to\n",
        "  each subset: it will internally call `fit_transform` or `transform`. The\n",
        "  output of this step is a set of transformed datasets.\n",
        "* It then **concatenates the transformed datasets** into a single dataset.\n",
        "\n",
        "The important thing is that `ColumnTransformer` is like any other\n",
        "scikit-learn transformer. In particular it can be combined with a classifier\n",
        "in a `Pipeline`:"
      ],
      "metadata": {
        "id": "jU4kRnh0s74i"
      }
    },
    {
      "cell_type": "code",
      "source": [
        "from sklearn.linear_model import LogisticRegression\n",
        "from sklearn.pipeline import make_pipeline\n",
        "\n",
        "model = make_pipeline(\n",
        "    preprocessor,\n",
        "    LogisticRegression(max_iter=1000)\n",
        ")"
      ],
      "metadata": {
        "id": "tdmoxqDZshrh"
      },
      "execution_count": 14,
      "outputs": []
    },
    {
      "cell_type": "markdown",
      "source": [
        "Displaying an interactive diagram "
      ],
      "metadata": {
        "id": "NReGuNsAuX7M"
      }
    },
    {
      "cell_type": "code",
      "source": [
        "from sklearn import set_config\n",
        "set_config(display='diagram')\n",
        "model"
      ],
      "metadata": {
        "colab": {
          "base_uri": "https://localhost:8080/",
          "height": 192
        },
        "id": "_XIykBi2t4wh",
        "outputId": "02668516-fa97-42a2-e142-6d7da671bcba"
      },
      "execution_count": 15,
      "outputs": [
        {
          "output_type": "execute_result",
          "data": {
            "text/plain": [
              "Pipeline(steps=[('columntransformer',\n",
              "                 ColumnTransformer(transformers=[('num_scaler',\n",
              "                                                  StandardScaler(),\n",
              "                                                  ['age', 'fnlwgt',\n",
              "                                                   'education_num',\n",
              "                                                   'capital_gain',\n",
              "                                                   'capital_loss',\n",
              "                                                   'hours_per_week']),\n",
              "                                                 ('onehot',\n",
              "                                                  OneHotEncoder(handle_unknown='ignore'),\n",
              "                                                  ['workclass',\n",
              "                                                   'marital_status',\n",
              "                                                   'occupation', 'relationship',\n",
              "                                                   'race', 'sex',\n",
              "                                                   'native_country'])])),\n",
              "                ('logisticregression', LogisticRegression(max_iter=1000))])"
            ],
            "text/html": [
              "<style>#sk-e1e8fa65-871f-455e-bbcb-8fa6e0c4e034 {color: black;background-color: white;}#sk-e1e8fa65-871f-455e-bbcb-8fa6e0c4e034 pre{padding: 0;}#sk-e1e8fa65-871f-455e-bbcb-8fa6e0c4e034 div.sk-toggleable {background-color: white;}#sk-e1e8fa65-871f-455e-bbcb-8fa6e0c4e034 label.sk-toggleable__label {cursor: pointer;display: block;width: 100%;margin-bottom: 0;padding: 0.3em;box-sizing: border-box;text-align: center;}#sk-e1e8fa65-871f-455e-bbcb-8fa6e0c4e034 label.sk-toggleable__label-arrow:before {content: \"▸\";float: left;margin-right: 0.25em;color: #696969;}#sk-e1e8fa65-871f-455e-bbcb-8fa6e0c4e034 label.sk-toggleable__label-arrow:hover:before {color: black;}#sk-e1e8fa65-871f-455e-bbcb-8fa6e0c4e034 div.sk-estimator:hover label.sk-toggleable__label-arrow:before {color: black;}#sk-e1e8fa65-871f-455e-bbcb-8fa6e0c4e034 div.sk-toggleable__content {max-height: 0;max-width: 0;overflow: hidden;text-align: left;background-color: #f0f8ff;}#sk-e1e8fa65-871f-455e-bbcb-8fa6e0c4e034 div.sk-toggleable__content pre {margin: 0.2em;color: black;border-radius: 0.25em;background-color: #f0f8ff;}#sk-e1e8fa65-871f-455e-bbcb-8fa6e0c4e034 input.sk-toggleable__control:checked~div.sk-toggleable__content {max-height: 200px;max-width: 100%;overflow: auto;}#sk-e1e8fa65-871f-455e-bbcb-8fa6e0c4e034 input.sk-toggleable__control:checked~label.sk-toggleable__label-arrow:before {content: \"▾\";}#sk-e1e8fa65-871f-455e-bbcb-8fa6e0c4e034 div.sk-estimator input.sk-toggleable__control:checked~label.sk-toggleable__label {background-color: #d4ebff;}#sk-e1e8fa65-871f-455e-bbcb-8fa6e0c4e034 div.sk-label input.sk-toggleable__control:checked~label.sk-toggleable__label {background-color: #d4ebff;}#sk-e1e8fa65-871f-455e-bbcb-8fa6e0c4e034 input.sk-hidden--visually {border: 0;clip: rect(1px 1px 1px 1px);clip: rect(1px, 1px, 1px, 1px);height: 1px;margin: -1px;overflow: hidden;padding: 0;position: absolute;width: 1px;}#sk-e1e8fa65-871f-455e-bbcb-8fa6e0c4e034 div.sk-estimator {font-family: monospace;background-color: #f0f8ff;border: 1px dotted black;border-radius: 0.25em;box-sizing: border-box;margin-bottom: 0.5em;}#sk-e1e8fa65-871f-455e-bbcb-8fa6e0c4e034 div.sk-estimator:hover {background-color: #d4ebff;}#sk-e1e8fa65-871f-455e-bbcb-8fa6e0c4e034 div.sk-parallel-item::after {content: \"\";width: 100%;border-bottom: 1px solid gray;flex-grow: 1;}#sk-e1e8fa65-871f-455e-bbcb-8fa6e0c4e034 div.sk-label:hover label.sk-toggleable__label {background-color: #d4ebff;}#sk-e1e8fa65-871f-455e-bbcb-8fa6e0c4e034 div.sk-serial::before {content: \"\";position: absolute;border-left: 1px solid gray;box-sizing: border-box;top: 2em;bottom: 0;left: 50%;}#sk-e1e8fa65-871f-455e-bbcb-8fa6e0c4e034 div.sk-serial {display: flex;flex-direction: column;align-items: center;background-color: white;padding-right: 0.2em;padding-left: 0.2em;}#sk-e1e8fa65-871f-455e-bbcb-8fa6e0c4e034 div.sk-item {z-index: 1;}#sk-e1e8fa65-871f-455e-bbcb-8fa6e0c4e034 div.sk-parallel {display: flex;align-items: stretch;justify-content: center;background-color: white;}#sk-e1e8fa65-871f-455e-bbcb-8fa6e0c4e034 div.sk-parallel::before {content: \"\";position: absolute;border-left: 1px solid gray;box-sizing: border-box;top: 2em;bottom: 0;left: 50%;}#sk-e1e8fa65-871f-455e-bbcb-8fa6e0c4e034 div.sk-parallel-item {display: flex;flex-direction: column;position: relative;background-color: white;}#sk-e1e8fa65-871f-455e-bbcb-8fa6e0c4e034 div.sk-parallel-item:first-child::after {align-self: flex-end;width: 50%;}#sk-e1e8fa65-871f-455e-bbcb-8fa6e0c4e034 div.sk-parallel-item:last-child::after {align-self: flex-start;width: 50%;}#sk-e1e8fa65-871f-455e-bbcb-8fa6e0c4e034 div.sk-parallel-item:only-child::after {width: 0;}#sk-e1e8fa65-871f-455e-bbcb-8fa6e0c4e034 div.sk-dashed-wrapped {border: 1px dashed gray;margin: 0 0.4em 0.5em 0.4em;box-sizing: border-box;padding-bottom: 0.4em;background-color: white;position: relative;}#sk-e1e8fa65-871f-455e-bbcb-8fa6e0c4e034 div.sk-label label {font-family: monospace;font-weight: bold;background-color: white;display: inline-block;line-height: 1.2em;}#sk-e1e8fa65-871f-455e-bbcb-8fa6e0c4e034 div.sk-label-container {position: relative;z-index: 2;text-align: center;}#sk-e1e8fa65-871f-455e-bbcb-8fa6e0c4e034 div.sk-container {/* jupyter's `normalize.less` sets `[hidden] { display: none; }` but bootstrap.min.css set `[hidden] { display: none !important; }` so we also need the `!important` here to be able to override the default hidden behavior on the sphinx rendered scikit-learn.org. See: https://github.com/scikit-learn/scikit-learn/issues/21755 */display: inline-block !important;position: relative;}#sk-e1e8fa65-871f-455e-bbcb-8fa6e0c4e034 div.sk-text-repr-fallback {display: none;}</style><div id=\"sk-e1e8fa65-871f-455e-bbcb-8fa6e0c4e034\" class=\"sk-top-container\"><div class=\"sk-text-repr-fallback\"><pre>Pipeline(steps=[(&#x27;columntransformer&#x27;,\n",
              "                 ColumnTransformer(transformers=[(&#x27;num_scaler&#x27;,\n",
              "                                                  StandardScaler(),\n",
              "                                                  [&#x27;age&#x27;, &#x27;fnlwgt&#x27;,\n",
              "                                                   &#x27;education_num&#x27;,\n",
              "                                                   &#x27;capital_gain&#x27;,\n",
              "                                                   &#x27;capital_loss&#x27;,\n",
              "                                                   &#x27;hours_per_week&#x27;]),\n",
              "                                                 (&#x27;onehot&#x27;,\n",
              "                                                  OneHotEncoder(handle_unknown=&#x27;ignore&#x27;),\n",
              "                                                  [&#x27;workclass&#x27;,\n",
              "                                                   &#x27;marital_status&#x27;,\n",
              "                                                   &#x27;occupation&#x27;, &#x27;relationship&#x27;,\n",
              "                                                   &#x27;race&#x27;, &#x27;sex&#x27;,\n",
              "                                                   &#x27;native_country&#x27;])])),\n",
              "                (&#x27;logisticregression&#x27;, LogisticRegression(max_iter=1000))])</pre><b>Please rerun this cell to show the HTML repr or trust the notebook.</b></div><div class=\"sk-container\" hidden><div class=\"sk-item sk-dashed-wrapped\"><div class=\"sk-label-container\"><div class=\"sk-label sk-toggleable\"><input class=\"sk-toggleable__control sk-hidden--visually\" id=\"ffd328c6-702a-4b2a-a84b-9da2d0a5e487\" type=\"checkbox\" ><label for=\"ffd328c6-702a-4b2a-a84b-9da2d0a5e487\" class=\"sk-toggleable__label sk-toggleable__label-arrow\">Pipeline</label><div class=\"sk-toggleable__content\"><pre>Pipeline(steps=[(&#x27;columntransformer&#x27;,\n",
              "                 ColumnTransformer(transformers=[(&#x27;num_scaler&#x27;,\n",
              "                                                  StandardScaler(),\n",
              "                                                  [&#x27;age&#x27;, &#x27;fnlwgt&#x27;,\n",
              "                                                   &#x27;education_num&#x27;,\n",
              "                                                   &#x27;capital_gain&#x27;,\n",
              "                                                   &#x27;capital_loss&#x27;,\n",
              "                                                   &#x27;hours_per_week&#x27;]),\n",
              "                                                 (&#x27;onehot&#x27;,\n",
              "                                                  OneHotEncoder(handle_unknown=&#x27;ignore&#x27;),\n",
              "                                                  [&#x27;workclass&#x27;,\n",
              "                                                   &#x27;marital_status&#x27;,\n",
              "                                                   &#x27;occupation&#x27;, &#x27;relationship&#x27;,\n",
              "                                                   &#x27;race&#x27;, &#x27;sex&#x27;,\n",
              "                                                   &#x27;native_country&#x27;])])),\n",
              "                (&#x27;logisticregression&#x27;, LogisticRegression(max_iter=1000))])</pre></div></div></div><div class=\"sk-serial\"><div class=\"sk-item sk-dashed-wrapped\"><div class=\"sk-label-container\"><div class=\"sk-label sk-toggleable\"><input class=\"sk-toggleable__control sk-hidden--visually\" id=\"3e6a7dfe-00c4-4c81-8fe3-7f6d852b7166\" type=\"checkbox\" ><label for=\"3e6a7dfe-00c4-4c81-8fe3-7f6d852b7166\" class=\"sk-toggleable__label sk-toggleable__label-arrow\">columntransformer: ColumnTransformer</label><div class=\"sk-toggleable__content\"><pre>ColumnTransformer(transformers=[(&#x27;num_scaler&#x27;, StandardScaler(),\n",
              "                                 [&#x27;age&#x27;, &#x27;fnlwgt&#x27;, &#x27;education_num&#x27;,\n",
              "                                  &#x27;capital_gain&#x27;, &#x27;capital_loss&#x27;,\n",
              "                                  &#x27;hours_per_week&#x27;]),\n",
              "                                (&#x27;onehot&#x27;,\n",
              "                                 OneHotEncoder(handle_unknown=&#x27;ignore&#x27;),\n",
              "                                 [&#x27;workclass&#x27;, &#x27;marital_status&#x27;, &#x27;occupation&#x27;,\n",
              "                                  &#x27;relationship&#x27;, &#x27;race&#x27;, &#x27;sex&#x27;,\n",
              "                                  &#x27;native_country&#x27;])])</pre></div></div></div><div class=\"sk-parallel\"><div class=\"sk-parallel-item\"><div class=\"sk-item\"><div class=\"sk-label-container\"><div class=\"sk-label sk-toggleable\"><input class=\"sk-toggleable__control sk-hidden--visually\" id=\"5f62b6b5-3544-4e76-b2c5-f16cd4c4f855\" type=\"checkbox\" ><label for=\"5f62b6b5-3544-4e76-b2c5-f16cd4c4f855\" class=\"sk-toggleable__label sk-toggleable__label-arrow\">num_scaler</label><div class=\"sk-toggleable__content\"><pre>[&#x27;age&#x27;, &#x27;fnlwgt&#x27;, &#x27;education_num&#x27;, &#x27;capital_gain&#x27;, &#x27;capital_loss&#x27;, &#x27;hours_per_week&#x27;]</pre></div></div></div><div class=\"sk-serial\"><div class=\"sk-item\"><div class=\"sk-estimator sk-toggleable\"><input class=\"sk-toggleable__control sk-hidden--visually\" id=\"569b739e-9c61-41a8-9b1a-8bca54b62d3c\" type=\"checkbox\" ><label for=\"569b739e-9c61-41a8-9b1a-8bca54b62d3c\" class=\"sk-toggleable__label sk-toggleable__label-arrow\">StandardScaler</label><div class=\"sk-toggleable__content\"><pre>StandardScaler()</pre></div></div></div></div></div></div><div class=\"sk-parallel-item\"><div class=\"sk-item\"><div class=\"sk-label-container\"><div class=\"sk-label sk-toggleable\"><input class=\"sk-toggleable__control sk-hidden--visually\" id=\"f1f58dfd-f362-41b5-b08f-8efa46ed4daa\" type=\"checkbox\" ><label for=\"f1f58dfd-f362-41b5-b08f-8efa46ed4daa\" class=\"sk-toggleable__label sk-toggleable__label-arrow\">onehot</label><div class=\"sk-toggleable__content\"><pre>[&#x27;workclass&#x27;, &#x27;marital_status&#x27;, &#x27;occupation&#x27;, &#x27;relationship&#x27;, &#x27;race&#x27;, &#x27;sex&#x27;, &#x27;native_country&#x27;]</pre></div></div></div><div class=\"sk-serial\"><div class=\"sk-item\"><div class=\"sk-estimator sk-toggleable\"><input class=\"sk-toggleable__control sk-hidden--visually\" id=\"03f97f90-f908-4f8b-b619-65e02d38abe4\" type=\"checkbox\" ><label for=\"03f97f90-f908-4f8b-b619-65e02d38abe4\" class=\"sk-toggleable__label sk-toggleable__label-arrow\">OneHotEncoder</label><div class=\"sk-toggleable__content\"><pre>OneHotEncoder(handle_unknown=&#x27;ignore&#x27;)</pre></div></div></div></div></div></div></div></div><div class=\"sk-item\"><div class=\"sk-estimator sk-toggleable\"><input class=\"sk-toggleable__control sk-hidden--visually\" id=\"7954ef0c-3c42-47d3-b03a-15a71f430d61\" type=\"checkbox\" ><label for=\"7954ef0c-3c42-47d3-b03a-15a71f430d61\" class=\"sk-toggleable__label sk-toggleable__label-arrow\">LogisticRegression</label><div class=\"sk-toggleable__content\"><pre>LogisticRegression(max_iter=1000)</pre></div></div></div></div></div></div></div>"
            ]
          },
          "metadata": {},
          "execution_count": 15
        }
      ]
    },
    {
      "cell_type": "code",
      "source": [],
      "metadata": {
        "id": "BAtwgrNPuOfi"
      },
      "execution_count": null,
      "outputs": []
    }
  ]
}