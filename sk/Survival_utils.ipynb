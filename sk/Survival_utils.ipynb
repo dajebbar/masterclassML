{
  "nbformat": 4,
  "nbformat_minor": 0,
  "metadata": {
    "colab": {
      "provenance": []
    },
    "kernelspec": {
      "name": "python3",
      "display_name": "Python 3"
    },
    "language_info": {
      "name": "python"
    }
  },
  "cells": [
    {
      "cell_type": "markdown",
      "source": [
        "# Various Families"
      ],
      "metadata": {
        "id": "WRmljnR-qna5"
      }
    },
    {
      "cell_type": "code",
      "source": [
        "!pip install yellowbrick --quiet"
      ],
      "metadata": {
        "id": "dhWdJaqZcYoq"
      },
      "execution_count": 1,
      "outputs": []
    },
    {
      "cell_type": "code",
      "source": [
        "import pandas as pd\n",
        "import numpy as np\n",
        "import matplotlib.pyplot as plt\n",
        "import sklearn"
      ],
      "metadata": {
        "id": "4UUzWouicC1q"
      },
      "execution_count": 2,
      "outputs": []
    },
    {
      "cell_type": "code",
      "source": [
        "df = pd.read_csv('titanic.csv')\n",
        "df.sample(n=5)"
      ],
      "metadata": {
        "colab": {
          "base_uri": "https://localhost:8080/",
          "height": 302
        },
        "id": "JqJpu39bcDgu",
        "outputId": "dc7c820f-e1ad-4f36-8c29-c482faf6a64b"
      },
      "execution_count": 3,
      "outputs": [
        {
          "output_type": "execute_result",
          "data": {
            "text/plain": [
              "      pclass  survived                          name     sex   age  sibsp  \\\n",
              "1303       3         0         Yousseff, Mr. Gerious    male   NaN      0   \n",
              "364        2         0         Carbines, Mr. William    male  19.0      0   \n",
              "1295       3         0           Windelov, Mr. Einar    male  21.0      0   \n",
              "401        2         1  Duran y More, Miss. Asuncion  female  27.0      1   \n",
              "1029       3         0           Moran, Mr. Daniel J    male   NaN      1   \n",
              "\n",
              "      parch            ticket     fare cabin embarked boat  body  \\\n",
              "1303      0              2627  14.4583   NaN        C  NaN   NaN   \n",
              "364       0             28424  13.0000   NaN        S  NaN  18.0   \n",
              "1295      0  SOTON/OQ 3101317   7.2500   NaN        S  NaN   NaN   \n",
              "401       0     SC/PARIS 2149  13.8583   NaN        C   12   NaN   \n",
              "1029      0            371110  24.1500   NaN        Q  NaN   NaN   \n",
              "\n",
              "                            home.dest  \n",
              "1303                              NaN  \n",
              "364   St Ives, Cornwall / Calumet, MI  \n",
              "1295                              NaN  \n",
              "401   Barcelona, Spain / Havana, Cuba  \n",
              "1029                              NaN  "
            ],
            "text/html": [
              "\n",
              "  <div id=\"df-aacf1d55-c9d3-43ab-beca-9878439a1802\">\n",
              "    <div class=\"colab-df-container\">\n",
              "      <div>\n",
              "<style scoped>\n",
              "    .dataframe tbody tr th:only-of-type {\n",
              "        vertical-align: middle;\n",
              "    }\n",
              "\n",
              "    .dataframe tbody tr th {\n",
              "        vertical-align: top;\n",
              "    }\n",
              "\n",
              "    .dataframe thead th {\n",
              "        text-align: right;\n",
              "    }\n",
              "</style>\n",
              "<table border=\"1\" class=\"dataframe\">\n",
              "  <thead>\n",
              "    <tr style=\"text-align: right;\">\n",
              "      <th></th>\n",
              "      <th>pclass</th>\n",
              "      <th>survived</th>\n",
              "      <th>name</th>\n",
              "      <th>sex</th>\n",
              "      <th>age</th>\n",
              "      <th>sibsp</th>\n",
              "      <th>parch</th>\n",
              "      <th>ticket</th>\n",
              "      <th>fare</th>\n",
              "      <th>cabin</th>\n",
              "      <th>embarked</th>\n",
              "      <th>boat</th>\n",
              "      <th>body</th>\n",
              "      <th>home.dest</th>\n",
              "    </tr>\n",
              "  </thead>\n",
              "  <tbody>\n",
              "    <tr>\n",
              "      <th>1303</th>\n",
              "      <td>3</td>\n",
              "      <td>0</td>\n",
              "      <td>Yousseff, Mr. Gerious</td>\n",
              "      <td>male</td>\n",
              "      <td>NaN</td>\n",
              "      <td>0</td>\n",
              "      <td>0</td>\n",
              "      <td>2627</td>\n",
              "      <td>14.4583</td>\n",
              "      <td>NaN</td>\n",
              "      <td>C</td>\n",
              "      <td>NaN</td>\n",
              "      <td>NaN</td>\n",
              "      <td>NaN</td>\n",
              "    </tr>\n",
              "    <tr>\n",
              "      <th>364</th>\n",
              "      <td>2</td>\n",
              "      <td>0</td>\n",
              "      <td>Carbines, Mr. William</td>\n",
              "      <td>male</td>\n",
              "      <td>19.0</td>\n",
              "      <td>0</td>\n",
              "      <td>0</td>\n",
              "      <td>28424</td>\n",
              "      <td>13.0000</td>\n",
              "      <td>NaN</td>\n",
              "      <td>S</td>\n",
              "      <td>NaN</td>\n",
              "      <td>18.0</td>\n",
              "      <td>St Ives, Cornwall / Calumet, MI</td>\n",
              "    </tr>\n",
              "    <tr>\n",
              "      <th>1295</th>\n",
              "      <td>3</td>\n",
              "      <td>0</td>\n",
              "      <td>Windelov, Mr. Einar</td>\n",
              "      <td>male</td>\n",
              "      <td>21.0</td>\n",
              "      <td>0</td>\n",
              "      <td>0</td>\n",
              "      <td>SOTON/OQ 3101317</td>\n",
              "      <td>7.2500</td>\n",
              "      <td>NaN</td>\n",
              "      <td>S</td>\n",
              "      <td>NaN</td>\n",
              "      <td>NaN</td>\n",
              "      <td>NaN</td>\n",
              "    </tr>\n",
              "    <tr>\n",
              "      <th>401</th>\n",
              "      <td>2</td>\n",
              "      <td>1</td>\n",
              "      <td>Duran y More, Miss. Asuncion</td>\n",
              "      <td>female</td>\n",
              "      <td>27.0</td>\n",
              "      <td>1</td>\n",
              "      <td>0</td>\n",
              "      <td>SC/PARIS 2149</td>\n",
              "      <td>13.8583</td>\n",
              "      <td>NaN</td>\n",
              "      <td>C</td>\n",
              "      <td>12</td>\n",
              "      <td>NaN</td>\n",
              "      <td>Barcelona, Spain / Havana, Cuba</td>\n",
              "    </tr>\n",
              "    <tr>\n",
              "      <th>1029</th>\n",
              "      <td>3</td>\n",
              "      <td>0</td>\n",
              "      <td>Moran, Mr. Daniel J</td>\n",
              "      <td>male</td>\n",
              "      <td>NaN</td>\n",
              "      <td>1</td>\n",
              "      <td>0</td>\n",
              "      <td>371110</td>\n",
              "      <td>24.1500</td>\n",
              "      <td>NaN</td>\n",
              "      <td>Q</td>\n",
              "      <td>NaN</td>\n",
              "      <td>NaN</td>\n",
              "      <td>NaN</td>\n",
              "    </tr>\n",
              "  </tbody>\n",
              "</table>\n",
              "</div>\n",
              "      <button class=\"colab-df-convert\" onclick=\"convertToInteractive('df-aacf1d55-c9d3-43ab-beca-9878439a1802')\"\n",
              "              title=\"Convert this dataframe to an interactive table.\"\n",
              "              style=\"display:none;\">\n",
              "        \n",
              "  <svg xmlns=\"http://www.w3.org/2000/svg\" height=\"24px\"viewBox=\"0 0 24 24\"\n",
              "       width=\"24px\">\n",
              "    <path d=\"M0 0h24v24H0V0z\" fill=\"none\"/>\n",
              "    <path d=\"M18.56 5.44l.94 2.06.94-2.06 2.06-.94-2.06-.94-.94-2.06-.94 2.06-2.06.94zm-11 1L8.5 8.5l.94-2.06 2.06-.94-2.06-.94L8.5 2.5l-.94 2.06-2.06.94zm10 10l.94 2.06.94-2.06 2.06-.94-2.06-.94-.94-2.06-.94 2.06-2.06.94z\"/><path d=\"M17.41 7.96l-1.37-1.37c-.4-.4-.92-.59-1.43-.59-.52 0-1.04.2-1.43.59L10.3 9.45l-7.72 7.72c-.78.78-.78 2.05 0 2.83L4 21.41c.39.39.9.59 1.41.59.51 0 1.02-.2 1.41-.59l7.78-7.78 2.81-2.81c.8-.78.8-2.07 0-2.86zM5.41 20L4 18.59l7.72-7.72 1.47 1.35L5.41 20z\"/>\n",
              "  </svg>\n",
              "      </button>\n",
              "      \n",
              "  <style>\n",
              "    .colab-df-container {\n",
              "      display:flex;\n",
              "      flex-wrap:wrap;\n",
              "      gap: 12px;\n",
              "    }\n",
              "\n",
              "    .colab-df-convert {\n",
              "      background-color: #E8F0FE;\n",
              "      border: none;\n",
              "      border-radius: 50%;\n",
              "      cursor: pointer;\n",
              "      display: none;\n",
              "      fill: #1967D2;\n",
              "      height: 32px;\n",
              "      padding: 0 0 0 0;\n",
              "      width: 32px;\n",
              "    }\n",
              "\n",
              "    .colab-df-convert:hover {\n",
              "      background-color: #E2EBFA;\n",
              "      box-shadow: 0px 1px 2px rgba(60, 64, 67, 0.3), 0px 1px 3px 1px rgba(60, 64, 67, 0.15);\n",
              "      fill: #174EA6;\n",
              "    }\n",
              "\n",
              "    [theme=dark] .colab-df-convert {\n",
              "      background-color: #3B4455;\n",
              "      fill: #D2E3FC;\n",
              "    }\n",
              "\n",
              "    [theme=dark] .colab-df-convert:hover {\n",
              "      background-color: #434B5C;\n",
              "      box-shadow: 0px 1px 3px 1px rgba(0, 0, 0, 0.15);\n",
              "      filter: drop-shadow(0px 1px 2px rgba(0, 0, 0, 0.3));\n",
              "      fill: #FFFFFF;\n",
              "    }\n",
              "  </style>\n",
              "\n",
              "      <script>\n",
              "        const buttonEl =\n",
              "          document.querySelector('#df-aacf1d55-c9d3-43ab-beca-9878439a1802 button.colab-df-convert');\n",
              "        buttonEl.style.display =\n",
              "          google.colab.kernel.accessAllowed ? 'block' : 'none';\n",
              "\n",
              "        async function convertToInteractive(key) {\n",
              "          const element = document.querySelector('#df-aacf1d55-c9d3-43ab-beca-9878439a1802');\n",
              "          const dataTable =\n",
              "            await google.colab.kernel.invokeFunction('convertToInteractive',\n",
              "                                                     [key], {});\n",
              "          if (!dataTable) return;\n",
              "\n",
              "          const docLinkHtml = 'Like what you see? Visit the ' +\n",
              "            '<a target=\"_blank\" href=https://colab.research.google.com/notebooks/data_table.ipynb>data table notebook</a>'\n",
              "            + ' to learn more about interactive tables.';\n",
              "          element.innerHTML = '';\n",
              "          dataTable['output_type'] = 'display_data';\n",
              "          await google.colab.output.renderOutput(dataTable, element);\n",
              "          const docLink = document.createElement('div');\n",
              "          docLink.innerHTML = docLinkHtml;\n",
              "          element.appendChild(docLink);\n",
              "        }\n",
              "      </script>\n",
              "    </div>\n",
              "  </div>\n",
              "  "
            ]
          },
          "metadata": {},
          "execution_count": 3
        }
      ]
    },
    {
      "cell_type": "code",
      "execution_count": 4,
      "metadata": {
        "id": "Q1NLyoTubpaa"
      },
      "outputs": [],
      "source": [
        "from sklearn import (\n",
        "    metrics,\n",
        "    model_selection,\n",
        ")\n",
        "from sklearn.experimental import enable_iterative_imputer\n",
        "from sklearn import impute\n",
        "from sklearn.compose import make_column_selector as selector\n",
        "from sklearn.pipeline import Pipeline, make_pipeline\n",
        "from sklearn.preprocessing import (\n",
        "    StandardScaler, OneHotEncoder, OrdinalEncoder\n",
        ")\n",
        "from sklearn.compose import ColumnTransformer\n",
        "from sklearn.dummy import DummyClassifier\n",
        "\n",
        "# diferentiate features matrix (X) and label target (y)\n",
        "df = df.drop(columns=['name', 'ticket', 'home.dest', 'boat', 'body', 'cabin'])\n",
        "X, y = df.drop(columns=['survived']), df['survived']\n",
        "\n",
        "def tweaking(df, norm=True, hot=True, model=DummyClassifier(), cross=True):\n",
        "  \n",
        "  # spliting samples on train and test samples\n",
        "  X_train, X_test, y_train, y_test = model_selection.train_test_split(\n",
        "      X,\n",
        "      y,\n",
        "      test_size=.3,\n",
        "      random_state= 42\n",
        "  )\n",
        "  # separate numerical and categorical features\n",
        "  numerical = selector(dtype_include=np.number)(X)\n",
        "  categorical = selector(dtype_include=object)(X)\n",
        "\n",
        "  # Preprocessing features\n",
        "\n",
        "  # numerical features: imputing and scaling\n",
        "  imputer = impute.IterativeImputer()\n",
        "  scaler = StandardScaler()\n",
        "\n",
        "  if norm:\n",
        "    num_preprocessor = Pipeline([\n",
        "        ('imputer', imputer),\n",
        "        ('scaler', scaler)\n",
        "    ])\n",
        "  else:\n",
        "    num_preprocessor = Pipeline([\n",
        "        ('imputer', imputer),\n",
        "    ])\n",
        "\n",
        "  # categorical features\n",
        "  one_hot_preprocessor = OneHotEncoder(handle_unknown='ignore', sparse=False)\n",
        "  ordinal_preprocessor = OrdinalEncoder(\n",
        "      handle_unknown='use_encoded_value', \n",
        "      unknown_value=-1\n",
        "  )\n",
        "\n",
        "  if cross:\n",
        "  \n",
        "    if hot:\n",
        "      preprocessor = ColumnTransformer([\n",
        "          ('num', num_preprocessor, numerical),\n",
        "          ('cat_onehot', one_hot_preprocessor, categorical)\n",
        "      ])\n",
        "    \n",
        "    else:\n",
        "      preprocessor = ColumnTransformer([\n",
        "        ('num', num_preprocessor, numerical),\n",
        "        ('cat_ordinal', ordinal_preprocessor, categorical)\n",
        "    ])\n",
        "    \n",
        "    estimator = make_pipeline(preprocessor, model)\n",
        "    return estimator\n",
        "  \n",
        "  else:\n",
        "    X_train = pd.get_dummies(X_train, drop_first=True)\n",
        "    X_test = pd.get_dummies(X_test, drop_first=True)\n",
        "\n",
        "    num_cols = ['pclass', 'age', 'sibsp', 'parch', 'fare']\n",
        "\n",
        "    X_train.loc[:, num_cols] = imputer.fit_transform(X_train[num_cols])\n",
        "    X_test.loc[:, num_cols] = imputer.transform(X_test[num_cols])\n",
        "\n",
        "    if norm:\n",
        "      X_train.loc[:, num_cols] = scaler.fit_transform(X_train[num_cols])\n",
        "      X_test.loc[:, num_cols] = scaler.transform(X_test[num_cols])\n",
        "\n",
        "    return X_train, y_train, X_test, y_test\n"
      ]
    },
    {
      "cell_type": "code",
      "source": [
        "X_train, y_train, X_test, y_test = tweaking(df, cross=False)\n",
        "\n",
        "bm = DummyClassifier()\n",
        "bm.fit(X_train, y_train)\n",
        "y_pred = bm.predict(X_test)\n",
        "acc = bm.score(X_test, y_test)"
      ],
      "metadata": {
        "id": "5i24raWWgAQq"
      },
      "execution_count": 5,
      "outputs": []
    },
    {
      "cell_type": "code",
      "source": [
        "acc.round(3)"
      ],
      "metadata": {
        "colab": {
          "base_uri": "https://localhost:8080/"
        },
        "id": "j_oD7Hx3hlCx",
        "outputId": "c231a2b8-8e3c-4096-cd1e-d9530d5a76ed"
      },
      "execution_count": 6,
      "outputs": [
        {
          "output_type": "execute_result",
          "data": {
            "text/plain": [
              "0.57"
            ]
          },
          "metadata": {},
          "execution_count": 6
        }
      ]
    },
    {
      "cell_type": "code",
      "source": [
        "metrics.precision_score(y_test, y_pred)"
      ],
      "metadata": {
        "colab": {
          "base_uri": "https://localhost:8080/"
        },
        "id": "5WTGM1J4jYyR",
        "outputId": "e4dc8a7d-269b-4847-991f-3c7827fdff93"
      },
      "execution_count": 7,
      "outputs": [
        {
          "output_type": "stream",
          "name": "stderr",
          "text": [
            "/usr/local/lib/python3.7/dist-packages/sklearn/metrics/_classification.py:1318: UndefinedMetricWarning: Precision is ill-defined and being set to 0.0 due to no predicted samples. Use `zero_division` parameter to control this behavior.\n",
            "  _warn_prf(average, modifier, msg_start, len(result))\n"
          ]
        },
        {
          "output_type": "execute_result",
          "data": {
            "text/plain": [
              "0.0"
            ]
          },
          "metadata": {},
          "execution_count": 7
        }
      ]
    },
    {
      "cell_type": "code",
      "source": [
        "metrics.recall_score(y_test, y_pred)"
      ],
      "metadata": {
        "colab": {
          "base_uri": "https://localhost:8080/"
        },
        "id": "KnjoBmAGjlGT",
        "outputId": "ba6b98c5-c39f-4f43-913f-5cb63f01afef"
      },
      "execution_count": 8,
      "outputs": [
        {
          "output_type": "execute_result",
          "data": {
            "text/plain": [
              "0.0"
            ]
          },
          "metadata": {},
          "execution_count": 8
        }
      ]
    },
    {
      "cell_type": "markdown",
      "source": [
        "# Various Family"
      ],
      "metadata": {
        "id": "qCOw97M56MN6"
      }
    },
    {
      "cell_type": "code",
      "source": [
        "from sklearn.dummy import DummyClassifier\n",
        "from sklearn.linear_model import LogisticRegression\n",
        "from sklearn.tree import DecisionTreeClassifier\n",
        "from sklearn.neighbors import KNeighborsClassifier\n",
        "from sklearn.naive_bayes import GaussianNB\n",
        "from sklearn.ensemble import (\n",
        "    RandomForestClassifier,\n",
        "    HistGradientBoostingClassifier,\n",
        ")\n",
        "import xgboost\n",
        "\n",
        "models = [\n",
        "    DummyClassifier,\n",
        "    LogisticRegression, \n",
        "    DecisionTreeClassifier,\n",
        "    KNeighborsClassifier,\n",
        "    GaussianNB,\n",
        "    RandomForestClassifier,\n",
        "    HistGradientBoostingClassifier,\n",
        "    xgboost.XGBClassifier,\n",
        "]\n",
        "\n",
        "names = []\n",
        "results = []\n",
        "for cls in models:\n",
        "  estimator = tweaking(df, model=cls(), cross=True)\n",
        "\n",
        "  for idx, itm in enumerate(estimator.get_params().keys()):\n",
        "    if idx == 4:\n",
        "      names.append(itm)\n",
        "\n",
        "  kfold = model_selection.KFold(\n",
        "      n_splits=10,\n",
        "      shuffle=True,\n",
        "      random_state=42,\n",
        "  )\n",
        "\n",
        "  cv_results = model_selection.cross_validate(\n",
        "      estimator,\n",
        "      X,\n",
        "      y,\n",
        "      cv=kfold,\n",
        "      scoring='roc_auc',\n",
        "      n_jobs=-1,\n",
        "  )\n",
        "  results.append((cv_results['test_score'].mean(), cv_results['test_score'].std()))\n",
        "# cv_results = pd.DataFrame(cv_results)\n",
        "for n, res in zip(names, results):\n",
        "  print(f\"{n:22} AUC: \"\n",
        "          f\"{res[0].mean():.3f} STD: {res[1].std():.2f}\"\n",
        "      )\n"
      ],
      "metadata": {
        "colab": {
          "base_uri": "https://localhost:8080/"
        },
        "id": "ST1SBmH6jo85",
        "outputId": "d7554d0d-6ec1-4b36-e6c1-ba480e6c994d"
      },
      "execution_count": 9,
      "outputs": [
        {
          "output_type": "stream",
          "name": "stdout",
          "text": [
            "dummyclassifier        AUC: 0.500 STD: 0.00\n",
            "logisticregression     AUC: 0.843 STD: 0.00\n",
            "decisiontreeclassifier AUC: 0.760 STD: 0.00\n",
            "kneighborsclassifier   AUC: 0.837 STD: 0.00\n",
            "gaussiannb             AUC: 0.821 STD: 0.00\n",
            "randomforestclassifier AUC: 0.848 STD: 0.00\n",
            "histgradientboostingclassifier AUC: 0.860 STD: 0.00\n",
            "xgbclassifier          AUC: 0.864 STD: 0.00\n"
          ]
        }
      ]
    },
    {
      "cell_type": "markdown",
      "source": [
        "# Stacking"
      ],
      "metadata": {
        "id": "KmL7yTwkrQo5"
      }
    },
    {
      "cell_type": "code",
      "source": [
        "!pip install mlxtend --upgrade --quiet"
      ],
      "metadata": {
        "id": "gnm8PmhDAdR1"
      },
      "execution_count": 10,
      "outputs": []
    },
    {
      "cell_type": "code",
      "source": [
        "from mlxtend.classifier import StackingClassifier\n",
        "\n",
        "X = pd.concat([X_train, X_test])\n",
        "y = pd.concat([y_train, y_test])\n",
        "\n",
        "clfs = [model() for model in models]\n",
        "\n",
        "stack = StackingClassifier(\n",
        "    classifiers = clfs,\n",
        "    meta_classifier=LogisticRegression(),\n",
        ")\n",
        "\n",
        "kfold = model_selection.KFold(n_splits=10, shuffle=True, random_state=42)\n",
        "score = model_selection.cross_validate(\n",
        "    stack,\n",
        "    X,\n",
        "    y,\n",
        "    scoring='roc_auc',\n",
        "    cv=kfold,\n",
        "    n_jobs=-1\n",
        ")\n",
        "\n",
        "print(f'{stack.__class__.__name__}  '\n",
        "      f\"AUC: {score['test_score'].mean(): .3f} STD: {score['test_score'].std():.2f}\"\n",
        ")\n"
      ],
      "metadata": {
        "colab": {
          "base_uri": "https://localhost:8080/"
        },
        "id": "kwASFAA3sfeN",
        "outputId": "be9c4f7a-0151-4822-e292-c187a7934e50"
      },
      "execution_count": 11,
      "outputs": [
        {
          "output_type": "stream",
          "name": "stdout",
          "text": [
            "StackingClassifier  AUC:  0.789 STD: 0.03\n"
          ]
        }
      ]
    },
    {
      "cell_type": "markdown",
      "source": [
        "# Create Model"
      ],
      "metadata": {
        "id": "Aos5yORw1IbH"
      }
    },
    {
      "cell_type": "code",
      "source": [
        "rf = RandomForestClassifier(n_estimators=100, random_state=42)\n",
        "rf.fit(X_train, y_train)"
      ],
      "metadata": {
        "colab": {
          "base_uri": "https://localhost:8080/"
        },
        "id": "Ig_vFZdD0nTZ",
        "outputId": "8664fc8d-01a2-45df-837a-e085c39e75f2"
      },
      "execution_count": 16,
      "outputs": [
        {
          "output_type": "execute_result",
          "data": {
            "text/plain": [
              "RandomForestClassifier(random_state=42)"
            ]
          },
          "metadata": {},
          "execution_count": 16
        }
      ]
    },
    {
      "cell_type": "markdown",
      "source": [
        "# Evaluate Model"
      ],
      "metadata": {
        "id": "xlIc1LYn1fC8"
      }
    },
    {
      "cell_type": "code",
      "source": [
        "y_pred = rf.predict(X_test)"
      ],
      "metadata": {
        "id": "IMW8BuJX2cJJ"
      },
      "execution_count": 18,
      "outputs": []
    },
    {
      "cell_type": "code",
      "source": [
        "rf.score(X_test, y_test)"
      ],
      "metadata": {
        "colab": {
          "base_uri": "https://localhost:8080/"
        },
        "id": "yBsLIij618vp",
        "outputId": "e437434f-88d9-46d2-a642-151930003065"
      },
      "execution_count": 17,
      "outputs": [
        {
          "output_type": "execute_result",
          "data": {
            "text/plain": [
              "0.7837150127226463"
            ]
          },
          "metadata": {},
          "execution_count": 17
        }
      ]
    },
    {
      "cell_type": "code",
      "source": [
        "metrics.recall_score(y_test, y_pred)"
      ],
      "metadata": {
        "colab": {
          "base_uri": "https://localhost:8080/"
        },
        "id": "L1tyYv9g2Q85",
        "outputId": "786bfb40-4dfa-40e1-9875-c8e71cad9a0d"
      },
      "execution_count": 19,
      "outputs": [
        {
          "output_type": "execute_result",
          "data": {
            "text/plain": [
              "0.6745562130177515"
            ]
          },
          "metadata": {},
          "execution_count": 19
        }
      ]
    },
    {
      "cell_type": "code",
      "source": [
        "metrics.precision_score(y_test, y_pred)"
      ],
      "metadata": {
        "colab": {
          "base_uri": "https://localhost:8080/"
        },
        "id": "WUeLjLK12mUM",
        "outputId": "8e20be1b-2e74-4fea-e0c7-b8849cda62d4"
      },
      "execution_count": 20,
      "outputs": [
        {
          "output_type": "execute_result",
          "data": {
            "text/plain": [
              "0.7916666666666666"
            ]
          },
          "metadata": {},
          "execution_count": 20
        }
      ]
    },
    {
      "cell_type": "code",
      "source": [
        "# Features importance\n",
        "\n",
        "for col, val in sorted(\n",
        "    zip(X_train.columns, rf.feature_importances_), \n",
        "    key=lambda x: x[-1],\n",
        "    reverse=True\n",
        ")[:]:\n",
        "  print(f'{col:10}{val:10.3f}')"
      ],
      "metadata": {
        "colab": {
          "base_uri": "https://localhost:8080/"
        },
        "id": "IlXfFOEA2sAu",
        "outputId": "8f76149d-e69c-4428-9f2d-99fc8bca6d75"
      },
      "execution_count": 21,
      "outputs": [
        {
          "output_type": "stream",
          "name": "stdout",
          "text": [
            "age            0.285\n",
            "fare           0.262\n",
            "sex_male       0.241\n",
            "pclass         0.089\n",
            "sibsp          0.050\n",
            "parch          0.039\n",
            "embarked_S     0.024\n",
            "embarked_Q     0.009\n"
          ]
        }
      ]
    },
    {
      "cell_type": "code",
      "source": [],
      "metadata": {
        "id": "7zi_DVTa4HUD"
      },
      "execution_count": null,
      "outputs": []
    }
  ]
}