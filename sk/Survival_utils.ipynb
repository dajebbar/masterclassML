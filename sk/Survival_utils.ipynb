{
  "nbformat": 4,
  "nbformat_minor": 0,
  "metadata": {
    "colab": {
      "provenance": []
    },
    "kernelspec": {
      "name": "python3",
      "display_name": "Python 3"
    },
    "language_info": {
      "name": "python"
    }
  },
  "cells": [
    {
      "cell_type": "markdown",
      "source": [
        "# Various Families"
      ],
      "metadata": {
        "id": "WRmljnR-qna5"
      }
    },
    {
      "cell_type": "code",
      "source": [
        "!pip install yellowbrick --quiet"
      ],
      "metadata": {
        "id": "dhWdJaqZcYoq"
      },
      "execution_count": 1,
      "outputs": []
    },
    {
      "cell_type": "code",
      "source": [
        "import pandas as pd\n",
        "import numpy as np\n",
        "import matplotlib.pyplot as plt\n",
        "import sklearn"
      ],
      "metadata": {
        "id": "4UUzWouicC1q"
      },
      "execution_count": 2,
      "outputs": []
    },
    {
      "cell_type": "code",
      "source": [
        "df = pd.read_csv('titanic.csv')\n",
        "df.sample(n=5)"
      ],
      "metadata": {
        "colab": {
          "base_uri": "https://localhost:8080/",
          "height": 285
        },
        "id": "JqJpu39bcDgu",
        "outputId": "c2bab930-d8bf-4838-bdde-c752143e7258"
      },
      "execution_count": 3,
      "outputs": [
        {
          "output_type": "execute_result",
          "data": {
            "text/plain": [
              "      pclass  survived                                        name     sex  \\\n",
              "801        3         0                            Flynn, Mr. James    male   \n",
              "467        2         1         Kantor, Mrs. Sinai (Miriam Sternin)  female   \n",
              "1217       3         0  Soholt, Mr. Peter Andreas Lauritz Andersen    male   \n",
              "1269       3         0            Vande Velde, Mr. Johannes Joseph    male   \n",
              "294        1         0                    Thayer, Mr. John Borland    male   \n",
              "\n",
              "       age  sibsp  parch  ticket      fare  cabin embarked boat  body  \\\n",
              "801    NaN      0      0  364851    7.7500    NaN        Q  NaN   NaN   \n",
              "467   24.0      1      0  244367   26.0000    NaN        S   12   NaN   \n",
              "1217  19.0      0      0  348124    7.6500  F G73        S  NaN   NaN   \n",
              "1269  33.0      0      0  345780    9.5000    NaN        S  NaN   NaN   \n",
              "294   49.0      1      1   17421  110.8833    C68        C  NaN   NaN   \n",
              "\n",
              "               home.dest  \n",
              "801                  NaN  \n",
              "467   Moscow / Bronx, NY  \n",
              "1217                 NaN  \n",
              "1269                 NaN  \n",
              "294        Haverford, PA  "
            ],
            "text/html": [
              "\n",
              "  <div id=\"df-cce52ddf-48af-43b6-8e00-4c65e61b953b\">\n",
              "    <div class=\"colab-df-container\">\n",
              "      <div>\n",
              "<style scoped>\n",
              "    .dataframe tbody tr th:only-of-type {\n",
              "        vertical-align: middle;\n",
              "    }\n",
              "\n",
              "    .dataframe tbody tr th {\n",
              "        vertical-align: top;\n",
              "    }\n",
              "\n",
              "    .dataframe thead th {\n",
              "        text-align: right;\n",
              "    }\n",
              "</style>\n",
              "<table border=\"1\" class=\"dataframe\">\n",
              "  <thead>\n",
              "    <tr style=\"text-align: right;\">\n",
              "      <th></th>\n",
              "      <th>pclass</th>\n",
              "      <th>survived</th>\n",
              "      <th>name</th>\n",
              "      <th>sex</th>\n",
              "      <th>age</th>\n",
              "      <th>sibsp</th>\n",
              "      <th>parch</th>\n",
              "      <th>ticket</th>\n",
              "      <th>fare</th>\n",
              "      <th>cabin</th>\n",
              "      <th>embarked</th>\n",
              "      <th>boat</th>\n",
              "      <th>body</th>\n",
              "      <th>home.dest</th>\n",
              "    </tr>\n",
              "  </thead>\n",
              "  <tbody>\n",
              "    <tr>\n",
              "      <th>801</th>\n",
              "      <td>3</td>\n",
              "      <td>0</td>\n",
              "      <td>Flynn, Mr. James</td>\n",
              "      <td>male</td>\n",
              "      <td>NaN</td>\n",
              "      <td>0</td>\n",
              "      <td>0</td>\n",
              "      <td>364851</td>\n",
              "      <td>7.7500</td>\n",
              "      <td>NaN</td>\n",
              "      <td>Q</td>\n",
              "      <td>NaN</td>\n",
              "      <td>NaN</td>\n",
              "      <td>NaN</td>\n",
              "    </tr>\n",
              "    <tr>\n",
              "      <th>467</th>\n",
              "      <td>2</td>\n",
              "      <td>1</td>\n",
              "      <td>Kantor, Mrs. Sinai (Miriam Sternin)</td>\n",
              "      <td>female</td>\n",
              "      <td>24.0</td>\n",
              "      <td>1</td>\n",
              "      <td>0</td>\n",
              "      <td>244367</td>\n",
              "      <td>26.0000</td>\n",
              "      <td>NaN</td>\n",
              "      <td>S</td>\n",
              "      <td>12</td>\n",
              "      <td>NaN</td>\n",
              "      <td>Moscow / Bronx, NY</td>\n",
              "    </tr>\n",
              "    <tr>\n",
              "      <th>1217</th>\n",
              "      <td>3</td>\n",
              "      <td>0</td>\n",
              "      <td>Soholt, Mr. Peter Andreas Lauritz Andersen</td>\n",
              "      <td>male</td>\n",
              "      <td>19.0</td>\n",
              "      <td>0</td>\n",
              "      <td>0</td>\n",
              "      <td>348124</td>\n",
              "      <td>7.6500</td>\n",
              "      <td>F G73</td>\n",
              "      <td>S</td>\n",
              "      <td>NaN</td>\n",
              "      <td>NaN</td>\n",
              "      <td>NaN</td>\n",
              "    </tr>\n",
              "    <tr>\n",
              "      <th>1269</th>\n",
              "      <td>3</td>\n",
              "      <td>0</td>\n",
              "      <td>Vande Velde, Mr. Johannes Joseph</td>\n",
              "      <td>male</td>\n",
              "      <td>33.0</td>\n",
              "      <td>0</td>\n",
              "      <td>0</td>\n",
              "      <td>345780</td>\n",
              "      <td>9.5000</td>\n",
              "      <td>NaN</td>\n",
              "      <td>S</td>\n",
              "      <td>NaN</td>\n",
              "      <td>NaN</td>\n",
              "      <td>NaN</td>\n",
              "    </tr>\n",
              "    <tr>\n",
              "      <th>294</th>\n",
              "      <td>1</td>\n",
              "      <td>0</td>\n",
              "      <td>Thayer, Mr. John Borland</td>\n",
              "      <td>male</td>\n",
              "      <td>49.0</td>\n",
              "      <td>1</td>\n",
              "      <td>1</td>\n",
              "      <td>17421</td>\n",
              "      <td>110.8833</td>\n",
              "      <td>C68</td>\n",
              "      <td>C</td>\n",
              "      <td>NaN</td>\n",
              "      <td>NaN</td>\n",
              "      <td>Haverford, PA</td>\n",
              "    </tr>\n",
              "  </tbody>\n",
              "</table>\n",
              "</div>\n",
              "      <button class=\"colab-df-convert\" onclick=\"convertToInteractive('df-cce52ddf-48af-43b6-8e00-4c65e61b953b')\"\n",
              "              title=\"Convert this dataframe to an interactive table.\"\n",
              "              style=\"display:none;\">\n",
              "        \n",
              "  <svg xmlns=\"http://www.w3.org/2000/svg\" height=\"24px\"viewBox=\"0 0 24 24\"\n",
              "       width=\"24px\">\n",
              "    <path d=\"M0 0h24v24H0V0z\" fill=\"none\"/>\n",
              "    <path d=\"M18.56 5.44l.94 2.06.94-2.06 2.06-.94-2.06-.94-.94-2.06-.94 2.06-2.06.94zm-11 1L8.5 8.5l.94-2.06 2.06-.94-2.06-.94L8.5 2.5l-.94 2.06-2.06.94zm10 10l.94 2.06.94-2.06 2.06-.94-2.06-.94-.94-2.06-.94 2.06-2.06.94z\"/><path d=\"M17.41 7.96l-1.37-1.37c-.4-.4-.92-.59-1.43-.59-.52 0-1.04.2-1.43.59L10.3 9.45l-7.72 7.72c-.78.78-.78 2.05 0 2.83L4 21.41c.39.39.9.59 1.41.59.51 0 1.02-.2 1.41-.59l7.78-7.78 2.81-2.81c.8-.78.8-2.07 0-2.86zM5.41 20L4 18.59l7.72-7.72 1.47 1.35L5.41 20z\"/>\n",
              "  </svg>\n",
              "      </button>\n",
              "      \n",
              "  <style>\n",
              "    .colab-df-container {\n",
              "      display:flex;\n",
              "      flex-wrap:wrap;\n",
              "      gap: 12px;\n",
              "    }\n",
              "\n",
              "    .colab-df-convert {\n",
              "      background-color: #E8F0FE;\n",
              "      border: none;\n",
              "      border-radius: 50%;\n",
              "      cursor: pointer;\n",
              "      display: none;\n",
              "      fill: #1967D2;\n",
              "      height: 32px;\n",
              "      padding: 0 0 0 0;\n",
              "      width: 32px;\n",
              "    }\n",
              "\n",
              "    .colab-df-convert:hover {\n",
              "      background-color: #E2EBFA;\n",
              "      box-shadow: 0px 1px 2px rgba(60, 64, 67, 0.3), 0px 1px 3px 1px rgba(60, 64, 67, 0.15);\n",
              "      fill: #174EA6;\n",
              "    }\n",
              "\n",
              "    [theme=dark] .colab-df-convert {\n",
              "      background-color: #3B4455;\n",
              "      fill: #D2E3FC;\n",
              "    }\n",
              "\n",
              "    [theme=dark] .colab-df-convert:hover {\n",
              "      background-color: #434B5C;\n",
              "      box-shadow: 0px 1px 3px 1px rgba(0, 0, 0, 0.15);\n",
              "      filter: drop-shadow(0px 1px 2px rgba(0, 0, 0, 0.3));\n",
              "      fill: #FFFFFF;\n",
              "    }\n",
              "  </style>\n",
              "\n",
              "      <script>\n",
              "        const buttonEl =\n",
              "          document.querySelector('#df-cce52ddf-48af-43b6-8e00-4c65e61b953b button.colab-df-convert');\n",
              "        buttonEl.style.display =\n",
              "          google.colab.kernel.accessAllowed ? 'block' : 'none';\n",
              "\n",
              "        async function convertToInteractive(key) {\n",
              "          const element = document.querySelector('#df-cce52ddf-48af-43b6-8e00-4c65e61b953b');\n",
              "          const dataTable =\n",
              "            await google.colab.kernel.invokeFunction('convertToInteractive',\n",
              "                                                     [key], {});\n",
              "          if (!dataTable) return;\n",
              "\n",
              "          const docLinkHtml = 'Like what you see? Visit the ' +\n",
              "            '<a target=\"_blank\" href=https://colab.research.google.com/notebooks/data_table.ipynb>data table notebook</a>'\n",
              "            + ' to learn more about interactive tables.';\n",
              "          element.innerHTML = '';\n",
              "          dataTable['output_type'] = 'display_data';\n",
              "          await google.colab.output.renderOutput(dataTable, element);\n",
              "          const docLink = document.createElement('div');\n",
              "          docLink.innerHTML = docLinkHtml;\n",
              "          element.appendChild(docLink);\n",
              "        }\n",
              "      </script>\n",
              "    </div>\n",
              "  </div>\n",
              "  "
            ]
          },
          "metadata": {},
          "execution_count": 3
        }
      ]
    },
    {
      "cell_type": "code",
      "execution_count": 4,
      "metadata": {
        "id": "Q1NLyoTubpaa"
      },
      "outputs": [],
      "source": [
        "from sklearn import (\n",
        "    metrics,\n",
        "    model_selection,\n",
        ")\n",
        "from sklearn.experimental import enable_iterative_imputer\n",
        "from sklearn import impute\n",
        "from sklearn.compose import make_column_selector as selector\n",
        "from sklearn.pipeline import Pipeline, make_pipeline\n",
        "from sklearn.preprocessing import (\n",
        "    StandardScaler, OneHotEncoder, OrdinalEncoder\n",
        ")\n",
        "from sklearn.compose import ColumnTransformer\n",
        "from sklearn.dummy import DummyClassifier\n",
        "\n",
        "# diferentiate features matrix (X) and label target (y)\n",
        "df = df.drop(columns=['name', 'ticket', 'home.dest', 'boat', 'body'])\n",
        "X, y = df.drop(columns=['survived']), df['survived']\n",
        "\n",
        "def tweaking(df, norm=True, hot=True, model=DummyClassifier(), cross=True):\n",
        "  \n",
        "  # spliting samples on train and test samples\n",
        "  X_train, X_test, y_train, y_test = model_selection.train_test_split(\n",
        "      X,\n",
        "      y,\n",
        "      test_size=.3,\n",
        "      random_state= 42\n",
        "  )\n",
        "  # separate numerical and categorical features\n",
        "  numerical = selector(dtype_include=np.number)(X)\n",
        "  categorical = selector(dtype_include=object)(X)\n",
        "\n",
        "  # Preprocessing features\n",
        "\n",
        "  # numerical features: imputing and scaling\n",
        "  imputer = impute.IterativeImputer()\n",
        "  scaler = StandardScaler()\n",
        "\n",
        "  if norm:\n",
        "    num_preprocessor = Pipeline([\n",
        "        ('imputer', imputer),\n",
        "        ('scaler', scaler)\n",
        "    ])\n",
        "  else:\n",
        "    num_preprocessor = Pipeline([\n",
        "        ('imputer', imputer),\n",
        "    ])\n",
        "\n",
        "  # categorical features\n",
        "  one_hot_preprocessor = OneHotEncoder(handle_unknown='ignore', sparse=False)\n",
        "  ordinal_preprocessor = OrdinalEncoder(\n",
        "      handle_unknown='use_encoded_value', \n",
        "      unknown_value=-1\n",
        "  )\n",
        "\n",
        "  if cross:\n",
        "  \n",
        "    if hot:\n",
        "      preprocessor = ColumnTransformer([\n",
        "          ('num', num_preprocessor, numerical),\n",
        "          ('cat_onehot', one_hot_preprocessor, categorical)\n",
        "      ])\n",
        "    \n",
        "    else:\n",
        "      preprocessor = ColumnTransformer([\n",
        "        ('num', num_preprocessor, numerical),\n",
        "        ('cat_ordinal', ordinal_preprocessor, categorical)\n",
        "    ])\n",
        "    \n",
        "    estimator = make_pipeline(preprocessor, model)\n",
        "    return estimator\n",
        "  \n",
        "  else:\n",
        "    X_train = pd.get_dummies(X_train, drop_first=True)\n",
        "    X_test = pd.get_dummies(X_test, drop_first=True)\n",
        "\n",
        "    num_cols = ['pclass', 'age', 'sibsp', 'parch', 'fare']\n",
        "\n",
        "    X_train.loc[:, num_cols] = imputer.fit_transform(X_train[num_cols])\n",
        "    X_test.loc[:, num_cols] = imputer.transform(X_test[num_cols])\n",
        "\n",
        "    if norm:\n",
        "      X_train.loc[:, num_cols] = scaler.fit_transform(X_train[num_cols])\n",
        "      X_test.loc[:, num_cols] = scaler.transform(X_test[num_cols])\n",
        "\n",
        "    return X_train, y_train, X_test, y_test"
      ]
    },
    {
      "cell_type": "code",
      "source": [
        "X_train, y_train, X_test, y_test = tweaking(df, cross=False)\n",
        "\n",
        "bm = DummyClassifier()\n",
        "bm.fit(X_train, y_train)\n",
        "y_pred = bm.predict(X_test)\n",
        "acc = bm.score(X_test, y_test)"
      ],
      "metadata": {
        "id": "5i24raWWgAQq"
      },
      "execution_count": 5,
      "outputs": []
    },
    {
      "cell_type": "code",
      "source": [
        "acc.round(3)"
      ],
      "metadata": {
        "colab": {
          "base_uri": "https://localhost:8080/"
        },
        "id": "j_oD7Hx3hlCx",
        "outputId": "8745bd8f-bb8d-4d7d-ab0c-c5a293dbb356"
      },
      "execution_count": 6,
      "outputs": [
        {
          "output_type": "execute_result",
          "data": {
            "text/plain": [
              "0.57"
            ]
          },
          "metadata": {},
          "execution_count": 6
        }
      ]
    },
    {
      "cell_type": "code",
      "source": [
        "metrics.precision_score(y_test, y_pred)"
      ],
      "metadata": {
        "colab": {
          "base_uri": "https://localhost:8080/"
        },
        "id": "5WTGM1J4jYyR",
        "outputId": "039c9e5d-92a7-4a37-b336-4b66cc959d43"
      },
      "execution_count": 7,
      "outputs": [
        {
          "output_type": "stream",
          "name": "stderr",
          "text": [
            "/usr/local/lib/python3.7/dist-packages/sklearn/metrics/_classification.py:1318: UndefinedMetricWarning: Precision is ill-defined and being set to 0.0 due to no predicted samples. Use `zero_division` parameter to control this behavior.\n",
            "  _warn_prf(average, modifier, msg_start, len(result))\n"
          ]
        },
        {
          "output_type": "execute_result",
          "data": {
            "text/plain": [
              "0.0"
            ]
          },
          "metadata": {},
          "execution_count": 7
        }
      ]
    },
    {
      "cell_type": "code",
      "source": [
        "metrics.recall_score(y_test, y_pred)"
      ],
      "metadata": {
        "colab": {
          "base_uri": "https://localhost:8080/"
        },
        "id": "KnjoBmAGjlGT",
        "outputId": "9b989e2f-8d2d-4915-a518-400e4e6d4b14"
      },
      "execution_count": 8,
      "outputs": [
        {
          "output_type": "execute_result",
          "data": {
            "text/plain": [
              "0.0"
            ]
          },
          "metadata": {},
          "execution_count": 8
        }
      ]
    },
    {
      "cell_type": "markdown",
      "source": [
        "# Various Family"
      ],
      "metadata": {
        "id": "qCOw97M56MN6"
      }
    },
    {
      "cell_type": "code",
      "source": [
        "from sklearn.linear_model import LinearRegression\n",
        "from sklearn.tree import DecisionTreeClassifier\n",
        "from sklearn.neighbors import KNeighborsClassifier\n",
        "from sklearn.naive_bayes import GaussianNB\n",
        "from sklearn.ensemble import (\n",
        "    RandomForestClassifier,\n",
        "    HistGradientBoostingClassifier,\n",
        ")\n",
        "import xgboost\n",
        "\n",
        "models = [\n",
        "    LinearRegression, \n",
        "    DecisionTreeClassifier,\n",
        "    KNeighborsClassifier,\n",
        "    GaussianNB,\n",
        "    RandomForestClassifier,\n",
        "    HistGradientBoostingClassifier,\n",
        "    xgboost.XGBClassifier,\n",
        "]\n",
        "\n",
        "names = []\n",
        "results = []\n",
        "for cls in models:\n",
        "  estimator = tweaking(df, model=cls(), cross=True)\n",
        "\n",
        "  for idx, itm in enumerate(estimator.get_params().keys()):\n",
        "    if idx == 4:\n",
        "      names.append(itm)\n",
        "\n",
        "  kfold = model_selection.KFold(\n",
        "      n_splits=10,\n",
        "      shuffle=True,\n",
        "      random_state=42,\n",
        "  )\n",
        "\n",
        "  cv_results = model_selection.cross_validate(\n",
        "      estimator,\n",
        "      X,\n",
        "      y,\n",
        "      cv=kfold,\n",
        "      scoring='roc_auc',\n",
        "      n_jobs=-1,\n",
        "  )\n",
        "  results.append((cv_results['test_score'].mean(), cv_results['test_score'].std()))\n",
        "# cv_results = pd.DataFrame(cv_results)\n",
        "for n, res in zip(names, results):\n",
        "  print(f\"{n:22} AUC: \"\n",
        "          f\"{res[0].mean():.3f} STD: {res[1].std():.2f}\"\n",
        "      )\n"
      ],
      "metadata": {
        "colab": {
          "base_uri": "https://localhost:8080/"
        },
        "id": "ST1SBmH6jo85",
        "outputId": "73db09ea-6a21-4e6c-8c8a-bc71859452dc"
      },
      "execution_count": 9,
      "outputs": [
        {
          "output_type": "stream",
          "name": "stdout",
          "text": [
            "linearregression       AUC: 0.772 STD: 0.00\n",
            "decisiontreeclassifier AUC: 0.768 STD: 0.00\n",
            "kneighborsclassifier   AUC: 0.834 STD: 0.00\n",
            "gaussiannb             AUC: 0.775 STD: 0.00\n",
            "randomforestclassifier AUC: 0.854 STD: 0.00\n",
            "histgradientboostingclassifier AUC: 0.859 STD: 0.00\n",
            "xgbclassifier          AUC: 0.863 STD: 0.00\n"
          ]
        }
      ]
    },
    {
      "cell_type": "code",
      "source": [],
      "metadata": {
        "id": "gnm8PmhDAdR1"
      },
      "execution_count": 9,
      "outputs": []
    }
  ]
}