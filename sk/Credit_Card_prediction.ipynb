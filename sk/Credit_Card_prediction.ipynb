{
  "nbformat": 4,
  "nbformat_minor": 0,
  "metadata": {
    "colab": {
      "provenance": []
    },
    "kernelspec": {
      "name": "python3",
      "display_name": "Python 3"
    },
    "language_info": {
      "name": "python"
    }
  },
  "cells": [
    {
      "cell_type": "markdown",
      "source": [
        "# Data Preparation"
      ],
      "metadata": {
        "id": "jRgGjOiRVN6p"
      }
    },
    {
      "cell_type": "code",
      "source": [
        "import pandas as pd\n",
        "import numpy as np\n",
        "import matplotlib.pyplot as plt\n",
        "import seaborn as sns\n",
        "import missingno as msno\n",
        "plt.style.use('ggplot')"
      ],
      "metadata": {
        "id": "Jxzfc3eqVaLO"
      },
      "execution_count": 1,
      "outputs": []
    },
    {
      "cell_type": "code",
      "execution_count": 3,
      "metadata": {
        "id": "8AEP8EkQVCq0"
      },
      "outputs": [],
      "source": [
        "fp = (\n",
        "    'https://raw.githubusercontent.com/alexeygrigorev/'\n",
        "    'datasets/master/AER_credit_card_data.csv'\n",
        ")\n",
        "\n",
        "df = pd.read_csv(fp)"
      ]
    },
    {
      "cell_type": "code",
      "source": [
        "df.sample(n=8)"
      ],
      "metadata": {
        "colab": {
          "base_uri": "https://localhost:8080/",
          "height": 300
        },
        "id": "WTEhDq3TV7GR",
        "outputId": "a4008d33-faad-4bd1-cc28-2190fa8efc54"
      },
      "execution_count": 8,
      "outputs": [
        {
          "output_type": "execute_result",
          "data": {
            "text/plain": [
              "    card  reports       age  income     share  expenditure owner selfemp  \\\n",
              "242  yes        0  53.50000   1.500  0.000800      0.00000   yes      no   \n",
              "130   no        5  31.08333   4.200  0.000286      0.00000    no      no   \n",
              "613  yes        0  21.25000   1.990  0.034963     57.98083    no      no   \n",
              "338  yes        0  45.00000   4.030  0.040915    137.07170    no      no   \n",
              "963  yes        0  38.41667   5.600  0.093484    436.25920   yes      no   \n",
              "857  yes        0  26.08333   2.375  0.142851    282.72580    no     yes   \n",
              "497   no        2  27.50000   1.850  0.000649      0.00000    no      no   \n",
              "858  yes        0  30.16667   2.800  0.164386    383.56670    no      no   \n",
              "\n",
              "     dependents  months  majorcards  active  \n",
              "242           0      57           0       6  \n",
              "130           3      52           0      19  \n",
              "613           2       8           1       5  \n",
              "338           0      72           1       2  \n",
              "963           4     114           0       7  \n",
              "857           1     114           1       1  \n",
              "497           0      24           1      12  \n",
              "858           0      12           1       6  "
            ],
            "text/html": [
              "\n",
              "  <div id=\"df-a8b7b1d3-3773-456b-9993-df168680ea6f\">\n",
              "    <div class=\"colab-df-container\">\n",
              "      <div>\n",
              "<style scoped>\n",
              "    .dataframe tbody tr th:only-of-type {\n",
              "        vertical-align: middle;\n",
              "    }\n",
              "\n",
              "    .dataframe tbody tr th {\n",
              "        vertical-align: top;\n",
              "    }\n",
              "\n",
              "    .dataframe thead th {\n",
              "        text-align: right;\n",
              "    }\n",
              "</style>\n",
              "<table border=\"1\" class=\"dataframe\">\n",
              "  <thead>\n",
              "    <tr style=\"text-align: right;\">\n",
              "      <th></th>\n",
              "      <th>card</th>\n",
              "      <th>reports</th>\n",
              "      <th>age</th>\n",
              "      <th>income</th>\n",
              "      <th>share</th>\n",
              "      <th>expenditure</th>\n",
              "      <th>owner</th>\n",
              "      <th>selfemp</th>\n",
              "      <th>dependents</th>\n",
              "      <th>months</th>\n",
              "      <th>majorcards</th>\n",
              "      <th>active</th>\n",
              "    </tr>\n",
              "  </thead>\n",
              "  <tbody>\n",
              "    <tr>\n",
              "      <th>242</th>\n",
              "      <td>yes</td>\n",
              "      <td>0</td>\n",
              "      <td>53.50000</td>\n",
              "      <td>1.500</td>\n",
              "      <td>0.000800</td>\n",
              "      <td>0.00000</td>\n",
              "      <td>yes</td>\n",
              "      <td>no</td>\n",
              "      <td>0</td>\n",
              "      <td>57</td>\n",
              "      <td>0</td>\n",
              "      <td>6</td>\n",
              "    </tr>\n",
              "    <tr>\n",
              "      <th>130</th>\n",
              "      <td>no</td>\n",
              "      <td>5</td>\n",
              "      <td>31.08333</td>\n",
              "      <td>4.200</td>\n",
              "      <td>0.000286</td>\n",
              "      <td>0.00000</td>\n",
              "      <td>no</td>\n",
              "      <td>no</td>\n",
              "      <td>3</td>\n",
              "      <td>52</td>\n",
              "      <td>0</td>\n",
              "      <td>19</td>\n",
              "    </tr>\n",
              "    <tr>\n",
              "      <th>613</th>\n",
              "      <td>yes</td>\n",
              "      <td>0</td>\n",
              "      <td>21.25000</td>\n",
              "      <td>1.990</td>\n",
              "      <td>0.034963</td>\n",
              "      <td>57.98083</td>\n",
              "      <td>no</td>\n",
              "      <td>no</td>\n",
              "      <td>2</td>\n",
              "      <td>8</td>\n",
              "      <td>1</td>\n",
              "      <td>5</td>\n",
              "    </tr>\n",
              "    <tr>\n",
              "      <th>338</th>\n",
              "      <td>yes</td>\n",
              "      <td>0</td>\n",
              "      <td>45.00000</td>\n",
              "      <td>4.030</td>\n",
              "      <td>0.040915</td>\n",
              "      <td>137.07170</td>\n",
              "      <td>no</td>\n",
              "      <td>no</td>\n",
              "      <td>0</td>\n",
              "      <td>72</td>\n",
              "      <td>1</td>\n",
              "      <td>2</td>\n",
              "    </tr>\n",
              "    <tr>\n",
              "      <th>963</th>\n",
              "      <td>yes</td>\n",
              "      <td>0</td>\n",
              "      <td>38.41667</td>\n",
              "      <td>5.600</td>\n",
              "      <td>0.093484</td>\n",
              "      <td>436.25920</td>\n",
              "      <td>yes</td>\n",
              "      <td>no</td>\n",
              "      <td>4</td>\n",
              "      <td>114</td>\n",
              "      <td>0</td>\n",
              "      <td>7</td>\n",
              "    </tr>\n",
              "    <tr>\n",
              "      <th>857</th>\n",
              "      <td>yes</td>\n",
              "      <td>0</td>\n",
              "      <td>26.08333</td>\n",
              "      <td>2.375</td>\n",
              "      <td>0.142851</td>\n",
              "      <td>282.72580</td>\n",
              "      <td>no</td>\n",
              "      <td>yes</td>\n",
              "      <td>1</td>\n",
              "      <td>114</td>\n",
              "      <td>1</td>\n",
              "      <td>1</td>\n",
              "    </tr>\n",
              "    <tr>\n",
              "      <th>497</th>\n",
              "      <td>no</td>\n",
              "      <td>2</td>\n",
              "      <td>27.50000</td>\n",
              "      <td>1.850</td>\n",
              "      <td>0.000649</td>\n",
              "      <td>0.00000</td>\n",
              "      <td>no</td>\n",
              "      <td>no</td>\n",
              "      <td>0</td>\n",
              "      <td>24</td>\n",
              "      <td>1</td>\n",
              "      <td>12</td>\n",
              "    </tr>\n",
              "    <tr>\n",
              "      <th>858</th>\n",
              "      <td>yes</td>\n",
              "      <td>0</td>\n",
              "      <td>30.16667</td>\n",
              "      <td>2.800</td>\n",
              "      <td>0.164386</td>\n",
              "      <td>383.56670</td>\n",
              "      <td>no</td>\n",
              "      <td>no</td>\n",
              "      <td>0</td>\n",
              "      <td>12</td>\n",
              "      <td>1</td>\n",
              "      <td>6</td>\n",
              "    </tr>\n",
              "  </tbody>\n",
              "</table>\n",
              "</div>\n",
              "      <button class=\"colab-df-convert\" onclick=\"convertToInteractive('df-a8b7b1d3-3773-456b-9993-df168680ea6f')\"\n",
              "              title=\"Convert this dataframe to an interactive table.\"\n",
              "              style=\"display:none;\">\n",
              "        \n",
              "  <svg xmlns=\"http://www.w3.org/2000/svg\" height=\"24px\"viewBox=\"0 0 24 24\"\n",
              "       width=\"24px\">\n",
              "    <path d=\"M0 0h24v24H0V0z\" fill=\"none\"/>\n",
              "    <path d=\"M18.56 5.44l.94 2.06.94-2.06 2.06-.94-2.06-.94-.94-2.06-.94 2.06-2.06.94zm-11 1L8.5 8.5l.94-2.06 2.06-.94-2.06-.94L8.5 2.5l-.94 2.06-2.06.94zm10 10l.94 2.06.94-2.06 2.06-.94-2.06-.94-.94-2.06-.94 2.06-2.06.94z\"/><path d=\"M17.41 7.96l-1.37-1.37c-.4-.4-.92-.59-1.43-.59-.52 0-1.04.2-1.43.59L10.3 9.45l-7.72 7.72c-.78.78-.78 2.05 0 2.83L4 21.41c.39.39.9.59 1.41.59.51 0 1.02-.2 1.41-.59l7.78-7.78 2.81-2.81c.8-.78.8-2.07 0-2.86zM5.41 20L4 18.59l7.72-7.72 1.47 1.35L5.41 20z\"/>\n",
              "  </svg>\n",
              "      </button>\n",
              "      \n",
              "  <style>\n",
              "    .colab-df-container {\n",
              "      display:flex;\n",
              "      flex-wrap:wrap;\n",
              "      gap: 12px;\n",
              "    }\n",
              "\n",
              "    .colab-df-convert {\n",
              "      background-color: #E8F0FE;\n",
              "      border: none;\n",
              "      border-radius: 50%;\n",
              "      cursor: pointer;\n",
              "      display: none;\n",
              "      fill: #1967D2;\n",
              "      height: 32px;\n",
              "      padding: 0 0 0 0;\n",
              "      width: 32px;\n",
              "    }\n",
              "\n",
              "    .colab-df-convert:hover {\n",
              "      background-color: #E2EBFA;\n",
              "      box-shadow: 0px 1px 2px rgba(60, 64, 67, 0.3), 0px 1px 3px 1px rgba(60, 64, 67, 0.15);\n",
              "      fill: #174EA6;\n",
              "    }\n",
              "\n",
              "    [theme=dark] .colab-df-convert {\n",
              "      background-color: #3B4455;\n",
              "      fill: #D2E3FC;\n",
              "    }\n",
              "\n",
              "    [theme=dark] .colab-df-convert:hover {\n",
              "      background-color: #434B5C;\n",
              "      box-shadow: 0px 1px 3px 1px rgba(0, 0, 0, 0.15);\n",
              "      filter: drop-shadow(0px 1px 2px rgba(0, 0, 0, 0.3));\n",
              "      fill: #FFFFFF;\n",
              "    }\n",
              "  </style>\n",
              "\n",
              "      <script>\n",
              "        const buttonEl =\n",
              "          document.querySelector('#df-a8b7b1d3-3773-456b-9993-df168680ea6f button.colab-df-convert');\n",
              "        buttonEl.style.display =\n",
              "          google.colab.kernel.accessAllowed ? 'block' : 'none';\n",
              "\n",
              "        async function convertToInteractive(key) {\n",
              "          const element = document.querySelector('#df-a8b7b1d3-3773-456b-9993-df168680ea6f');\n",
              "          const dataTable =\n",
              "            await google.colab.kernel.invokeFunction('convertToInteractive',\n",
              "                                                     [key], {});\n",
              "          if (!dataTable) return;\n",
              "\n",
              "          const docLinkHtml = 'Like what you see? Visit the ' +\n",
              "            '<a target=\"_blank\" href=https://colab.research.google.com/notebooks/data_table.ipynb>data table notebook</a>'\n",
              "            + ' to learn more about interactive tables.';\n",
              "          element.innerHTML = '';\n",
              "          dataTable['output_type'] = 'display_data';\n",
              "          await google.colab.output.renderOutput(dataTable, element);\n",
              "          const docLink = document.createElement('div');\n",
              "          docLink.innerHTML = docLinkHtml;\n",
              "          element.appendChild(docLink);\n",
              "        }\n",
              "      </script>\n",
              "    </div>\n",
              "  </div>\n",
              "  "
            ]
          },
          "metadata": {},
          "execution_count": 8
        }
      ]
    },
    {
      "cell_type": "code",
      "source": [
        "df.shape"
      ],
      "metadata": {
        "colab": {
          "base_uri": "https://localhost:8080/"
        },
        "id": "S-pyOTIBaK9n",
        "outputId": "2a40ddd9-b4de-4ecd-d8e0-075d5440884e"
      },
      "execution_count": 17,
      "outputs": [
        {
          "output_type": "execute_result",
          "data": {
            "text/plain": [
              "(1319, 12)"
            ]
          },
          "metadata": {},
          "execution_count": 17
        }
      ]
    },
    {
      "cell_type": "code",
      "source": [
        "msno.matrix(df, figsize=(10, 5));"
      ],
      "metadata": {
        "colab": {
          "base_uri": "https://localhost:8080/",
          "height": 400
        },
        "id": "_Q2LQjVpWGVK",
        "outputId": "2ea059e5-a43d-4f9e-a2c4-1fabad5b9dda"
      },
      "execution_count": 11,
      "outputs": [
        {
          "output_type": "display_data",
          "data": {
            "text/plain": [
              "<Figure size 720x360 with 2 Axes>"
            ],
            "image/png": "[encoded data removed]"
          },
          "metadata": {}
        }
      ]
    },
    {
      "cell_type": "code",
      "source": [
        "df.describe().T"
      ],
      "metadata": {
        "colab": {
          "base_uri": "https://localhost:8080/",
          "height": 332
        },
        "id": "5Qe5CMOBWqGX",
        "outputId": "a9b43795-6030-4b21-9dc3-ae5f31029efa"
      },
      "execution_count": 12,
      "outputs": [
        {
          "output_type": "execute_result",
          "data": {
            "text/plain": [
              "              count        mean         std       min        25%         50%  \\\n",
              "reports      1319.0    0.456406    1.345267  0.000000   0.000000    0.000000   \n",
              "age          1319.0   33.213103   10.142783  0.166667  25.416670   31.250000   \n",
              "income       1319.0    3.365376    1.693902  0.210000   2.243750    2.900000   \n",
              "share        1319.0    0.068732    0.094656  0.000109   0.002316    0.038827   \n",
              "expenditure  1319.0  185.057071  272.218917  0.000000   4.583333  101.298300   \n",
              "dependents   1319.0    0.993935    1.247745  0.000000   0.000000    1.000000   \n",
              "months       1319.0   55.267627   66.271746  0.000000  12.000000   30.000000   \n",
              "majorcards   1319.0    0.817286    0.386579  0.000000   1.000000    1.000000   \n",
              "active       1319.0    6.996967    6.305812  0.000000   2.000000    6.000000   \n",
              "\n",
              "                    75%         max  \n",
              "reports        0.000000    14.00000  \n",
              "age           39.416670    83.50000  \n",
              "income         4.000000    13.50000  \n",
              "share          0.093617     0.90632  \n",
              "expenditure  249.035800  3099.50500  \n",
              "dependents     2.000000     6.00000  \n",
              "months        72.000000   540.00000  \n",
              "majorcards     1.000000     1.00000  \n",
              "active        11.000000    46.00000  "
            ],
            "text/html": [
              "\n",
              "  <div id=\"df-8e433f68-032a-43c7-a6db-ae4aaec43629\">\n",
              "    <div class=\"colab-df-container\">\n",
              "      <div>\n",
              "<style scoped>\n",
              "    .dataframe tbody tr th:only-of-type {\n",
              "        vertical-align: middle;\n",
              "    }\n",
              "\n",
              "    .dataframe tbody tr th {\n",
              "        vertical-align: top;\n",
              "    }\n",
              "\n",
              "    .dataframe thead th {\n",
              "        text-align: right;\n",
              "    }\n",
              "</style>\n",
              "<table border=\"1\" class=\"dataframe\">\n",
              "  <thead>\n",
              "    <tr style=\"text-align: right;\">\n",
              "      <th></th>\n",
              "      <th>count</th>\n",
              "      <th>mean</th>\n",
              "      <th>std</th>\n",
              "      <th>min</th>\n",
              "      <th>25%</th>\n",
              "      <th>50%</th>\n",
              "      <th>75%</th>\n",
              "      <th>max</th>\n",
              "    </tr>\n",
              "  </thead>\n",
              "  <tbody>\n",
              "    <tr>\n",
              "      <th>reports</th>\n",
              "      <td>1319.0</td>\n",
              "      <td>0.456406</td>\n",
              "      <td>1.345267</td>\n",
              "      <td>0.000000</td>\n",
              "      <td>0.000000</td>\n",
              "      <td>0.000000</td>\n",
              "      <td>0.000000</td>\n",
              "      <td>14.00000</td>\n",
              "    </tr>\n",
              "    <tr>\n",
              "      <th>age</th>\n",
              "      <td>1319.0</td>\n",
              "      <td>33.213103</td>\n",
              "      <td>10.142783</td>\n",
              "      <td>0.166667</td>\n",
              "      <td>25.416670</td>\n",
              "      <td>31.250000</td>\n",
              "      <td>39.416670</td>\n",
              "      <td>83.50000</td>\n",
              "    </tr>\n",
              "    <tr>\n",
              "      <th>income</th>\n",
              "      <td>1319.0</td>\n",
              "      <td>3.365376</td>\n",
              "      <td>1.693902</td>\n",
              "      <td>0.210000</td>\n",
              "      <td>2.243750</td>\n",
              "      <td>2.900000</td>\n",
              "      <td>4.000000</td>\n",
              "      <td>13.50000</td>\n",
              "    </tr>\n",
              "    <tr>\n",
              "      <th>share</th>\n",
              "      <td>1319.0</td>\n",
              "      <td>0.068732</td>\n",
              "      <td>0.094656</td>\n",
              "      <td>0.000109</td>\n",
              "      <td>0.002316</td>\n",
              "      <td>0.038827</td>\n",
              "      <td>0.093617</td>\n",
              "      <td>0.90632</td>\n",
              "    </tr>\n",
              "    <tr>\n",
              "      <th>expenditure</th>\n",
              "      <td>1319.0</td>\n",
              "      <td>185.057071</td>\n",
              "      <td>272.218917</td>\n",
              "      <td>0.000000</td>\n",
              "      <td>4.583333</td>\n",
              "      <td>101.298300</td>\n",
              "      <td>249.035800</td>\n",
              "      <td>3099.50500</td>\n",
              "    </tr>\n",
              "    <tr>\n",
              "      <th>dependents</th>\n",
              "      <td>1319.0</td>\n",
              "      <td>0.993935</td>\n",
              "      <td>1.247745</td>\n",
              "      <td>0.000000</td>\n",
              "      <td>0.000000</td>\n",
              "      <td>1.000000</td>\n",
              "      <td>2.000000</td>\n",
              "      <td>6.00000</td>\n",
              "    </tr>\n",
              "    <tr>\n",
              "      <th>months</th>\n",
              "      <td>1319.0</td>\n",
              "      <td>55.267627</td>\n",
              "      <td>66.271746</td>\n",
              "      <td>0.000000</td>\n",
              "      <td>12.000000</td>\n",
              "      <td>30.000000</td>\n",
              "      <td>72.000000</td>\n",
              "      <td>540.00000</td>\n",
              "    </tr>\n",
              "    <tr>\n",
              "      <th>majorcards</th>\n",
              "      <td>1319.0</td>\n",
              "      <td>0.817286</td>\n",
              "      <td>0.386579</td>\n",
              "      <td>0.000000</td>\n",
              "      <td>1.000000</td>\n",
              "      <td>1.000000</td>\n",
              "      <td>1.000000</td>\n",
              "      <td>1.00000</td>\n",
              "    </tr>\n",
              "    <tr>\n",
              "      <th>active</th>\n",
              "      <td>1319.0</td>\n",
              "      <td>6.996967</td>\n",
              "      <td>6.305812</td>\n",
              "      <td>0.000000</td>\n",
              "      <td>2.000000</td>\n",
              "      <td>6.000000</td>\n",
              "      <td>11.000000</td>\n",
              "      <td>46.00000</td>\n",
              "    </tr>\n",
              "  </tbody>\n",
              "</table>\n",
              "</div>\n",
              "      <button class=\"colab-df-convert\" onclick=\"convertToInteractive('df-8e433f68-032a-43c7-a6db-ae4aaec43629')\"\n",
              "              title=\"Convert this dataframe to an interactive table.\"\n",
              "              style=\"display:none;\">\n",
              "        \n",
              "  <svg xmlns=\"http://www.w3.org/2000/svg\" height=\"24px\"viewBox=\"0 0 24 24\"\n",
              "       width=\"24px\">\n",
              "    <path d=\"M0 0h24v24H0V0z\" fill=\"none\"/>\n",
              "    <path d=\"M18.56 5.44l.94 2.06.94-2.06 2.06-.94-2.06-.94-.94-2.06-.94 2.06-2.06.94zm-11 1L8.5 8.5l.94-2.06 2.06-.94-2.06-.94L8.5 2.5l-.94 2.06-2.06.94zm10 10l.94 2.06.94-2.06 2.06-.94-2.06-.94-.94-2.06-.94 2.06-2.06.94z\"/><path d=\"M17.41 7.96l-1.37-1.37c-.4-.4-.92-.59-1.43-.59-.52 0-1.04.2-1.43.59L10.3 9.45l-7.72 7.72c-.78.78-.78 2.05 0 2.83L4 21.41c.39.39.9.59 1.41.59.51 0 1.02-.2 1.41-.59l7.78-7.78 2.81-2.81c.8-.78.8-2.07 0-2.86zM5.41 20L4 18.59l7.72-7.72 1.47 1.35L5.41 20z\"/>\n",
              "  </svg>\n",
              "      </button>\n",
              "      \n",
              "  <style>\n",
              "    .colab-df-container {\n",
              "      display:flex;\n",
              "      flex-wrap:wrap;\n",
              "      gap: 12px;\n",
              "    }\n",
              "\n",
              "    .colab-df-convert {\n",
              "      background-color: #E8F0FE;\n",
              "      border: none;\n",
              "      border-radius: 50%;\n",
              "      cursor: pointer;\n",
              "      display: none;\n",
              "      fill: #1967D2;\n",
              "      height: 32px;\n",
              "      padding: 0 0 0 0;\n",
              "      width: 32px;\n",
              "    }\n",
              "\n",
              "    .colab-df-convert:hover {\n",
              "      background-color: #E2EBFA;\n",
              "      box-shadow: 0px 1px 2px rgba(60, 64, 67, 0.3), 0px 1px 3px 1px rgba(60, 64, 67, 0.15);\n",
              "      fill: #174EA6;\n",
              "    }\n",
              "\n",
              "    [theme=dark] .colab-df-convert {\n",
              "      background-color: #3B4455;\n",
              "      fill: #D2E3FC;\n",
              "    }\n",
              "\n",
              "    [theme=dark] .colab-df-convert:hover {\n",
              "      background-color: #434B5C;\n",
              "      box-shadow: 0px 1px 3px 1px rgba(0, 0, 0, 0.15);\n",
              "      filter: drop-shadow(0px 1px 2px rgba(0, 0, 0, 0.3));\n",
              "      fill: #FFFFFF;\n",
              "    }\n",
              "  </style>\n",
              "\n",
              "      <script>\n",
              "        const buttonEl =\n",
              "          document.querySelector('#df-8e433f68-032a-43c7-a6db-ae4aaec43629 button.colab-df-convert');\n",
              "        buttonEl.style.display =\n",
              "          google.colab.kernel.accessAllowed ? 'block' : 'none';\n",
              "\n",
              "        async function convertToInteractive(key) {\n",
              "          const element = document.querySelector('#df-8e433f68-032a-43c7-a6db-ae4aaec43629');\n",
              "          const dataTable =\n",
              "            await google.colab.kernel.invokeFunction('convertToInteractive',\n",
              "                                                     [key], {});\n",
              "          if (!dataTable) return;\n",
              "\n",
              "          const docLinkHtml = 'Like what you see? Visit the ' +\n",
              "            '<a target=\"_blank\" href=https://colab.research.google.com/notebooks/data_table.ipynb>data table notebook</a>'\n",
              "            + ' to learn more about interactive tables.';\n",
              "          element.innerHTML = '';\n",
              "          dataTable['output_type'] = 'display_data';\n",
              "          await google.colab.output.renderOutput(dataTable, element);\n",
              "          const docLink = document.createElement('div');\n",
              "          docLink.innerHTML = docLinkHtml;\n",
              "          element.appendChild(docLink);\n",
              "        }\n",
              "      </script>\n",
              "    </div>\n",
              "  </div>\n",
              "  "
            ]
          },
          "metadata": {},
          "execution_count": 12
        }
      ]
    },
    {
      "cell_type": "code",
      "source": [
        "data, target = df.drop(columns=['card']), df['card'].map({'no':0, 'yes':1})"
      ],
      "metadata": {
        "id": "aC-yX4P6W79y"
      },
      "execution_count": 13,
      "outputs": []
    },
    {
      "cell_type": "code",
      "source": [
        "from sklearn.compose import make_column_selector as selector\n",
        "\n",
        "numerical = selector(dtype_include=np.number)(data)\n",
        "categorical = selector(dtype_include=object)(data)"
      ],
      "metadata": {
        "id": "QR9sBgyuX7ob"
      },
      "execution_count": 14,
      "outputs": []
    },
    {
      "cell_type": "code",
      "source": [
        "data[numerical].hist(figsize=(16, 20), color = 'b', bins=30, xlabelsize=8, ylabelsize=8);"
      ],
      "metadata": {
        "colab": {
          "base_uri": "https://localhost:8080/",
          "height": 1000
        },
        "id": "Rs6l8n2pY9xm",
        "outputId": "39e7422d-225a-4a82-e54d-1f3a13b86b50"
      },
      "execution_count": 16,
      "outputs": [
        {
          "output_type": "display_data",
          "data": {
            "text/plain": [
              "<Figure size 1152x1440 with 9 Axes>"
            ],
            "image/png": "[encoded data removed]"
          },
          "metadata": {}
        }
      ]
    },
    {
      "cell_type": "markdown",
      "source": [
        "# Split data"
      ],
      "metadata": {
        "id": "TIgAmU3EaP9B"
      }
    },
    {
      "cell_type": "code",
      "source": [
        "from sklearn.model_selection import train_test_split\n",
        "\n",
        "X_train, X_test, y_train, y_test = train_test_split(\n",
        "    data,\n",
        "    target,\n",
        "    test_size=.2,\n",
        "    stratify=target,\n",
        "    random_state=42\n",
        ")\n",
        "\n",
        "X_train.shape, y_train.shape, X_test.shape, y_test.shape"
      ],
      "metadata": {
        "colab": {
          "base_uri": "https://localhost:8080/"
        },
        "id": "aGSMpl63ZaSq",
        "outputId": "20102065-761c-4652-cc0f-69084c3b8dd8"
      },
      "execution_count": 19,
      "outputs": [
        {
          "output_type": "execute_result",
          "data": {
            "text/plain": [
              "((1055, 11), (1055,), (264, 11), (264,))"
            ]
          },
          "metadata": {},
          "execution_count": 19
        }
      ]
    },
    {
      "cell_type": "markdown",
      "source": [
        "# Models"
      ],
      "metadata": {
        "id": "0cjmIrHAfiXM"
      }
    },
    {
      "cell_type": "code",
      "source": [
        "from sklearn.model_selection import StratifiedKFold, cross_validate\n",
        "from sklearn.pipeline import make_pipeline\n",
        "from sklearn.compose import ColumnTransformer\n",
        "from sklearn.preprocessing import StandardScaler, OrdinalEncoder, OneHotEncoder\n",
        "from sklearn.dummy import DummyClassifier\n",
        "from sklearn.linear_model import LogisticRegression\n",
        "from sklearn.tree import DecisionTreeClassifier\n",
        "from sklearn.ensemble import (\n",
        "    RandomForestClassifier,\n",
        "    HistGradientBoostingClassifier\n",
        ")\n",
        "import xgboost\n",
        "\n",
        "\n",
        "scaler = StandardScaler()\n",
        "encoder_lreg = OneHotEncoder(handle_unknown='ignore')\n",
        "encoder = OrdinalEncoder(handle_unknown='use_encoded_value', unknown_value=-1)\n",
        "\n",
        "preprocessor = ColumnTransformer([\n",
        "    ('scaler_lreg', scaler, numerical),\n",
        "    ('encoder_lreg', encoder_lreg, categorical)\n",
        "])\n",
        "\n",
        "models = [\n",
        "    DummyClassifier,\n",
        "    LogisticRegression,\n",
        "    DecisionTreeClassifier,\n",
        "    HistGradientBoostingClassifier,\n",
        "    RandomForestClassifier,\n",
        "    xgboost.XGBClassifier\n",
        "]\n",
        "\n",
        "results = {}\n",
        "\n",
        "for model in models:\n",
        "  if model == LogisticRegression:\n",
        "    cls = make_pipeline(preprocessor, model())\n",
        "  else:\n",
        "    cls = make_pipeline(encoder, model())\n",
        "  \n",
        "  cv = StratifiedKFold(n_splits=10, shuffle=True, random_state=42)\n",
        "  cv_results = cross_validate(\n",
        "      cls,\n",
        "      data,\n",
        "      target,\n",
        "      cv=cv,\n",
        "      scoring='roc_auc',\n",
        "      return_train_score=True,\n",
        "      error_score='raise',\n",
        "      n_jobs = -1\n",
        "  )\n",
        "  \n",
        "  results[model.__name__] = cv_results\n",
        "  print(f\"{model.__name__:22} AUC: \"\n",
        "        f\"{cv_results['test_score'].mean():.3f} STD: {cv_results['test_score'].std():.2f}\"\n",
        "  )\n"
      ],
      "metadata": {
        "colab": {
          "base_uri": "https://localhost:8080/"
        },
        "id": "g7vCHemZaxbB",
        "outputId": "f1ccc861-e640-4f96-a128-ddd1da2f4ce9"
      },
      "execution_count": 40,
      "outputs": [
        {
          "output_type": "stream",
          "name": "stdout",
          "text": [
            "DummyClassifier        AUC: 0.500 STD: 0.00\n",
            "LogisticRegression     AUC: 0.986 STD: 0.01\n",
            "DecisionTreeClassifier AUC: 0.575 STD: 0.06\n",
            "HistGradientBoostingClassifier AUC: 0.754 STD: 0.05\n",
            "RandomForestClassifier AUC: 0.722 STD: 0.05\n",
            "XGBClassifier          AUC: 0.750 STD: 0.07\n"
          ]
        }
      ]
    },
    {
      "cell_type": "markdown",
      "source": [
        "The logistic regression model seems to be adequate."
      ],
      "metadata": {
        "id": "kszCz_QnmT58"
      }
    },
    {
      "cell_type": "markdown",
      "source": [
        "# Evaluate Model"
      ],
      "metadata": {
        "id": "tlyZprlZmhhj"
      }
    },
    {
      "cell_type": "code",
      "source": [
        "results.keys()"
      ],
      "metadata": {
        "colab": {
          "base_uri": "https://localhost:8080/"
        },
        "id": "Junf_mlZrBfi",
        "outputId": "aae1b7e1-1dd4-42ef-97db-03bec199765c"
      },
      "execution_count": 41,
      "outputs": [
        {
          "output_type": "execute_result",
          "data": {
            "text/plain": [
              "dict_keys(['DummyClassifier', 'LogisticRegression', 'DecisionTreeClassifier', 'HistGradientBoostingClassifier', 'RandomForestClassifier', 'XGBClassifier'])"
            ]
          },
          "metadata": {},
          "execution_count": 41
        }
      ]
    },
    {
      "cell_type": "code",
      "source": [
        "cv_results_lreg = results['LogisticRegression']\n",
        "cv_results_lreg = pd.DataFrame(cv_results_lreg)\n",
        "cv_results_lreg.head()"
      ],
      "metadata": {
        "colab": {
          "base_uri": "https://localhost:8080/",
          "height": 206
        },
        "id": "5YAH-IV8pvHZ",
        "outputId": "f85debb2-c062-40d4-f97b-b449c38a2376"
      },
      "execution_count": 43,
      "outputs": [
        {
          "output_type": "execute_result",
          "data": {
            "text/plain": [
              "   fit_time  score_time  test_score  train_score\n",
              "0  0.047709    0.008662    0.983261     0.988548\n",
              "1  0.039324    0.009123    0.992635     0.988658\n",
              "2  0.048233    0.010061    0.977904     0.988565\n",
              "3  0.049425    0.009353    0.998693     0.987416\n",
              "4  0.055770    0.014796    0.991503     0.987775"
            ],
            "text/html": [
              "\n",
              "  <div id=\"df-6b9a5b01-2b33-4c38-9ca7-ea3a76e3f385\">\n",
              "    <div class=\"colab-df-container\">\n",
              "      <div>\n",
              "<style scoped>\n",
              "    .dataframe tbody tr th:only-of-type {\n",
              "        vertical-align: middle;\n",
              "    }\n",
              "\n",
              "    .dataframe tbody tr th {\n",
              "        vertical-align: top;\n",
              "    }\n",
              "\n",
              "    .dataframe thead th {\n",
              "        text-align: right;\n",
              "    }\n",
              "</style>\n",
              "<table border=\"1\" class=\"dataframe\">\n",
              "  <thead>\n",
              "    <tr style=\"text-align: right;\">\n",
              "      <th></th>\n",
              "      <th>fit_time</th>\n",
              "      <th>score_time</th>\n",
              "      <th>test_score</th>\n",
              "      <th>train_score</th>\n",
              "    </tr>\n",
              "  </thead>\n",
              "  <tbody>\n",
              "    <tr>\n",
              "      <th>0</th>\n",
              "      <td>0.047709</td>\n",
              "      <td>0.008662</td>\n",
              "      <td>0.983261</td>\n",
              "      <td>0.988548</td>\n",
              "    </tr>\n",
              "    <tr>\n",
              "      <th>1</th>\n",
              "      <td>0.039324</td>\n",
              "      <td>0.009123</td>\n",
              "      <td>0.992635</td>\n",
              "      <td>0.988658</td>\n",
              "    </tr>\n",
              "    <tr>\n",
              "      <th>2</th>\n",
              "      <td>0.048233</td>\n",
              "      <td>0.010061</td>\n",
              "      <td>0.977904</td>\n",
              "      <td>0.988565</td>\n",
              "    </tr>\n",
              "    <tr>\n",
              "      <th>3</th>\n",
              "      <td>0.049425</td>\n",
              "      <td>0.009353</td>\n",
              "      <td>0.998693</td>\n",
              "      <td>0.987416</td>\n",
              "    </tr>\n",
              "    <tr>\n",
              "      <th>4</th>\n",
              "      <td>0.055770</td>\n",
              "      <td>0.014796</td>\n",
              "      <td>0.991503</td>\n",
              "      <td>0.987775</td>\n",
              "    </tr>\n",
              "  </tbody>\n",
              "</table>\n",
              "</div>\n",
              "      <button class=\"colab-df-convert\" onclick=\"convertToInteractive('df-6b9a5b01-2b33-4c38-9ca7-ea3a76e3f385')\"\n",
              "              title=\"Convert this dataframe to an interactive table.\"\n",
              "              style=\"display:none;\">\n",
              "        \n",
              "  <svg xmlns=\"http://www.w3.org/2000/svg\" height=\"24px\"viewBox=\"0 0 24 24\"\n",
              "       width=\"24px\">\n",
              "    <path d=\"M0 0h24v24H0V0z\" fill=\"none\"/>\n",
              "    <path d=\"M18.56 5.44l.94 2.06.94-2.06 2.06-.94-2.06-.94-.94-2.06-.94 2.06-2.06.94zm-11 1L8.5 8.5l.94-2.06 2.06-.94-2.06-.94L8.5 2.5l-.94 2.06-2.06.94zm10 10l.94 2.06.94-2.06 2.06-.94-2.06-.94-.94-2.06-.94 2.06-2.06.94z\"/><path d=\"M17.41 7.96l-1.37-1.37c-.4-.4-.92-.59-1.43-.59-.52 0-1.04.2-1.43.59L10.3 9.45l-7.72 7.72c-.78.78-.78 2.05 0 2.83L4 21.41c.39.39.9.59 1.41.59.51 0 1.02-.2 1.41-.59l7.78-7.78 2.81-2.81c.8-.78.8-2.07 0-2.86zM5.41 20L4 18.59l7.72-7.72 1.47 1.35L5.41 20z\"/>\n",
              "  </svg>\n",
              "      </button>\n",
              "      \n",
              "  <style>\n",
              "    .colab-df-container {\n",
              "      display:flex;\n",
              "      flex-wrap:wrap;\n",
              "      gap: 12px;\n",
              "    }\n",
              "\n",
              "    .colab-df-convert {\n",
              "      background-color: #E8F0FE;\n",
              "      border: none;\n",
              "      border-radius: 50%;\n",
              "      cursor: pointer;\n",
              "      display: none;\n",
              "      fill: #1967D2;\n",
              "      height: 32px;\n",
              "      padding: 0 0 0 0;\n",
              "      width: 32px;\n",
              "    }\n",
              "\n",
              "    .colab-df-convert:hover {\n",
              "      background-color: #E2EBFA;\n",
              "      box-shadow: 0px 1px 2px rgba(60, 64, 67, 0.3), 0px 1px 3px 1px rgba(60, 64, 67, 0.15);\n",
              "      fill: #174EA6;\n",
              "    }\n",
              "\n",
              "    [theme=dark] .colab-df-convert {\n",
              "      background-color: #3B4455;\n",
              "      fill: #D2E3FC;\n",
              "    }\n",
              "\n",
              "    [theme=dark] .colab-df-convert:hover {\n",
              "      background-color: #434B5C;\n",
              "      box-shadow: 0px 1px 3px 1px rgba(0, 0, 0, 0.15);\n",
              "      filter: drop-shadow(0px 1px 2px rgba(0, 0, 0, 0.3));\n",
              "      fill: #FFFFFF;\n",
              "    }\n",
              "  </style>\n",
              "\n",
              "      <script>\n",
              "        const buttonEl =\n",
              "          document.querySelector('#df-6b9a5b01-2b33-4c38-9ca7-ea3a76e3f385 button.colab-df-convert');\n",
              "        buttonEl.style.display =\n",
              "          google.colab.kernel.accessAllowed ? 'block' : 'none';\n",
              "\n",
              "        async function convertToInteractive(key) {\n",
              "          const element = document.querySelector('#df-6b9a5b01-2b33-4c38-9ca7-ea3a76e3f385');\n",
              "          const dataTable =\n",
              "            await google.colab.kernel.invokeFunction('convertToInteractive',\n",
              "                                                     [key], {});\n",
              "          if (!dataTable) return;\n",
              "\n",
              "          const docLinkHtml = 'Like what you see? Visit the ' +\n",
              "            '<a target=\"_blank\" href=https://colab.research.google.com/notebooks/data_table.ipynb>data table notebook</a>'\n",
              "            + ' to learn more about interactive tables.';\n",
              "          element.innerHTML = '';\n",
              "          dataTable['output_type'] = 'display_data';\n",
              "          await google.colab.output.renderOutput(dataTable, element);\n",
              "          const docLink = document.createElement('div');\n",
              "          docLink.innerHTML = docLinkHtml;\n",
              "          element.appendChild(docLink);\n",
              "        }\n",
              "      </script>\n",
              "    </div>\n",
              "  </div>\n",
              "  "
            ]
          },
          "metadata": {},
          "execution_count": 43
        }
      ]
    },
    {
      "cell_type": "code",
      "source": [
        "model = make_pipeline(preprocessor, LogisticRegression(max_iter=1000, C=0))"
      ],
      "metadata": {
        "id": "TuKTkBmwuy5B"
      },
      "execution_count": 48,
      "outputs": []
    },
    {
      "cell_type": "code",
      "source": [
        "model.get_params().keys()"
      ],
      "metadata": {
        "colab": {
          "base_uri": "https://localhost:8080/"
        },
        "id": "cuAiref4u0Ey",
        "outputId": "717d8aee-39f0-4a57-d931-c3e38e7747cb"
      },
      "execution_count": 50,
      "outputs": [
        {
          "output_type": "execute_result",
          "data": {
            "text/plain": [
              "dict_keys(['memory', 'steps', 'verbose', 'columntransformer', 'logisticregression', 'columntransformer__n_jobs', 'columntransformer__remainder', 'columntransformer__sparse_threshold', 'columntransformer__transformer_weights', 'columntransformer__transformers', 'columntransformer__verbose', 'columntransformer__verbose_feature_names_out', 'columntransformer__scaler_lreg', 'columntransformer__encoder_lreg', 'columntransformer__scaler_lreg__copy', 'columntransformer__scaler_lreg__with_mean', 'columntransformer__scaler_lreg__with_std', 'columntransformer__encoder_lreg__categories', 'columntransformer__encoder_lreg__drop', 'columntransformer__encoder_lreg__dtype', 'columntransformer__encoder_lreg__handle_unknown', 'columntransformer__encoder_lreg__sparse', 'logisticregression__C', 'logisticregression__class_weight', 'logisticregression__dual', 'logisticregression__fit_intercept', 'logisticregression__intercept_scaling', 'logisticregression__l1_ratio', 'logisticregression__max_iter', 'logisticregression__multi_class', 'logisticregression__n_jobs', 'logisticregression__penalty', 'logisticregression__random_state', 'logisticregression__solver', 'logisticregression__tol', 'logisticregression__verbose', 'logisticregression__warm_start'])"
            ]
          },
          "metadata": {},
          "execution_count": 50
        }
      ]
    },
    {
      "cell_type": "code",
      "source": [
        "from sklearn.model_selection import validation_curve\n",
        "\n",
        "model = make_pipeline(preprocessor, LogisticRegression(max_iter=1000, C=0))\n",
        "\n",
        "C= list(range(0, 15))\n",
        "\n",
        "train_acc, test_acc = validation_curve(\n",
        "    model,\n",
        "    data,\n",
        "    target,\n",
        "    cv=cv,\n",
        "    scoring='roc_auc',\n",
        "    param_name='logisticregression__C',\n",
        "    param_range= C,\n",
        "    n_jobs=-1\n",
        ")\n",
        "\n"
      ],
      "metadata": {
        "id": "dNZ1HngOnAcI"
      },
      "execution_count": 51,
      "outputs": []
    },
    {
      "cell_type": "code",
      "source": [
        "plt.figure(figsize=(8, 5), dpi=105)\n",
        "\n",
        "plt.subplot(1,2,1)\n",
        "plt.plot(C, train_acc.mean(axis=1), label='train')\n",
        "plt.plot(C, test_acc.mean(axis=1), label='test')\n",
        "plt.xlabel('C')\n",
        "plt.ylabel('Accyracy')\n",
        "plt.legend()\n",
        "\n",
        "plt.subplot(1,2,2)\n",
        "plt.errorbar(\n",
        "    C,\n",
        "    train_acc.mean(axis=1),\n",
        "    yerr=train_acc.std(axis=1),\n",
        "    label='train std' \n",
        ")\n",
        "plt.errorbar(\n",
        "    C,\n",
        "    test_acc.mean(axis=1),\n",
        "    yerr=test_acc.std(axis=1),\n",
        "    label='train std' \n",
        ")\n",
        "\n",
        "plt.xlabel('Logistic Regression C')\n",
        "plt.ylabel('Accuracy')\n",
        "plt.legend()\n",
        "\n",
        "plt.suptitle('Logistic Reg C Vs Accuracy')\n",
        "plt.show();"
      ],
      "metadata": {
        "colab": {
          "base_uri": "https://localhost:8080/",
          "height": 535
        },
        "id": "MRUt4uytvPOz",
        "outputId": "7d77b048-4942-4fc9-ff58-b61580cf47d0"
      },
      "execution_count": 52,
      "outputs": [
        {
          "output_type": "display_data",
          "data": {
            "text/plain": [
              "<Figure size 840x525 with 2 Axes>"
            ],
            "image/png": "[encoded data removed]"
          },
          "metadata": {}
        }
      ]
    }
  ]
}