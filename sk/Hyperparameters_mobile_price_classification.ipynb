{
  "nbformat": 4,
  "nbformat_minor": 0,
  "metadata": {
    "colab": {
      "provenance": []
    },
    "kernelspec": {
      "name": "python3",
      "display_name": "Python 3"
    },
    "language_info": {
      "name": "python"
    }
  },
  "cells": [
    {
      "cell_type": "markdown",
      "source": [
        "# Importing libraries"
      ],
      "metadata": {
        "id": "HddeO7qasZ-Z"
      }
    },
    {
      "cell_type": "code",
      "execution_count": 2,
      "metadata": {
        "id": "IlPjxzh_qguV"
      },
      "outputs": [],
      "source": [
        "!pip install opendatasets --upgrade --quiet"
      ]
    },
    {
      "cell_type": "code",
      "source": [
        "import opendatasets as od \n",
        "import pandas as pd\n",
        "import numpy as np\n",
        "import matplotlib.pyplot as plt\n",
        "import seaborn as sns\n",
        "import missingno as msno\n",
        "from sklearn import model_selection, metrics\n",
        "from sklearn.compose import ColumnTransformer, make_column_selector\n",
        "from sklearn.pipeline import Pipeline, make_pipeline\n",
        "from sklearn.preprocessing import StandardScaler, OneHotEncoder, OrdinalEncoder\n",
        "from sklearn.linear_model import LogisticRegression\n",
        "from sklearn.dummy import DummyClassifier\n",
        "from sklearn import tree\n",
        "from sklearn import ensemble\n",
        "import xgboost\n"
      ],
      "metadata": {
        "id": "n9TJEXhhqwvF"
      },
      "execution_count": 24,
      "outputs": []
    },
    {
      "cell_type": "code",
      "source": [
        "pd.set_option('display.max_columns', None)"
      ],
      "metadata": {
        "id": "8ImMPTaStsTo"
      },
      "execution_count": 12,
      "outputs": []
    },
    {
      "cell_type": "code",
      "source": [
        "fp = (\n",
        "    'https://www.kaggle.com/datasets/iabhishekofficial/'\n",
        "    'mobile-price-classification'\n",
        ")\n",
        "\n",
        "od.download(fp)"
      ],
      "metadata": {
        "colab": {
          "base_uri": "https://localhost:8080/"
        },
        "id": "FIKf7d25rmH6",
        "outputId": "eacae187-e53e-400c-a05e-47a4c282a3b8"
      },
      "execution_count": 5,
      "outputs": [
        {
          "output_type": "stream",
          "name": "stdout",
          "text": [
            "Downloading mobile-price-classification.zip to ./mobile-price-classification\n"
          ]
        },
        {
          "output_type": "stream",
          "name": "stderr",
          "text": [
            "100%|██████████| 70.6k/70.6k [00:00<00:00, 49.7MB/s]"
          ]
        },
        {
          "output_type": "stream",
          "name": "stdout",
          "text": [
            "\n"
          ]
        },
        {
          "output_type": "stream",
          "name": "stderr",
          "text": [
            "\n"
          ]
        }
      ]
    },
    {
      "cell_type": "code",
      "source": [
        "df_train = pd.read_csv('./mobile-price-classification/train.csv')\n",
        "df_test = pd.read_csv('./mobile-price-classification/test.csv')"
      ],
      "metadata": {
        "id": "a01WZGaEsm7g"
      },
      "execution_count": 8,
      "outputs": []
    },
    {
      "cell_type": "code",
      "source": [
        "df_train.shape"
      ],
      "metadata": {
        "colab": {
          "base_uri": "https://localhost:8080/"
        },
        "id": "K9J8UEJbs_xz",
        "outputId": "442e2624-6469-4beb-e035-06ccf8099fb6"
      },
      "execution_count": 9,
      "outputs": [
        {
          "output_type": "execute_result",
          "data": {
            "text/plain": [
              "(2000, 21)"
            ]
          },
          "metadata": {},
          "execution_count": 9
        }
      ]
    },
    {
      "cell_type": "code",
      "source": [
        "df_test.shape"
      ],
      "metadata": {
        "colab": {
          "base_uri": "https://localhost:8080/"
        },
        "id": "49UfewtdtOwK",
        "outputId": "2d73563d-6407-4b0a-8993-3a7d9e55de94"
      },
      "execution_count": 10,
      "outputs": [
        {
          "output_type": "execute_result",
          "data": {
            "text/plain": [
              "(1000, 21)"
            ]
          },
          "metadata": {},
          "execution_count": 10
        }
      ]
    },
    {
      "cell_type": "code",
      "source": [
        "df_train.sample(n=8)"
      ],
      "metadata": {
        "colab": {
          "base_uri": "https://localhost:8080/",
          "height": 364
        },
        "id": "Q4wouk02teDT",
        "outputId": "897749b1-8545-4cfb-e31e-e7b74e17565c"
      },
      "execution_count": 13,
      "outputs": [
        {
          "output_type": "execute_result",
          "data": {
            "text/plain": [
              "      battery_power  blue  clock_speed  dual_sim  fc  four_g  int_memory  \\\n",
              "429            1048     1          0.9         0  10       1          28   \n",
              "1108            808     0          2.3         0   3       0          45   \n",
              "552             726     0          2.9         0   0       0          43   \n",
              "271             730     0          2.1         1   0       1           4   \n",
              "259            1559     1          1.6         1   6       1           6   \n",
              "125            1659     0          2.8         0   5       0          16   \n",
              "1786            930     1          0.5         1   3       1          34   \n",
              "1996           1965     1          2.6         1   0       0          39   \n",
              "\n",
              "      m_dep  mobile_wt  n_cores  pc  px_height  px_width   ram  sc_h  sc_w  \\\n",
              "429     0.8        194        2  19        966      1975  1458     5     1   \n",
              "1108    0.8        161        1   9        526      1324  3431    15     6   \n",
              "552     0.1        101        8   0        666       760  1446    17     2   \n",
              "271     0.1         89        8   2        302      1247  1210    19    15   \n",
              "259     0.5        162        6  17        179      1559  3352     9     1   \n",
              "125     0.6         89        1  20        819       902  3255    19    14   \n",
              "1786    0.5        190        4  16       1050      1726  2131     7     2   \n",
              "1996    0.2        187        4   3        915      1965  2032    11    10   \n",
              "\n",
              "      talk_time  three_g  touch_screen  wifi  price_range  \n",
              "429          15        1             0     1            1  \n",
              "1108         13        0             1     1            3  \n",
              "552           8        1             1     0            0  \n",
              "271           4        1             1     1            0  \n",
              "259           3        1             1     1            3  \n",
              "125           9        0             0     1            3  \n",
              "1786          6        1             0     1            2  \n",
              "1996         16        1             1     1            2  "
            ],
            "text/html": [
              "\n",
              "  <div id=\"df-a67f316b-0ffc-4605-99a9-6ac0625eadf0\">\n",
              "    <div class=\"colab-df-container\">\n",
              "      <div>\n",
              "<style scoped>\n",
              "    .dataframe tbody tr th:only-of-type {\n",
              "        vertical-align: middle;\n",
              "    }\n",
              "\n",
              "    .dataframe tbody tr th {\n",
              "        vertical-align: top;\n",
              "    }\n",
              "\n",
              "    .dataframe thead th {\n",
              "        text-align: right;\n",
              "    }\n",
              "</style>\n",
              "<table border=\"1\" class=\"dataframe\">\n",
              "  <thead>\n",
              "    <tr style=\"text-align: right;\">\n",
              "      <th></th>\n",
              "      <th>battery_power</th>\n",
              "      <th>blue</th>\n",
              "      <th>clock_speed</th>\n",
              "      <th>dual_sim</th>\n",
              "      <th>fc</th>\n",
              "      <th>four_g</th>\n",
              "      <th>int_memory</th>\n",
              "      <th>m_dep</th>\n",
              "      <th>mobile_wt</th>\n",
              "      <th>n_cores</th>\n",
              "      <th>pc</th>\n",
              "      <th>px_height</th>\n",
              "      <th>px_width</th>\n",
              "      <th>ram</th>\n",
              "      <th>sc_h</th>\n",
              "      <th>sc_w</th>\n",
              "      <th>talk_time</th>\n",
              "      <th>three_g</th>\n",
              "      <th>touch_screen</th>\n",
              "      <th>wifi</th>\n",
              "      <th>price_range</th>\n",
              "    </tr>\n",
              "  </thead>\n",
              "  <tbody>\n",
              "    <tr>\n",
              "      <th>429</th>\n",
              "      <td>1048</td>\n",
              "      <td>1</td>\n",
              "      <td>0.9</td>\n",
              "      <td>0</td>\n",
              "      <td>10</td>\n",
              "      <td>1</td>\n",
              "      <td>28</td>\n",
              "      <td>0.8</td>\n",
              "      <td>194</td>\n",
              "      <td>2</td>\n",
              "      <td>19</td>\n",
              "      <td>966</td>\n",
              "      <td>1975</td>\n",
              "      <td>1458</td>\n",
              "      <td>5</td>\n",
              "      <td>1</td>\n",
              "      <td>15</td>\n",
              "      <td>1</td>\n",
              "      <td>0</td>\n",
              "      <td>1</td>\n",
              "      <td>1</td>\n",
              "    </tr>\n",
              "    <tr>\n",
              "      <th>1108</th>\n",
              "      <td>808</td>\n",
              "      <td>0</td>\n",
              "      <td>2.3</td>\n",
              "      <td>0</td>\n",
              "      <td>3</td>\n",
              "      <td>0</td>\n",
              "      <td>45</td>\n",
              "      <td>0.8</td>\n",
              "      <td>161</td>\n",
              "      <td>1</td>\n",
              "      <td>9</td>\n",
              "      <td>526</td>\n",
              "      <td>1324</td>\n",
              "      <td>3431</td>\n",
              "      <td>15</td>\n",
              "      <td>6</td>\n",
              "      <td>13</td>\n",
              "      <td>0</td>\n",
              "      <td>1</td>\n",
              "      <td>1</td>\n",
              "      <td>3</td>\n",
              "    </tr>\n",
              "    <tr>\n",
              "      <th>552</th>\n",
              "      <td>726</td>\n",
              "      <td>0</td>\n",
              "      <td>2.9</td>\n",
              "      <td>0</td>\n",
              "      <td>0</td>\n",
              "      <td>0</td>\n",
              "      <td>43</td>\n",
              "      <td>0.1</td>\n",
              "      <td>101</td>\n",
              "      <td>8</td>\n",
              "      <td>0</td>\n",
              "      <td>666</td>\n",
              "      <td>760</td>\n",
              "      <td>1446</td>\n",
              "      <td>17</td>\n",
              "      <td>2</td>\n",
              "      <td>8</td>\n",
              "      <td>1</td>\n",
              "      <td>1</td>\n",
              "      <td>0</td>\n",
              "      <td>0</td>\n",
              "    </tr>\n",
              "    <tr>\n",
              "      <th>271</th>\n",
              "      <td>730</td>\n",
              "      <td>0</td>\n",
              "      <td>2.1</td>\n",
              "      <td>1</td>\n",
              "      <td>0</td>\n",
              "      <td>1</td>\n",
              "      <td>4</td>\n",
              "      <td>0.1</td>\n",
              "      <td>89</td>\n",
              "      <td>8</td>\n",
              "      <td>2</td>\n",
              "      <td>302</td>\n",
              "      <td>1247</td>\n",
              "      <td>1210</td>\n",
              "      <td>19</td>\n",
              "      <td>15</td>\n",
              "      <td>4</td>\n",
              "      <td>1</td>\n",
              "      <td>1</td>\n",
              "      <td>1</td>\n",
              "      <td>0</td>\n",
              "    </tr>\n",
              "    <tr>\n",
              "      <th>259</th>\n",
              "      <td>1559</td>\n",
              "      <td>1</td>\n",
              "      <td>1.6</td>\n",
              "      <td>1</td>\n",
              "      <td>6</td>\n",
              "      <td>1</td>\n",
              "      <td>6</td>\n",
              "      <td>0.5</td>\n",
              "      <td>162</td>\n",
              "      <td>6</td>\n",
              "      <td>17</td>\n",
              "      <td>179</td>\n",
              "      <td>1559</td>\n",
              "      <td>3352</td>\n",
              "      <td>9</td>\n",
              "      <td>1</td>\n",
              "      <td>3</td>\n",
              "      <td>1</td>\n",
              "      <td>1</td>\n",
              "      <td>1</td>\n",
              "      <td>3</td>\n",
              "    </tr>\n",
              "    <tr>\n",
              "      <th>125</th>\n",
              "      <td>1659</td>\n",
              "      <td>0</td>\n",
              "      <td>2.8</td>\n",
              "      <td>0</td>\n",
              "      <td>5</td>\n",
              "      <td>0</td>\n",
              "      <td>16</td>\n",
              "      <td>0.6</td>\n",
              "      <td>89</td>\n",
              "      <td>1</td>\n",
              "      <td>20</td>\n",
              "      <td>819</td>\n",
              "      <td>902</td>\n",
              "      <td>3255</td>\n",
              "      <td>19</td>\n",
              "      <td>14</td>\n",
              "      <td>9</td>\n",
              "      <td>0</td>\n",
              "      <td>0</td>\n",
              "      <td>1</td>\n",
              "      <td>3</td>\n",
              "    </tr>\n",
              "    <tr>\n",
              "      <th>1786</th>\n",
              "      <td>930</td>\n",
              "      <td>1</td>\n",
              "      <td>0.5</td>\n",
              "      <td>1</td>\n",
              "      <td>3</td>\n",
              "      <td>1</td>\n",
              "      <td>34</td>\n",
              "      <td>0.5</td>\n",
              "      <td>190</td>\n",
              "      <td>4</td>\n",
              "      <td>16</td>\n",
              "      <td>1050</td>\n",
              "      <td>1726</td>\n",
              "      <td>2131</td>\n",
              "      <td>7</td>\n",
              "      <td>2</td>\n",
              "      <td>6</td>\n",
              "      <td>1</td>\n",
              "      <td>0</td>\n",
              "      <td>1</td>\n",
              "      <td>2</td>\n",
              "    </tr>\n",
              "    <tr>\n",
              "      <th>1996</th>\n",
              "      <td>1965</td>\n",
              "      <td>1</td>\n",
              "      <td>2.6</td>\n",
              "      <td>1</td>\n",
              "      <td>0</td>\n",
              "      <td>0</td>\n",
              "      <td>39</td>\n",
              "      <td>0.2</td>\n",
              "      <td>187</td>\n",
              "      <td>4</td>\n",
              "      <td>3</td>\n",
              "      <td>915</td>\n",
              "      <td>1965</td>\n",
              "      <td>2032</td>\n",
              "      <td>11</td>\n",
              "      <td>10</td>\n",
              "      <td>16</td>\n",
              "      <td>1</td>\n",
              "      <td>1</td>\n",
              "      <td>1</td>\n",
              "      <td>2</td>\n",
              "    </tr>\n",
              "  </tbody>\n",
              "</table>\n",
              "</div>\n",
              "      <button class=\"colab-df-convert\" onclick=\"convertToInteractive('df-a67f316b-0ffc-4605-99a9-6ac0625eadf0')\"\n",
              "              title=\"Convert this dataframe to an interactive table.\"\n",
              "              style=\"display:none;\">\n",
              "        \n",
              "  <svg xmlns=\"http://www.w3.org/2000/svg\" height=\"24px\"viewBox=\"0 0 24 24\"\n",
              "       width=\"24px\">\n",
              "    <path d=\"M0 0h24v24H0V0z\" fill=\"none\"/>\n",
              "    <path d=\"M18.56 5.44l.94 2.06.94-2.06 2.06-.94-2.06-.94-.94-2.06-.94 2.06-2.06.94zm-11 1L8.5 8.5l.94-2.06 2.06-.94-2.06-.94L8.5 2.5l-.94 2.06-2.06.94zm10 10l.94 2.06.94-2.06 2.06-.94-2.06-.94-.94-2.06-.94 2.06-2.06.94z\"/><path d=\"M17.41 7.96l-1.37-1.37c-.4-.4-.92-.59-1.43-.59-.52 0-1.04.2-1.43.59L10.3 9.45l-7.72 7.72c-.78.78-.78 2.05 0 2.83L4 21.41c.39.39.9.59 1.41.59.51 0 1.02-.2 1.41-.59l7.78-7.78 2.81-2.81c.8-.78.8-2.07 0-2.86zM5.41 20L4 18.59l7.72-7.72 1.47 1.35L5.41 20z\"/>\n",
              "  </svg>\n",
              "      </button>\n",
              "      \n",
              "  <style>\n",
              "    .colab-df-container {\n",
              "      display:flex;\n",
              "      flex-wrap:wrap;\n",
              "      gap: 12px;\n",
              "    }\n",
              "\n",
              "    .colab-df-convert {\n",
              "      background-color: #E8F0FE;\n",
              "      border: none;\n",
              "      border-radius: 50%;\n",
              "      cursor: pointer;\n",
              "      display: none;\n",
              "      fill: #1967D2;\n",
              "      height: 32px;\n",
              "      padding: 0 0 0 0;\n",
              "      width: 32px;\n",
              "    }\n",
              "\n",
              "    .colab-df-convert:hover {\n",
              "      background-color: #E2EBFA;\n",
              "      box-shadow: 0px 1px 2px rgba(60, 64, 67, 0.3), 0px 1px 3px 1px rgba(60, 64, 67, 0.15);\n",
              "      fill: #174EA6;\n",
              "    }\n",
              "\n",
              "    [theme=dark] .colab-df-convert {\n",
              "      background-color: #3B4455;\n",
              "      fill: #D2E3FC;\n",
              "    }\n",
              "\n",
              "    [theme=dark] .colab-df-convert:hover {\n",
              "      background-color: #434B5C;\n",
              "      box-shadow: 0px 1px 3px 1px rgba(0, 0, 0, 0.15);\n",
              "      filter: drop-shadow(0px 1px 2px rgba(0, 0, 0, 0.3));\n",
              "      fill: #FFFFFF;\n",
              "    }\n",
              "  </style>\n",
              "\n",
              "      <script>\n",
              "        const buttonEl =\n",
              "          document.querySelector('#df-a67f316b-0ffc-4605-99a9-6ac0625eadf0 button.colab-df-convert');\n",
              "        buttonEl.style.display =\n",
              "          google.colab.kernel.accessAllowed ? 'block' : 'none';\n",
              "\n",
              "        async function convertToInteractive(key) {\n",
              "          const element = document.querySelector('#df-a67f316b-0ffc-4605-99a9-6ac0625eadf0');\n",
              "          const dataTable =\n",
              "            await google.colab.kernel.invokeFunction('convertToInteractive',\n",
              "                                                     [key], {});\n",
              "          if (!dataTable) return;\n",
              "\n",
              "          const docLinkHtml = 'Like what you see? Visit the ' +\n",
              "            '<a target=\"_blank\" href=https://colab.research.google.com/notebooks/data_table.ipynb>data table notebook</a>'\n",
              "            + ' to learn more about interactive tables.';\n",
              "          element.innerHTML = '';\n",
              "          dataTable['output_type'] = 'display_data';\n",
              "          await google.colab.output.renderOutput(dataTable, element);\n",
              "          const docLink = document.createElement('div');\n",
              "          docLink.innerHTML = docLinkHtml;\n",
              "          element.appendChild(docLink);\n",
              "        }\n",
              "      </script>\n",
              "    </div>\n",
              "  </div>\n",
              "  "
            ]
          },
          "metadata": {},
          "execution_count": 13
        }
      ]
    },
    {
      "cell_type": "markdown",
      "source": [
        "#### **Missing values**"
      ],
      "metadata": {
        "id": "IzyeYyzKuH1f"
      }
    },
    {
      "cell_type": "code",
      "source": [
        "msno.bar(df_train, figsize=(12, 5))"
      ],
      "metadata": {
        "colab": {
          "base_uri": "https://localhost:8080/",
          "height": 467
        },
        "id": "ApnsAzHttoC7",
        "outputId": "c2586a6d-c215-471b-968c-65ba70df57ce"
      },
      "execution_count": 14,
      "outputs": [
        {
          "output_type": "execute_result",
          "data": {
            "text/plain": [
              "<matplotlib.axes._subplots.AxesSubplot at 0x7f1f0c3f0950>"
            ]
          },
          "metadata": {},
          "execution_count": 14
        },
        {
          "output_type": "display_data",
          "data": {
            "text/plain": [
              "<Figure size 864x360 with 3 Axes>"
            ],
            "image/png": "[encoded data removed]"
          },
          "metadata": {
            "needs_background": "light"
          }
        }
      ]
    },
    {
      "cell_type": "code",
      "source": [
        "df_train.info()"
      ],
      "metadata": {
        "colab": {
          "base_uri": "https://localhost:8080/"
        },
        "id": "IDPTsiYuuUmR",
        "outputId": "d684e13b-b5e4-4ef9-b56c-241f89e56886"
      },
      "execution_count": 16,
      "outputs": [
        {
          "output_type": "stream",
          "name": "stdout",
          "text": [
            "<class 'pandas.core.frame.DataFrame'>\n",
            "RangeIndex: 2000 entries, 0 to 1999\n",
            "Data columns (total 21 columns):\n",
            " #   Column         Non-Null Count  Dtype  \n",
            "---  ------         --------------  -----  \n",
            " 0   battery_power  2000 non-null   int64  \n",
            " 1   blue           2000 non-null   int64  \n",
            " 2   clock_speed    2000 non-null   float64\n",
            " 3   dual_sim       2000 non-null   int64  \n",
            " 4   fc             2000 non-null   int64  \n",
            " 5   four_g         2000 non-null   int64  \n",
            " 6   int_memory     2000 non-null   int64  \n",
            " 7   m_dep          2000 non-null   float64\n",
            " 8   mobile_wt      2000 non-null   int64  \n",
            " 9   n_cores        2000 non-null   int64  \n",
            " 10  pc             2000 non-null   int64  \n",
            " 11  px_height      2000 non-null   int64  \n",
            " 12  px_width       2000 non-null   int64  \n",
            " 13  ram            2000 non-null   int64  \n",
            " 14  sc_h           2000 non-null   int64  \n",
            " 15  sc_w           2000 non-null   int64  \n",
            " 16  talk_time      2000 non-null   int64  \n",
            " 17  three_g        2000 non-null   int64  \n",
            " 18  touch_screen   2000 non-null   int64  \n",
            " 19  wifi           2000 non-null   int64  \n",
            " 20  price_range    2000 non-null   int64  \n",
            "dtypes: float64(2), int64(19)\n",
            "memory usage: 328.2 KB\n"
          ]
        }
      ]
    },
    {
      "cell_type": "code",
      "source": [
        "df_train.describe().T"
      ],
      "metadata": {
        "colab": {
          "base_uri": "https://localhost:8080/",
          "height": 708
        },
        "id": "kJ7npAn3usHa",
        "outputId": "0a81176b-7b7b-4d81-e5fd-5122f20ea0ee"
      },
      "execution_count": 18,
      "outputs": [
        {
          "output_type": "execute_result",
          "data": {
            "text/plain": [
              "                count        mean          std    min      25%     50%  \\\n",
              "battery_power  2000.0  1238.51850   439.418206  501.0   851.75  1226.0   \n",
              "blue           2000.0     0.49500     0.500100    0.0     0.00     0.0   \n",
              "clock_speed    2000.0     1.52225     0.816004    0.5     0.70     1.5   \n",
              "dual_sim       2000.0     0.50950     0.500035    0.0     0.00     1.0   \n",
              "fc             2000.0     4.30950     4.341444    0.0     1.00     3.0   \n",
              "four_g         2000.0     0.52150     0.499662    0.0     0.00     1.0   \n",
              "int_memory     2000.0    32.04650    18.145715    2.0    16.00    32.0   \n",
              "m_dep          2000.0     0.50175     0.288416    0.1     0.20     0.5   \n",
              "mobile_wt      2000.0   140.24900    35.399655   80.0   109.00   141.0   \n",
              "n_cores        2000.0     4.52050     2.287837    1.0     3.00     4.0   \n",
              "pc             2000.0     9.91650     6.064315    0.0     5.00    10.0   \n",
              "px_height      2000.0   645.10800   443.780811    0.0   282.75   564.0   \n",
              "px_width       2000.0  1251.51550   432.199447  500.0   874.75  1247.0   \n",
              "ram            2000.0  2124.21300  1084.732044  256.0  1207.50  2146.5   \n",
              "sc_h           2000.0    12.30650     4.213245    5.0     9.00    12.0   \n",
              "sc_w           2000.0     5.76700     4.356398    0.0     2.00     5.0   \n",
              "talk_time      2000.0    11.01100     5.463955    2.0     6.00    11.0   \n",
              "three_g        2000.0     0.76150     0.426273    0.0     1.00     1.0   \n",
              "touch_screen   2000.0     0.50300     0.500116    0.0     0.00     1.0   \n",
              "wifi           2000.0     0.50700     0.500076    0.0     0.00     1.0   \n",
              "price_range    2000.0     1.50000     1.118314    0.0     0.75     1.5   \n",
              "\n",
              "                   75%     max  \n",
              "battery_power  1615.25  1998.0  \n",
              "blue              1.00     1.0  \n",
              "clock_speed       2.20     3.0  \n",
              "dual_sim          1.00     1.0  \n",
              "fc                7.00    19.0  \n",
              "four_g            1.00     1.0  \n",
              "int_memory       48.00    64.0  \n",
              "m_dep             0.80     1.0  \n",
              "mobile_wt       170.00   200.0  \n",
              "n_cores           7.00     8.0  \n",
              "pc               15.00    20.0  \n",
              "px_height       947.25  1960.0  \n",
              "px_width       1633.00  1998.0  \n",
              "ram            3064.50  3998.0  \n",
              "sc_h             16.00    19.0  \n",
              "sc_w              9.00    18.0  \n",
              "talk_time        16.00    20.0  \n",
              "three_g           1.00     1.0  \n",
              "touch_screen      1.00     1.0  \n",
              "wifi              1.00     1.0  \n",
              "price_range       2.25     3.0  "
            ],
            "text/html": [
              "\n",
              "  <div id=\"df-32228e84-c0b5-4469-8d35-98f45e05c1f8\">\n",
              "    <div class=\"colab-df-container\">\n",
              "      <div>\n",
              "<style scoped>\n",
              "    .dataframe tbody tr th:only-of-type {\n",
              "        vertical-align: middle;\n",
              "    }\n",
              "\n",
              "    .dataframe tbody tr th {\n",
              "        vertical-align: top;\n",
              "    }\n",
              "\n",
              "    .dataframe thead th {\n",
              "        text-align: right;\n",
              "    }\n",
              "</style>\n",
              "<table border=\"1\" class=\"dataframe\">\n",
              "  <thead>\n",
              "    <tr style=\"text-align: right;\">\n",
              "      <th></th>\n",
              "      <th>count</th>\n",
              "      <th>mean</th>\n",
              "      <th>std</th>\n",
              "      <th>min</th>\n",
              "      <th>25%</th>\n",
              "      <th>50%</th>\n",
              "      <th>75%</th>\n",
              "      <th>max</th>\n",
              "    </tr>\n",
              "  </thead>\n",
              "  <tbody>\n",
              "    <tr>\n",
              "      <th>battery_power</th>\n",
              "      <td>2000.0</td>\n",
              "      <td>1238.51850</td>\n",
              "      <td>439.418206</td>\n",
              "      <td>501.0</td>\n",
              "      <td>851.75</td>\n",
              "      <td>1226.0</td>\n",
              "      <td>1615.25</td>\n",
              "      <td>1998.0</td>\n",
              "    </tr>\n",
              "    <tr>\n",
              "      <th>blue</th>\n",
              "      <td>2000.0</td>\n",
              "      <td>0.49500</td>\n",
              "      <td>0.500100</td>\n",
              "      <td>0.0</td>\n",
              "      <td>0.00</td>\n",
              "      <td>0.0</td>\n",
              "      <td>1.00</td>\n",
              "      <td>1.0</td>\n",
              "    </tr>\n",
              "    <tr>\n",
              "      <th>clock_speed</th>\n",
              "      <td>2000.0</td>\n",
              "      <td>1.52225</td>\n",
              "      <td>0.816004</td>\n",
              "      <td>0.5</td>\n",
              "      <td>0.70</td>\n",
              "      <td>1.5</td>\n",
              "      <td>2.20</td>\n",
              "      <td>3.0</td>\n",
              "    </tr>\n",
              "    <tr>\n",
              "      <th>dual_sim</th>\n",
              "      <td>2000.0</td>\n",
              "      <td>0.50950</td>\n",
              "      <td>0.500035</td>\n",
              "      <td>0.0</td>\n",
              "      <td>0.00</td>\n",
              "      <td>1.0</td>\n",
              "      <td>1.00</td>\n",
              "      <td>1.0</td>\n",
              "    </tr>\n",
              "    <tr>\n",
              "      <th>fc</th>\n",
              "      <td>2000.0</td>\n",
              "      <td>4.30950</td>\n",
              "      <td>4.341444</td>\n",
              "      <td>0.0</td>\n",
              "      <td>1.00</td>\n",
              "      <td>3.0</td>\n",
              "      <td>7.00</td>\n",
              "      <td>19.0</td>\n",
              "    </tr>\n",
              "    <tr>\n",
              "      <th>four_g</th>\n",
              "      <td>2000.0</td>\n",
              "      <td>0.52150</td>\n",
              "      <td>0.499662</td>\n",
              "      <td>0.0</td>\n",
              "      <td>0.00</td>\n",
              "      <td>1.0</td>\n",
              "      <td>1.00</td>\n",
              "      <td>1.0</td>\n",
              "    </tr>\n",
              "    <tr>\n",
              "      <th>int_memory</th>\n",
              "      <td>2000.0</td>\n",
              "      <td>32.04650</td>\n",
              "      <td>18.145715</td>\n",
              "      <td>2.0</td>\n",
              "      <td>16.00</td>\n",
              "      <td>32.0</td>\n",
              "      <td>48.00</td>\n",
              "      <td>64.0</td>\n",
              "    </tr>\n",
              "    <tr>\n",
              "      <th>m_dep</th>\n",
              "      <td>2000.0</td>\n",
              "      <td>0.50175</td>\n",
              "      <td>0.288416</td>\n",
              "      <td>0.1</td>\n",
              "      <td>0.20</td>\n",
              "      <td>0.5</td>\n",
              "      <td>0.80</td>\n",
              "      <td>1.0</td>\n",
              "    </tr>\n",
              "    <tr>\n",
              "      <th>mobile_wt</th>\n",
              "      <td>2000.0</td>\n",
              "      <td>140.24900</td>\n",
              "      <td>35.399655</td>\n",
              "      <td>80.0</td>\n",
              "      <td>109.00</td>\n",
              "      <td>141.0</td>\n",
              "      <td>170.00</td>\n",
              "      <td>200.0</td>\n",
              "    </tr>\n",
              "    <tr>\n",
              "      <th>n_cores</th>\n",
              "      <td>2000.0</td>\n",
              "      <td>4.52050</td>\n",
              "      <td>2.287837</td>\n",
              "      <td>1.0</td>\n",
              "      <td>3.00</td>\n",
              "      <td>4.0</td>\n",
              "      <td>7.00</td>\n",
              "      <td>8.0</td>\n",
              "    </tr>\n",
              "    <tr>\n",
              "      <th>pc</th>\n",
              "      <td>2000.0</td>\n",
              "      <td>9.91650</td>\n",
              "      <td>6.064315</td>\n",
              "      <td>0.0</td>\n",
              "      <td>5.00</td>\n",
              "      <td>10.0</td>\n",
              "      <td>15.00</td>\n",
              "      <td>20.0</td>\n",
              "    </tr>\n",
              "    <tr>\n",
              "      <th>px_height</th>\n",
              "      <td>2000.0</td>\n",
              "      <td>645.10800</td>\n",
              "      <td>443.780811</td>\n",
              "      <td>0.0</td>\n",
              "      <td>282.75</td>\n",
              "      <td>564.0</td>\n",
              "      <td>947.25</td>\n",
              "      <td>1960.0</td>\n",
              "    </tr>\n",
              "    <tr>\n",
              "      <th>px_width</th>\n",
              "      <td>2000.0</td>\n",
              "      <td>1251.51550</td>\n",
              "      <td>432.199447</td>\n",
              "      <td>500.0</td>\n",
              "      <td>874.75</td>\n",
              "      <td>1247.0</td>\n",
              "      <td>1633.00</td>\n",
              "      <td>1998.0</td>\n",
              "    </tr>\n",
              "    <tr>\n",
              "      <th>ram</th>\n",
              "      <td>2000.0</td>\n",
              "      <td>2124.21300</td>\n",
              "      <td>1084.732044</td>\n",
              "      <td>256.0</td>\n",
              "      <td>1207.50</td>\n",
              "      <td>2146.5</td>\n",
              "      <td>3064.50</td>\n",
              "      <td>3998.0</td>\n",
              "    </tr>\n",
              "    <tr>\n",
              "      <th>sc_h</th>\n",
              "      <td>2000.0</td>\n",
              "      <td>12.30650</td>\n",
              "      <td>4.213245</td>\n",
              "      <td>5.0</td>\n",
              "      <td>9.00</td>\n",
              "      <td>12.0</td>\n",
              "      <td>16.00</td>\n",
              "      <td>19.0</td>\n",
              "    </tr>\n",
              "    <tr>\n",
              "      <th>sc_w</th>\n",
              "      <td>2000.0</td>\n",
              "      <td>5.76700</td>\n",
              "      <td>4.356398</td>\n",
              "      <td>0.0</td>\n",
              "      <td>2.00</td>\n",
              "      <td>5.0</td>\n",
              "      <td>9.00</td>\n",
              "      <td>18.0</td>\n",
              "    </tr>\n",
              "    <tr>\n",
              "      <th>talk_time</th>\n",
              "      <td>2000.0</td>\n",
              "      <td>11.01100</td>\n",
              "      <td>5.463955</td>\n",
              "      <td>2.0</td>\n",
              "      <td>6.00</td>\n",
              "      <td>11.0</td>\n",
              "      <td>16.00</td>\n",
              "      <td>20.0</td>\n",
              "    </tr>\n",
              "    <tr>\n",
              "      <th>three_g</th>\n",
              "      <td>2000.0</td>\n",
              "      <td>0.76150</td>\n",
              "      <td>0.426273</td>\n",
              "      <td>0.0</td>\n",
              "      <td>1.00</td>\n",
              "      <td>1.0</td>\n",
              "      <td>1.00</td>\n",
              "      <td>1.0</td>\n",
              "    </tr>\n",
              "    <tr>\n",
              "      <th>touch_screen</th>\n",
              "      <td>2000.0</td>\n",
              "      <td>0.50300</td>\n",
              "      <td>0.500116</td>\n",
              "      <td>0.0</td>\n",
              "      <td>0.00</td>\n",
              "      <td>1.0</td>\n",
              "      <td>1.00</td>\n",
              "      <td>1.0</td>\n",
              "    </tr>\n",
              "    <tr>\n",
              "      <th>wifi</th>\n",
              "      <td>2000.0</td>\n",
              "      <td>0.50700</td>\n",
              "      <td>0.500076</td>\n",
              "      <td>0.0</td>\n",
              "      <td>0.00</td>\n",
              "      <td>1.0</td>\n",
              "      <td>1.00</td>\n",
              "      <td>1.0</td>\n",
              "    </tr>\n",
              "    <tr>\n",
              "      <th>price_range</th>\n",
              "      <td>2000.0</td>\n",
              "      <td>1.50000</td>\n",
              "      <td>1.118314</td>\n",
              "      <td>0.0</td>\n",
              "      <td>0.75</td>\n",
              "      <td>1.5</td>\n",
              "      <td>2.25</td>\n",
              "      <td>3.0</td>\n",
              "    </tr>\n",
              "  </tbody>\n",
              "</table>\n",
              "</div>\n",
              "      <button class=\"colab-df-convert\" onclick=\"convertToInteractive('df-32228e84-c0b5-4469-8d35-98f45e05c1f8')\"\n",
              "              title=\"Convert this dataframe to an interactive table.\"\n",
              "              style=\"display:none;\">\n",
              "        \n",
              "  <svg xmlns=\"http://www.w3.org/2000/svg\" height=\"24px\"viewBox=\"0 0 24 24\"\n",
              "       width=\"24px\">\n",
              "    <path d=\"M0 0h24v24H0V0z\" fill=\"none\"/>\n",
              "    <path d=\"M18.56 5.44l.94 2.06.94-2.06 2.06-.94-2.06-.94-.94-2.06-.94 2.06-2.06.94zm-11 1L8.5 8.5l.94-2.06 2.06-.94-2.06-.94L8.5 2.5l-.94 2.06-2.06.94zm10 10l.94 2.06.94-2.06 2.06-.94-2.06-.94-.94-2.06-.94 2.06-2.06.94z\"/><path d=\"M17.41 7.96l-1.37-1.37c-.4-.4-.92-.59-1.43-.59-.52 0-1.04.2-1.43.59L10.3 9.45l-7.72 7.72c-.78.78-.78 2.05 0 2.83L4 21.41c.39.39.9.59 1.41.59.51 0 1.02-.2 1.41-.59l7.78-7.78 2.81-2.81c.8-.78.8-2.07 0-2.86zM5.41 20L4 18.59l7.72-7.72 1.47 1.35L5.41 20z\"/>\n",
              "  </svg>\n",
              "      </button>\n",
              "      \n",
              "  <style>\n",
              "    .colab-df-container {\n",
              "      display:flex;\n",
              "      flex-wrap:wrap;\n",
              "      gap: 12px;\n",
              "    }\n",
              "\n",
              "    .colab-df-convert {\n",
              "      background-color: #E8F0FE;\n",
              "      border: none;\n",
              "      border-radius: 50%;\n",
              "      cursor: pointer;\n",
              "      display: none;\n",
              "      fill: #1967D2;\n",
              "      height: 32px;\n",
              "      padding: 0 0 0 0;\n",
              "      width: 32px;\n",
              "    }\n",
              "\n",
              "    .colab-df-convert:hover {\n",
              "      background-color: #E2EBFA;\n",
              "      box-shadow: 0px 1px 2px rgba(60, 64, 67, 0.3), 0px 1px 3px 1px rgba(60, 64, 67, 0.15);\n",
              "      fill: #174EA6;\n",
              "    }\n",
              "\n",
              "    [theme=dark] .colab-df-convert {\n",
              "      background-color: #3B4455;\n",
              "      fill: #D2E3FC;\n",
              "    }\n",
              "\n",
              "    [theme=dark] .colab-df-convert:hover {\n",
              "      background-color: #434B5C;\n",
              "      box-shadow: 0px 1px 3px 1px rgba(0, 0, 0, 0.15);\n",
              "      filter: drop-shadow(0px 1px 2px rgba(0, 0, 0, 0.3));\n",
              "      fill: #FFFFFF;\n",
              "    }\n",
              "  </style>\n",
              "\n",
              "      <script>\n",
              "        const buttonEl =\n",
              "          document.querySelector('#df-32228e84-c0b5-4469-8d35-98f45e05c1f8 button.colab-df-convert');\n",
              "        buttonEl.style.display =\n",
              "          google.colab.kernel.accessAllowed ? 'block' : 'none';\n",
              "\n",
              "        async function convertToInteractive(key) {\n",
              "          const element = document.querySelector('#df-32228e84-c0b5-4469-8d35-98f45e05c1f8');\n",
              "          const dataTable =\n",
              "            await google.colab.kernel.invokeFunction('convertToInteractive',\n",
              "                                                     [key], {});\n",
              "          if (!dataTable) return;\n",
              "\n",
              "          const docLinkHtml = 'Like what you see? Visit the ' +\n",
              "            '<a target=\"_blank\" href=https://colab.research.google.com/notebooks/data_table.ipynb>data table notebook</a>'\n",
              "            + ' to learn more about interactive tables.';\n",
              "          element.innerHTML = '';\n",
              "          dataTable['output_type'] = 'display_data';\n",
              "          await google.colab.output.renderOutput(dataTable, element);\n",
              "          const docLink = document.createElement('div');\n",
              "          docLink.innerHTML = docLinkHtml;\n",
              "          element.appendChild(docLink);\n",
              "        }\n",
              "      </script>\n",
              "    </div>\n",
              "  </div>\n",
              "  "
            ]
          },
          "metadata": {},
          "execution_count": 18
        }
      ]
    },
    {
      "cell_type": "code",
      "source": [
        "df_train['price_range'].value_counts()"
      ],
      "metadata": {
        "colab": {
          "base_uri": "https://localhost:8080/"
        },
        "id": "ZO0IcOg7vIHv",
        "outputId": "4da0b4a1-1953-4504-8e2a-6240236c672c"
      },
      "execution_count": 19,
      "outputs": [
        {
          "output_type": "execute_result",
          "data": {
            "text/plain": [
              "1    500\n",
              "2    500\n",
              "3    500\n",
              "0    500\n",
              "Name: price_range, dtype: int64"
            ]
          },
          "metadata": {},
          "execution_count": 19
        }
      ]
    },
    {
      "cell_type": "markdown",
      "source": [
        "#### separte data"
      ],
      "metadata": {
        "id": "u_B_LuMcwRxS"
      }
    },
    {
      "cell_type": "code",
      "source": [
        "data, target = df_train.drop(columns=['price_range']), df_train['price_range']"
      ],
      "metadata": {
        "id": "NWjoGIVvwdvz"
      },
      "execution_count": 20,
      "outputs": []
    },
    {
      "cell_type": "markdown",
      "source": [
        "#### **Splitting data**"
      ],
      "metadata": {
        "id": "g5jf5xTyvwgo"
      }
    },
    {
      "cell_type": "code",
      "source": [
        "X_train, X_dev, y_train, y_dev = model_selection.train_test_split(\n",
        "    data,\n",
        "    target,\n",
        "    test_size=.2,\n",
        "    random_state=42,\n",
        "\n",
        ")\n",
        "\n",
        "X_train.shape, y_train.shape, X_dev.shape, y_dev.shape"
      ],
      "metadata": {
        "colab": {
          "base_uri": "https://localhost:8080/"
        },
        "id": "JrziGJSevkek",
        "outputId": "dae1a01d-0d0a-4119-fa2d-02f0c60dfe35"
      },
      "execution_count": 21,
      "outputs": [
        {
          "output_type": "execute_result",
          "data": {
            "text/plain": [
              "((1600, 20), (1600,), (400, 20), (400,))"
            ]
          },
          "metadata": {},
          "execution_count": 21
        }
      ]
    },
    {
      "cell_type": "code",
      "source": [
        "numerical = X_train.columns\n",
        "numerical"
      ],
      "metadata": {
        "colab": {
          "base_uri": "https://localhost:8080/"
        },
        "id": "i-DWCUQ3w9RA",
        "outputId": "a05f2742-92ae-445e-efed-fec408f604b7"
      },
      "execution_count": 22,
      "outputs": [
        {
          "output_type": "execute_result",
          "data": {
            "text/plain": [
              "Index(['battery_power', 'blue', 'clock_speed', 'dual_sim', 'fc', 'four_g',\n",
              "       'int_memory', 'm_dep', 'mobile_wt', 'n_cores', 'pc', 'px_height',\n",
              "       'px_width', 'ram', 'sc_h', 'sc_w', 'talk_time', 'three_g',\n",
              "       'touch_screen', 'wifi'],\n",
              "      dtype='object')"
            ]
          },
          "metadata": {},
          "execution_count": 22
        }
      ]
    },
    {
      "cell_type": "code",
      "source": [
        "processor = ColumnTransformer([\n",
        "    ('sca', StandardScaler(), numerical)\n",
        "])\n",
        "\n",
        "models = [\n",
        "    DummyClassifier,\n",
        "    LogisticRegression,\n",
        "    tree.DecisionTreeClassifier,\n",
        "    ensemble.HistGradientBoostingClassifier,\n",
        "    ensemble.RandomForestClassifier,\n",
        "    xgboost.XGBClassifier,\n",
        "]\n",
        "\n",
        "model_names = [\n",
        "    'DummyClassifier',\n",
        "    'LogisticRegression',\n",
        "    'DecisionTreeClassifier',\n",
        "    'HistGradientBoostingClassifier',\n",
        "    'RandomForestClassifier',\n",
        "    'XGBClassifier',\n",
        "]\n",
        "results = {}\n",
        "\n",
        "for model in models:\n",
        "  if model == LogisticRegression:\n",
        "    cls = Pipeline([\n",
        "        ('processor',processor), \n",
        "        ('classifier', model())\n",
        "    ])\n",
        "  else:\n",
        "    cls = model()\n",
        "  \n",
        "  kfold = model_selection.KFold(\n",
        "      n_splits=10,\n",
        "      shuffle=True,\n",
        "      random_state=42,\n",
        "  )\n",
        "  cv_results = model_selection.cross_validate(\n",
        "      cls,\n",
        "      data,\n",
        "      target,\n",
        "      cv=kfold,\n",
        "      scoring='accuracy',\n",
        "      n_jobs=-1\n",
        "  )\n",
        "\n",
        "  for name in model_names:\n",
        "    results[name] = cv_results\n",
        "  \n",
        "  if model == LogisticRegression:\n",
        "    print(f\"LogisticRegression AUC: {cv_results['test_score'].mean(): .3f} \"\n",
        "          f\"+/- STD: {cv_results['test_score'].std(): .3f}\"\n",
        "    )\n",
        "\n",
        "  else:\n",
        "    print(f\"{model.__name__:22} AUC: {cv_results['test_score'].mean(): .3f} \"\n",
        "         f\"+/- STD: {cv_results['test_score'].std(): .3f}\"\n",
        "    )\n"
      ],
      "metadata": {
        "colab": {
          "base_uri": "https://localhost:8080/"
        },
        "id": "uvsmR53XxO2t",
        "outputId": "80e05cc9-0312-4723-c1fd-ca2793ee5746"
      },
      "execution_count": 50,
      "outputs": [
        {
          "output_type": "stream",
          "name": "stdout",
          "text": [
            "DummyClassifier        AUC:  0.225 +/- STD:  0.012\n",
            "LogisticRegression AUC:  0.963 +/- STD:  0.019\n",
            "DecisionTreeClassifier AUC:  0.831 +/- STD:  0.016\n",
            "HistGradientBoostingClassifier AUC:  0.912 +/- STD:  0.017\n",
            "RandomForestClassifier AUC:  0.874 +/- STD:  0.016\n",
            "XGBClassifier          AUC:  0.907 +/- STD:  0.017\n"
          ]
        }
      ]
    },
    {
      "cell_type": "code",
      "source": [
        "results"
      ],
      "metadata": {
        "colab": {
          "base_uri": "https://localhost:8080/"
        },
        "id": "NAbQN1138Jja",
        "outputId": "2303bce7-a020-4eee-c2d1-9b3472520f7d"
      },
      "execution_count": 51,
      "outputs": [
        {
          "output_type": "execute_result",
          "data": {
            "text/plain": [
              "{'DummyClassifier': {'fit_time': array([0.65855384, 0.64318848, 0.63045335, 0.63562155, 0.62793231,\n",
              "         0.63835859, 0.63461614, 0.63517594, 0.63386059, 0.63848782]),\n",
              "  'score_time': array([0.00427032, 0.00433278, 0.00429797, 0.00422478, 0.0046978 ,\n",
              "         0.00455785, 0.00397515, 0.00416088, 0.00396085, 0.00314879]),\n",
              "  'test_score': array([0.9  , 0.885, 0.89 , 0.92 , 0.93 , 0.89 , 0.93 , 0.93 , 0.905,\n",
              "         0.895])},\n",
              " 'LogisticRegression': {'fit_time': array([0.65855384, 0.64318848, 0.63045335, 0.63562155, 0.62793231,\n",
              "         0.63835859, 0.63461614, 0.63517594, 0.63386059, 0.63848782]),\n",
              "  'score_time': array([0.00427032, 0.00433278, 0.00429797, 0.00422478, 0.0046978 ,\n",
              "         0.00455785, 0.00397515, 0.00416088, 0.00396085, 0.00314879]),\n",
              "  'test_score': array([0.9  , 0.885, 0.89 , 0.92 , 0.93 , 0.89 , 0.93 , 0.93 , 0.905,\n",
              "         0.895])},\n",
              " 'DecisionTreeClassifier': {'fit_time': array([0.65855384, 0.64318848, 0.63045335, 0.63562155, 0.62793231,\n",
              "         0.63835859, 0.63461614, 0.63517594, 0.63386059, 0.63848782]),\n",
              "  'score_time': array([0.00427032, 0.00433278, 0.00429797, 0.00422478, 0.0046978 ,\n",
              "         0.00455785, 0.00397515, 0.00416088, 0.00396085, 0.00314879]),\n",
              "  'test_score': array([0.9  , 0.885, 0.89 , 0.92 , 0.93 , 0.89 , 0.93 , 0.93 , 0.905,\n",
              "         0.895])},\n",
              " 'HistGradientBoostingClassifier': {'fit_time': array([0.65855384, 0.64318848, 0.63045335, 0.63562155, 0.62793231,\n",
              "         0.63835859, 0.63461614, 0.63517594, 0.63386059, 0.63848782]),\n",
              "  'score_time': array([0.00427032, 0.00433278, 0.00429797, 0.00422478, 0.0046978 ,\n",
              "         0.00455785, 0.00397515, 0.00416088, 0.00396085, 0.00314879]),\n",
              "  'test_score': array([0.9  , 0.885, 0.89 , 0.92 , 0.93 , 0.89 , 0.93 , 0.93 , 0.905,\n",
              "         0.895])},\n",
              " 'RandomForestClassifier': {'fit_time': array([0.65855384, 0.64318848, 0.63045335, 0.63562155, 0.62793231,\n",
              "         0.63835859, 0.63461614, 0.63517594, 0.63386059, 0.63848782]),\n",
              "  'score_time': array([0.00427032, 0.00433278, 0.00429797, 0.00422478, 0.0046978 ,\n",
              "         0.00455785, 0.00397515, 0.00416088, 0.00396085, 0.00314879]),\n",
              "  'test_score': array([0.9  , 0.885, 0.89 , 0.92 , 0.93 , 0.89 , 0.93 , 0.93 , 0.905,\n",
              "         0.895])},\n",
              " 'XGBClassifier': {'fit_time': array([0.65855384, 0.64318848, 0.63045335, 0.63562155, 0.62793231,\n",
              "         0.63835859, 0.63461614, 0.63517594, 0.63386059, 0.63848782]),\n",
              "  'score_time': array([0.00427032, 0.00433278, 0.00429797, 0.00422478, 0.0046978 ,\n",
              "         0.00455785, 0.00397515, 0.00416088, 0.00396085, 0.00314879]),\n",
              "  'test_score': array([0.9  , 0.885, 0.89 , 0.92 , 0.93 , 0.89 , 0.93 , 0.93 , 0.905,\n",
              "         0.895])}}"
            ]
          },
          "metadata": {},
          "execution_count": 51
        }
      ]
    },
    {
      "cell_type": "markdown",
      "source": [
        "# Hyper parameters tuning for best models"
      ],
      "metadata": {
        "id": "Wg0_gzcJCfCc"
      }
    },
    {
      "cell_type": "markdown",
      "source": [
        "#### ** Randomized search cv**"
      ],
      "metadata": {
        "id": "KREnhHj2DKOa"
      }
    },
    {
      "cell_type": "code",
      "source": [
        "from scipy.stats import loguniform\n",
        "\n",
        "\n",
        "cls = Pipeline([\n",
        "        ('processor',processor), \n",
        "        ('classifier', LogisticRegression(max_iter=1000))\n",
        "    ])\n",
        "\n",
        "best_models = [ensemble.HistGradientBoostingClassifier, cls]\n",
        "\n",
        "param_distributions = [\n",
        "    {\n",
        "        'loss': ['auto', 'categorical_crossentropy'],\n",
        "        'learning_rate': loguniform(0.001, 10),\n",
        "        'max_leaf_nodes': [2, 3, 5, 10, 15],\n",
        "        'max_depth': [1, 3, 5, 15],\n",
        "        'min_samples_leaf': [1, 2, 3, 5, 10, 20]\n",
        "    },\n",
        "    {\n",
        "        'classifier__penalty': ['none', 'l2'],\n",
        "        'classifier__C': [1.0, 2., 5, 10, 15],\n",
        "    },\n",
        "]\n",
        "\n",
        "kfold = model_selection.KFold(\n",
        "      n_splits=10,\n",
        "      shuffle=True,\n",
        "      random_state=42,\n",
        "  )\n",
        "\n",
        "model_random_search = {}\n",
        "names = ['HistGradientBoostingClassifier', 'LogisticRegression']\n",
        "\n",
        "for model, param, name in zip(best_models, param_distributions, names):\n",
        "  if name == 'HistGradientBoostingClassifier':\n",
        "    model = model()\n",
        "\n",
        "  model_random_search[name] = model_selection.RandomizedSearchCV(\n",
        "      model,\n",
        "      param_distributions=param,\n",
        "      n_iter = 20,\n",
        "      cv = kfold,\n",
        "      verbose=1,\n",
        "      n_jobs=-1,\n",
        "\n",
        "  )"
      ],
      "metadata": {
        "id": "nnR63Dh5A3dR"
      },
      "execution_count": 145,
      "outputs": []
    },
    {
      "cell_type": "code",
      "source": [
        "%%time\n",
        "\n",
        "results = []\n",
        "\n",
        "for name, estim in model_random_search.items():\n",
        "  cv_results = model_selection.cross_validate(\n",
        "      estim,\n",
        "      data,\n",
        "      target,\n",
        "      cv=kfold,\n",
        "      n_jobs=-1,\n",
        "      return_estimator=True,\n",
        "      verbose=10,\n",
        "\n",
        "  )\n",
        "  results.append({name:cv_results})"
      ],
      "metadata": {
        "colab": {
          "base_uri": "https://localhost:8080/"
        },
        "id": "pLekhIVFIRmJ",
        "outputId": "a116526b-4b6f-400c-e0fe-473959e7febf"
      },
      "execution_count": 146,
      "outputs": [
        {
          "output_type": "stream",
          "name": "stderr",
          "text": [
            "[Parallel(n_jobs=-1)]: Using backend LokyBackend with 2 concurrent workers.\n",
            "[Parallel(n_jobs=-1)]: Done   1 tasks      | elapsed:   55.6s\n",
            "[Parallel(n_jobs=-1)]: Done   4 tasks      | elapsed:  2.2min\n",
            "[Parallel(n_jobs=-1)]: Done  10 out of  10 | elapsed:  5.2min finished\n",
            "[Parallel(n_jobs=-1)]: Using backend LokyBackend with 2 concurrent workers.\n",
            "[Parallel(n_jobs=-1)]: Done   1 tasks      | elapsed:   48.3s\n",
            "[Parallel(n_jobs=-1)]: Done   4 tasks      | elapsed:  1.9min\n"
          ]
        },
        {
          "output_type": "stream",
          "name": "stdout",
          "text": [
            "CPU times: user 4.2 s, sys: 603 ms, total: 4.8 s\n",
            "Wall time: 9min 14s\n"
          ]
        },
        {
          "output_type": "stream",
          "name": "stderr",
          "text": [
            "[Parallel(n_jobs=-1)]: Done  10 out of  10 | elapsed:  4.1min finished\n"
          ]
        }
      ]
    },
    {
      "cell_type": "code",
      "source": [
        "for i, name in zip(range(len(results)), names):\n",
        "  for fold_idx, estimator in enumerate(results[i][name]['estimator']):\n",
        "    # print(results[i][name]['estimator'])\n",
        "    print(name)\n",
        "    print(f\"Best parameter found on fold #{fold_idx + 1}\")\n",
        "    print(f\"{estimator.best_params_}\")\n",
        "    print()\n",
        "    print('**-**' * 20)\n",
        "    print()"
      ],
      "metadata": {
        "colab": {
          "base_uri": "https://localhost:8080/"
        },
        "id": "fu_yl998YMQ8",
        "outputId": "21a5e9cc-31e6-4bb2-b9bb-bbaa0b6d4b2a"
      },
      "execution_count": 147,
      "outputs": [
        {
          "output_type": "stream",
          "name": "stdout",
          "text": [
            "HistGradientBoostingClassifier\n",
            "Best parameter found on fold #1\n",
            "{'learning_rate': 0.13014809288519916, 'loss': 'auto', 'max_depth': 3, 'max_leaf_nodes': 10, 'min_samples_leaf': 3}\n",
            "\n",
            "**-****-****-****-****-****-****-****-****-****-****-****-****-****-****-****-****-****-****-****-**\n",
            "\n",
            "HistGradientBoostingClassifier\n",
            "Best parameter found on fold #2\n",
            "{'learning_rate': 0.2939777812528601, 'loss': 'auto', 'max_depth': 5, 'max_leaf_nodes': 3, 'min_samples_leaf': 20}\n",
            "\n",
            "**-****-****-****-****-****-****-****-****-****-****-****-****-****-****-****-****-****-****-****-**\n",
            "\n",
            "HistGradientBoostingClassifier\n",
            "Best parameter found on fold #3\n",
            "{'learning_rate': 0.5316066387797617, 'loss': 'auto', 'max_depth': 3, 'max_leaf_nodes': 3, 'min_samples_leaf': 1}\n",
            "\n",
            "**-****-****-****-****-****-****-****-****-****-****-****-****-****-****-****-****-****-****-****-**\n",
            "\n",
            "HistGradientBoostingClassifier\n",
            "Best parameter found on fold #4\n",
            "{'learning_rate': 0.24498401345824417, 'loss': 'categorical_crossentropy', 'max_depth': 5, 'max_leaf_nodes': 3, 'min_samples_leaf': 1}\n",
            "\n",
            "**-****-****-****-****-****-****-****-****-****-****-****-****-****-****-****-****-****-****-****-**\n",
            "\n",
            "HistGradientBoostingClassifier\n",
            "Best parameter found on fold #5\n",
            "{'learning_rate': 0.9194709201433642, 'loss': 'categorical_crossentropy', 'max_depth': 5, 'max_leaf_nodes': 2, 'min_samples_leaf': 1}\n",
            "\n",
            "**-****-****-****-****-****-****-****-****-****-****-****-****-****-****-****-****-****-****-****-**\n",
            "\n",
            "HistGradientBoostingClassifier\n",
            "Best parameter found on fold #6\n",
            "{'learning_rate': 0.14997373143423, 'loss': 'categorical_crossentropy', 'max_depth': 3, 'max_leaf_nodes': 5, 'min_samples_leaf': 10}\n",
            "\n",
            "**-****-****-****-****-****-****-****-****-****-****-****-****-****-****-****-****-****-****-****-**\n",
            "\n",
            "HistGradientBoostingClassifier\n",
            "Best parameter found on fold #7\n",
            "{'learning_rate': 0.4611618909389636, 'loss': 'categorical_crossentropy', 'max_depth': 3, 'max_leaf_nodes': 5, 'min_samples_leaf': 2}\n",
            "\n",
            "**-****-****-****-****-****-****-****-****-****-****-****-****-****-****-****-****-****-****-****-**\n",
            "\n",
            "HistGradientBoostingClassifier\n",
            "Best parameter found on fold #8\n",
            "{'learning_rate': 0.12302260921732246, 'loss': 'categorical_crossentropy', 'max_depth': 3, 'max_leaf_nodes': 10, 'min_samples_leaf': 10}\n",
            "\n",
            "**-****-****-****-****-****-****-****-****-****-****-****-****-****-****-****-****-****-****-****-**\n",
            "\n",
            "HistGradientBoostingClassifier\n",
            "Best parameter found on fold #9\n",
            "{'learning_rate': 0.15789371879060018, 'loss': 'categorical_crossentropy', 'max_depth': 3, 'max_leaf_nodes': 5, 'min_samples_leaf': 5}\n",
            "\n",
            "**-****-****-****-****-****-****-****-****-****-****-****-****-****-****-****-****-****-****-****-**\n",
            "\n",
            "HistGradientBoostingClassifier\n",
            "Best parameter found on fold #10\n",
            "{'learning_rate': 0.617301311507652, 'loss': 'categorical_crossentropy', 'max_depth': 1, 'max_leaf_nodes': 2, 'min_samples_leaf': 5}\n",
            "\n",
            "**-****-****-****-****-****-****-****-****-****-****-****-****-****-****-****-****-****-****-****-**\n",
            "\n",
            "LogisticRegression\n",
            "Best parameter found on fold #1\n",
            "{'classifier__penalty': 'l2', 'classifier__C': 5}\n",
            "\n",
            "**-****-****-****-****-****-****-****-****-****-****-****-****-****-****-****-****-****-****-****-**\n",
            "\n",
            "LogisticRegression\n",
            "Best parameter found on fold #2\n",
            "{'classifier__penalty': 'l2', 'classifier__C': 10}\n",
            "\n",
            "**-****-****-****-****-****-****-****-****-****-****-****-****-****-****-****-****-****-****-****-**\n",
            "\n",
            "LogisticRegression\n",
            "Best parameter found on fold #3\n",
            "{'classifier__penalty': 'l2', 'classifier__C': 2.0}\n",
            "\n",
            "**-****-****-****-****-****-****-****-****-****-****-****-****-****-****-****-****-****-****-****-**\n",
            "\n",
            "LogisticRegression\n",
            "Best parameter found on fold #4\n",
            "{'classifier__penalty': 'none', 'classifier__C': 1.0}\n",
            "\n",
            "**-****-****-****-****-****-****-****-****-****-****-****-****-****-****-****-****-****-****-****-**\n",
            "\n",
            "LogisticRegression\n",
            "Best parameter found on fold #5\n",
            "{'classifier__penalty': 'l2', 'classifier__C': 15}\n",
            "\n",
            "**-****-****-****-****-****-****-****-****-****-****-****-****-****-****-****-****-****-****-****-**\n",
            "\n",
            "LogisticRegression\n",
            "Best parameter found on fold #6\n",
            "{'classifier__penalty': 'none', 'classifier__C': 1.0}\n",
            "\n",
            "**-****-****-****-****-****-****-****-****-****-****-****-****-****-****-****-****-****-****-****-**\n",
            "\n",
            "LogisticRegression\n",
            "Best parameter found on fold #7\n",
            "{'classifier__penalty': 'l2', 'classifier__C': 10}\n",
            "\n",
            "**-****-****-****-****-****-****-****-****-****-****-****-****-****-****-****-****-****-****-****-**\n",
            "\n",
            "LogisticRegression\n",
            "Best parameter found on fold #8\n",
            "{'classifier__penalty': 'l2', 'classifier__C': 15}\n",
            "\n",
            "**-****-****-****-****-****-****-****-****-****-****-****-****-****-****-****-****-****-****-****-**\n",
            "\n",
            "LogisticRegression\n",
            "Best parameter found on fold #9\n",
            "{'classifier__penalty': 'l2', 'classifier__C': 10}\n",
            "\n",
            "**-****-****-****-****-****-****-****-****-****-****-****-****-****-****-****-****-****-****-****-**\n",
            "\n",
            "LogisticRegression\n",
            "Best parameter found on fold #10\n",
            "{'classifier__penalty': 'l2', 'classifier__C': 15}\n",
            "\n",
            "**-****-****-****-****-****-****-****-****-****-****-****-****-****-****-****-****-****-****-****-**\n",
            "\n"
          ]
        }
      ]
    },
    {
      "cell_type": "markdown",
      "source": [
        "We can constat that we obtain models with unstable hyperparameters."
      ],
      "metadata": {
        "id": "F92M3GUvo9zp"
      }
    },
    {
      "cell_type": "code",
      "source": [
        "param_distributions_histgrad = {\n",
        "        'loss': ['auto', 'categorical_crossentropy'],\n",
        "        'learning_rate': loguniform(0.001, 10),\n",
        "        'max_leaf_nodes': [2, 3, 5, 10, 15],\n",
        "        'max_depth': [1, 3, 5, 15],\n",
        "        'min_samples_leaf': [1, 2, 3, 5, 10, 20]\n",
        "    }\n",
        "\n",
        "classifier_histgrad = ensemble.HistGradientBoostingClassifier()\n",
        "\n",
        "model_histgrad = model_selection.RandomizedSearchCV(\n",
        "    classifier_histgrad,\n",
        "    param_distributions=param_distributions_histgrad,\n",
        "    n_iter=20,\n",
        "    scoring='accuracy',\n",
        "    verbose=10,\n",
        "    cv=kfold,\n",
        "    n_jobs=-1,\n",
        "    error_score='raise'\n",
        "\n",
        ").fit(X_train, y_train)\n",
        "\n",
        "print(f\"best score: {model_histgrad.best_score_}\")\n",
        "print('best parameters set: ')\n",
        "best_parameters = model_histgrad.best_estimator_.get_params()\n",
        "\n",
        "for param_name in sorted(param_distributions_histgrad.keys()):\n",
        "  print(f\"\\t {param_name}: {best_parameters[param_name]}\")"
      ],
      "metadata": {
        "colab": {
          "base_uri": "https://localhost:8080/"
        },
        "id": "xOz2-qLeeubJ",
        "outputId": "3e69fe11-22d0-4b5f-f833-8f8df27cd8b8"
      },
      "execution_count": 133,
      "outputs": [
        {
          "output_type": "stream",
          "name": "stdout",
          "text": [
            "Fitting 10 folds for each of 20 candidates, totalling 200 fits\n",
            "best score: 0.92125\n",
            "best parameters set: \n",
            "\t learning_rate: 0.1978294144382018\n",
            "\t loss: auto\n",
            "\t max_depth: 5\n",
            "\t max_leaf_nodes: 5\n",
            "\t min_samples_leaf: 2\n"
          ]
        }
      ]
    },
    {
      "cell_type": "code",
      "source": [
        "param_distributions_log_reg = {\n",
        "    'classifier__penalty': ['l2', 'none'],\n",
        "    'classifier__C': [1.0, 2., 5, 10, 15],\n",
        "}\n",
        "\n",
        "cls = Pipeline([\n",
        "        ('processor',processor), \n",
        "        ('classifier', LogisticRegression(max_iter=250))\n",
        "    ])\n",
        "\n",
        "model_logreg = model_selection.RandomizedSearchCV(\n",
        "    cls,\n",
        "    param_distributions=param_distributions_log_reg,\n",
        "    n_iter=20,\n",
        "    scoring='accuracy',\n",
        "    verbose=10,\n",
        "    cv=kfold,\n",
        "    n_jobs=-1,\n",
        "    error_score='raise'\n",
        "\n",
        ").fit(X_train, y_train)\n",
        "\n",
        "print(f\"best score: {model_logreg.best_score_}\")\n",
        "print('best parameters set: ')\n",
        "best_parameters = model_logreg.best_estimator_.get_params()\n",
        "\n",
        "for param_name in sorted(param_distributions_log_reg.keys()):\n",
        "  print(f\"\\t {param_name}: {best_parameters[param_name]}\")"
      ],
      "metadata": {
        "colab": {
          "base_uri": "https://localhost:8080/"
        },
        "id": "iFlFEU2ssMgk",
        "outputId": "db50e6c8-f387-4a1b-bb54-de5f553d4cb3"
      },
      "execution_count": 150,
      "outputs": [
        {
          "output_type": "stream",
          "name": "stderr",
          "text": [
            "/usr/local/lib/python3.7/dist-packages/sklearn/model_selection/_search.py:296: UserWarning: The total space of parameters 10 is smaller than n_iter=20. Running 10 iterations. For exhaustive searches, use GridSearchCV.\n",
            "  UserWarning,\n"
          ]
        },
        {
          "output_type": "stream",
          "name": "stdout",
          "text": [
            "Fitting 10 folds for each of 10 candidates, totalling 100 fits\n",
            "best score: 0.9662499999999999\n",
            "best parameters set: \n",
            "\t classifier__C: 1.0\n",
            "\t classifier__penalty: none\n"
          ]
        },
        {
          "output_type": "stream",
          "name": "stderr",
          "text": [
            "/usr/local/lib/python3.7/dist-packages/sklearn/linear_model/_logistic.py:818: ConvergenceWarning: lbfgs failed to converge (status=1):\n",
            "STOP: TOTAL NO. of ITERATIONS REACHED LIMIT.\n",
            "\n",
            "Increase the number of iterations (max_iter) or scale the data as shown in:\n",
            "    https://scikit-learn.org/stable/modules/preprocessing.html\n",
            "Please also refer to the documentation for alternative solver options:\n",
            "    https://scikit-learn.org/stable/modules/linear_model.html#logistic-regression\n",
            "  extra_warning_msg=_LOGISTIC_SOLVER_CONVERGENCE_MSG,\n"
          ]
        }
      ]
    },
    {
      "cell_type": "markdown",
      "source": [
        "# Hyperparameters Using Bayesian optimization with gaussian process"
      ],
      "metadata": {
        "id": "ss_OdJ4J1wS3"
      }
    },
    {
      "cell_type": "code",
      "source": [
        "!pip install git+https://github.com/scikit-optimize/scikit-optimize.git --quiet"
      ],
      "metadata": {
        "colab": {
          "base_uri": "https://localhost:8080/"
        },
        "id": "vL2pjvRy2F6n",
        "outputId": "a38affd6-9d52-4da2-d041-91f6d87e7cf8"
      },
      "execution_count": 152,
      "outputs": [
        {
          "output_type": "stream",
          "name": "stdout",
          "text": [
            "  Installing build dependencies ... \u001b[?25l\u001b[?25hdone\n",
            "  Getting requirements to build wheel ... \u001b[?25l\u001b[?25hdone\n",
            "    Preparing wheel metadata ... \u001b[?25l\u001b[?25hdone\n",
            "  Building wheel for scikit-optimize (PEP 517) ... \u001b[?25l\u001b[?25hdone\n"
          ]
        }
      ]
    },
    {
      "cell_type": "code",
      "source": [
        "from functools import partial\n",
        "from skopt import gp_minimize, space\n",
        "\n",
        "\n",
        "def optimize(params, param_names, x, y):\n",
        "  \"\"\" \n",
        "  The main optimization function.\n",
        "  This function takes all the arguments from the search space\n",
        "  and training features and targets. It then initializes\n",
        "  the models by setting the chosen parameters and runs\n",
        "  cross-validation and returns a negative accuracy score\n",
        "  :param params: list of params from gp_minimize\n",
        "  :param param_names: list of param names. order is important!\n",
        "  :param x: training data\n",
        "  :param y: labels/targets\n",
        "  :return: negative accuracy after 10 folds\n",
        "  \"\"\"\n",
        "\n",
        "  # convert params to dictionary\n",
        "  params = dict(zip(param_names, params))\n",
        "\n",
        "  # initialize model with current parameters\n",
        "  model = ensemble.HistGradientBoostingClassifier(**params)\n",
        "\n",
        "  # initialize k-fold\n",
        "  kf = model_selection.KFold(n_splits=10)\n",
        "\n",
        "  # initialize accuracy list\n",
        "  accuracies = []\n",
        "\n",
        "  # loop over all folds\n",
        "  for idx in kf.split(X=x, y=y):\n",
        "    train_idx, dev_idx = idx[0], idx[1]\n",
        "    xtrain = x[train_idx]\n",
        "    ytrain = y[train_idx]\n",
        "\n",
        "    xdev = x[dev_idx]\n",
        "    ydev = y[dev_idx]\n",
        "\n",
        "    # fit model for current fold\n",
        "    model.fit(xtrain, ytrain)\n",
        "\n",
        "    #create predictions\n",
        "    preds = model.predict(xdev)\n",
        "\n",
        "    # calculate and append accuracy\n",
        "    fold_accuracy = metrics.accuracy_score(ydev, preds)\n",
        "    accuracies.append(fold_accuracy)\n",
        "\n",
        "    # return negative accuracy\n",
        "    return -1 * np.mean(accuracies)"
      ],
      "metadata": {
        "id": "Rip3qpngxhNR"
      },
      "execution_count": 191,
      "outputs": []
    },
    {
      "cell_type": "code",
      "source": [
        "# param_distributions_histgrad = {\n",
        "#         'loss': ['auto', 'categorical_crossentropy'],\n",
        "#         'learning_rate': loguniform(0.001, 10),\n",
        "#         'max_leaf_nodes': [2, 3, 5, 10, 15],\n",
        "#         'max_depth': [1, 3, 5, 15],\n",
        "#         'min_samples_leaf': [1, 2, 3, 5, 10, 20]\n",
        "#     }\n",
        "# define a parameter space for HistGradientboostingClassifier\n",
        "\n",
        "param_space = [\n",
        "    # loss is a category. here we define list of categories\n",
        "    space.Categorical(['auto', 'categorical_crossentropy'], name='loss'),\n",
        "    space.Real(0.001, 10, prior='uniform', name='learning_rate'),\n",
        "    space.Integer(2, 15, name='max_leaf_nodes'),\n",
        "    space.Integer(1, 15, name='max_depth'),\n",
        "    space.Integer(1, 20, name='min_samples_leaf'),\n",
        "]\n",
        "\n",
        "# make a list of param names\n",
        "# this has to be same order as the search space\n",
        "# inside the main function\n",
        "param_names = [\n",
        "    'loss',\n",
        "    'learning_rate',\n",
        "    'max_leaf_nodes',\n",
        "    'max_depth',\n",
        "    'min_samples_leaf'\n",
        "]\n",
        "\n",
        "# by using functools partial, i am creating a\n",
        "# new function which has same parameters as the\n",
        "# optimize function except for the fact that\n",
        "# only one param, i.e. the \"params\" parameter is\n",
        "# required. this is how gp_minimize expects the\n",
        "# optimization function to be. you can get rid of this\n",
        "# by reading data inside the optimize function or by\n",
        "# defining the optimize function here.\n",
        "optimization_function = partial(\n",
        "    optimize,\n",
        "    param_names=param_names,\n",
        "    x=X_train.values,\n",
        "    y=y_train.values,\n",
        ")\n",
        "\n",
        "# now we call gp_minimize from scikit-optimize\n",
        "# gp_minimize uses bayesian optimization for\n",
        "# minimization of the optimization function.\n",
        "# we need a space of parameters, the function itself,\n",
        "# the number of calls/iterations we want to have\n",
        "result_ = gp_minimize(\n",
        "    optimization_function,\n",
        "    dimensions=param_space,\n",
        "    n_calls=15,\n",
        "    n_random_starts=10,\n",
        "    verbose=10\n",
        ")\n",
        "\n",
        "# create best params dict and print it\n",
        "best_params = dict(zip(param_names, result_.x))\n",
        "print(best_params)"
      ],
      "metadata": {
        "colab": {
          "base_uri": "https://localhost:8080/"
        },
        "id": "h-dTvt_A6pav",
        "outputId": "eb244cd1-5cac-4e2d-e6ca-c40e0da04f76"
      },
      "execution_count": 192,
      "outputs": [
        {
          "output_type": "stream",
          "name": "stdout",
          "text": [
            "Iteration No: 1 started. Evaluating function at random point.\n",
            "Iteration No: 1 ended. Evaluation done at random point.\n",
            "Time taken: 0.1050\n",
            "Function value obtained: -0.2875\n",
            "Current minimum: -0.2875\n",
            "Iteration No: 2 started. Evaluating function at random point.\n",
            "Iteration No: 2 ended. Evaluation done at random point.\n",
            "Time taken: 0.1143\n",
            "Function value obtained: -0.0938\n",
            "Current minimum: -0.2875\n",
            "Iteration No: 3 started. Evaluating function at random point.\n",
            "Iteration No: 3 ended. Evaluation done at random point.\n",
            "Time taken: 0.1156\n",
            "Function value obtained: -0.0813\n",
            "Current minimum: -0.2875\n",
            "Iteration No: 4 started. Evaluating function at random point.\n",
            "Iteration No: 4 ended. Evaluation done at random point.\n",
            "Time taken: 0.1189\n",
            "Function value obtained: -0.2188\n",
            "Current minimum: -0.2875\n",
            "Iteration No: 5 started. Evaluating function at random point.\n",
            "Iteration No: 5 ended. Evaluation done at random point.\n",
            "Time taken: 0.1107\n",
            "Function value obtained: -0.1250\n",
            "Current minimum: -0.2875\n",
            "Iteration No: 6 started. Evaluating function at random point.\n",
            "Iteration No: 6 ended. Evaluation done at random point.\n",
            "Time taken: 0.1191\n",
            "Function value obtained: -0.0875\n",
            "Current minimum: -0.2875\n",
            "Iteration No: 7 started. Evaluating function at random point.\n",
            "Iteration No: 7 ended. Evaluation done at random point.\n",
            "Time taken: 0.1228\n",
            "Function value obtained: -0.4500\n",
            "Current minimum: -0.4500\n",
            "Iteration No: 8 started. Evaluating function at random point.\n",
            "Iteration No: 8 ended. Evaluation done at random point.\n",
            "Time taken: 0.4014\n",
            "Function value obtained: -0.9000\n",
            "Current minimum: -0.9000\n",
            "Iteration No: 9 started. Evaluating function at random point.\n",
            "Iteration No: 9 ended. Evaluation done at random point.\n",
            "Time taken: 0.1122\n",
            "Function value obtained: -0.4938\n",
            "Current minimum: -0.9000\n",
            "Iteration No: 10 started. Evaluating function at random point.\n",
            "Iteration No: 10 ended. Evaluation done at random point.\n",
            "Time taken: 0.5204\n",
            "Function value obtained: -0.5437\n",
            "Current minimum: -0.9000\n",
            "Iteration No: 11 started. Searching for the next optimal point.\n",
            "Iteration No: 11 ended. Search finished for the next optimal point.\n",
            "Time taken: 1.1743\n",
            "Function value obtained: -0.7750\n",
            "Current minimum: -0.9000\n",
            "Iteration No: 12 started. Searching for the next optimal point.\n",
            "Iteration No: 12 ended. Search finished for the next optimal point.\n",
            "Time taken: 0.6106\n",
            "Function value obtained: -0.6813\n",
            "Current minimum: -0.9000\n",
            "Iteration No: 13 started. Searching for the next optimal point.\n",
            "Iteration No: 13 ended. Search finished for the next optimal point.\n",
            "Time taken: 1.2427\n",
            "Function value obtained: -0.7937\n",
            "Current minimum: -0.9000\n",
            "Iteration No: 14 started. Searching for the next optimal point.\n",
            "Iteration No: 14 ended. Search finished for the next optimal point.\n",
            "Time taken: 0.6037\n",
            "Function value obtained: -0.2875\n",
            "Current minimum: -0.9000\n",
            "Iteration No: 15 started. Searching for the next optimal point.\n",
            "Iteration No: 15 ended. Search finished for the next optimal point.\n",
            "Time taken: 1.1390\n",
            "Function value obtained: -0.8063\n",
            "Current minimum: -0.9000\n",
            "{'loss': 'categorical_crossentropy', 'learning_rate': 0.17450233339450316, 'max_leaf_nodes': 6, 'max_depth': 12, 'min_samples_leaf': 6}\n"
          ]
        }
      ]
    },
    {
      "cell_type": "markdown",
      "source": [
        "It seems like we have decreasing accuracy from 0.92 with randomized search cv to 0.9 with bayesian optimisation."
      ],
      "metadata": {
        "id": "zaEDOrdPDKwF"
      }
    },
    {
      "cell_type": "code",
      "source": [
        "from skopt.plots import plot_convergence\n",
        "\n",
        "plot_convergence(result_)"
      ],
      "metadata": {
        "colab": {
          "base_uri": "https://localhost:8080/",
          "height": 314
        },
        "id": "1H-Liow1Kg6g",
        "outputId": "08c7b953-4dca-4801-e44f-e750d2bde6d0"
      },
      "execution_count": 193,
      "outputs": [
        {
          "output_type": "execute_result",
          "data": {
            "text/plain": [
              "<matplotlib.axes._subplots.AxesSubplot at 0x7f1efbfda090>"
            ]
          },
          "metadata": {},
          "execution_count": 193
        },
        {
          "output_type": "display_data",
          "data": {
            "text/plain": [
              "<Figure size 432x288 with 1 Axes>"
            ],
            "image/png": "[encoded data removed]"
          },
          "metadata": {
            "needs_background": "light"
          }
        }
      ]
    },
    {
      "cell_type": "code",
      "source": [
        "from functools import partial\n",
        "from skopt import gp_minimize, space\n",
        "\n",
        "\n",
        "def optimize(params, param_names, x, y):\n",
        "  \"\"\" \n",
        "  The main optimization function.\n",
        "  This function takes all the arguments from the search space\n",
        "  and training features and targets. It then initializes\n",
        "  the models by setting the chosen parameters and runs\n",
        "  cross-validation and returns a negative accuracy score\n",
        "  :param params: list of params from gp_minimize\n",
        "  :param param_names: list of param names. order is important!\n",
        "  :param x: training data\n",
        "  :param y: labels/targets\n",
        "  :return: negative accuracy after 10 folds\n",
        "  \"\"\"\n",
        "\n",
        "  # convert params to dictionary\n",
        "  params = dict(zip(param_names, params))\n",
        "\n",
        "  # initialize model with current parameters\n",
        "  model = LogisticRegression(**params)\n",
        "\n",
        "  # initialize k-fold\n",
        "  kf = model_selection.KFold(n_splits=10)\n",
        "\n",
        "  # initialize accuracy list\n",
        "  accuracies = []\n",
        "\n",
        "  # loop over all folds\n",
        "  for idx in kf.split(X=x, y=y):\n",
        "    train_idx, dev_idx = idx[0], idx[1]\n",
        "    xtrain = x[train_idx]\n",
        "    ytrain = y[train_idx]\n",
        "\n",
        "    xdev = x[dev_idx]\n",
        "    ydev = y[dev_idx]\n",
        "\n",
        "    # fit model for current fold\n",
        "    model.fit(xtrain, ytrain)\n",
        "\n",
        "    #create predictions\n",
        "    preds = model.predict(xdev)\n",
        "\n",
        "    # calculate and append accuracy\n",
        "    fold_accuracy = metrics.accuracy_score(ydev, preds)\n",
        "    accuracies.append(fold_accuracy)\n",
        "\n",
        "    # return negative accuracy\n",
        "    return -1 * np.mean(accuracies)"
      ],
      "metadata": {
        "id": "QaUNTfXl-Utp"
      },
      "execution_count": 188,
      "outputs": []
    },
    {
      "cell_type": "code",
      "source": [
        "X_train_sca = X_train.copy()\n",
        "X_dev_sca = X_dev.copy()\n",
        "\n",
        "sca = StandardScaler()\n",
        "X_train_sca = sca.fit_transform(X_train_sca)\n",
        "X_train_sca = pd.DataFrame(X_train_sca, columns=X_train.columns)\n",
        "X_dev_sca = sca.transform(X_dev_sca)\n",
        "X_dev_sca = pd.DataFrame(X_dev_sca, columns=X_dev.columns)\n",
        "\n",
        "X_dev_sca.head(2)"
      ],
      "metadata": {
        "colab": {
          "base_uri": "https://localhost:8080/",
          "height": 176
        },
        "id": "N99vJ115IQ32",
        "outputId": "8bba32d3-6cf7-4884-8448-523024453d3f"
      },
      "execution_count": 187,
      "outputs": [
        {
          "output_type": "execute_result",
          "data": {
            "text/plain": [
              "   battery_power      blue  clock_speed  dual_sim        fc    four_g  \\\n",
              "0       0.919657 -0.981423     1.202995 -1.030464 -0.301987  0.955968   \n",
              "1      -0.133477 -0.981423    -1.236230 -1.030464  0.620111  0.955968   \n",
              "\n",
              "   int_memory     m_dep  mobile_wt   n_cores        pc  px_height  px_width  \\\n",
              "0   -0.399682  0.339750   1.680472 -1.110623 -0.811268  -0.972891  0.831970   \n",
              "1   -1.334288 -0.008935  -0.074553  1.510316  1.018112  -0.829167 -0.609863   \n",
              "\n",
              "        ram      sc_h      sc_w  talk_time   three_g  touch_screen      wifi  \n",
              "0 -1.323738 -1.003792  0.067867   0.007832  0.557137      0.990050 -0.997503  \n",
              "1  0.413624  1.612728  2.603886   1.460787  0.557137     -1.010051 -0.997503  "
            ],
            "text/html": [
              "\n",
              "  <div id=\"df-c33d2176-ba7f-4572-868d-72deff6dfda4\">\n",
              "    <div class=\"colab-df-container\">\n",
              "      <div>\n",
              "<style scoped>\n",
              "    .dataframe tbody tr th:only-of-type {\n",
              "        vertical-align: middle;\n",
              "    }\n",
              "\n",
              "    .dataframe tbody tr th {\n",
              "        vertical-align: top;\n",
              "    }\n",
              "\n",
              "    .dataframe thead th {\n",
              "        text-align: right;\n",
              "    }\n",
              "</style>\n",
              "<table border=\"1\" class=\"dataframe\">\n",
              "  <thead>\n",
              "    <tr style=\"text-align: right;\">\n",
              "      <th></th>\n",
              "      <th>battery_power</th>\n",
              "      <th>blue</th>\n",
              "      <th>clock_speed</th>\n",
              "      <th>dual_sim</th>\n",
              "      <th>fc</th>\n",
              "      <th>four_g</th>\n",
              "      <th>int_memory</th>\n",
              "      <th>m_dep</th>\n",
              "      <th>mobile_wt</th>\n",
              "      <th>n_cores</th>\n",
              "      <th>pc</th>\n",
              "      <th>px_height</th>\n",
              "      <th>px_width</th>\n",
              "      <th>ram</th>\n",
              "      <th>sc_h</th>\n",
              "      <th>sc_w</th>\n",
              "      <th>talk_time</th>\n",
              "      <th>three_g</th>\n",
              "      <th>touch_screen</th>\n",
              "      <th>wifi</th>\n",
              "    </tr>\n",
              "  </thead>\n",
              "  <tbody>\n",
              "    <tr>\n",
              "      <th>0</th>\n",
              "      <td>0.919657</td>\n",
              "      <td>-0.981423</td>\n",
              "      <td>1.202995</td>\n",
              "      <td>-1.030464</td>\n",
              "      <td>-0.301987</td>\n",
              "      <td>0.955968</td>\n",
              "      <td>-0.399682</td>\n",
              "      <td>0.339750</td>\n",
              "      <td>1.680472</td>\n",
              "      <td>-1.110623</td>\n",
              "      <td>-0.811268</td>\n",
              "      <td>-0.972891</td>\n",
              "      <td>0.831970</td>\n",
              "      <td>-1.323738</td>\n",
              "      <td>-1.003792</td>\n",
              "      <td>0.067867</td>\n",
              "      <td>0.007832</td>\n",
              "      <td>0.557137</td>\n",
              "      <td>0.990050</td>\n",
              "      <td>-0.997503</td>\n",
              "    </tr>\n",
              "    <tr>\n",
              "      <th>1</th>\n",
              "      <td>-0.133477</td>\n",
              "      <td>-0.981423</td>\n",
              "      <td>-1.236230</td>\n",
              "      <td>-1.030464</td>\n",
              "      <td>0.620111</td>\n",
              "      <td>0.955968</td>\n",
              "      <td>-1.334288</td>\n",
              "      <td>-0.008935</td>\n",
              "      <td>-0.074553</td>\n",
              "      <td>1.510316</td>\n",
              "      <td>1.018112</td>\n",
              "      <td>-0.829167</td>\n",
              "      <td>-0.609863</td>\n",
              "      <td>0.413624</td>\n",
              "      <td>1.612728</td>\n",
              "      <td>2.603886</td>\n",
              "      <td>1.460787</td>\n",
              "      <td>0.557137</td>\n",
              "      <td>-1.010051</td>\n",
              "      <td>-0.997503</td>\n",
              "    </tr>\n",
              "  </tbody>\n",
              "</table>\n",
              "</div>\n",
              "      <button class=\"colab-df-convert\" onclick=\"convertToInteractive('df-c33d2176-ba7f-4572-868d-72deff6dfda4')\"\n",
              "              title=\"Convert this dataframe to an interactive table.\"\n",
              "              style=\"display:none;\">\n",
              "        \n",
              "  <svg xmlns=\"http://www.w3.org/2000/svg\" height=\"24px\"viewBox=\"0 0 24 24\"\n",
              "       width=\"24px\">\n",
              "    <path d=\"M0 0h24v24H0V0z\" fill=\"none\"/>\n",
              "    <path d=\"M18.56 5.44l.94 2.06.94-2.06 2.06-.94-2.06-.94-.94-2.06-.94 2.06-2.06.94zm-11 1L8.5 8.5l.94-2.06 2.06-.94-2.06-.94L8.5 2.5l-.94 2.06-2.06.94zm10 10l.94 2.06.94-2.06 2.06-.94-2.06-.94-.94-2.06-.94 2.06-2.06.94z\"/><path d=\"M17.41 7.96l-1.37-1.37c-.4-.4-.92-.59-1.43-.59-.52 0-1.04.2-1.43.59L10.3 9.45l-7.72 7.72c-.78.78-.78 2.05 0 2.83L4 21.41c.39.39.9.59 1.41.59.51 0 1.02-.2 1.41-.59l7.78-7.78 2.81-2.81c.8-.78.8-2.07 0-2.86zM5.41 20L4 18.59l7.72-7.72 1.47 1.35L5.41 20z\"/>\n",
              "  </svg>\n",
              "      </button>\n",
              "      \n",
              "  <style>\n",
              "    .colab-df-container {\n",
              "      display:flex;\n",
              "      flex-wrap:wrap;\n",
              "      gap: 12px;\n",
              "    }\n",
              "\n",
              "    .colab-df-convert {\n",
              "      background-color: #E8F0FE;\n",
              "      border: none;\n",
              "      border-radius: 50%;\n",
              "      cursor: pointer;\n",
              "      display: none;\n",
              "      fill: #1967D2;\n",
              "      height: 32px;\n",
              "      padding: 0 0 0 0;\n",
              "      width: 32px;\n",
              "    }\n",
              "\n",
              "    .colab-df-convert:hover {\n",
              "      background-color: #E2EBFA;\n",
              "      box-shadow: 0px 1px 2px rgba(60, 64, 67, 0.3), 0px 1px 3px 1px rgba(60, 64, 67, 0.15);\n",
              "      fill: #174EA6;\n",
              "    }\n",
              "\n",
              "    [theme=dark] .colab-df-convert {\n",
              "      background-color: #3B4455;\n",
              "      fill: #D2E3FC;\n",
              "    }\n",
              "\n",
              "    [theme=dark] .colab-df-convert:hover {\n",
              "      background-color: #434B5C;\n",
              "      box-shadow: 0px 1px 3px 1px rgba(0, 0, 0, 0.15);\n",
              "      filter: drop-shadow(0px 1px 2px rgba(0, 0, 0, 0.3));\n",
              "      fill: #FFFFFF;\n",
              "    }\n",
              "  </style>\n",
              "\n",
              "      <script>\n",
              "        const buttonEl =\n",
              "          document.querySelector('#df-c33d2176-ba7f-4572-868d-72deff6dfda4 button.colab-df-convert');\n",
              "        buttonEl.style.display =\n",
              "          google.colab.kernel.accessAllowed ? 'block' : 'none';\n",
              "\n",
              "        async function convertToInteractive(key) {\n",
              "          const element = document.querySelector('#df-c33d2176-ba7f-4572-868d-72deff6dfda4');\n",
              "          const dataTable =\n",
              "            await google.colab.kernel.invokeFunction('convertToInteractive',\n",
              "                                                     [key], {});\n",
              "          if (!dataTable) return;\n",
              "\n",
              "          const docLinkHtml = 'Like what you see? Visit the ' +\n",
              "            '<a target=\"_blank\" href=https://colab.research.google.com/notebooks/data_table.ipynb>data table notebook</a>'\n",
              "            + ' to learn more about interactive tables.';\n",
              "          element.innerHTML = '';\n",
              "          dataTable['output_type'] = 'display_data';\n",
              "          await google.colab.output.renderOutput(dataTable, element);\n",
              "          const docLink = document.createElement('div');\n",
              "          docLink.innerHTML = docLinkHtml;\n",
              "          element.appendChild(docLink);\n",
              "        }\n",
              "      </script>\n",
              "    </div>\n",
              "  </div>\n",
              "  "
            ]
          },
          "metadata": {},
          "execution_count": 187
        }
      ]
    },
    {
      "cell_type": "code",
      "source": [
        "\n",
        "# define a parameter space for LogisticRegressionClassifier\n",
        "\n",
        "param_space = [\n",
        "    space.Integer(1, 15, name='C'),\n",
        "    space.Categorical(['l2', 'none'], name='penalty'),\n",
        "]\n",
        "\n",
        "# make a list of param names\n",
        "# this has to be same order as the search space\n",
        "# inside the main function\n",
        "param_names = [\n",
        "    'C',\n",
        "    'penalty',\n",
        "]\n",
        "\n",
        "# by using functools partial, i am creating a\n",
        "# new function which has same parameters as the\n",
        "# optimize function except for the fact that\n",
        "# only one param, i.e. the \"params\" parameter is\n",
        "# required. this is how gp_minimize expects the\n",
        "# optimization function to be. you can get rid of this\n",
        "# by reading data inside the optimize function or by\n",
        "# defining the optimize function here.\n",
        "optimization_function = partial(\n",
        "    optimize,\n",
        "    param_names=param_names,\n",
        "    x=X_train_sca.values,\n",
        "    y=y_train.values,\n",
        ")\n",
        "\n",
        "# now we call gp_minimize from scikit-optimize\n",
        "# gp_minimize uses bayesian optimization for\n",
        "# minimization of the optimization function.\n",
        "# we need a space of parameters, the function itself,\n",
        "# the number of calls/iterations we want to have\n",
        "result = gp_minimize(\n",
        "    optimization_function,\n",
        "    dimensions=param_space,\n",
        "    n_calls=15,\n",
        "    n_random_starts=10,\n",
        "    verbose=10\n",
        ")\n",
        "\n",
        "# create best params dict and print it\n",
        "best_params = dict(zip(param_names, result.x))\n",
        "print(best_params)"
      ],
      "metadata": {
        "colab": {
          "base_uri": "https://localhost:8080/"
        },
        "id": "V-H7SMT7DxVE",
        "outputId": "6198b60d-9081-494e-b68f-f7e9bb6f268b"
      },
      "execution_count": 189,
      "outputs": [
        {
          "output_type": "stream",
          "name": "stdout",
          "text": [
            "Iteration No: 1 started. Evaluating function at random point.\n",
            "Iteration No: 1 ended. Evaluation done at random point.\n",
            "Time taken: 0.0754\n",
            "Function value obtained: -0.9500\n",
            "Current minimum: -0.9500\n",
            "Iteration No: 2 started. Evaluating function at random point.\n",
            "Iteration No: 2 ended. Evaluation done at random point.\n",
            "Time taken: 0.0724\n",
            "Function value obtained: -0.9500\n",
            "Current minimum: -0.9500\n",
            "Iteration No: 3 started. Evaluating function at random point.\n"
          ]
        },
        {
          "output_type": "stream",
          "name": "stderr",
          "text": [
            "/usr/local/lib/python3.7/dist-packages/sklearn/linear_model/_logistic.py:1484: UserWarning: Setting penalty='none' will ignore the C and l1_ratio parameters\n",
            "  \"Setting penalty='none' will ignore the C and l1_ratio parameters\"\n",
            "/usr/local/lib/python3.7/dist-packages/sklearn/linear_model/_logistic.py:818: ConvergenceWarning: lbfgs failed to converge (status=1):\n",
            "STOP: TOTAL NO. of ITERATIONS REACHED LIMIT.\n",
            "\n",
            "Increase the number of iterations (max_iter) or scale the data as shown in:\n",
            "    https://scikit-learn.org/stable/modules/preprocessing.html\n",
            "Please also refer to the documentation for alternative solver options:\n",
            "    https://scikit-learn.org/stable/modules/linear_model.html#logistic-regression\n",
            "  extra_warning_msg=_LOGISTIC_SOLVER_CONVERGENCE_MSG,\n",
            "/usr/local/lib/python3.7/dist-packages/sklearn/linear_model/_logistic.py:1484: UserWarning: Setting penalty='none' will ignore the C and l1_ratio parameters\n",
            "  \"Setting penalty='none' will ignore the C and l1_ratio parameters\"\n",
            "/usr/local/lib/python3.7/dist-packages/sklearn/linear_model/_logistic.py:818: ConvergenceWarning: lbfgs failed to converge (status=1):\n",
            "STOP: TOTAL NO. of ITERATIONS REACHED LIMIT.\n",
            "\n",
            "Increase the number of iterations (max_iter) or scale the data as shown in:\n",
            "    https://scikit-learn.org/stable/modules/preprocessing.html\n",
            "Please also refer to the documentation for alternative solver options:\n",
            "    https://scikit-learn.org/stable/modules/linear_model.html#logistic-regression\n",
            "  extra_warning_msg=_LOGISTIC_SOLVER_CONVERGENCE_MSG,\n",
            "/usr/local/lib/python3.7/dist-packages/sklearn/linear_model/_logistic.py:1484: UserWarning: Setting penalty='none' will ignore the C and l1_ratio parameters\n",
            "  \"Setting penalty='none' will ignore the C and l1_ratio parameters\"\n",
            "/usr/local/lib/python3.7/dist-packages/sklearn/linear_model/_logistic.py:818: ConvergenceWarning: lbfgs failed to converge (status=1):\n",
            "STOP: TOTAL NO. of ITERATIONS REACHED LIMIT.\n",
            "\n",
            "Increase the number of iterations (max_iter) or scale the data as shown in:\n",
            "    https://scikit-learn.org/stable/modules/preprocessing.html\n",
            "Please also refer to the documentation for alternative solver options:\n",
            "    https://scikit-learn.org/stable/modules/linear_model.html#logistic-regression\n",
            "  extra_warning_msg=_LOGISTIC_SOLVER_CONVERGENCE_MSG,\n",
            "/usr/local/lib/python3.7/dist-packages/sklearn/linear_model/_logistic.py:1484: UserWarning: Setting penalty='none' will ignore the C and l1_ratio parameters\n",
            "  \"Setting penalty='none' will ignore the C and l1_ratio parameters\"\n",
            "/usr/local/lib/python3.7/dist-packages/sklearn/linear_model/_logistic.py:818: ConvergenceWarning: lbfgs failed to converge (status=1):\n",
            "STOP: TOTAL NO. of ITERATIONS REACHED LIMIT.\n",
            "\n",
            "Increase the number of iterations (max_iter) or scale the data as shown in:\n",
            "    https://scikit-learn.org/stable/modules/preprocessing.html\n",
            "Please also refer to the documentation for alternative solver options:\n",
            "    https://scikit-learn.org/stable/modules/linear_model.html#logistic-regression\n",
            "  extra_warning_msg=_LOGISTIC_SOLVER_CONVERGENCE_MSG,\n"
          ]
        },
        {
          "output_type": "stream",
          "name": "stdout",
          "text": [
            "Iteration No: 3 ended. Evaluation done at random point.\n",
            "Time taken: 0.0835\n",
            "Function value obtained: -0.9500\n",
            "Current minimum: -0.9500\n",
            "Iteration No: 4 started. Evaluating function at random point.\n",
            "Iteration No: 4 ended. Evaluation done at random point.\n",
            "Time taken: 0.0739\n",
            "Function value obtained: -0.9500\n",
            "Current minimum: -0.9500\n",
            "Iteration No: 5 started. Evaluating function at random point.\n",
            "Iteration No: 5 ended. Evaluation done at random point.\n",
            "Time taken: 0.0692\n",
            "Function value obtained: -0.9500\n",
            "Current minimum: -0.9500\n",
            "Iteration No: 6 started. Evaluating function at random point.\n",
            "Iteration No: 6 ended. Evaluation done at random point.\n",
            "Time taken: 0.0518\n",
            "Function value obtained: -0.9437\n",
            "Current minimum: -0.9500\n",
            "Iteration No: 7 started. Evaluating function at random point.\n",
            "Iteration No: 7 ended. Evaluation done at random point.\n",
            "Time taken: 0.0407\n",
            "Function value obtained: -0.9375\n",
            "Current minimum: -0.9500\n",
            "Iteration No: 8 started. Evaluating function at random point.\n",
            "Iteration No: 8 ended. Evaluation done at random point.\n",
            "Time taken: 0.0311\n",
            "Function value obtained: -0.9187\n",
            "Current minimum: -0.9500\n",
            "Iteration No: 9 started. Evaluating function at random point.\n",
            "Iteration No: 9 ended. Evaluation done at random point.\n",
            "Time taken: 0.0835\n",
            "Function value obtained: -0.9500\n",
            "Current minimum: -0.9500\n",
            "Iteration No: 10 started. Evaluating function at random point.\n"
          ]
        },
        {
          "output_type": "stream",
          "name": "stderr",
          "text": [
            "/usr/local/lib/python3.7/dist-packages/sklearn/linear_model/_logistic.py:1484: UserWarning: Setting penalty='none' will ignore the C and l1_ratio parameters\n",
            "  \"Setting penalty='none' will ignore the C and l1_ratio parameters\"\n",
            "/usr/local/lib/python3.7/dist-packages/sklearn/linear_model/_logistic.py:818: ConvergenceWarning: lbfgs failed to converge (status=1):\n",
            "STOP: TOTAL NO. of ITERATIONS REACHED LIMIT.\n",
            "\n",
            "Increase the number of iterations (max_iter) or scale the data as shown in:\n",
            "    https://scikit-learn.org/stable/modules/preprocessing.html\n",
            "Please also refer to the documentation for alternative solver options:\n",
            "    https://scikit-learn.org/stable/modules/linear_model.html#logistic-regression\n",
            "  extra_warning_msg=_LOGISTIC_SOLVER_CONVERGENCE_MSG,\n",
            "/usr/local/lib/python3.7/dist-packages/sklearn/linear_model/_logistic.py:1484: UserWarning: Setting penalty='none' will ignore the C and l1_ratio parameters\n",
            "  \"Setting penalty='none' will ignore the C and l1_ratio parameters\"\n",
            "/usr/local/lib/python3.7/dist-packages/sklearn/linear_model/_logistic.py:818: ConvergenceWarning: lbfgs failed to converge (status=1):\n",
            "STOP: TOTAL NO. of ITERATIONS REACHED LIMIT.\n",
            "\n",
            "Increase the number of iterations (max_iter) or scale the data as shown in:\n",
            "    https://scikit-learn.org/stable/modules/preprocessing.html\n",
            "Please also refer to the documentation for alternative solver options:\n",
            "    https://scikit-learn.org/stable/modules/linear_model.html#logistic-regression\n",
            "  extra_warning_msg=_LOGISTIC_SOLVER_CONVERGENCE_MSG,\n"
          ]
        },
        {
          "output_type": "stream",
          "name": "stdout",
          "text": [
            "Iteration No: 10 ended. Evaluation done at random point.\n",
            "Time taken: 0.3786\n",
            "Function value obtained: -0.9500\n",
            "Current minimum: -0.9500\n",
            "Iteration No: 11 started. Searching for the next optimal point.\n",
            "Iteration No: 11 ended. Search finished for the next optimal point.\n",
            "Time taken: 0.3226\n",
            "Function value obtained: -0.9437\n",
            "Current minimum: -0.9500\n",
            "Iteration No: 12 started. Searching for the next optimal point.\n"
          ]
        },
        {
          "output_type": "stream",
          "name": "stderr",
          "text": [
            "/usr/local/lib/python3.7/dist-packages/sklearn/linear_model/_logistic.py:1484: UserWarning: Setting penalty='none' will ignore the C and l1_ratio parameters\n",
            "  \"Setting penalty='none' will ignore the C and l1_ratio parameters\"\n",
            "/usr/local/lib/python3.7/dist-packages/sklearn/linear_model/_logistic.py:818: ConvergenceWarning: lbfgs failed to converge (status=1):\n",
            "STOP: TOTAL NO. of ITERATIONS REACHED LIMIT.\n",
            "\n",
            "Increase the number of iterations (max_iter) or scale the data as shown in:\n",
            "    https://scikit-learn.org/stable/modules/preprocessing.html\n",
            "Please also refer to the documentation for alternative solver options:\n",
            "    https://scikit-learn.org/stable/modules/linear_model.html#logistic-regression\n",
            "  extra_warning_msg=_LOGISTIC_SOLVER_CONVERGENCE_MSG,\n"
          ]
        },
        {
          "output_type": "stream",
          "name": "stdout",
          "text": [
            "Iteration No: 12 ended. Search finished for the next optimal point.\n",
            "Time taken: 0.3966\n",
            "Function value obtained: -0.9500\n",
            "Current minimum: -0.9500\n",
            "Iteration No: 13 started. Searching for the next optimal point.\n"
          ]
        },
        {
          "output_type": "stream",
          "name": "stderr",
          "text": [
            "/usr/local/lib/python3.7/dist-packages/sklearn/linear_model/_logistic.py:1484: UserWarning: Setting penalty='none' will ignore the C and l1_ratio parameters\n",
            "  \"Setting penalty='none' will ignore the C and l1_ratio parameters\"\n",
            "/usr/local/lib/python3.7/dist-packages/sklearn/linear_model/_logistic.py:818: ConvergenceWarning: lbfgs failed to converge (status=1):\n",
            "STOP: TOTAL NO. of ITERATIONS REACHED LIMIT.\n",
            "\n",
            "Increase the number of iterations (max_iter) or scale the data as shown in:\n",
            "    https://scikit-learn.org/stable/modules/preprocessing.html\n",
            "Please also refer to the documentation for alternative solver options:\n",
            "    https://scikit-learn.org/stable/modules/linear_model.html#logistic-regression\n",
            "  extra_warning_msg=_LOGISTIC_SOLVER_CONVERGENCE_MSG,\n"
          ]
        },
        {
          "output_type": "stream",
          "name": "stdout",
          "text": [
            "Iteration No: 13 ended. Search finished for the next optimal point.\n",
            "Time taken: 0.5034\n",
            "Function value obtained: -0.9500\n",
            "Current minimum: -0.9500\n",
            "Iteration No: 14 started. Searching for the next optimal point.\n",
            "Iteration No: 14 ended. Search finished for the next optimal point.\n",
            "Time taken: 0.3588\n",
            "Function value obtained: -0.9500\n",
            "Current minimum: -0.9500\n",
            "Iteration No: 15 started. Searching for the next optimal point.\n"
          ]
        },
        {
          "output_type": "stream",
          "name": "stderr",
          "text": [
            "/usr/local/lib/python3.7/dist-packages/sklearn/linear_model/_logistic.py:818: ConvergenceWarning: lbfgs failed to converge (status=1):\n",
            "STOP: TOTAL NO. of ITERATIONS REACHED LIMIT.\n",
            "\n",
            "Increase the number of iterations (max_iter) or scale the data as shown in:\n",
            "    https://scikit-learn.org/stable/modules/preprocessing.html\n",
            "Please also refer to the documentation for alternative solver options:\n",
            "    https://scikit-learn.org/stable/modules/linear_model.html#logistic-regression\n",
            "  extra_warning_msg=_LOGISTIC_SOLVER_CONVERGENCE_MSG,\n"
          ]
        },
        {
          "output_type": "stream",
          "name": "stdout",
          "text": [
            "Iteration No: 15 ended. Search finished for the next optimal point.\n",
            "Time taken: 0.3935\n",
            "Function value obtained: -0.9500\n",
            "Current minimum: -0.9500\n",
            "{'C': 13, 'penalty': 'none'}\n"
          ]
        }
      ]
    },
    {
      "cell_type": "code",
      "source": [
        "from skopt.plots import plot_convergence\n",
        "plot_convergence(result)"
      ],
      "metadata": {
        "colab": {
          "base_uri": "https://localhost:8080/",
          "height": 314
        },
        "id": "Ik3-7J_1HAHl",
        "outputId": "d72b7bc9-8c78-41ae-9eea-fa7fb71b4d2e"
      },
      "execution_count": 190,
      "outputs": [
        {
          "output_type": "execute_result",
          "data": {
            "text/plain": [
              "<matplotlib.axes._subplots.AxesSubplot at 0x7f1efafc8750>"
            ]
          },
          "metadata": {},
          "execution_count": 190
        },
        {
          "output_type": "display_data",
          "data": {
            "text/plain": [
              "<Figure size 432x288 with 1 Axes>"
            ],
            "image/png": "[encoded data removed]"
          },
          "metadata": {
            "needs_background": "light"
          }
        }
      ]
    },
    {
      "cell_type": "code",
      "source": [],
      "metadata": {
        "id": "cP72wEj-KK_G"
      },
      "execution_count": null,
      "outputs": []
    }
  ]
}