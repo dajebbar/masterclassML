{
  "nbformat": 4,
  "nbformat_minor": 0,
  "metadata": {
    "colab": {
      "provenance": []
    },
    "kernelspec": {
      "name": "python3",
      "display_name": "Python 3"
    },
    "language_info": {
      "name": "python"
    }
  },
  "cells": [
    {
      "cell_type": "code",
      "execution_count": 1,
      "metadata": {
        "id": "RitUExncG94S"
      },
      "outputs": [],
      "source": [
        "import pandas as pd\n",
        "from sklearn import model_selection\n",
        "from sklearn.compose import(\n",
        "    make_column_selector as selector,\n",
        "    ColumnTransformer,\n",
        ")\n",
        "\n",
        "from sklearn.preprocessing import OrdinalEncoder\n",
        "from sklearn.ensemble import HistGradientBoostingClassifier\n",
        "from sklearn.pipeline import Pipeline"
      ]
    },
    {
      "cell_type": "code",
      "source": [
        "df = pd.read_csv('adult_cencus.csv')\n",
        "df.sample(n=5)"
      ],
      "metadata": {
        "colab": {
          "base_uri": "https://localhost:8080/",
          "height": 374
        },
        "id": "omTWDKCrHpCS",
        "outputId": "15cb2ed0-5cbd-49c7-9f7f-afc30995d082"
      },
      "execution_count": 2,
      "outputs": [
        {
          "output_type": "execute_result",
          "data": {
            "text/plain": [
              "       age   workclass  fnlwgt      education  education_num  \\\n",
              "40383   33     Private  234537        HS-grad              9   \n",
              "26248   65     Private  180807        HS-grad              9   \n",
              "5698    51     Private  240988           11th              7   \n",
              "39304   35   Local-gov  184117        Masters             14   \n",
              "28943   23         NaN   86337   Some-college             10   \n",
              "\n",
              "            marital_status          occupation    relationship  \\\n",
              "40383   Married-civ-spouse        Craft-repair         Husband   \n",
              "26248            Separated     Protective-serv   Not-in-family   \n",
              "5698    Married-civ-spouse   Machine-op-inspct         Husband   \n",
              "39304        Never-married      Prof-specialty       Own-child   \n",
              "28943        Never-married                 NaN   Not-in-family   \n",
              "\n",
              "                      race      sex  capital_gain  capital_loss  \\\n",
              "40383                White     Male             0             0   \n",
              "26248                White     Male           991             0   \n",
              "5698    Asian-Pac-Islander     Male             0             0   \n",
              "39304                White   Female             0             0   \n",
              "28943                White   Female             0             0   \n",
              "\n",
              "       hours_per_week  native_country   class  \n",
              "40383              40   United-States   <=50K  \n",
              "26248              20   United-States   <=50K  \n",
              "5698               40     Philippines   <=50K  \n",
              "39304              25   United-States   <=50K  \n",
              "28943              15   United-States   <=50K  "
            ],
            "text/html": [
              "\n",
              "  <div id=\"df-442300d8-3fd7-4c09-869c-596cf2bea4b9\">\n",
              "    <div class=\"colab-df-container\">\n",
              "      <div>\n",
              "<style scoped>\n",
              "    .dataframe tbody tr th:only-of-type {\n",
              "        vertical-align: middle;\n",
              "    }\n",
              "\n",
              "    .dataframe tbody tr th {\n",
              "        vertical-align: top;\n",
              "    }\n",
              "\n",
              "    .dataframe thead th {\n",
              "        text-align: right;\n",
              "    }\n",
              "</style>\n",
              "<table border=\"1\" class=\"dataframe\">\n",
              "  <thead>\n",
              "    <tr style=\"text-align: right;\">\n",
              "      <th></th>\n",
              "      <th>age</th>\n",
              "      <th>workclass</th>\n",
              "      <th>fnlwgt</th>\n",
              "      <th>education</th>\n",
              "      <th>education_num</th>\n",
              "      <th>marital_status</th>\n",
              "      <th>occupation</th>\n",
              "      <th>relationship</th>\n",
              "      <th>race</th>\n",
              "      <th>sex</th>\n",
              "      <th>capital_gain</th>\n",
              "      <th>capital_loss</th>\n",
              "      <th>hours_per_week</th>\n",
              "      <th>native_country</th>\n",
              "      <th>class</th>\n",
              "    </tr>\n",
              "  </thead>\n",
              "  <tbody>\n",
              "    <tr>\n",
              "      <th>40383</th>\n",
              "      <td>33</td>\n",
              "      <td>Private</td>\n",
              "      <td>234537</td>\n",
              "      <td>HS-grad</td>\n",
              "      <td>9</td>\n",
              "      <td>Married-civ-spouse</td>\n",
              "      <td>Craft-repair</td>\n",
              "      <td>Husband</td>\n",
              "      <td>White</td>\n",
              "      <td>Male</td>\n",
              "      <td>0</td>\n",
              "      <td>0</td>\n",
              "      <td>40</td>\n",
              "      <td>United-States</td>\n",
              "      <td>&lt;=50K</td>\n",
              "    </tr>\n",
              "    <tr>\n",
              "      <th>26248</th>\n",
              "      <td>65</td>\n",
              "      <td>Private</td>\n",
              "      <td>180807</td>\n",
              "      <td>HS-grad</td>\n",
              "      <td>9</td>\n",
              "      <td>Separated</td>\n",
              "      <td>Protective-serv</td>\n",
              "      <td>Not-in-family</td>\n",
              "      <td>White</td>\n",
              "      <td>Male</td>\n",
              "      <td>991</td>\n",
              "      <td>0</td>\n",
              "      <td>20</td>\n",
              "      <td>United-States</td>\n",
              "      <td>&lt;=50K</td>\n",
              "    </tr>\n",
              "    <tr>\n",
              "      <th>5698</th>\n",
              "      <td>51</td>\n",
              "      <td>Private</td>\n",
              "      <td>240988</td>\n",
              "      <td>11th</td>\n",
              "      <td>7</td>\n",
              "      <td>Married-civ-spouse</td>\n",
              "      <td>Machine-op-inspct</td>\n",
              "      <td>Husband</td>\n",
              "      <td>Asian-Pac-Islander</td>\n",
              "      <td>Male</td>\n",
              "      <td>0</td>\n",
              "      <td>0</td>\n",
              "      <td>40</td>\n",
              "      <td>Philippines</td>\n",
              "      <td>&lt;=50K</td>\n",
              "    </tr>\n",
              "    <tr>\n",
              "      <th>39304</th>\n",
              "      <td>35</td>\n",
              "      <td>Local-gov</td>\n",
              "      <td>184117</td>\n",
              "      <td>Masters</td>\n",
              "      <td>14</td>\n",
              "      <td>Never-married</td>\n",
              "      <td>Prof-specialty</td>\n",
              "      <td>Own-child</td>\n",
              "      <td>White</td>\n",
              "      <td>Female</td>\n",
              "      <td>0</td>\n",
              "      <td>0</td>\n",
              "      <td>25</td>\n",
              "      <td>United-States</td>\n",
              "      <td>&lt;=50K</td>\n",
              "    </tr>\n",
              "    <tr>\n",
              "      <th>28943</th>\n",
              "      <td>23</td>\n",
              "      <td>NaN</td>\n",
              "      <td>86337</td>\n",
              "      <td>Some-college</td>\n",
              "      <td>10</td>\n",
              "      <td>Never-married</td>\n",
              "      <td>NaN</td>\n",
              "      <td>Not-in-family</td>\n",
              "      <td>White</td>\n",
              "      <td>Female</td>\n",
              "      <td>0</td>\n",
              "      <td>0</td>\n",
              "      <td>15</td>\n",
              "      <td>United-States</td>\n",
              "      <td>&lt;=50K</td>\n",
              "    </tr>\n",
              "  </tbody>\n",
              "</table>\n",
              "</div>\n",
              "      <button class=\"colab-df-convert\" onclick=\"convertToInteractive('df-442300d8-3fd7-4c09-869c-596cf2bea4b9')\"\n",
              "              title=\"Convert this dataframe to an interactive table.\"\n",
              "              style=\"display:none;\">\n",
              "        \n",
              "  <svg xmlns=\"http://www.w3.org/2000/svg\" height=\"24px\"viewBox=\"0 0 24 24\"\n",
              "       width=\"24px\">\n",
              "    <path d=\"M0 0h24v24H0V0z\" fill=\"none\"/>\n",
              "    <path d=\"M18.56 5.44l.94 2.06.94-2.06 2.06-.94-2.06-.94-.94-2.06-.94 2.06-2.06.94zm-11 1L8.5 8.5l.94-2.06 2.06-.94-2.06-.94L8.5 2.5l-.94 2.06-2.06.94zm10 10l.94 2.06.94-2.06 2.06-.94-2.06-.94-.94-2.06-.94 2.06-2.06.94z\"/><path d=\"M17.41 7.96l-1.37-1.37c-.4-.4-.92-.59-1.43-.59-.52 0-1.04.2-1.43.59L10.3 9.45l-7.72 7.72c-.78.78-.78 2.05 0 2.83L4 21.41c.39.39.9.59 1.41.59.51 0 1.02-.2 1.41-.59l7.78-7.78 2.81-2.81c.8-.78.8-2.07 0-2.86zM5.41 20L4 18.59l7.72-7.72 1.47 1.35L5.41 20z\"/>\n",
              "  </svg>\n",
              "      </button>\n",
              "      \n",
              "  <style>\n",
              "    .colab-df-container {\n",
              "      display:flex;\n",
              "      flex-wrap:wrap;\n",
              "      gap: 12px;\n",
              "    }\n",
              "\n",
              "    .colab-df-convert {\n",
              "      background-color: #E8F0FE;\n",
              "      border: none;\n",
              "      border-radius: 50%;\n",
              "      cursor: pointer;\n",
              "      display: none;\n",
              "      fill: #1967D2;\n",
              "      height: 32px;\n",
              "      padding: 0 0 0 0;\n",
              "      width: 32px;\n",
              "    }\n",
              "\n",
              "    .colab-df-convert:hover {\n",
              "      background-color: #E2EBFA;\n",
              "      box-shadow: 0px 1px 2px rgba(60, 64, 67, 0.3), 0px 1px 3px 1px rgba(60, 64, 67, 0.15);\n",
              "      fill: #174EA6;\n",
              "    }\n",
              "\n",
              "    [theme=dark] .colab-df-convert {\n",
              "      background-color: #3B4455;\n",
              "      fill: #D2E3FC;\n",
              "    }\n",
              "\n",
              "    [theme=dark] .colab-df-convert:hover {\n",
              "      background-color: #434B5C;\n",
              "      box-shadow: 0px 1px 3px 1px rgba(0, 0, 0, 0.15);\n",
              "      filter: drop-shadow(0px 1px 2px rgba(0, 0, 0, 0.3));\n",
              "      fill: #FFFFFF;\n",
              "    }\n",
              "  </style>\n",
              "\n",
              "      <script>\n",
              "        const buttonEl =\n",
              "          document.querySelector('#df-442300d8-3fd7-4c09-869c-596cf2bea4b9 button.colab-df-convert');\n",
              "        buttonEl.style.display =\n",
              "          google.colab.kernel.accessAllowed ? 'block' : 'none';\n",
              "\n",
              "        async function convertToInteractive(key) {\n",
              "          const element = document.querySelector('#df-442300d8-3fd7-4c09-869c-596cf2bea4b9');\n",
              "          const dataTable =\n",
              "            await google.colab.kernel.invokeFunction('convertToInteractive',\n",
              "                                                     [key], {});\n",
              "          if (!dataTable) return;\n",
              "\n",
              "          const docLinkHtml = 'Like what you see? Visit the ' +\n",
              "            '<a target=\"_blank\" href=https://colab.research.google.com/notebooks/data_table.ipynb>data table notebook</a>'\n",
              "            + ' to learn more about interactive tables.';\n",
              "          element.innerHTML = '';\n",
              "          dataTable['output_type'] = 'display_data';\n",
              "          await google.colab.output.renderOutput(dataTable, element);\n",
              "          const docLink = document.createElement('div');\n",
              "          docLink.innerHTML = docLinkHtml;\n",
              "          element.appendChild(docLink);\n",
              "        }\n",
              "      </script>\n",
              "    </div>\n",
              "  </div>\n",
              "  "
            ]
          },
          "metadata": {},
          "execution_count": 2
        }
      ]
    },
    {
      "cell_type": "code",
      "source": [
        "df.isna().sum()"
      ],
      "metadata": {
        "colab": {
          "base_uri": "https://localhost:8080/"
        },
        "id": "flJs3koKIVgS",
        "outputId": "6d18532a-9491-4c8d-f19b-24e6f9a54e3a"
      },
      "execution_count": 3,
      "outputs": [
        {
          "output_type": "execute_result",
          "data": {
            "text/plain": [
              "age                  0\n",
              "workclass         2799\n",
              "fnlwgt               0\n",
              "education            0\n",
              "education_num        0\n",
              "marital_status       0\n",
              "occupation        2809\n",
              "relationship         0\n",
              "race                 0\n",
              "sex                  0\n",
              "capital_gain         0\n",
              "capital_loss         0\n",
              "hours_per_week       0\n",
              "native_country     857\n",
              "class                0\n",
              "dtype: int64"
            ]
          },
          "metadata": {},
          "execution_count": 3
        }
      ]
    },
    {
      "cell_type": "code",
      "source": [
        "data, target = df.drop(columns=['education_num', 'class']), df['class'].map({' >50K':1, ' <=50K':0})"
      ],
      "metadata": {
        "id": "Lew3aPPXIkU2"
      },
      "execution_count": 4,
      "outputs": []
    },
    {
      "cell_type": "code",
      "source": [
        "target.isna().sum()"
      ],
      "metadata": {
        "colab": {
          "base_uri": "https://localhost:8080/"
        },
        "id": "AT1he0aolFie",
        "outputId": "a61109df-6648-419f-ea83-80fe59ec28a2"
      },
      "execution_count": 5,
      "outputs": [
        {
          "output_type": "execute_result",
          "data": {
            "text/plain": [
              "0"
            ]
          },
          "metadata": {},
          "execution_count": 5
        }
      ]
    },
    {
      "cell_type": "code",
      "source": [
        "X_full_train, X_test, y_full_train, y_test = model_selection.train_test_split(\n",
        "    data,\n",
        "    target,\n",
        "    test_size=.2,\n",
        "    random_state=42\n",
        ")\n",
        "\n",
        "X_full_train.shape, y_full_train.shape, X_test.shape, y_test.shape"
      ],
      "metadata": {
        "colab": {
          "base_uri": "https://localhost:8080/"
        },
        "id": "4WBsntQbJOrs",
        "outputId": "1f7d3a83-54f1-4397-8ce5-7a08b3db962b"
      },
      "execution_count": 6,
      "outputs": [
        {
          "output_type": "execute_result",
          "data": {
            "text/plain": [
              "((39073, 13), (39073,), (9769, 13), (9769,))"
            ]
          },
          "metadata": {},
          "execution_count": 6
        }
      ]
    },
    {
      "cell_type": "code",
      "source": [
        "categorical = selector(dtype_include=object)(data)\n",
        "cat_preprocessor = OrdinalEncoder(\n",
        "    handle_unknown='use_encoded_value', \n",
        "    unknown_value=-1\n",
        ")\n",
        "\n",
        "preprocessor = ColumnTransformer([\n",
        "    ('cat_preprocessor', cat_preprocessor, categorical)\n",
        "],\n",
        "remainder='passthrough', sparse_threshold=0\n",
        ")"
      ],
      "metadata": {
        "id": "hRcgiaJpJ1v7"
      },
      "execution_count": 7,
      "outputs": []
    },
    {
      "cell_type": "code",
      "source": [
        "model = Pipeline([\n",
        "    ('preprocessor', preprocessor),\n",
        "    ('classifier', HistGradientBoostingClassifier(random_state=42))\n",
        "])"
      ],
      "metadata": {
        "id": "XdJNGPBPLPh_"
      },
      "execution_count": 8,
      "outputs": []
    },
    {
      "cell_type": "code",
      "source": [
        "for param in model.get_params():\n",
        "  print(param)"
      ],
      "metadata": {
        "colab": {
          "base_uri": "https://localhost:8080/"
        },
        "id": "k9tl2tJWLsmW",
        "outputId": "71a742f6-a077-4bc8-97bc-b8a8fe06d9dc"
      },
      "execution_count": 9,
      "outputs": [
        {
          "output_type": "stream",
          "name": "stdout",
          "text": [
            "memory\n",
            "steps\n",
            "verbose\n",
            "preprocessor\n",
            "classifier\n",
            "preprocessor__n_jobs\n",
            "preprocessor__remainder\n",
            "preprocessor__sparse_threshold\n",
            "preprocessor__transformer_weights\n",
            "preprocessor__transformers\n",
            "preprocessor__verbose\n",
            "preprocessor__verbose_feature_names_out\n",
            "preprocessor__cat_preprocessor\n",
            "preprocessor__cat_preprocessor__categories\n",
            "preprocessor__cat_preprocessor__dtype\n",
            "preprocessor__cat_preprocessor__handle_unknown\n",
            "preprocessor__cat_preprocessor__unknown_value\n",
            "classifier__categorical_features\n",
            "classifier__early_stopping\n",
            "classifier__l2_regularization\n",
            "classifier__learning_rate\n",
            "classifier__loss\n",
            "classifier__max_bins\n",
            "classifier__max_depth\n",
            "classifier__max_iter\n",
            "classifier__max_leaf_nodes\n",
            "classifier__min_samples_leaf\n",
            "classifier__monotonic_cst\n",
            "classifier__n_iter_no_change\n",
            "classifier__random_state\n",
            "classifier__scoring\n",
            "classifier__tol\n",
            "classifier__validation_fraction\n",
            "classifier__verbose\n",
            "classifier__warm_start\n"
          ]
        }
      ]
    },
    {
      "cell_type": "markdown",
      "source": [
        "# Tuning hyperparameters manually"
      ],
      "metadata": {
        "id": "75migMLiMMV4"
      }
    },
    {
      "cell_type": "markdown",
      "source": [
        "Make a search of the best combinations of the `learning_rate` and `max_leaf_nodes`"
      ],
      "metadata": {
        "id": "Cs51M9rgMSXu"
      }
    },
    {
      "cell_type": "code",
      "source": [
        "best_params = {}\n",
        "score = 0\n",
        "\n",
        "for lr in [0.01, 0.1, 1, 10.]:\n",
        "  for leaf in [3, 10, 30]:\n",
        "    model.set_params(\n",
        "        classifier__learning_rate=lr, \n",
        "        classifier__max_leaf_nodes=leaf\n",
        "    )\n",
        "\n",
        "    cv_score = model_selection.cross_val_score(\n",
        "        model,\n",
        "        X_full_train,\n",
        "        y_full_train,\n",
        "        cv=10,\n",
        "        n_jobs=-1\n",
        "    )\n",
        "    if cv_score.mean() > score:\n",
        "      score = cv_score.mean()\n",
        "      best_params['lr'] = lr\n",
        "      best_params['max_leaf_nodes'] = leaf\n",
        "      best_params['score'] = score\n",
        "      best_params['std'] = score.std()\n",
        "    \n",
        "    print(f\"lr:{lr} - max-leaf-nodes:{leaf} - score:{cv_score.mean():.3f} \"\n",
        "          f\"std: {cv_score.std():.3f}\"\n",
        "    )\n",
        "print()\n",
        "print(f\"best lr: {best_params['lr']}, best max leaf nodes:{best_params['max_leaf_nodes']} \"\n",
        "      f\"best score: {best_params['score']:.3f} +/- {best_params['std']:.3f}\"\n",
        ")"
      ],
      "metadata": {
        "colab": {
          "base_uri": "https://localhost:8080/"
        },
        "id": "NannejP7L1h7",
        "outputId": "c11398a3-d650-44c9-ce2e-032bd2022522"
      },
      "execution_count": 10,
      "outputs": [
        {
          "output_type": "stream",
          "name": "stdout",
          "text": [
            "lr:0.01 - max-leaf-nodes:3 - score:0.800 std: 0.003\n",
            "lr:0.01 - max-leaf-nodes:10 - score:0.820 std: 0.004\n",
            "lr:0.01 - max-leaf-nodes:30 - score:0.849 std: 0.004\n",
            "lr:0.1 - max-leaf-nodes:3 - score:0.855 std: 0.004\n",
            "lr:0.1 - max-leaf-nodes:10 - score:0.871 std: 0.005\n",
            "lr:0.1 - max-leaf-nodes:30 - score:0.874 std: 0.004\n",
            "lr:1 - max-leaf-nodes:3 - score:0.866 std: 0.005\n",
            "lr:1 - max-leaf-nodes:10 - score:0.866 std: 0.006\n",
            "lr:1 - max-leaf-nodes:30 - score:0.860 std: 0.010\n",
            "lr:10.0 - max-leaf-nodes:3 - score:0.279 std: 0.008\n",
            "lr:10.0 - max-leaf-nodes:10 - score:0.743 std: 0.082\n",
            "lr:10.0 - max-leaf-nodes:30 - score:0.656 std: 0.161\n",
            "\n",
            "best lr: 0.1, best max leaf nodes:30 best score: 0.874 +/- 0.000\n"
          ]
        }
      ]
    },
    {
      "cell_type": "code",
      "source": [
        "model.set_params(\n",
        "    classifier__learning_rate=best_params['lr'], \n",
        "    classifier__max_leaf_nodes=best_params['max_leaf_nodes']\n",
        ")\n",
        "\n",
        "model.fit(X_full_train, y_full_train)"
      ],
      "metadata": {
        "colab": {
          "base_uri": "https://localhost:8080/"
        },
        "id": "X_H-B0LGQcoL",
        "outputId": "d0bd9a4c-2fa6-405b-f604-362381297a85"
      },
      "execution_count": 11,
      "outputs": [
        {
          "output_type": "execute_result",
          "data": {
            "text/plain": [
              "Pipeline(steps=[('preprocessor',\n",
              "                 ColumnTransformer(remainder='passthrough', sparse_threshold=0,\n",
              "                                   transformers=[('cat_preprocessor',\n",
              "                                                  OrdinalEncoder(handle_unknown='use_encoded_value',\n",
              "                                                                 unknown_value=-1),\n",
              "                                                  ['workclass', 'education',\n",
              "                                                   'marital_status',\n",
              "                                                   'occupation', 'relationship',\n",
              "                                                   'race', 'sex',\n",
              "                                                   'native_country'])])),\n",
              "                ('classifier',\n",
              "                 HistGradientBoostingClassifier(max_leaf_nodes=30,\n",
              "                                                random_state=42))])"
            ]
          },
          "metadata": {},
          "execution_count": 11
        }
      ]
    },
    {
      "cell_type": "code",
      "source": [
        "y_pred = model.predict(X_test)"
      ],
      "metadata": {
        "id": "qCTXKqVCSmnL"
      },
      "execution_count": 12,
      "outputs": []
    },
    {
      "cell_type": "code",
      "source": [
        "y_pred[:5]"
      ],
      "metadata": {
        "colab": {
          "base_uri": "https://localhost:8080/"
        },
        "id": "2HLbmx1LmkcK",
        "outputId": "f5b4e18b-fef8-4d08-c79c-f75d9ba6d869"
      },
      "execution_count": 13,
      "outputs": [
        {
          "output_type": "execute_result",
          "data": {
            "text/plain": [
              "array([0, 0, 0, 0, 0])"
            ]
          },
          "metadata": {},
          "execution_count": 13
        }
      ]
    },
    {
      "cell_type": "code",
      "source": [
        "score = model.score(X_test, y_test)\n",
        "score.round(3)"
      ],
      "metadata": {
        "colab": {
          "base_uri": "https://localhost:8080/"
        },
        "id": "H6ajeLKVSuWD",
        "outputId": "90848f51-3506-4646-c2e9-c8185f57cbde"
      },
      "execution_count": 14,
      "outputs": [
        {
          "output_type": "execute_result",
          "data": {
            "text/plain": [
              "0.874"
            ]
          },
          "metadata": {},
          "execution_count": 14
        }
      ]
    },
    {
      "cell_type": "code",
      "source": [
        "from sklearn import metrics\n",
        "\n",
        "recall_score = metrics.recall_score(y_test, y_pred)\n",
        "pecision_score = metrics.precision_score(y_test, y_pred)\n",
        "auc = metrics.roc_auc_score(y_test, y_pred)\n",
        "\n",
        "print(f'recall: {recall_score:.3f}')\n",
        "print(f'precision: {pecision_score:.3f}')\n",
        "print(f'auc: {auc:.3f}')"
      ],
      "metadata": {
        "colab": {
          "base_uri": "https://localhost:8080/"
        },
        "id": "3sd4eFlRS0RY",
        "outputId": "31192bad-858c-4531-bef5-258c4dcb2241"
      },
      "execution_count": 16,
      "outputs": [
        {
          "output_type": "stream",
          "name": "stdout",
          "text": [
            "recall: 0.642\n",
            "precision: 0.795\n",
            "auc: 0.795\n"
          ]
        }
      ]
    },
    {
      "cell_type": "markdown",
      "source": [
        "# Hyperparameter tuning by grid-search"
      ],
      "metadata": {
        "id": "v3Gi7anxryCa"
      }
    },
    {
      "cell_type": "code",
      "source": [
        "param_grid = {\n",
        "    'classifier__learning_rate': [0.01, 0.1, 1, 10], \n",
        "    'classifier__max_leaf_nodes': [3, 10, 30],\n",
        "}\n",
        "\n",
        "model_grid_search = model_selection.GridSearchCV(\n",
        "    model,\n",
        "    param_grid=param_grid,\n",
        "    cv=10,\n",
        "    n_jobs=-1\n",
        "\n",
        ").fit( X_full_train,y_full_train)"
      ],
      "metadata": {
        "id": "BRrQ115QTDC-"
      },
      "execution_count": 18,
      "outputs": []
    },
    {
      "cell_type": "code",
      "source": [
        "accuracy = model_grid_search.score(X_test, y_test)\n",
        "print(\n",
        "    f\"The test accuracy score of the grid-searched pipeline is: \"\n",
        "    f\"{accuracy:.2f}\"\n",
        ")"
      ],
      "metadata": {
        "colab": {
          "base_uri": "https://localhost:8080/"
        },
        "id": "yszghmvmtCA2",
        "outputId": "0ac048d7-48c2-4174-91dd-acc2620aa06f"
      },
      "execution_count": 19,
      "outputs": [
        {
          "output_type": "stream",
          "name": "stdout",
          "text": [
            "The test accuracy score of the grid-searched pipeline is: 0.87\n"
          ]
        }
      ]
    },
    {
      "cell_type": "markdown",
      "source": [
        "The `GridSearchCV` estimator takes a `param_grid` parameter which defines all hyperparameters and their associated values. The grid-search will be in charge of creating all possible combinations and test them.\n",
        "\n",
        "The number of combinations will be equal to the product of the number of values to explore for each parameter (e.g. in our example 4 x 3 combinations). Thus, adding new parameters with their associated values to be explored become rapidly computationally expensive.\n",
        "\n",
        "Once the grid-search is fitted, it can be used as any other predictor by calling `predict` and `predict_proba`. Internally, it will use the model with the best parameters found during `fit`."
      ],
      "metadata": {
        "id": "PTrWvhxeukvd"
      }
    },
    {
      "cell_type": "markdown",
      "source": [
        "You can know about these parameters by looking at the `best_params_` attribute."
      ],
      "metadata": {
        "id": "-khmHQwPvCq1"
      }
    },
    {
      "cell_type": "code",
      "source": [
        "print(f\"The best set of parameters is: \"\n",
        "      f\"{model_grid_search.best_params_}\"\n",
        ")"
      ],
      "metadata": {
        "colab": {
          "base_uri": "https://localhost:8080/"
        },
        "id": "CUWJOZDYttHz",
        "outputId": "cbdd83f6-4d96-4100-dc26-7e5494edcee4"
      },
      "execution_count": 20,
      "outputs": [
        {
          "output_type": "stream",
          "name": "stdout",
          "text": [
            "The best set of parameters is: {'classifier__learning_rate': 0.1, 'classifier__max_leaf_nodes': 30}\n"
          ]
        }
      ]
    },
    {
      "cell_type": "markdown",
      "source": [
        "The accuracy and the best parameters of the grid-searched pipeline are similar to the ones we found in the previous exercise, where we searched the best parameters \"by hand\" through a double for loop.\n",
        "\n",
        "In addition, we can inspect all results which are stored in the attribute `cv_results_` of the grid-search. We will filter some specific columns from these results.\n"
      ],
      "metadata": {
        "id": "qcrk3bk4vbva"
      }
    },
    {
      "cell_type": "code",
      "source": [
        "cv_results = pd.DataFrame(model_grid_search.cv_results_).sort_values(\n",
        "    \"mean_test_score\",\n",
        "    ascending=False\n",
        ")\n",
        "\n",
        "cv_results.head()"
      ],
      "metadata": {
        "colab": {
          "base_uri": "https://localhost:8080/",
          "height": 357
        },
        "id": "gCR-Nx3NvUzw",
        "outputId": "af7b7ef0-b1e3-4fdf-fcdb-a5bef0a95b6a"
      },
      "execution_count": 21,
      "outputs": [
        {
          "output_type": "execute_result",
          "data": {
            "text/plain": [
              "   mean_fit_time  std_fit_time  mean_score_time  std_score_time  \\\n",
              "5       2.833829      0.038581         0.098685        0.016626   \n",
              "4       2.367050      0.059774         0.081676        0.010385   \n",
              "6       1.689116      0.102000         0.048815        0.009528   \n",
              "7       1.538802      0.084523         0.041000        0.006003   \n",
              "8       1.592369      0.178050         0.041580        0.007018   \n",
              "\n",
              "  param_classifier__learning_rate param_classifier__max_leaf_nodes  \\\n",
              "5                             0.1                               30   \n",
              "4                             0.1                               10   \n",
              "6                               1                                3   \n",
              "7                               1                               10   \n",
              "8                               1                               30   \n",
              "\n",
              "                                              params  split0_test_score  \\\n",
              "5  {'classifier__learning_rate': 0.1, 'classifier...           0.878199   \n",
              "4  {'classifier__learning_rate': 0.1, 'classifier...           0.874360   \n",
              "6  {'classifier__learning_rate': 1, 'classifier__...           0.868219   \n",
              "7  {'classifier__learning_rate': 1, 'classifier__...           0.868219   \n",
              "8  {'classifier__learning_rate': 1, 'classifier__...           0.869243   \n",
              "\n",
              "   split1_test_score  split2_test_score  split3_test_score  split4_test_score  \\\n",
              "5           0.873081           0.876663           0.877655           0.868953   \n",
              "4           0.866428           0.873849           0.876888           0.866650   \n",
              "6           0.861566           0.869754           0.877400           0.861275   \n",
              "7           0.857472           0.871290           0.870745           0.863578   \n",
              "8           0.857472           0.832139           0.867673           0.859227   \n",
              "\n",
              "   split5_test_score  split6_test_score  split7_test_score  split8_test_score  \\\n",
              "5           0.875096           0.869977           0.867929           0.874328   \n",
              "4           0.868185           0.863322           0.865114           0.872792   \n",
              "6           0.868441           0.863066           0.862554           0.864858   \n",
              "7           0.866394           0.860763           0.854620           0.869721   \n",
              "8           0.864858           0.855388           0.862042           0.861787   \n",
              "\n",
              "   split9_test_score  mean_test_score  std_test_score  rank_test_score  \n",
              "5           0.880983         0.874286        0.004083                1  \n",
              "4           0.877655         0.870524        0.004906                2  \n",
              "6           0.860251         0.865738        0.005011                3  \n",
              "7           0.873816         0.865662        0.006041                4  \n",
              "8           0.868441         0.859827        0.010250                5  "
            ],
            "text/html": [
              "\n",
              "  <div id=\"df-b2ee9450-b85e-4657-aafb-5f26aadd2c23\">\n",
              "    <div class=\"colab-df-container\">\n",
              "      <div>\n",
              "<style scoped>\n",
              "    .dataframe tbody tr th:only-of-type {\n",
              "        vertical-align: middle;\n",
              "    }\n",
              "\n",
              "    .dataframe tbody tr th {\n",
              "        vertical-align: top;\n",
              "    }\n",
              "\n",
              "    .dataframe thead th {\n",
              "        text-align: right;\n",
              "    }\n",
              "</style>\n",
              "<table border=\"1\" class=\"dataframe\">\n",
              "  <thead>\n",
              "    <tr style=\"text-align: right;\">\n",
              "      <th></th>\n",
              "      <th>mean_fit_time</th>\n",
              "      <th>std_fit_time</th>\n",
              "      <th>mean_score_time</th>\n",
              "      <th>std_score_time</th>\n",
              "      <th>param_classifier__learning_rate</th>\n",
              "      <th>param_classifier__max_leaf_nodes</th>\n",
              "      <th>params</th>\n",
              "      <th>split0_test_score</th>\n",
              "      <th>split1_test_score</th>\n",
              "      <th>split2_test_score</th>\n",
              "      <th>split3_test_score</th>\n",
              "      <th>split4_test_score</th>\n",
              "      <th>split5_test_score</th>\n",
              "      <th>split6_test_score</th>\n",
              "      <th>split7_test_score</th>\n",
              "      <th>split8_test_score</th>\n",
              "      <th>split9_test_score</th>\n",
              "      <th>mean_test_score</th>\n",
              "      <th>std_test_score</th>\n",
              "      <th>rank_test_score</th>\n",
              "    </tr>\n",
              "  </thead>\n",
              "  <tbody>\n",
              "    <tr>\n",
              "      <th>5</th>\n",
              "      <td>2.833829</td>\n",
              "      <td>0.038581</td>\n",
              "      <td>0.098685</td>\n",
              "      <td>0.016626</td>\n",
              "      <td>0.1</td>\n",
              "      <td>30</td>\n",
              "      <td>{'classifier__learning_rate': 0.1, 'classifier...</td>\n",
              "      <td>0.878199</td>\n",
              "      <td>0.873081</td>\n",
              "      <td>0.876663</td>\n",
              "      <td>0.877655</td>\n",
              "      <td>0.868953</td>\n",
              "      <td>0.875096</td>\n",
              "      <td>0.869977</td>\n",
              "      <td>0.867929</td>\n",
              "      <td>0.874328</td>\n",
              "      <td>0.880983</td>\n",
              "      <td>0.874286</td>\n",
              "      <td>0.004083</td>\n",
              "      <td>1</td>\n",
              "    </tr>\n",
              "    <tr>\n",
              "      <th>4</th>\n",
              "      <td>2.367050</td>\n",
              "      <td>0.059774</td>\n",
              "      <td>0.081676</td>\n",
              "      <td>0.010385</td>\n",
              "      <td>0.1</td>\n",
              "      <td>10</td>\n",
              "      <td>{'classifier__learning_rate': 0.1, 'classifier...</td>\n",
              "      <td>0.874360</td>\n",
              "      <td>0.866428</td>\n",
              "      <td>0.873849</td>\n",
              "      <td>0.876888</td>\n",
              "      <td>0.866650</td>\n",
              "      <td>0.868185</td>\n",
              "      <td>0.863322</td>\n",
              "      <td>0.865114</td>\n",
              "      <td>0.872792</td>\n",
              "      <td>0.877655</td>\n",
              "      <td>0.870524</td>\n",
              "      <td>0.004906</td>\n",
              "      <td>2</td>\n",
              "    </tr>\n",
              "    <tr>\n",
              "      <th>6</th>\n",
              "      <td>1.689116</td>\n",
              "      <td>0.102000</td>\n",
              "      <td>0.048815</td>\n",
              "      <td>0.009528</td>\n",
              "      <td>1</td>\n",
              "      <td>3</td>\n",
              "      <td>{'classifier__learning_rate': 1, 'classifier__...</td>\n",
              "      <td>0.868219</td>\n",
              "      <td>0.861566</td>\n",
              "      <td>0.869754</td>\n",
              "      <td>0.877400</td>\n",
              "      <td>0.861275</td>\n",
              "      <td>0.868441</td>\n",
              "      <td>0.863066</td>\n",
              "      <td>0.862554</td>\n",
              "      <td>0.864858</td>\n",
              "      <td>0.860251</td>\n",
              "      <td>0.865738</td>\n",
              "      <td>0.005011</td>\n",
              "      <td>3</td>\n",
              "    </tr>\n",
              "    <tr>\n",
              "      <th>7</th>\n",
              "      <td>1.538802</td>\n",
              "      <td>0.084523</td>\n",
              "      <td>0.041000</td>\n",
              "      <td>0.006003</td>\n",
              "      <td>1</td>\n",
              "      <td>10</td>\n",
              "      <td>{'classifier__learning_rate': 1, 'classifier__...</td>\n",
              "      <td>0.868219</td>\n",
              "      <td>0.857472</td>\n",
              "      <td>0.871290</td>\n",
              "      <td>0.870745</td>\n",
              "      <td>0.863578</td>\n",
              "      <td>0.866394</td>\n",
              "      <td>0.860763</td>\n",
              "      <td>0.854620</td>\n",
              "      <td>0.869721</td>\n",
              "      <td>0.873816</td>\n",
              "      <td>0.865662</td>\n",
              "      <td>0.006041</td>\n",
              "      <td>4</td>\n",
              "    </tr>\n",
              "    <tr>\n",
              "      <th>8</th>\n",
              "      <td>1.592369</td>\n",
              "      <td>0.178050</td>\n",
              "      <td>0.041580</td>\n",
              "      <td>0.007018</td>\n",
              "      <td>1</td>\n",
              "      <td>30</td>\n",
              "      <td>{'classifier__learning_rate': 1, 'classifier__...</td>\n",
              "      <td>0.869243</td>\n",
              "      <td>0.857472</td>\n",
              "      <td>0.832139</td>\n",
              "      <td>0.867673</td>\n",
              "      <td>0.859227</td>\n",
              "      <td>0.864858</td>\n",
              "      <td>0.855388</td>\n",
              "      <td>0.862042</td>\n",
              "      <td>0.861787</td>\n",
              "      <td>0.868441</td>\n",
              "      <td>0.859827</td>\n",
              "      <td>0.010250</td>\n",
              "      <td>5</td>\n",
              "    </tr>\n",
              "  </tbody>\n",
              "</table>\n",
              "</div>\n",
              "      <button class=\"colab-df-convert\" onclick=\"convertToInteractive('df-b2ee9450-b85e-4657-aafb-5f26aadd2c23')\"\n",
              "              title=\"Convert this dataframe to an interactive table.\"\n",
              "              style=\"display:none;\">\n",
              "        \n",
              "  <svg xmlns=\"http://www.w3.org/2000/svg\" height=\"24px\"viewBox=\"0 0 24 24\"\n",
              "       width=\"24px\">\n",
              "    <path d=\"M0 0h24v24H0V0z\" fill=\"none\"/>\n",
              "    <path d=\"M18.56 5.44l.94 2.06.94-2.06 2.06-.94-2.06-.94-.94-2.06-.94 2.06-2.06.94zm-11 1L8.5 8.5l.94-2.06 2.06-.94-2.06-.94L8.5 2.5l-.94 2.06-2.06.94zm10 10l.94 2.06.94-2.06 2.06-.94-2.06-.94-.94-2.06-.94 2.06-2.06.94z\"/><path d=\"M17.41 7.96l-1.37-1.37c-.4-.4-.92-.59-1.43-.59-.52 0-1.04.2-1.43.59L10.3 9.45l-7.72 7.72c-.78.78-.78 2.05 0 2.83L4 21.41c.39.39.9.59 1.41.59.51 0 1.02-.2 1.41-.59l7.78-7.78 2.81-2.81c.8-.78.8-2.07 0-2.86zM5.41 20L4 18.59l7.72-7.72 1.47 1.35L5.41 20z\"/>\n",
              "  </svg>\n",
              "      </button>\n",
              "      \n",
              "  <style>\n",
              "    .colab-df-container {\n",
              "      display:flex;\n",
              "      flex-wrap:wrap;\n",
              "      gap: 12px;\n",
              "    }\n",
              "\n",
              "    .colab-df-convert {\n",
              "      background-color: #E8F0FE;\n",
              "      border: none;\n",
              "      border-radius: 50%;\n",
              "      cursor: pointer;\n",
              "      display: none;\n",
              "      fill: #1967D2;\n",
              "      height: 32px;\n",
              "      padding: 0 0 0 0;\n",
              "      width: 32px;\n",
              "    }\n",
              "\n",
              "    .colab-df-convert:hover {\n",
              "      background-color: #E2EBFA;\n",
              "      box-shadow: 0px 1px 2px rgba(60, 64, 67, 0.3), 0px 1px 3px 1px rgba(60, 64, 67, 0.15);\n",
              "      fill: #174EA6;\n",
              "    }\n",
              "\n",
              "    [theme=dark] .colab-df-convert {\n",
              "      background-color: #3B4455;\n",
              "      fill: #D2E3FC;\n",
              "    }\n",
              "\n",
              "    [theme=dark] .colab-df-convert:hover {\n",
              "      background-color: #434B5C;\n",
              "      box-shadow: 0px 1px 3px 1px rgba(0, 0, 0, 0.15);\n",
              "      filter: drop-shadow(0px 1px 2px rgba(0, 0, 0, 0.3));\n",
              "      fill: #FFFFFF;\n",
              "    }\n",
              "  </style>\n",
              "\n",
              "      <script>\n",
              "        const buttonEl =\n",
              "          document.querySelector('#df-b2ee9450-b85e-4657-aafb-5f26aadd2c23 button.colab-df-convert');\n",
              "        buttonEl.style.display =\n",
              "          google.colab.kernel.accessAllowed ? 'block' : 'none';\n",
              "\n",
              "        async function convertToInteractive(key) {\n",
              "          const element = document.querySelector('#df-b2ee9450-b85e-4657-aafb-5f26aadd2c23');\n",
              "          const dataTable =\n",
              "            await google.colab.kernel.invokeFunction('convertToInteractive',\n",
              "                                                     [key], {});\n",
              "          if (!dataTable) return;\n",
              "\n",
              "          const docLinkHtml = 'Like what you see? Visit the ' +\n",
              "            '<a target=\"_blank\" href=https://colab.research.google.com/notebooks/data_table.ipynb>data table notebook</a>'\n",
              "            + ' to learn more about interactive tables.';\n",
              "          element.innerHTML = '';\n",
              "          dataTable['output_type'] = 'display_data';\n",
              "          await google.colab.output.renderOutput(dataTable, element);\n",
              "          const docLink = document.createElement('div');\n",
              "          docLink.innerHTML = docLinkHtml;\n",
              "          element.appendChild(docLink);\n",
              "        }\n",
              "      </script>\n",
              "    </div>\n",
              "  </div>\n",
              "  "
            ]
          },
          "metadata": {},
          "execution_count": 21
        }
      ]
    },
    {
      "cell_type": "code",
      "source": [
        "column_results = [f'param_{name}' for name in param_grid.keys()]\n",
        "column_results += ['mean_test_score', 'std_test_score', 'rank_test_score']\n",
        "cv_results = cv_results[column_results]\n",
        "cv_results.columns = cv_results.columns.str.replace('param_classifier__', '')\n",
        "cv_results.head()"
      ],
      "metadata": {
        "colab": {
          "base_uri": "https://localhost:8080/",
          "height": 206
        },
        "id": "mgcQ8163wDEX",
        "outputId": "36c45e79-ad24-4ddf-872d-347a4f4a2d95"
      },
      "execution_count": 24,
      "outputs": [
        {
          "output_type": "execute_result",
          "data": {
            "text/plain": [
              "  learning_rate max_leaf_nodes  mean_test_score  std_test_score  \\\n",
              "5           0.1             30         0.874286        0.004083   \n",
              "4           0.1             10         0.870524        0.004906   \n",
              "6             1              3         0.865738        0.005011   \n",
              "7             1             10         0.865662        0.006041   \n",
              "8             1             30         0.859827        0.010250   \n",
              "\n",
              "   rank_test_score  \n",
              "5                1  \n",
              "4                2  \n",
              "6                3  \n",
              "7                4  \n",
              "8                5  "
            ],
            "text/html": [
              "\n",
              "  <div id=\"df-1a1744f3-caa1-4b39-aee3-a31744e6f189\">\n",
              "    <div class=\"colab-df-container\">\n",
              "      <div>\n",
              "<style scoped>\n",
              "    .dataframe tbody tr th:only-of-type {\n",
              "        vertical-align: middle;\n",
              "    }\n",
              "\n",
              "    .dataframe tbody tr th {\n",
              "        vertical-align: top;\n",
              "    }\n",
              "\n",
              "    .dataframe thead th {\n",
              "        text-align: right;\n",
              "    }\n",
              "</style>\n",
              "<table border=\"1\" class=\"dataframe\">\n",
              "  <thead>\n",
              "    <tr style=\"text-align: right;\">\n",
              "      <th></th>\n",
              "      <th>learning_rate</th>\n",
              "      <th>max_leaf_nodes</th>\n",
              "      <th>mean_test_score</th>\n",
              "      <th>std_test_score</th>\n",
              "      <th>rank_test_score</th>\n",
              "    </tr>\n",
              "  </thead>\n",
              "  <tbody>\n",
              "    <tr>\n",
              "      <th>5</th>\n",
              "      <td>0.1</td>\n",
              "      <td>30</td>\n",
              "      <td>0.874286</td>\n",
              "      <td>0.004083</td>\n",
              "      <td>1</td>\n",
              "    </tr>\n",
              "    <tr>\n",
              "      <th>4</th>\n",
              "      <td>0.1</td>\n",
              "      <td>10</td>\n",
              "      <td>0.870524</td>\n",
              "      <td>0.004906</td>\n",
              "      <td>2</td>\n",
              "    </tr>\n",
              "    <tr>\n",
              "      <th>6</th>\n",
              "      <td>1</td>\n",
              "      <td>3</td>\n",
              "      <td>0.865738</td>\n",
              "      <td>0.005011</td>\n",
              "      <td>3</td>\n",
              "    </tr>\n",
              "    <tr>\n",
              "      <th>7</th>\n",
              "      <td>1</td>\n",
              "      <td>10</td>\n",
              "      <td>0.865662</td>\n",
              "      <td>0.006041</td>\n",
              "      <td>4</td>\n",
              "    </tr>\n",
              "    <tr>\n",
              "      <th>8</th>\n",
              "      <td>1</td>\n",
              "      <td>30</td>\n",
              "      <td>0.859827</td>\n",
              "      <td>0.010250</td>\n",
              "      <td>5</td>\n",
              "    </tr>\n",
              "  </tbody>\n",
              "</table>\n",
              "</div>\n",
              "      <button class=\"colab-df-convert\" onclick=\"convertToInteractive('df-1a1744f3-caa1-4b39-aee3-a31744e6f189')\"\n",
              "              title=\"Convert this dataframe to an interactive table.\"\n",
              "              style=\"display:none;\">\n",
              "        \n",
              "  <svg xmlns=\"http://www.w3.org/2000/svg\" height=\"24px\"viewBox=\"0 0 24 24\"\n",
              "       width=\"24px\">\n",
              "    <path d=\"M0 0h24v24H0V0z\" fill=\"none\"/>\n",
              "    <path d=\"M18.56 5.44l.94 2.06.94-2.06 2.06-.94-2.06-.94-.94-2.06-.94 2.06-2.06.94zm-11 1L8.5 8.5l.94-2.06 2.06-.94-2.06-.94L8.5 2.5l-.94 2.06-2.06.94zm10 10l.94 2.06.94-2.06 2.06-.94-2.06-.94-.94-2.06-.94 2.06-2.06.94z\"/><path d=\"M17.41 7.96l-1.37-1.37c-.4-.4-.92-.59-1.43-.59-.52 0-1.04.2-1.43.59L10.3 9.45l-7.72 7.72c-.78.78-.78 2.05 0 2.83L4 21.41c.39.39.9.59 1.41.59.51 0 1.02-.2 1.41-.59l7.78-7.78 2.81-2.81c.8-.78.8-2.07 0-2.86zM5.41 20L4 18.59l7.72-7.72 1.47 1.35L5.41 20z\"/>\n",
              "  </svg>\n",
              "      </button>\n",
              "      \n",
              "  <style>\n",
              "    .colab-df-container {\n",
              "      display:flex;\n",
              "      flex-wrap:wrap;\n",
              "      gap: 12px;\n",
              "    }\n",
              "\n",
              "    .colab-df-convert {\n",
              "      background-color: #E8F0FE;\n",
              "      border: none;\n",
              "      border-radius: 50%;\n",
              "      cursor: pointer;\n",
              "      display: none;\n",
              "      fill: #1967D2;\n",
              "      height: 32px;\n",
              "      padding: 0 0 0 0;\n",
              "      width: 32px;\n",
              "    }\n",
              "\n",
              "    .colab-df-convert:hover {\n",
              "      background-color: #E2EBFA;\n",
              "      box-shadow: 0px 1px 2px rgba(60, 64, 67, 0.3), 0px 1px 3px 1px rgba(60, 64, 67, 0.15);\n",
              "      fill: #174EA6;\n",
              "    }\n",
              "\n",
              "    [theme=dark] .colab-df-convert {\n",
              "      background-color: #3B4455;\n",
              "      fill: #D2E3FC;\n",
              "    }\n",
              "\n",
              "    [theme=dark] .colab-df-convert:hover {\n",
              "      background-color: #434B5C;\n",
              "      box-shadow: 0px 1px 3px 1px rgba(0, 0, 0, 0.15);\n",
              "      filter: drop-shadow(0px 1px 2px rgba(0, 0, 0, 0.3));\n",
              "      fill: #FFFFFF;\n",
              "    }\n",
              "  </style>\n",
              "\n",
              "      <script>\n",
              "        const buttonEl =\n",
              "          document.querySelector('#df-1a1744f3-caa1-4b39-aee3-a31744e6f189 button.colab-df-convert');\n",
              "        buttonEl.style.display =\n",
              "          google.colab.kernel.accessAllowed ? 'block' : 'none';\n",
              "\n",
              "        async function convertToInteractive(key) {\n",
              "          const element = document.querySelector('#df-1a1744f3-caa1-4b39-aee3-a31744e6f189');\n",
              "          const dataTable =\n",
              "            await google.colab.kernel.invokeFunction('convertToInteractive',\n",
              "                                                     [key], {});\n",
              "          if (!dataTable) return;\n",
              "\n",
              "          const docLinkHtml = 'Like what you see? Visit the ' +\n",
              "            '<a target=\"_blank\" href=https://colab.research.google.com/notebooks/data_table.ipynb>data table notebook</a>'\n",
              "            + ' to learn more about interactive tables.';\n",
              "          element.innerHTML = '';\n",
              "          dataTable['output_type'] = 'display_data';\n",
              "          await google.colab.output.renderOutput(dataTable, element);\n",
              "          const docLink = document.createElement('div');\n",
              "          docLink.innerHTML = docLinkHtml;\n",
              "          element.appendChild(docLink);\n",
              "        }\n",
              "      </script>\n",
              "    </div>\n",
              "  </div>\n",
              "  "
            ]
          },
          "metadata": {},
          "execution_count": 24
        }
      ]
    },
    {
      "cell_type": "markdown",
      "source": [
        "\n",
        "\n",
        "With only 2 parameters, we might want to visualize the grid-search as a heatmap. We need to transform our `cv_results` into a dataframe where:\n",
        "\n",
        "- the rows will correspond to the learning-rate values;\n",
        "- the columns will correspond to the maximum number of leaf;\n",
        "- the content of the dataframe will be the mean test scores.\n",
        "\n"
      ],
      "metadata": {
        "id": "fR7E4QuzzsOD"
      }
    },
    {
      "cell_type": "code",
      "source": [
        "pivoted_cv_results = cv_results.pivot_table(\n",
        "    values=\"mean_test_score\", index=[\"learning_rate\"],\n",
        "    columns=[\"max_leaf_nodes\"])\n",
        "\n",
        "pivoted_cv_results"
      ],
      "metadata": {
        "colab": {
          "base_uri": "https://localhost:8080/",
          "height": 206
        },
        "id": "y3UqXUL7yL0d",
        "outputId": "bad19192-f54c-493b-881e-295179a732c2"
      },
      "execution_count": 25,
      "outputs": [
        {
          "output_type": "execute_result",
          "data": {
            "text/plain": [
              "max_leaf_nodes        3         10        30\n",
              "learning_rate                               \n",
              "0.01            0.800194  0.820413  0.849410\n",
              "0.10            0.855296  0.870524  0.874286\n",
              "1.00            0.865738  0.865662  0.859827\n",
              "10.00           0.278965  0.742533  0.655650"
            ],
            "text/html": [
              "\n",
              "  <div id=\"df-f1df0a30-159b-4c59-be8d-e87c6d828711\">\n",
              "    <div class=\"colab-df-container\">\n",
              "      <div>\n",
              "<style scoped>\n",
              "    .dataframe tbody tr th:only-of-type {\n",
              "        vertical-align: middle;\n",
              "    }\n",
              "\n",
              "    .dataframe tbody tr th {\n",
              "        vertical-align: top;\n",
              "    }\n",
              "\n",
              "    .dataframe thead th {\n",
              "        text-align: right;\n",
              "    }\n",
              "</style>\n",
              "<table border=\"1\" class=\"dataframe\">\n",
              "  <thead>\n",
              "    <tr style=\"text-align: right;\">\n",
              "      <th>max_leaf_nodes</th>\n",
              "      <th>3</th>\n",
              "      <th>10</th>\n",
              "      <th>30</th>\n",
              "    </tr>\n",
              "    <tr>\n",
              "      <th>learning_rate</th>\n",
              "      <th></th>\n",
              "      <th></th>\n",
              "      <th></th>\n",
              "    </tr>\n",
              "  </thead>\n",
              "  <tbody>\n",
              "    <tr>\n",
              "      <th>0.01</th>\n",
              "      <td>0.800194</td>\n",
              "      <td>0.820413</td>\n",
              "      <td>0.849410</td>\n",
              "    </tr>\n",
              "    <tr>\n",
              "      <th>0.10</th>\n",
              "      <td>0.855296</td>\n",
              "      <td>0.870524</td>\n",
              "      <td>0.874286</td>\n",
              "    </tr>\n",
              "    <tr>\n",
              "      <th>1.00</th>\n",
              "      <td>0.865738</td>\n",
              "      <td>0.865662</td>\n",
              "      <td>0.859827</td>\n",
              "    </tr>\n",
              "    <tr>\n",
              "      <th>10.00</th>\n",
              "      <td>0.278965</td>\n",
              "      <td>0.742533</td>\n",
              "      <td>0.655650</td>\n",
              "    </tr>\n",
              "  </tbody>\n",
              "</table>\n",
              "</div>\n",
              "      <button class=\"colab-df-convert\" onclick=\"convertToInteractive('df-f1df0a30-159b-4c59-be8d-e87c6d828711')\"\n",
              "              title=\"Convert this dataframe to an interactive table.\"\n",
              "              style=\"display:none;\">\n",
              "        \n",
              "  <svg xmlns=\"http://www.w3.org/2000/svg\" height=\"24px\"viewBox=\"0 0 24 24\"\n",
              "       width=\"24px\">\n",
              "    <path d=\"M0 0h24v24H0V0z\" fill=\"none\"/>\n",
              "    <path d=\"M18.56 5.44l.94 2.06.94-2.06 2.06-.94-2.06-.94-.94-2.06-.94 2.06-2.06.94zm-11 1L8.5 8.5l.94-2.06 2.06-.94-2.06-.94L8.5 2.5l-.94 2.06-2.06.94zm10 10l.94 2.06.94-2.06 2.06-.94-2.06-.94-.94-2.06-.94 2.06-2.06.94z\"/><path d=\"M17.41 7.96l-1.37-1.37c-.4-.4-.92-.59-1.43-.59-.52 0-1.04.2-1.43.59L10.3 9.45l-7.72 7.72c-.78.78-.78 2.05 0 2.83L4 21.41c.39.39.9.59 1.41.59.51 0 1.02-.2 1.41-.59l7.78-7.78 2.81-2.81c.8-.78.8-2.07 0-2.86zM5.41 20L4 18.59l7.72-7.72 1.47 1.35L5.41 20z\"/>\n",
              "  </svg>\n",
              "      </button>\n",
              "      \n",
              "  <style>\n",
              "    .colab-df-container {\n",
              "      display:flex;\n",
              "      flex-wrap:wrap;\n",
              "      gap: 12px;\n",
              "    }\n",
              "\n",
              "    .colab-df-convert {\n",
              "      background-color: #E8F0FE;\n",
              "      border: none;\n",
              "      border-radius: 50%;\n",
              "      cursor: pointer;\n",
              "      display: none;\n",
              "      fill: #1967D2;\n",
              "      height: 32px;\n",
              "      padding: 0 0 0 0;\n",
              "      width: 32px;\n",
              "    }\n",
              "\n",
              "    .colab-df-convert:hover {\n",
              "      background-color: #E2EBFA;\n",
              "      box-shadow: 0px 1px 2px rgba(60, 64, 67, 0.3), 0px 1px 3px 1px rgba(60, 64, 67, 0.15);\n",
              "      fill: #174EA6;\n",
              "    }\n",
              "\n",
              "    [theme=dark] .colab-df-convert {\n",
              "      background-color: #3B4455;\n",
              "      fill: #D2E3FC;\n",
              "    }\n",
              "\n",
              "    [theme=dark] .colab-df-convert:hover {\n",
              "      background-color: #434B5C;\n",
              "      box-shadow: 0px 1px 3px 1px rgba(0, 0, 0, 0.15);\n",
              "      filter: drop-shadow(0px 1px 2px rgba(0, 0, 0, 0.3));\n",
              "      fill: #FFFFFF;\n",
              "    }\n",
              "  </style>\n",
              "\n",
              "      <script>\n",
              "        const buttonEl =\n",
              "          document.querySelector('#df-f1df0a30-159b-4c59-be8d-e87c6d828711 button.colab-df-convert');\n",
              "        buttonEl.style.display =\n",
              "          google.colab.kernel.accessAllowed ? 'block' : 'none';\n",
              "\n",
              "        async function convertToInteractive(key) {\n",
              "          const element = document.querySelector('#df-f1df0a30-159b-4c59-be8d-e87c6d828711');\n",
              "          const dataTable =\n",
              "            await google.colab.kernel.invokeFunction('convertToInteractive',\n",
              "                                                     [key], {});\n",
              "          if (!dataTable) return;\n",
              "\n",
              "          const docLinkHtml = 'Like what you see? Visit the ' +\n",
              "            '<a target=\"_blank\" href=https://colab.research.google.com/notebooks/data_table.ipynb>data table notebook</a>'\n",
              "            + ' to learn more about interactive tables.';\n",
              "          element.innerHTML = '';\n",
              "          dataTable['output_type'] = 'display_data';\n",
              "          await google.colab.output.renderOutput(dataTable, element);\n",
              "          const docLink = document.createElement('div');\n",
              "          docLink.innerHTML = docLinkHtml;\n",
              "          element.appendChild(docLink);\n",
              "        }\n",
              "      </script>\n",
              "    </div>\n",
              "  </div>\n",
              "  "
            ]
          },
          "metadata": {},
          "execution_count": 25
        }
      ]
    },
    {
      "cell_type": "markdown",
      "source": [
        "We can use a heatmap representation to show the above dataframe visually."
      ],
      "metadata": {
        "id": "pMUWhS6d0D0Q"
      }
    },
    {
      "cell_type": "code",
      "source": [
        "import seaborn as sns\n",
        "import matplotlib.pyplot as plt\n",
        "\n",
        "\n",
        "plt.figure(figsize=(6,6), dpi=105)\n",
        "ax = sns.heatmap(\n",
        "    pivoted_cv_results, \n",
        "    annot=True,\n",
        "    cmap=\"YlGnBu\", \n",
        "    vmin=0.7,\n",
        "    vmax=0.9\n",
        ")\n",
        "\n",
        "ax.invert_yaxis()"
      ],
      "metadata": {
        "colab": {
          "base_uri": "https://localhost:8080/",
          "height": 566
        },
        "id": "NsfVGbZ1z8bk",
        "outputId": "acf5863d-f351-47d1-90c3-5416653b36af"
      },
      "execution_count": 27,
      "outputs": [
        {
          "output_type": "display_data",
          "data": {
            "text/plain": [
              "<Figure size 630x630 with 2 Axes>"
            ],
            "image/png": "[encoded data removed]"
          },
          "metadata": {
            "needs_background": "light"
          }
        }
      ]
    },
    {
      "cell_type": "markdown",
      "source": [
        "The above tables highlights the following things:\n",
        "\n",
        "* for too high values of `learning_rate`, the generalization performance of the model is degraded and adjusting the value of `max_leaf_nodes` cannot fix that problem;\n",
        "\n",
        "* outside of this pathological region, we observe that the optimal choice of `max_leaf_nodes` depends on the value of `learning_rate`;\n",
        "\n",
        "* in particular, we observe a \"diagonal\" of good models with an accuracy close to the maximal of 0.87: when the value of `max_leaf_nodes` is increased, one should decrease the value of `learning_rate` accordingly to preserve a good accuracy.\n"
      ],
      "metadata": {
        "id": "ta4vTgc_1mmG"
      }
    },
    {
      "cell_type": "markdown",
      "source": [
        "We can conclude:\n",
        "* that searching for more than two hyperparamters is too costly;\n",
        "* that a grid-search does not necessarily find an optimal solution."
      ],
      "metadata": {
        "id": "GDJ9YLNX19z6"
      }
    },
    {
      "cell_type": "markdown",
      "source": [
        "# Hyperparameter tuning by randomized-search"
      ],
      "metadata": {
        "id": "vMLj7CxU2r8K"
      }
    },
    {
      "cell_type": "markdown",
      "source": [
        "A grid-search approach has limitations. It does not scale when the number of parameters to tune is increasing. Also, the grid will impose a regularity during the search which might be problematic. However, we will present another method to tune hyperparameters called randomized search."
      ],
      "metadata": {
        "id": "UCukVlOd3hCf"
      }
    },
    {
      "cell_type": "markdown",
      "source": [
        "We will optimize 3 other parameters in addition to the ones we optimized with the `GridSearchCV`:\n",
        "\n",
        "* `l2_regularization`: it corresponds to the strength of the regularization;\n",
        "* `min_samples_leaf`: it corresponds to the minimum number of samples required in a leaf;\n",
        "* `max_bins`: it corresponds to the maximum number of bins to construct the histograms.\n",
        "\n",
        "We recall the meaning of the 2 remaining parameters:\n",
        "\n",
        "* `learning_rate`: it corresponds to the speed at which the gradient-boosting will correct the residuals at each boosting iteration;\n",
        "* `max_leaf_nodes`: it corresponds to the maximum number of leaves for each tree in the ensemble.\n"
      ],
      "metadata": {
        "id": "V2kRUzCG4aoP"
      }
    },
    {
      "cell_type": "markdown",
      "source": [
        "The `RandomizedSearchCV` class allows for such stochastic search. It is used similarly to the `GridSearchCV` but the sampling distributions need to be specified instead of the parameter values. For instance, we will draw candidates using a **log-uniform** distribution because the parameters we are interested in take positive values with a natural log scaling *(.1 is as close to 1 as 10 is)*.\n"
      ],
      "metadata": {
        "id": "HjUXvvn66JuY"
      }
    },
    {
      "cell_type": "code",
      "source": [
        "from scipy.stats import loguniform\n",
        "\n",
        "\n",
        "class loguniform_int:\n",
        "    \"\"\"Integer valued version of the log-uniform distribution\"\"\"\n",
        "    def __init__(self, a, b):\n",
        "        self._distribution = loguniform(a, b)\n",
        "\n",
        "    def rvs(self, *args, **kwargs):\n",
        "        \"\"\"Random variable sample\"\"\"\n",
        "        return self._distribution.rvs(*args, **kwargs).astype(int)\n"
      ],
      "metadata": {
        "id": "ObYVYPsg0ODF"
      },
      "execution_count": 28,
      "outputs": []
    },
    {
      "cell_type": "markdown",
      "source": [
        "Now, we can define the randomized search using the different distributions."
      ],
      "metadata": {
        "id": "9JDKsRwL6ps7"
      }
    },
    {
      "cell_type": "code",
      "source": [
        "%%time\n",
        "from sklearn.model_selection import RandomizedSearchCV\n",
        "\n",
        "param_distributions = {\n",
        "    'classifier__l2_regularization': loguniform(1e-6, 1e3),\n",
        "    'classifier__learning_rate': loguniform(0.001, 10),\n",
        "    'classifier__max_leaf_nodes': loguniform_int(2, 256),\n",
        "    'classifier__min_samples_leaf': loguniform_int(1, 100),\n",
        "    'classifier__max_bins': loguniform_int(2, 255),\n",
        "}\n",
        "\n",
        "model_random_search = RandomizedSearchCV(\n",
        "    model, \n",
        "    param_distributions=param_distributions,\n",
        "    n_iter=500,\n",
        "    cv=5,\n",
        "    verbose=1,\n",
        ").fit(X_full_train, y_full_train)"
      ],
      "metadata": {
        "colab": {
          "base_uri": "https://localhost:8080/"
        },
        "id": "uqLCy42L6hAB",
        "outputId": "220a3f72-76ae-4877-def4-83a19ed263aa"
      },
      "execution_count": 38,
      "outputs": [
        {
          "output_type": "stream",
          "name": "stdout",
          "text": [
            "Fitting 5 folds for each of 500 candidates, totalling 2500 fits\n",
            "CPU times: user 1h 9min 59s, sys: 1min 23s, total: 1h 11min 23s\n",
            "Wall time: 39min 2s\n"
          ]
        }
      ]
    },
    {
      "cell_type": "markdown",
      "source": [
        "Then, we can compute the accuracy score on the test set."
      ],
      "metadata": {
        "id": "vrtIAi0D7g4B"
      }
    },
    {
      "cell_type": "code",
      "source": [
        "accuracy = model_random_search.score(X_test, y_test)\n",
        "\n",
        "print(f\"The test accuracy score of the best model is \"\n",
        "      f\"{accuracy:.2f}\"\n",
        ")\n"
      ],
      "metadata": {
        "colab": {
          "base_uri": "https://localhost:8080/"
        },
        "id": "b7AUY2ho67Tb",
        "outputId": "1d85e2a0-c905-4995-d30f-c166a396293c"
      },
      "execution_count": 39,
      "outputs": [
        {
          "output_type": "stream",
          "name": "stdout",
          "text": [
            "The test accuracy score of the best model is 0.87\n"
          ]
        }
      ]
    },
    {
      "cell_type": "code",
      "source": [
        "from pprint import pprint\n",
        "\n",
        "print(\"The best parameters are:\")\n",
        "pprint(model_random_search.best_params_)"
      ],
      "metadata": {
        "colab": {
          "base_uri": "https://localhost:8080/"
        },
        "id": "2WZIAgfR7n3n",
        "outputId": "6b59448f-89f9-4004-84a9-db842127a7be"
      },
      "execution_count": 40,
      "outputs": [
        {
          "output_type": "stream",
          "name": "stdout",
          "text": [
            "The best parameters are:\n",
            "{'classifier__l2_regularization': 0.021329648717648208,\n",
            " 'classifier__learning_rate': 0.1307886059282795,\n",
            " 'classifier__max_bins': 157,\n",
            " 'classifier__max_leaf_nodes': 29,\n",
            " 'classifier__min_samples_leaf': 2}\n"
          ]
        }
      ]
    },
    {
      "cell_type": "markdown",
      "source": [
        "We can inspect the results using the attributes cv_results as we did previously."
      ],
      "metadata": {
        "id": "eQOxUIJ573p2"
      }
    },
    {
      "cell_type": "code",
      "source": [
        "column_results = [f'param_{name}' for name in param_distributions.keys()]\n",
        "column_results += ['mean_test_score', 'std_test_score', 'rank_test_score']\n",
        "\n",
        "cv_results = pd.DataFrame(model_random_search.cv_results_).sort_values(\n",
        "    \"mean_test_score\",\n",
        "    ascending=False\n",
        ")\n",
        "cv_results = cv_results[column_results]\n",
        "\n",
        "cv_results.columns = cv_results.columns.str.replace('param_classifier__', '')\n",
        "cv_results.head()"
      ],
      "metadata": {
        "colab": {
          "base_uri": "https://localhost:8080/",
          "height": 206
        },
        "id": "FRqYR6cp7v0M",
        "outputId": "924a125d-7d9b-450f-f765-e8dc5c8e3dfb"
      },
      "execution_count": 46,
      "outputs": [
        {
          "output_type": "execute_result",
          "data": {
            "text/plain": [
              "    l2_regularization learning_rate max_leaf_nodes min_samples_leaf max_bins  \\\n",
              "390           0.02133      0.130789             29                2      157   \n",
              "116          0.000023      0.210858             31                9      188   \n",
              "108          0.000009      0.429032              6               51      191   \n",
              "157          0.000089      0.051247            114                1      137   \n",
              "163          1.797504      0.040984            107                3      132   \n",
              "\n",
              "     mean_test_score  std_test_score  rank_test_score  \n",
              "390         0.873288        0.003448                1  \n",
              "116         0.871958        0.003403                2  \n",
              "108         0.871830        0.003433                3  \n",
              "157         0.871753        0.003713                4  \n",
              "163         0.871574        0.003413                5  "
            ],
            "text/html": [
              "\n",
              "  <div id=\"df-1cac822a-f4ef-4dec-a35f-3b2f6137c67c\">\n",
              "    <div class=\"colab-df-container\">\n",
              "      <div>\n",
              "<style scoped>\n",
              "    .dataframe tbody tr th:only-of-type {\n",
              "        vertical-align: middle;\n",
              "    }\n",
              "\n",
              "    .dataframe tbody tr th {\n",
              "        vertical-align: top;\n",
              "    }\n",
              "\n",
              "    .dataframe thead th {\n",
              "        text-align: right;\n",
              "    }\n",
              "</style>\n",
              "<table border=\"1\" class=\"dataframe\">\n",
              "  <thead>\n",
              "    <tr style=\"text-align: right;\">\n",
              "      <th></th>\n",
              "      <th>l2_regularization</th>\n",
              "      <th>learning_rate</th>\n",
              "      <th>max_leaf_nodes</th>\n",
              "      <th>min_samples_leaf</th>\n",
              "      <th>max_bins</th>\n",
              "      <th>mean_test_score</th>\n",
              "      <th>std_test_score</th>\n",
              "      <th>rank_test_score</th>\n",
              "    </tr>\n",
              "  </thead>\n",
              "  <tbody>\n",
              "    <tr>\n",
              "      <th>390</th>\n",
              "      <td>0.02133</td>\n",
              "      <td>0.130789</td>\n",
              "      <td>29</td>\n",
              "      <td>2</td>\n",
              "      <td>157</td>\n",
              "      <td>0.873288</td>\n",
              "      <td>0.003448</td>\n",
              "      <td>1</td>\n",
              "    </tr>\n",
              "    <tr>\n",
              "      <th>116</th>\n",
              "      <td>0.000023</td>\n",
              "      <td>0.210858</td>\n",
              "      <td>31</td>\n",
              "      <td>9</td>\n",
              "      <td>188</td>\n",
              "      <td>0.871958</td>\n",
              "      <td>0.003403</td>\n",
              "      <td>2</td>\n",
              "    </tr>\n",
              "    <tr>\n",
              "      <th>108</th>\n",
              "      <td>0.000009</td>\n",
              "      <td>0.429032</td>\n",
              "      <td>6</td>\n",
              "      <td>51</td>\n",
              "      <td>191</td>\n",
              "      <td>0.871830</td>\n",
              "      <td>0.003433</td>\n",
              "      <td>3</td>\n",
              "    </tr>\n",
              "    <tr>\n",
              "      <th>157</th>\n",
              "      <td>0.000089</td>\n",
              "      <td>0.051247</td>\n",
              "      <td>114</td>\n",
              "      <td>1</td>\n",
              "      <td>137</td>\n",
              "      <td>0.871753</td>\n",
              "      <td>0.003713</td>\n",
              "      <td>4</td>\n",
              "    </tr>\n",
              "    <tr>\n",
              "      <th>163</th>\n",
              "      <td>1.797504</td>\n",
              "      <td>0.040984</td>\n",
              "      <td>107</td>\n",
              "      <td>3</td>\n",
              "      <td>132</td>\n",
              "      <td>0.871574</td>\n",
              "      <td>0.003413</td>\n",
              "      <td>5</td>\n",
              "    </tr>\n",
              "  </tbody>\n",
              "</table>\n",
              "</div>\n",
              "      <button class=\"colab-df-convert\" onclick=\"convertToInteractive('df-1cac822a-f4ef-4dec-a35f-3b2f6137c67c')\"\n",
              "              title=\"Convert this dataframe to an interactive table.\"\n",
              "              style=\"display:none;\">\n",
              "        \n",
              "  <svg xmlns=\"http://www.w3.org/2000/svg\" height=\"24px\"viewBox=\"0 0 24 24\"\n",
              "       width=\"24px\">\n",
              "    <path d=\"M0 0h24v24H0V0z\" fill=\"none\"/>\n",
              "    <path d=\"M18.56 5.44l.94 2.06.94-2.06 2.06-.94-2.06-.94-.94-2.06-.94 2.06-2.06.94zm-11 1L8.5 8.5l.94-2.06 2.06-.94-2.06-.94L8.5 2.5l-.94 2.06-2.06.94zm10 10l.94 2.06.94-2.06 2.06-.94-2.06-.94-.94-2.06-.94 2.06-2.06.94z\"/><path d=\"M17.41 7.96l-1.37-1.37c-.4-.4-.92-.59-1.43-.59-.52 0-1.04.2-1.43.59L10.3 9.45l-7.72 7.72c-.78.78-.78 2.05 0 2.83L4 21.41c.39.39.9.59 1.41.59.51 0 1.02-.2 1.41-.59l7.78-7.78 2.81-2.81c.8-.78.8-2.07 0-2.86zM5.41 20L4 18.59l7.72-7.72 1.47 1.35L5.41 20z\"/>\n",
              "  </svg>\n",
              "      </button>\n",
              "      \n",
              "  <style>\n",
              "    .colab-df-container {\n",
              "      display:flex;\n",
              "      flex-wrap:wrap;\n",
              "      gap: 12px;\n",
              "    }\n",
              "\n",
              "    .colab-df-convert {\n",
              "      background-color: #E8F0FE;\n",
              "      border: none;\n",
              "      border-radius: 50%;\n",
              "      cursor: pointer;\n",
              "      display: none;\n",
              "      fill: #1967D2;\n",
              "      height: 32px;\n",
              "      padding: 0 0 0 0;\n",
              "      width: 32px;\n",
              "    }\n",
              "\n",
              "    .colab-df-convert:hover {\n",
              "      background-color: #E2EBFA;\n",
              "      box-shadow: 0px 1px 2px rgba(60, 64, 67, 0.3), 0px 1px 3px 1px rgba(60, 64, 67, 0.15);\n",
              "      fill: #174EA6;\n",
              "    }\n",
              "\n",
              "    [theme=dark] .colab-df-convert {\n",
              "      background-color: #3B4455;\n",
              "      fill: #D2E3FC;\n",
              "    }\n",
              "\n",
              "    [theme=dark] .colab-df-convert:hover {\n",
              "      background-color: #434B5C;\n",
              "      box-shadow: 0px 1px 3px 1px rgba(0, 0, 0, 0.15);\n",
              "      filter: drop-shadow(0px 1px 2px rgba(0, 0, 0, 0.3));\n",
              "      fill: #FFFFFF;\n",
              "    }\n",
              "  </style>\n",
              "\n",
              "      <script>\n",
              "        const buttonEl =\n",
              "          document.querySelector('#df-1cac822a-f4ef-4dec-a35f-3b2f6137c67c button.colab-df-convert');\n",
              "        buttonEl.style.display =\n",
              "          google.colab.kernel.accessAllowed ? 'block' : 'none';\n",
              "\n",
              "        async function convertToInteractive(key) {\n",
              "          const element = document.querySelector('#df-1cac822a-f4ef-4dec-a35f-3b2f6137c67c');\n",
              "          const dataTable =\n",
              "            await google.colab.kernel.invokeFunction('convertToInteractive',\n",
              "                                                     [key], {});\n",
              "          if (!dataTable) return;\n",
              "\n",
              "          const docLinkHtml = 'Like what you see? Visit the ' +\n",
              "            '<a target=\"_blank\" href=https://colab.research.google.com/notebooks/data_table.ipynb>data table notebook</a>'\n",
              "            + ' to learn more about interactive tables.';\n",
              "          element.innerHTML = '';\n",
              "          dataTable['output_type'] = 'display_data';\n",
              "          await google.colab.output.renderOutput(dataTable, element);\n",
              "          const docLink = document.createElement('div');\n",
              "          docLink.innerHTML = docLinkHtml;\n",
              "          element.appendChild(docLink);\n",
              "        }\n",
              "      </script>\n",
              "    </div>\n",
              "  </div>\n",
              "  "
            ]
          },
          "metadata": {},
          "execution_count": 46
        }
      ]
    },
    {
      "cell_type": "code",
      "source": [
        "import numpy as np\n",
        "import plotly.express as px\n",
        "\n",
        "fig = px.parallel_coordinates(\n",
        "    cv_results,\n",
        "    color=\"mean_test_score\",\n",
        "    color_continuous_scale=px.colors.sequential.Viridis,\n",
        ")\n",
        "fig.show();"
      ],
      "metadata": {
        "colab": {
          "base_uri": "https://localhost:8080/",
          "height": 542
        },
        "id": "azbziV5jNOCy",
        "outputId": "49abe235-1616-494f-ee4f-73ff1bb74e06"
      },
      "execution_count": 55,
      "outputs": [
        {
          "output_type": "display_data",
          "data": {
            "text/html": [
              "<html>\n",
              "<head><meta charset=\"utf-8\" /></head>\n",
              "<body>\n",
              "    <div>            <script src=\"https://cdnjs.cloudflare.com/ajax/libs/mathjax/2.7.5/MathJax.js?config=TeX-AMS-MML_SVG\"></script><script type=\"text/javascript\">if (window.MathJax) {MathJax.Hub.Config({SVG: {font: \"STIX-Web\"}});}</script>                <script type=\"text/javascript\">window.PlotlyConfig = {MathJaxConfig: 'local'};</script>\n",
              "        <script src=\"https://cdn.plot.ly/plotly-2.8.3.min.js\"></script>                <div id=\"52522125-36d2-4dbf-8155-e897c94eaa0a\" class=\"plotly-graph-div\" style=\"height:525px; width:100%;\"></div>            <script type=\"text/javascript\">                                    window.PLOTLYENV=window.PLOTLYENV || {};                                    if (document.getElementById(\"52522125-36d2-4dbf-8155-e897c94eaa0a\")) {                    Plotly.newPlot(                        \"52522125-36d2-4dbf-8155-e897c94eaa0a\",                        [{\"dimensions\":[{\"label\":\"mean_test_score\",\"values\":[0.7611650005297512,0.8505617343479009,0.8535817153816639,0.8420903504889186,0.8409897847278069,0.7611650005297512,0.860977941883271,0.8564735605056855,0.7611650005297512,0.7968929301722502,0.8542214844461956,0.8295497180856055,0.8086656314003067,0.849793871950226,0.7997080489912539,0.7611650005297512,0.8566528440103159,0.8185959089456871,0.7611650005297512,0.8494355669508,0.7948710657790428,0.8026513266458599,0.8276813226780485,0.6269812029231783,0.7611650005297512,0.8040077941375626,0.7611650005297512,0.34151166246714026,0.8457757153236944,0.7822540771596038,0.854605335404521,0.7611650005297512,0.867427618554947,0.25168263207219815,0.7636731420759792,0.7611650005297512,0.8453405497392102,0.8264529517946118,0.7611650005297512,0.8567807735873124,0.5821187392545263,0.867709056419069,0.8185702254316244,0.8709850963893244,0.8146801162865149,0.870473175023716,0.27896511027912074,0.7294298027344329,0.8511246821288495,0.6838978515357297,0.8043404713000157,0.8544005976444332,0.7611650005297512,0.7611650005297512,0.7611650005297512,0.7611650005297512,0.8536329415795034,0.7611650005297512,0.856627225998712,0.8342844224836534,0.7898803908728219,0.8656872280522139,0.6567232362275759,0.805005832175168,0.7178334799769628,0.8275534553283876,0.8046476352547988,0.7881400331213182,0.8686559697876459,0.7611650005297512,0.7611650005297512,0.7611650005297512,0.7931051162169186,0.8456732793036302,0.7611650005297512,0.8478488386659704,0.7611650005297512,0.8573438556483015,0.7611650005297512,0.7790801162210126,0.8717528048562213,0.7801806001040507,0.6955472771364815,0.8547333927113122,0.7889589972621611,0.8566527555819967,0.8229722723179569,0.805799263457603,0.7611650005297512,0.7741417515783227,0.8220509966117214,0.8571901803299063,0.8165228216297635,0.8444704249029866,0.7611650005297512,0.7102367635497158,0.6572104336901416,0.8601846841823516,0.28195954207886137,0.8423461736165594,0.8046988287014087,0.8620017780642417,0.7611650005297512,0.8594681920879251,0.5992271135637415,0.7611650005297512,0.7611650005297512,0.6290518142461625,0.7178896319596977,0.7505182177894525,0.8380211248704483,0.8254036875591672,0.8618994402978657,0.7424038583568283,0.8387120939318358,0.8469274319548177,0.8302663510103182,0.8583674854965274,0.8643819245310146,0.8682978187189978,0.8600054956562863,0.758350716867096,0.7969697121543577,0.8638189505490825,0.8048010354628674,0.7998105308630391,0.8438306132618572,0.7611650005297512,0.8143729883580842,0.34994169134881187,0.8291147424582516,0.7611650005297512,0.8222557769484075,0.7611650005297512,0.8600566203253148,0.8443169755680742,0.7611650005297512,0.26161326660597867,0.7921325946621065,0.7611650005297512,0.8715737047584753,0.8582395886707603,0.8614899680528133,0.6358629236596682,0.8153455557646175,0.7611650005297512,0.8180583237167536,0.8449567904843267,0.850049894860366,0.8322113351677297,0.8177256924060214,0.8102779613211256,0.8264785075788801,0.6042533497547997,0.6397488930493868,0.8097661611350659,0.8218718441120085,0.8056458173978133,0.7611650005297512,0.8469275072826452,0.7611650005297512,0.7611650005297512,0.27461415531058725,0.2754069020923287,0.8054410403362503,0.7611650005297512,0.7611650005297512,0.8602613941117546,0.7611650005297512,0.7667439137162313,0.764696729347607,0.8152687181054199,0.6979276364862451,0.837637064304255,0.8575741393672889,0.8393518302451382,0.7611650005297512,0.8175208858683523,0.703680655207994,0.7611650005297512,0.8584187608212108,0.45648238368687466,0.7675886137731037,0.7611650005297512,0.8443169788431971,0.8142450391303502,0.8467482663546129,0.8588538052261464,0.8472602761485406,0.8083840330551608,0.8553733189817446,0.8473626368407772,0.8384560317202208,0.8586490740163045,0.5398067677467859,0.5454676343344893,0.6205813048450041,0.6839498211864754,0.8377397001068182,0.7444003700233892,0.8272719421364381,0.803905387593605,0.8096382282829465,0.7611650005297512,0.8370996395563453,0.7611650005297512,0.8461085595174171,0.8260179630667663,0.7611650005297512,0.6928341489208224,0.7611650005297512,0.7611650005297512,0.8410153634379359,0.8375347199876332,0.8026769577579558,0.27896511027912074,0.7611650005297512,0.7611650005297512,0.4950637740125872,0.8577788967781143,0.7611650005297512,0.8430884081772614,0.8574461475629563,0.81944044197129,0.8581115575649527,0.8183655335232578,0.8227931329187355,0.8476440550541616,0.8638700097156521,0.8591097102318607,0.7611650005297512,0.8367413443822882,0.7611650005297512,0.7970976646572149,0.8042125155220358,0.8562944735084311,0.8506385065046398,0.8572670540154563,0.7859902620769749,0.7986844911957327,0.8570879015157432,0.8225628295490107,0.8604918383117658,0.4260194990994231,0.7611650005297512,0.7611650005297512,0.8450335560908198,0.8140656966735067,0.7611650005297512,0.8623856290225674,0.8478231977285058,0.7611650005297512,0.6084763129190007,0.7611650005297512,0.8070021506094758,0.8420904028908855,0.7611650005297512,0.7611650005297512,0.8482069733590037,0.8273743683311332,0.7611650005297512,0.859084124971486,0.8143217949114743,0.8719576081187677,0.845647713693993,0.7769814403695909,0.7979679270486016,0.8052106976650503,0.8701660307196706,0.8417831832590126,0.7611650005297512,0.8050315811916896,0.6494806097165364,0.7611650005297512,0.8462619924767152,0.7611650005297512,0.7611650005297512,0.8490517094422285,0.8584700328707713,0.7611650005297512,0.6837201237144938,0.8593912135984414,0.8239448659254736,0.6582248571677949,0.8557570454853985,0.8049035435356361,0.8364854623024343,0.6660634938258202,0.6542800796706405,0.8628976289911263,0.8467227203957135,0.8593656578141731,0.7114126604134745,0.8385842069314375,0.8568576570982313,0.841834409456852,0.8510992573494987,0.77465255612701,0.8566528505605617,0.8217183030736537,0.85903292497463,0.8376885099353311,0.8583930707569023,0.816983487321426,0.6241605655220276,0.8128374174935125,0.8666341512461597,0.8467738155886353,0.7536391741384503,0.8445472167104633,0.8576509246245194,0.2868990071628576,0.672816512383813,0.7611650005297512,0.7610347750915765,0.8441121068030689,0.8032144840346763,0.27896511027912074,0.8628719323765717,0.6042533497547997,0.8550659552444625,0.8237656249974414,0.3915752866428533,0.8048524155914848,0.8479767616927211,0.8608500843589791,0.7611650005297512,0.7611650005297512,0.8593401577069948,0.7611650005297512,0.861336253432943,0.7611650005297512,0.7194444310710257,0.7195770047723453,0.7532308023347042,0.8554499568584433,0.8609268499654721,0.7611650005297512,0.8603381891943542,0.7611650005297512,0.7611650005297512,0.8559363682915044,0.7052955986769158,0.7611650005297512,0.858725816696937,0.7611650005297512,0.8573694441837991,0.7611650005297512,0.7611650005297512,0.7611650005297512,0.8572158245424939,0.8582652361584708,0.7611650005297512,0.8732884772496042,0.7611650005297512,0.8552707454065173,0.8199267715262778,0.8197220075652065,0.8679906056373708,0.866711005280972,0.8148848245704963,0.8412713568719694,0.8138356225623873,0.8124278568201404,0.8076674558075381,0.8066181948472163,0.8049036123132177,0.8654313295967455,0.8034191726679201,0.802600224902692,0.5929679147668907,0.8201827092832212,0.821283229192612,0.821948632644362,0.8333888335666039,0.8296264640413609,0.8718296392402959,0.8268881534054483,0.8268880617020059,0.8268368584300273,0.832185851436166,0.8713944998567953,0.8369717460057011,0.8353339683796707,0.8251734071153027,0.8708570882093774,0.27896511027912074,0.8234331476174871,0.8225116623033841,0.8005527195720201,0.8469786286765506,0.7985052797438067,0.7770070321802117,0.8551683748889118,0.8279629046475796,0.7611650005297512,0.8548355994727708,0.7611650005297512,0.8547845239305865,0.7611650005297512,0.7611650005297512,0.7611650005297512,0.7611650005297512,0.8538888433100947,0.8628463110898446,0.6479873501651726,0.7975326599353065,0.771197700994704,0.8482838994465206,0.8475160894508127,0.644102150429344,0.7776468077949891,0.8498196275169934,0.6439225230368054,0.7491106747555654,0.7829702777680889,0.6090359430004155,0.7892150758493908,0.7915182995037697,0.847874381349747,0.7954341314644171,0.6973860523322069,0.7465510613772776,0.6471001259121012,0.8567551621259544,0.8603126989125446,0.6746881206869701,0.7611650005297512,0.7611650005297512,0.8488214846754542,0.7887798382122021,0.8508943230820348,0.8202850863510726,0.82619697146107,0.8290122343854829,0.8585467296996827,0.8632045735126725,0.8381999105563926,0.8621297698685743,0.8250709219683948,0.47288003994339933,0.8534537661539299,0.8244054988659067,0.7468590965147616,0.8580604754725225,0.8547588502418926,0.857471840902388,0.7998617636111243,0.8187494270581814,0.8056970141195462,0.7818185218354902,0.7965090759388016,0.7819721251011809,0.7827145234180296,0.859647210307598,0.7026568255772692,0.27896511027912074,0.7611650005297512,0.7611650005297512,0.8585210036090217,0.8073603966566891,0.8510991623709335,0.7611650005297512,0.7881401772267275,0.8636141210855527,0.8380977299959177,0.7611650005297512,0.8426533473967112,0.8555522815243274,0.8559873750561069,0.840708192932907,0.7611650005297512,0.7774933126083554,0.8165227626775506,0.7611650005297512,0.7611650005297512,0.8535050218278755,0.6042533497547997,0.8070021276836151,0.7624446762139776,0.7611650005297512,0.7342148916237257,0.8641515982354292,0.8615154747102377,0.7902131040616273,0.8012182278277044,0.521366974086081,0.8599799464222639,0.27896511027912074,0.8662501660077938,0.808025868886021,0.8414760651559507,0.7611650005297512,0.8621553584040719,0.7531283073624272,0.8305478936783741,0.8039054629214325,0.7020958330447131,0.8612083893584049,0.6487897356337141]},{\"label\":\"std_test_score\",\"values\":[0.003447861002555424,0.0034030671313813677,0.0034329318457388845,0.0037125406691651632,0.003413046945794433,0.0035091016719720155,0.0022526647753238417,0.0031130178153016123,0.004476504194609902,0.002727142317219686,0.004337494410262779,0.002959098359748157,0.004712295717743254,0.004007252684841407,0.0036083361905769238,0.0036569886141832085,0.004044468090548885,0.005406971410719847,0.003542396238292663,0.00425303045145313,0.0039968797958534474,0.004395520725486712,0.0046676913191718225,0.005538893111981103,0.006022042602545085,0.004176719922302632,0.002769144072557002,0.0056694502931565775,0.005744705547717771,0.00555661342924462,0.004732796630558685,0.004932037358589987,0.004507269854868803,0.003321124849733408,0.005268047181053397,0.003758173004677817,0.005808736130330182,0.0052431869182135325,0.005998983833592258,0.004764881062454669,0.004267157822266242,0.003822093355309332,0.004722825635059353,0.004664264771718931,0.004743009618871466,0.004223356900659537,0.004678160220079763,0.004067526053328525,0.005003266632524383,0.00493672603739464,0.004212385528732984,0.00645421153482992,0.004744908529779526,0.003828530935525373,0.005095475602494209,0.004570456331839472,0.006277034041102629,0.0055973542346613794,0.005606769538894566,0.003391467311708122,0.004345509046448277,0.005403982455855451,0.0046715325257145465,0.005109089749438245,0.006160617777201019,0.00568071606830548,0.0038505217872522356,0.004970360667445111,0.0050043559568541925,0.004598299282017407,0.00509329630973393,0.004750114118752789,0.004700781197800719,0.004074528113982435,0.004770612030091756,0.005705170356853242,0.0045231745895394715,0.004653918520122567,0.004409302434146814,0.0054989157385685345,0.004656793370131824,0.0030919864827717173,0.005659588816372053,0.005250726595422071,0.0047738370550195735,0.004054073027126905,0.005288739634628469,0.004953269125665823,0.005290650325604129,0.00508835189293022,0.004167621220827044,0.0033218280029024693,0.004189076195429896,0.0040472746699658805,0.004272747644009237,0.005327306540032746,0.004919728293803718,0.004859108940004924,0.00558358807759577,0.005849941120485916,0.004693055854815879,0.005458436736576007,0.002063080830306462,0.005069173692632144,0.004845066935061401,0.005265809949593659,0.004970110430508903,0.003500414364055715,0.0029319349850954724,0.0028275312343472828,0.004717626900084524,0.004986397425140669,0.0030144523592352894,0.0030514939735856116,0.0044985828840816994,0.004531872300129222,0.0031946619950819644,0.002594893364124537,0.004471233226486395,0.006115923774631488,0.004944666159476862,0.0047267366750419,0.003426647137993852,0.004557916369655203,0.006020353977389586,0.0033533754791457327,0.004464340019910796,0.0046899311828039695,0.005074120460376448,0.005989929218788848,0.005567030003796023,0.0038493846339011737,0.00489061883829621,0.004352690106429708,0.002386201590392932,0.00594356009457625,0.006136993220559501,0.006156366166146587,0.005781357301691685,0.006033915611041959,0.002527031359915561,0.004949719586693959,0.006392257696092435,0.005207453941957298,0.006879150183910479,0.0046638889424664536,0.006537751894335718,0.004959865203349033,0.005403470648745153,0.005359478752598363,0.005598522039450106,0.005452125259031586,0.005556062290274673,0.0057818512771130775,0.005243664586558624,0.005911517658331396,0.005222298522481961,0.004082731025551375,0.005029804933686781,0.004997362926550095,0.0066724829977993045,0.004851455846414451,0.004616800372358206,0.004565700638054847,0.005577019343100107,0.004443448456302912,0.0017083056171527564,0.004429941916999447,0.0054654955156543585,0.008195150474225652,0.005642822656146704,0.003921821649289179,0.005357755769027855,0.0040570283167644435,0.005021544223315655,0.0041539154768391465,0.00587542477885164,0.0037795743037189193,0.004799992116943362,0.0033468253834036694,0.010619800871778795,0.0052584098516787045,0.004704267216599325,0.003503556932056592,0.003586464642977067,0.0019663198052099146,0.006765556192441472,0.00381273773169129,0.003513172023340203,0.0035018588992023047,0.0031261856711047266,0.002992309966691734,0.003690161340070166,0.0056885146540192515,0.0032941687679160594,0.004817339226832901,0.005570485509794277,0.004190712738569259,0.004027189046688214,0.004002847989681535,0.0034946779885533137,0.005191765526251402,0.0019519755104285164,0.002794113451827293,0.004608777837792222,0.004702723556389932,0.003945739098627577,0.00400228082447007,0.005130194096786146,0.003736023921504879,0.0049144046872122635,0.004020422766279316,0.00807267944576139,0.004649580834719545,0.0027266586774409556,0.0038164574120827933,0.003339089793031636,0.002855746106065179,0.003064191829810869,0.003696607233257242,0.0033991239183502964,0.003208739579771407,0.00316799812697225,0.003615123271828368,0.004160241231595299,0.0034977203092748043,0.0038446049586035457,0.00393952127667388,0.004004870542170381,0.0054009946594188694,0.004243579569406463,0.004648727596227696,0.004629144864164753,0.00415604261109814,0.004516386787964619,0.0036341458511656884,0.004601520072123514,0.005747172244175371,0.003122909692158107,0.0032105958366224516,0.004103359975761431,0.0035680693420247953,0.006848165929921499,0.0037757844799519613,0.005781669893137735,0.00848961285659926,0.005810571137148297,0.004408889200804253,0.003077398022121777,0.003805575089132553,0.006322989728209585,0.004366991310971129,0.005393741512044116,0.004584994079659875,0.005279933532292089,0.00570712305498825,0.0040306966618117255,0.0035489447647335075,0.003687066872282941,0.001567052837692647,0.001577665576750215,0.0030724626613224393,0.0032818911040519596,0.006635590763253875,0.0026944804331760657,0.002523853459254125,0.0009416374919467363,0.004814304001940666,0.0027937443718014103,0.004134963833646818,0.003933631823866475,0.00350715262207585,0.0026902700525193177,0.0030320355233288045,0.004399438310282341,0.0026848091955014282,0.001717017497254815,0.002398098200147124,0.004257186358818058,0.002609694040135263,0.0021303776143609295,0.0038177910707698245,0.0030172748412881354,0.004716999849796385,0.00313557548867834,0.002338260651186232,0.0037845158425765255,0.0021105724864200017,0.005317715248203826,0.004273740736049054,0.005449376211698999,0.0017253063656734915,0.0032318568982583795,0.003057508307305557,0.002094251769378758,0.0030038990893204846,0.002158978544653108,0.0038315090823548194,0.002667228315105518,0.002850732003270272,0.011833376975525046,0.0027179080918587595,0.002683600205537314,0.006801678785975044,0.002849874555562309,0.0010698625313395726,0.0021926060097785943,0.013170684170445006,0.005848359550454996,0.0026470769679385903,0.0029618652929658627,0.003046709190723966,0.004875361680162185,0.0035861888634640205,0.0025035911191876085,0.0025668652753101915,0.0025880953729384214,0.010823350904218858,0.032112604115639945,0.00506649618859994,0.004668051684131673,0.011769516829183648,0.0328064996781917,0.0031387662209708457,0.001558926688248557,5.3875117265886293e-05,5.3875117265886293e-05,5.3875117265886293e-05,5.3875117265886293e-05,5.3875117265886293e-05,5.3875117265886293e-05,5.3875117265886293e-05,5.3875117265886293e-05,5.3875117265886293e-05,5.3875117265886293e-05,5.3875117265886293e-05,5.3875117265886293e-05,5.3875117265886293e-05,5.3875117265886293e-05,5.3875117265886293e-05,5.3875117265886293e-05,5.3875117265886293e-05,5.3875117265886293e-05,5.3875117265886293e-05,5.3875117265886293e-05,5.3875117265886293e-05,5.3875117265886293e-05,5.3875117265886293e-05,5.3875117265886293e-05,5.3875117265886293e-05,5.3875117265886293e-05,5.3875117265886293e-05,5.3875117265886293e-05,5.3875117265886293e-05,5.3875117265886293e-05,5.3875117265886293e-05,5.3875117265886293e-05,5.3875117265886293e-05,5.3875117265886293e-05,5.3875117265886293e-05,5.3875117265886293e-05,5.3875117265886293e-05,5.3875117265886293e-05,5.3875117265886293e-05,5.3875117265886293e-05,5.3875117265886293e-05,5.3875117265886293e-05,5.3875117265886293e-05,5.3875117265886293e-05,5.3875117265886293e-05,5.3875117265886293e-05,5.3875117265886293e-05,5.3875117265886293e-05,5.3875117265886293e-05,5.3875117265886293e-05,5.3875117265886293e-05,5.3875117265886293e-05,5.3875117265886293e-05,5.3875117265886293e-05,5.3875117265886293e-05,5.3875117265886293e-05,5.3875117265886293e-05,5.3875117265886293e-05,5.3875117265886293e-05,5.3875117265886293e-05,5.3875117265886293e-05,5.3875117265886293e-05,5.3875117265886293e-05,5.3875117265886293e-05,5.3875117265886293e-05,5.3875117265886293e-05,5.3875117265886293e-05,5.3875117265886293e-05,5.3875117265886293e-05,5.3875117265886293e-05,5.3875117265886293e-05,5.3875117265886293e-05,5.3875117265886293e-05,5.3875117265886293e-05,5.3875117265886293e-05,5.3875117265886293e-05,5.3875117265886293e-05,5.3875117265886293e-05,5.3875117265886293e-05,5.3875117265886293e-05,5.3875117265886293e-05,5.3875117265886293e-05,5.3875117265886293e-05,5.3875117265886293e-05,5.3875117265886293e-05,5.3875117265886293e-05,5.3875117265886293e-05,5.3875117265886293e-05,5.3875117265886293e-05,5.3875117265886293e-05,5.3875117265886293e-05,5.3875117265886293e-05,5.3875117265886293e-05,5.3875117265886293e-05,5.3875117265886293e-05,5.3875117265886293e-05,0.03876702228755467,0.03429647805670503,0.03417601066348362,0.008778106730020193,0.01108461902303024,0.01352096464570638,0.015281898840954444,0.02823827568355589,0.01801518790015588,0.03666872710925905,0.035137833991399754,0.029719977610562734,0.01365854275443284,0.03948394118231688,0.09089423376901015,0.0692965828352593,0.09175039282870576,0.06750113711201308,0.11182785856789561,0.028122820686564295,0.05439627750585782,0.06410419405968264,0.05317799174715089,0.07607754515929244,0.049766609930310325,0.085722462918381,0.1422231906207171,0.024162964190643618,0.08439248042188432,0.0034879145030307303,0.054325341764706894,0.024530326118948446,0.155438830325433,0.10213881504244653,0.11808247097696127,0.14130803890119223,0.19660931663121778,0.11086954268428743,0.15174347702535168,0.07896563915808859,0.061865252172302224,0.051073039790140266,0.12099485122813601,0.05497817102067621,0.09735886877847214,0.05297728450811012,0.0762224876416465,0.15994236909009557,0.13378645646031256,0.1134346320636724,0.07398886783886388,0.004271818015816443,0.004271818015816443,0.004271818015816443,0.17250677867141703,0.05751748913315476,0.15013247363042084,0.13987821576857348,0.13530091182730947,0.25307051023805244,0.24310886501895498,0.16134997819054825,0.22193785727112655,0.1601565332986022,0.023108776047289205,0.17511970854775064,0.07201848628513513,0.004098804725838537,0.004868647563820234,0.005945458774463342,0.005945458774463342,0.005945458774463342,0.005945458774463342,0.005945458774463342,0.005945458774463342,0.020853625771863216,0.003066314301306679,0.016155642068058845,0.009578855551715759]},{\"label\":\"rank_test_score\",\"values\":[1,2,3,4,5,6,7,8,9,10,11,12,13,14,15,16,17,18,19,20,21,22,23,24,25,26,27,28,29,30,31,32,33,34,35,36,37,38,39,40,41,42,43,44,45,46,47,48,49,50,51,52,53,54,55,56,57,58,59,60,61,62,63,64,65,66,67,68,69,70,71,72,73,74,75,76,77,78,79,80,81,82,83,84,85,86,87,88,89,90,91,92,93,94,95,96,97,98,99,100,101,102,103,104,105,106,107,108,109,110,111,112,113,114,115,116,117,118,119,120,121,122,123,124,125,126,127,128,129,130,131,132,133,134,135,136,137,138,139,140,141,142,143,144,145,146,147,148,149,150,151,152,153,154,155,156,157,158,159,160,161,162,163,164,165,166,167,168,169,170,171,172,173,174,175,176,177,178,179,180,181,182,183,184,185,186,187,188,189,190,191,192,193,194,195,196,197,198,199,200,201,202,203,204,205,206,207,208,209,210,211,212,213,214,215,216,217,218,219,220,221,222,223,224,225,226,227,228,229,230,231,232,233,234,235,236,237,238,239,240,241,242,243,244,245,246,247,248,249,250,251,252,253,254,255,256,257,258,259,260,261,262,263,264,265,266,267,268,269,270,271,272,273,274,275,276,277,278,279,280,281,282,283,284,285,286,287,288,289,290,291,292,293,294,295,296,297,298,299,300,301,302,303,304,305,306,307,308,309,310,311,312,313,314,315,316,317,318,319,320,321,322,323,324,325,326,326,326,326,326,326,326,326,326,326,326,326,326,326,326,326,326,326,326,326,326,326,326,326,326,326,326,326,326,326,326,326,326,326,326,326,326,326,326,326,326,326,326,326,326,326,326,326,326,326,326,326,326,326,326,326,326,326,326,326,326,326,326,326,326,326,326,326,326,326,326,326,326,326,326,326,326,326,326,326,326,326,326,326,326,326,326,326,326,326,326,326,326,326,326,326,422,423,424,425,426,427,428,429,430,431,432,433,434,435,436,437,438,439,440,441,442,443,444,445,446,447,448,449,450,451,452,453,454,455,456,457,458,459,460,461,462,463,464,465,466,467,468,469,470,471,472,473,473,473,476,477,478,479,480,481,482,483,484,485,486,487,488,489,490,491,491,491,491,491,491,497,498,499,500]}],\"domain\":{\"x\":[0.0,1.0],\"y\":[0.0,1.0]},\"line\":{\"color\":[0.7611650005297512,0.8505617343479009,0.8535817153816639,0.8420903504889186,0.8409897847278069,0.7611650005297512,0.860977941883271,0.8564735605056855,0.7611650005297512,0.7968929301722502,0.8542214844461956,0.8295497180856055,0.8086656314003067,0.849793871950226,0.7997080489912539,0.7611650005297512,0.8566528440103159,0.8185959089456871,0.7611650005297512,0.8494355669508,0.7948710657790428,0.8026513266458599,0.8276813226780485,0.6269812029231783,0.7611650005297512,0.8040077941375626,0.7611650005297512,0.34151166246714026,0.8457757153236944,0.7822540771596038,0.854605335404521,0.7611650005297512,0.867427618554947,0.25168263207219815,0.7636731420759792,0.7611650005297512,0.8453405497392102,0.8264529517946118,0.7611650005297512,0.8567807735873124,0.5821187392545263,0.867709056419069,0.8185702254316244,0.8709850963893244,0.8146801162865149,0.870473175023716,0.27896511027912074,0.7294298027344329,0.8511246821288495,0.6838978515357297,0.8043404713000157,0.8544005976444332,0.7611650005297512,0.7611650005297512,0.7611650005297512,0.7611650005297512,0.8536329415795034,0.7611650005297512,0.856627225998712,0.8342844224836534,0.7898803908728219,0.8656872280522139,0.6567232362275759,0.805005832175168,0.7178334799769628,0.8275534553283876,0.8046476352547988,0.7881400331213182,0.8686559697876459,0.7611650005297512,0.7611650005297512,0.7611650005297512,0.7931051162169186,0.8456732793036302,0.7611650005297512,0.8478488386659704,0.7611650005297512,0.8573438556483015,0.7611650005297512,0.7790801162210126,0.8717528048562213,0.7801806001040507,0.6955472771364815,0.8547333927113122,0.7889589972621611,0.8566527555819967,0.8229722723179569,0.805799263457603,0.7611650005297512,0.7741417515783227,0.8220509966117214,0.8571901803299063,0.8165228216297635,0.8444704249029866,0.7611650005297512,0.7102367635497158,0.6572104336901416,0.8601846841823516,0.28195954207886137,0.8423461736165594,0.8046988287014087,0.8620017780642417,0.7611650005297512,0.8594681920879251,0.5992271135637415,0.7611650005297512,0.7611650005297512,0.6290518142461625,0.7178896319596977,0.7505182177894525,0.8380211248704483,0.8254036875591672,0.8618994402978657,0.7424038583568283,0.8387120939318358,0.8469274319548177,0.8302663510103182,0.8583674854965274,0.8643819245310146,0.8682978187189978,0.8600054956562863,0.758350716867096,0.7969697121543577,0.8638189505490825,0.8048010354628674,0.7998105308630391,0.8438306132618572,0.7611650005297512,0.8143729883580842,0.34994169134881187,0.8291147424582516,0.7611650005297512,0.8222557769484075,0.7611650005297512,0.8600566203253148,0.8443169755680742,0.7611650005297512,0.26161326660597867,0.7921325946621065,0.7611650005297512,0.8715737047584753,0.8582395886707603,0.8614899680528133,0.6358629236596682,0.8153455557646175,0.7611650005297512,0.8180583237167536,0.8449567904843267,0.850049894860366,0.8322113351677297,0.8177256924060214,0.8102779613211256,0.8264785075788801,0.6042533497547997,0.6397488930493868,0.8097661611350659,0.8218718441120085,0.8056458173978133,0.7611650005297512,0.8469275072826452,0.7611650005297512,0.7611650005297512,0.27461415531058725,0.2754069020923287,0.8054410403362503,0.7611650005297512,0.7611650005297512,0.8602613941117546,0.7611650005297512,0.7667439137162313,0.764696729347607,0.8152687181054199,0.6979276364862451,0.837637064304255,0.8575741393672889,0.8393518302451382,0.7611650005297512,0.8175208858683523,0.703680655207994,0.7611650005297512,0.8584187608212108,0.45648238368687466,0.7675886137731037,0.7611650005297512,0.8443169788431971,0.8142450391303502,0.8467482663546129,0.8588538052261464,0.8472602761485406,0.8083840330551608,0.8553733189817446,0.8473626368407772,0.8384560317202208,0.8586490740163045,0.5398067677467859,0.5454676343344893,0.6205813048450041,0.6839498211864754,0.8377397001068182,0.7444003700233892,0.8272719421364381,0.803905387593605,0.8096382282829465,0.7611650005297512,0.8370996395563453,0.7611650005297512,0.8461085595174171,0.8260179630667663,0.7611650005297512,0.6928341489208224,0.7611650005297512,0.7611650005297512,0.8410153634379359,0.8375347199876332,0.8026769577579558,0.27896511027912074,0.7611650005297512,0.7611650005297512,0.4950637740125872,0.8577788967781143,0.7611650005297512,0.8430884081772614,0.8574461475629563,0.81944044197129,0.8581115575649527,0.8183655335232578,0.8227931329187355,0.8476440550541616,0.8638700097156521,0.8591097102318607,0.7611650005297512,0.8367413443822882,0.7611650005297512,0.7970976646572149,0.8042125155220358,0.8562944735084311,0.8506385065046398,0.8572670540154563,0.7859902620769749,0.7986844911957327,0.8570879015157432,0.8225628295490107,0.8604918383117658,0.4260194990994231,0.7611650005297512,0.7611650005297512,0.8450335560908198,0.8140656966735067,0.7611650005297512,0.8623856290225674,0.8478231977285058,0.7611650005297512,0.6084763129190007,0.7611650005297512,0.8070021506094758,0.8420904028908855,0.7611650005297512,0.7611650005297512,0.8482069733590037,0.8273743683311332,0.7611650005297512,0.859084124971486,0.8143217949114743,0.8719576081187677,0.845647713693993,0.7769814403695909,0.7979679270486016,0.8052106976650503,0.8701660307196706,0.8417831832590126,0.7611650005297512,0.8050315811916896,0.6494806097165364,0.7611650005297512,0.8462619924767152,0.7611650005297512,0.7611650005297512,0.8490517094422285,0.8584700328707713,0.7611650005297512,0.6837201237144938,0.8593912135984414,0.8239448659254736,0.6582248571677949,0.8557570454853985,0.8049035435356361,0.8364854623024343,0.6660634938258202,0.6542800796706405,0.8628976289911263,0.8467227203957135,0.8593656578141731,0.7114126604134745,0.8385842069314375,0.8568576570982313,0.841834409456852,0.8510992573494987,0.77465255612701,0.8566528505605617,0.8217183030736537,0.85903292497463,0.8376885099353311,0.8583930707569023,0.816983487321426,0.6241605655220276,0.8128374174935125,0.8666341512461597,0.8467738155886353,0.7536391741384503,0.8445472167104633,0.8576509246245194,0.2868990071628576,0.672816512383813,0.7611650005297512,0.7610347750915765,0.8441121068030689,0.8032144840346763,0.27896511027912074,0.8628719323765717,0.6042533497547997,0.8550659552444625,0.8237656249974414,0.3915752866428533,0.8048524155914848,0.8479767616927211,0.8608500843589791,0.7611650005297512,0.7611650005297512,0.8593401577069948,0.7611650005297512,0.861336253432943,0.7611650005297512,0.7194444310710257,0.7195770047723453,0.7532308023347042,0.8554499568584433,0.8609268499654721,0.7611650005297512,0.8603381891943542,0.7611650005297512,0.7611650005297512,0.8559363682915044,0.7052955986769158,0.7611650005297512,0.858725816696937,0.7611650005297512,0.8573694441837991,0.7611650005297512,0.7611650005297512,0.7611650005297512,0.8572158245424939,0.8582652361584708,0.7611650005297512,0.8732884772496042,0.7611650005297512,0.8552707454065173,0.8199267715262778,0.8197220075652065,0.8679906056373708,0.866711005280972,0.8148848245704963,0.8412713568719694,0.8138356225623873,0.8124278568201404,0.8076674558075381,0.8066181948472163,0.8049036123132177,0.8654313295967455,0.8034191726679201,0.802600224902692,0.5929679147668907,0.8201827092832212,0.821283229192612,0.821948632644362,0.8333888335666039,0.8296264640413609,0.8718296392402959,0.8268881534054483,0.8268880617020059,0.8268368584300273,0.832185851436166,0.8713944998567953,0.8369717460057011,0.8353339683796707,0.8251734071153027,0.8708570882093774,0.27896511027912074,0.8234331476174871,0.8225116623033841,0.8005527195720201,0.8469786286765506,0.7985052797438067,0.7770070321802117,0.8551683748889118,0.8279629046475796,0.7611650005297512,0.8548355994727708,0.7611650005297512,0.8547845239305865,0.7611650005297512,0.7611650005297512,0.7611650005297512,0.7611650005297512,0.8538888433100947,0.8628463110898446,0.6479873501651726,0.7975326599353065,0.771197700994704,0.8482838994465206,0.8475160894508127,0.644102150429344,0.7776468077949891,0.8498196275169934,0.6439225230368054,0.7491106747555654,0.7829702777680889,0.6090359430004155,0.7892150758493908,0.7915182995037697,0.847874381349747,0.7954341314644171,0.6973860523322069,0.7465510613772776,0.6471001259121012,0.8567551621259544,0.8603126989125446,0.6746881206869701,0.7611650005297512,0.7611650005297512,0.8488214846754542,0.7887798382122021,0.8508943230820348,0.8202850863510726,0.82619697146107,0.8290122343854829,0.8585467296996827,0.8632045735126725,0.8381999105563926,0.8621297698685743,0.8250709219683948,0.47288003994339933,0.8534537661539299,0.8244054988659067,0.7468590965147616,0.8580604754725225,0.8547588502418926,0.857471840902388,0.7998617636111243,0.8187494270581814,0.8056970141195462,0.7818185218354902,0.7965090759388016,0.7819721251011809,0.7827145234180296,0.859647210307598,0.7026568255772692,0.27896511027912074,0.7611650005297512,0.7611650005297512,0.8585210036090217,0.8073603966566891,0.8510991623709335,0.7611650005297512,0.7881401772267275,0.8636141210855527,0.8380977299959177,0.7611650005297512,0.8426533473967112,0.8555522815243274,0.8559873750561069,0.840708192932907,0.7611650005297512,0.7774933126083554,0.8165227626775506,0.7611650005297512,0.7611650005297512,0.8535050218278755,0.6042533497547997,0.8070021276836151,0.7624446762139776,0.7611650005297512,0.7342148916237257,0.8641515982354292,0.8615154747102377,0.7902131040616273,0.8012182278277044,0.521366974086081,0.8599799464222639,0.27896511027912074,0.8662501660077938,0.808025868886021,0.8414760651559507,0.7611650005297512,0.8621553584040719,0.7531283073624272,0.8305478936783741,0.8039054629214325,0.7020958330447131,0.8612083893584049,0.6487897356337141],\"coloraxis\":\"coloraxis\"},\"name\":\"\",\"type\":\"parcoords\"}],                        {\"template\":{\"data\":{\"bar\":[{\"error_x\":{\"color\":\"#2a3f5f\"},\"error_y\":{\"color\":\"#2a3f5f\"},\"marker\":{\"line\":{\"color\":\"#E5ECF6\",\"width\":0.5},\"pattern\":{\"fillmode\":\"overlay\",\"size\":10,\"solidity\":0.2}},\"type\":\"bar\"}],\"barpolar\":[{\"marker\":{\"line\":{\"color\":\"#E5ECF6\",\"width\":0.5},\"pattern\":{\"fillmode\":\"overlay\",\"size\":10,\"solidity\":0.2}},\"type\":\"barpolar\"}],\"carpet\":[{\"aaxis\":{\"endlinecolor\":\"#2a3f5f\",\"gridcolor\":\"white\",\"linecolor\":\"white\",\"minorgridcolor\":\"white\",\"startlinecolor\":\"#2a3f5f\"},\"baxis\":{\"endlinecolor\":\"#2a3f5f\",\"gridcolor\":\"white\",\"linecolor\":\"white\",\"minorgridcolor\":\"white\",\"startlinecolor\":\"#2a3f5f\"},\"type\":\"carpet\"}],\"choropleth\":[{\"colorbar\":{\"outlinewidth\":0,\"ticks\":\"\"},\"type\":\"choropleth\"}],\"contour\":[{\"colorbar\":{\"outlinewidth\":0,\"ticks\":\"\"},\"colorscale\":[[0.0,\"#0d0887\"],[0.1111111111111111,\"#46039f\"],[0.2222222222222222,\"#7201a8\"],[0.3333333333333333,\"#9c179e\"],[0.4444444444444444,\"#bd3786\"],[0.5555555555555556,\"#d8576b\"],[0.6666666666666666,\"#ed7953\"],[0.7777777777777778,\"#fb9f3a\"],[0.8888888888888888,\"#fdca26\"],[1.0,\"#f0f921\"]],\"type\":\"contour\"}],\"contourcarpet\":[{\"colorbar\":{\"outlinewidth\":0,\"ticks\":\"\"},\"type\":\"contourcarpet\"}],\"heatmap\":[{\"colorbar\":{\"outlinewidth\":0,\"ticks\":\"\"},\"colorscale\":[[0.0,\"#0d0887\"],[0.1111111111111111,\"#46039f\"],[0.2222222222222222,\"#7201a8\"],[0.3333333333333333,\"#9c179e\"],[0.4444444444444444,\"#bd3786\"],[0.5555555555555556,\"#d8576b\"],[0.6666666666666666,\"#ed7953\"],[0.7777777777777778,\"#fb9f3a\"],[0.8888888888888888,\"#fdca26\"],[1.0,\"#f0f921\"]],\"type\":\"heatmap\"}],\"heatmapgl\":[{\"colorbar\":{\"outlinewidth\":0,\"ticks\":\"\"},\"colorscale\":[[0.0,\"#0d0887\"],[0.1111111111111111,\"#46039f\"],[0.2222222222222222,\"#7201a8\"],[0.3333333333333333,\"#9c179e\"],[0.4444444444444444,\"#bd3786\"],[0.5555555555555556,\"#d8576b\"],[0.6666666666666666,\"#ed7953\"],[0.7777777777777778,\"#fb9f3a\"],[0.8888888888888888,\"#fdca26\"],[1.0,\"#f0f921\"]],\"type\":\"heatmapgl\"}],\"histogram\":[{\"marker\":{\"pattern\":{\"fillmode\":\"overlay\",\"size\":10,\"solidity\":0.2}},\"type\":\"histogram\"}],\"histogram2d\":[{\"colorbar\":{\"outlinewidth\":0,\"ticks\":\"\"},\"colorscale\":[[0.0,\"#0d0887\"],[0.1111111111111111,\"#46039f\"],[0.2222222222222222,\"#7201a8\"],[0.3333333333333333,\"#9c179e\"],[0.4444444444444444,\"#bd3786\"],[0.5555555555555556,\"#d8576b\"],[0.6666666666666666,\"#ed7953\"],[0.7777777777777778,\"#fb9f3a\"],[0.8888888888888888,\"#fdca26\"],[1.0,\"#f0f921\"]],\"type\":\"histogram2d\"}],\"histogram2dcontour\":[{\"colorbar\":{\"outlinewidth\":0,\"ticks\":\"\"},\"colorscale\":[[0.0,\"#0d0887\"],[0.1111111111111111,\"#46039f\"],[0.2222222222222222,\"#7201a8\"],[0.3333333333333333,\"#9c179e\"],[0.4444444444444444,\"#bd3786\"],[0.5555555555555556,\"#d8576b\"],[0.6666666666666666,\"#ed7953\"],[0.7777777777777778,\"#fb9f3a\"],[0.8888888888888888,\"#fdca26\"],[1.0,\"#f0f921\"]],\"type\":\"histogram2dcontour\"}],\"mesh3d\":[{\"colorbar\":{\"outlinewidth\":0,\"ticks\":\"\"},\"type\":\"mesh3d\"}],\"parcoords\":[{\"line\":{\"colorbar\":{\"outlinewidth\":0,\"ticks\":\"\"}},\"type\":\"parcoords\"}],\"pie\":[{\"automargin\":true,\"type\":\"pie\"}],\"scatter\":[{\"marker\":{\"colorbar\":{\"outlinewidth\":0,\"ticks\":\"\"}},\"type\":\"scatter\"}],\"scatter3d\":[{\"line\":{\"colorbar\":{\"outlinewidth\":0,\"ticks\":\"\"}},\"marker\":{\"colorbar\":{\"outlinewidth\":0,\"ticks\":\"\"}},\"type\":\"scatter3d\"}],\"scattercarpet\":[{\"marker\":{\"colorbar\":{\"outlinewidth\":0,\"ticks\":\"\"}},\"type\":\"scattercarpet\"}],\"scattergeo\":[{\"marker\":{\"colorbar\":{\"outlinewidth\":0,\"ticks\":\"\"}},\"type\":\"scattergeo\"}],\"scattergl\":[{\"marker\":{\"colorbar\":{\"outlinewidth\":0,\"ticks\":\"\"}},\"type\":\"scattergl\"}],\"scattermapbox\":[{\"marker\":{\"colorbar\":{\"outlinewidth\":0,\"ticks\":\"\"}},\"type\":\"scattermapbox\"}],\"scatterpolar\":[{\"marker\":{\"colorbar\":{\"outlinewidth\":0,\"ticks\":\"\"}},\"type\":\"scatterpolar\"}],\"scatterpolargl\":[{\"marker\":{\"colorbar\":{\"outlinewidth\":0,\"ticks\":\"\"}},\"type\":\"scatterpolargl\"}],\"scatterternary\":[{\"marker\":{\"colorbar\":{\"outlinewidth\":0,\"ticks\":\"\"}},\"type\":\"scatterternary\"}],\"surface\":[{\"colorbar\":{\"outlinewidth\":0,\"ticks\":\"\"},\"colorscale\":[[0.0,\"#0d0887\"],[0.1111111111111111,\"#46039f\"],[0.2222222222222222,\"#7201a8\"],[0.3333333333333333,\"#9c179e\"],[0.4444444444444444,\"#bd3786\"],[0.5555555555555556,\"#d8576b\"],[0.6666666666666666,\"#ed7953\"],[0.7777777777777778,\"#fb9f3a\"],[0.8888888888888888,\"#fdca26\"],[1.0,\"#f0f921\"]],\"type\":\"surface\"}],\"table\":[{\"cells\":{\"fill\":{\"color\":\"#EBF0F8\"},\"line\":{\"color\":\"white\"}},\"header\":{\"fill\":{\"color\":\"#C8D4E3\"},\"line\":{\"color\":\"white\"}},\"type\":\"table\"}]},\"layout\":{\"annotationdefaults\":{\"arrowcolor\":\"#2a3f5f\",\"arrowhead\":0,\"arrowwidth\":1},\"autotypenumbers\":\"strict\",\"coloraxis\":{\"colorbar\":{\"outlinewidth\":0,\"ticks\":\"\"}},\"colorscale\":{\"diverging\":[[0,\"#8e0152\"],[0.1,\"#c51b7d\"],[0.2,\"#de77ae\"],[0.3,\"#f1b6da\"],[0.4,\"#fde0ef\"],[0.5,\"#f7f7f7\"],[0.6,\"#e6f5d0\"],[0.7,\"#b8e186\"],[0.8,\"#7fbc41\"],[0.9,\"#4d9221\"],[1,\"#276419\"]],\"sequential\":[[0.0,\"#0d0887\"],[0.1111111111111111,\"#46039f\"],[0.2222222222222222,\"#7201a8\"],[0.3333333333333333,\"#9c179e\"],[0.4444444444444444,\"#bd3786\"],[0.5555555555555556,\"#d8576b\"],[0.6666666666666666,\"#ed7953\"],[0.7777777777777778,\"#fb9f3a\"],[0.8888888888888888,\"#fdca26\"],[1.0,\"#f0f921\"]],\"sequentialminus\":[[0.0,\"#0d0887\"],[0.1111111111111111,\"#46039f\"],[0.2222222222222222,\"#7201a8\"],[0.3333333333333333,\"#9c179e\"],[0.4444444444444444,\"#bd3786\"],[0.5555555555555556,\"#d8576b\"],[0.6666666666666666,\"#ed7953\"],[0.7777777777777778,\"#fb9f3a\"],[0.8888888888888888,\"#fdca26\"],[1.0,\"#f0f921\"]]},\"colorway\":[\"#636efa\",\"#EF553B\",\"#00cc96\",\"#ab63fa\",\"#FFA15A\",\"#19d3f3\",\"#FF6692\",\"#B6E880\",\"#FF97FF\",\"#FECB52\"],\"font\":{\"color\":\"#2a3f5f\"},\"geo\":{\"bgcolor\":\"white\",\"lakecolor\":\"white\",\"landcolor\":\"#E5ECF6\",\"showlakes\":true,\"showland\":true,\"subunitcolor\":\"white\"},\"hoverlabel\":{\"align\":\"left\"},\"hovermode\":\"closest\",\"mapbox\":{\"style\":\"light\"},\"paper_bgcolor\":\"white\",\"plot_bgcolor\":\"#E5ECF6\",\"polar\":{\"angularaxis\":{\"gridcolor\":\"white\",\"linecolor\":\"white\",\"ticks\":\"\"},\"bgcolor\":\"#E5ECF6\",\"radialaxis\":{\"gridcolor\":\"white\",\"linecolor\":\"white\",\"ticks\":\"\"}},\"scene\":{\"xaxis\":{\"backgroundcolor\":\"#E5ECF6\",\"gridcolor\":\"white\",\"gridwidth\":2,\"linecolor\":\"white\",\"showbackground\":true,\"ticks\":\"\",\"zerolinecolor\":\"white\"},\"yaxis\":{\"backgroundcolor\":\"#E5ECF6\",\"gridcolor\":\"white\",\"gridwidth\":2,\"linecolor\":\"white\",\"showbackground\":true,\"ticks\":\"\",\"zerolinecolor\":\"white\"},\"zaxis\":{\"backgroundcolor\":\"#E5ECF6\",\"gridcolor\":\"white\",\"gridwidth\":2,\"linecolor\":\"white\",\"showbackground\":true,\"ticks\":\"\",\"zerolinecolor\":\"white\"}},\"shapedefaults\":{\"line\":{\"color\":\"#2a3f5f\"}},\"ternary\":{\"aaxis\":{\"gridcolor\":\"white\",\"linecolor\":\"white\",\"ticks\":\"\"},\"baxis\":{\"gridcolor\":\"white\",\"linecolor\":\"white\",\"ticks\":\"\"},\"bgcolor\":\"#E5ECF6\",\"caxis\":{\"gridcolor\":\"white\",\"linecolor\":\"white\",\"ticks\":\"\"}},\"title\":{\"x\":0.05},\"xaxis\":{\"automargin\":true,\"gridcolor\":\"white\",\"linecolor\":\"white\",\"ticks\":\"\",\"title\":{\"standoff\":15},\"zerolinecolor\":\"white\",\"zerolinewidth\":2},\"yaxis\":{\"automargin\":true,\"gridcolor\":\"white\",\"linecolor\":\"white\",\"ticks\":\"\",\"title\":{\"standoff\":15},\"zerolinecolor\":\"white\",\"zerolinewidth\":2}}},\"coloraxis\":{\"colorbar\":{\"title\":{\"text\":\"mean_test_score\"}},\"colorscale\":[[0.0,\"#440154\"],[0.1111111111111111,\"#482878\"],[0.2222222222222222,\"#3e4989\"],[0.3333333333333333,\"#31688e\"],[0.4444444444444444,\"#26828e\"],[0.5555555555555556,\"#1f9e89\"],[0.6666666666666666,\"#35b779\"],[0.7777777777777778,\"#6ece58\"],[0.8888888888888888,\"#b5de2b\"],[1.0,\"#fde725\"]]},\"legend\":{\"tracegroupgap\":0},\"margin\":{\"t\":60}},                        {\"responsive\": true}                    ).then(function(){\n",
              "                            \n",
              "var gd = document.getElementById('52522125-36d2-4dbf-8155-e897c94eaa0a');\n",
              "var x = new MutationObserver(function (mutations, observer) {{\n",
              "        var display = window.getComputedStyle(gd).display;\n",
              "        if (!display || display === 'none') {{\n",
              "            console.log([gd, 'removed!']);\n",
              "            Plotly.purge(gd);\n",
              "            observer.disconnect();\n",
              "        }}\n",
              "}});\n",
              "\n",
              "// Listen for the removal of the full notebook cells\n",
              "var notebookContainer = gd.closest('#notebook-container');\n",
              "if (notebookContainer) {{\n",
              "    x.observe(notebookContainer, {childList: true});\n",
              "}}\n",
              "\n",
              "// Listen for the clearing of the current output cell\n",
              "var outputEl = gd.closest('.output');\n",
              "if (outputEl) {{\n",
              "    x.observe(outputEl, {childList: true});\n",
              "}}\n",
              "\n",
              "                        })                };                            </script>        </div>\n",
              "</body>\n",
              "</html>"
            ]
          },
          "metadata": {}
        }
      ]
    },
    {
      "cell_type": "markdown",
      "source": [
        "# Cross-validation and hyperparameter tuning"
      ],
      "metadata": {
        "id": "SLCLCSTkH9Yc"
      }
    },
    {
      "cell_type": "markdown",
      "source": [
        "Using a single train-test split during the grid-search does not give any information regarding the different sources of variations: variations in terms of test score or hyperparameters values.\n",
        "\n",
        "To get reliable information, the hyperparameters search need to be nested within a cross-validation."
      ],
      "metadata": {
        "id": "kxY_o9PkIIlv"
      }
    },
    {
      "cell_type": "code",
      "source": [
        "param_grid = {\n",
        "    'classifier__learning_rate': (0.05, 0.1),\n",
        "    'classifier__max_leaf_nodes': (30, 40)\n",
        "}\n",
        "\n",
        "model_grid_search = model_selection.GridSearchCV(\n",
        "    model,\n",
        "    param_grid=param_grid,\n",
        "    cv=10,\n",
        "    n_jobs=-1\n",
        ")\n",
        "\n",
        "cv_results = model_selection.cross_validate(\n",
        "    model_grid_search,\n",
        "    data,\n",
        "    target,\n",
        "    cv=10,\n",
        "    return_estimator=True,\n",
        ")"
      ],
      "metadata": {
        "id": "at6uOGUD8Vp9"
      },
      "execution_count": 42,
      "outputs": []
    },
    {
      "cell_type": "markdown",
      "source": [
        "Running the above cross-validation will give us an estimate of the testing score."
      ],
      "metadata": {
        "id": "Nf6W_fp5JQur"
      }
    },
    {
      "cell_type": "code",
      "source": [
        "score = cv_results['test_score']\n",
        "print(f\"Accuracy score by cross-validation combined with hyperparameters \"\n",
        "      f\"search:\\n{score.mean():.3f} +/- {score.std():.3f}\"\n",
        ")"
      ],
      "metadata": {
        "colab": {
          "base_uri": "https://localhost:8080/"
        },
        "id": "1yaTywMqJP6A",
        "outputId": "ee5c5792-440f-4ec6-8c3e-fad8f28aebf8"
      },
      "execution_count": 43,
      "outputs": [
        {
          "output_type": "stream",
          "name": "stdout",
          "text": [
            "Accuracy score by cross-validation combined with hyperparameters search:\n",
            "0.874 +/- 0.004\n"
          ]
        }
      ]
    },
    {
      "cell_type": "markdown",
      "source": [
        "The hyperparameters on each fold are potentially different since we nested the grid-search in the cross-validation. Thus, checking the variation of the hyperparameters across folds should also be analyzed."
      ],
      "metadata": {
        "id": "DqF2yYkbKSU4"
      }
    },
    {
      "cell_type": "code",
      "source": [
        "for fold_idx, estimator in enumerate(cv_results['estimator']):\n",
        "  print(f\"Best parameter found on fold #{fold_idx + 1}\")\n",
        "  print(f\"{estimator.best_params_}\")\n",
        "  print()"
      ],
      "metadata": {
        "colab": {
          "base_uri": "https://localhost:8080/"
        },
        "id": "rV2_ZwM_KTXR",
        "outputId": "5394af4c-3055-4e38-96b8-c21ac03dd712"
      },
      "execution_count": 45,
      "outputs": [
        {
          "output_type": "stream",
          "name": "stdout",
          "text": [
            "Best parameter found on fold #1\n",
            "{'classifier__learning_rate': 0.1, 'classifier__max_leaf_nodes': 30}\n",
            "\n",
            "Best parameter found on fold #2\n",
            "{'classifier__learning_rate': 0.1, 'classifier__max_leaf_nodes': 30}\n",
            "\n",
            "Best parameter found on fold #3\n",
            "{'classifier__learning_rate': 0.1, 'classifier__max_leaf_nodes': 30}\n",
            "\n",
            "Best parameter found on fold #4\n",
            "{'classifier__learning_rate': 0.1, 'classifier__max_leaf_nodes': 40}\n",
            "\n",
            "Best parameter found on fold #5\n",
            "{'classifier__learning_rate': 0.1, 'classifier__max_leaf_nodes': 30}\n",
            "\n",
            "Best parameter found on fold #6\n",
            "{'classifier__learning_rate': 0.1, 'classifier__max_leaf_nodes': 30}\n",
            "\n",
            "Best parameter found on fold #7\n",
            "{'classifier__learning_rate': 0.1, 'classifier__max_leaf_nodes': 30}\n",
            "\n",
            "Best parameter found on fold #8\n",
            "{'classifier__learning_rate': 0.1, 'classifier__max_leaf_nodes': 30}\n",
            "\n",
            "Best parameter found on fold #9\n",
            "{'classifier__learning_rate': 0.1, 'classifier__max_leaf_nodes': 30}\n",
            "\n",
            "Best parameter found on fold #10\n",
            "{'classifier__learning_rate': 0.1, 'classifier__max_leaf_nodes': 30}\n",
            "\n"
          ]
        }
      ]
    },
    {
      "cell_type": "markdown",
      "source": [
        "Obtaining models with unstable hyperparameters would be an issue in practice. Indeed, it would become difficult to set them.\n",
        "\n",
        "In this notebook, we have seen how to combine hyperparameters search with cross-validation.\n"
      ],
      "metadata": {
        "id": "_JYupVYXKsRF"
      }
    }
  ]
}