{
 "cells": [
  {
   "cell_type": "markdown",
   "id": "0b25c09a",
   "metadata": {},
   "source": [
    "# Bentoml Production"
   ]
  },
  {
   "cell_type": "markdown",
   "id": "b1c5106f",
   "metadata": {},
   "source": [
    "## **Question 1**\n",
    "What's the version of BentoML you installed?"
   ]
  },
  {
   "cell_type": "markdown",
   "id": "78e5112c",
   "metadata": {},
   "source": [
    "![bento-version](img/img1.png)"
   ]
  },
  {
   "cell_type": "code",
   "execution_count": null,
   "id": "6b36a1fc",
   "metadata": {},
   "outputs": [],
   "source": []
  }
 ],
 "metadata": {
  "kernelspec": {
   "display_name": "Python 3 (ipykernel)",
   "language": "python",
   "name": "python3"
  },
  "language_info": {
   "codemirror_mode": {
    "name": "ipython",
    "version": 3
   },
   "file_extension": ".py",
   "mimetype": "text/x-python",
   "name": "python",
   "nbconvert_exporter": "python",
   "pygments_lexer": "ipython3",
   "version": "3.9.12"
  }
 },
 "nbformat": 4,
 "nbformat_minor": 5
}
