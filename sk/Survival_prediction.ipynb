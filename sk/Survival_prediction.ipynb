{
  "nbformat": 4,
  "nbformat_minor": 0,
  "metadata": {
    "colab": {
      "provenance": []
    },
    "kernelspec": {
      "name": "python3",
      "display_name": "Python 3"
    },
    "language_info": {
      "name": "python"
    }
  },
  "cells": [
    {
      "cell_type": "markdown",
      "source": [
        "# Imports"
      ],
      "metadata": {
        "id": "RI_2Rr9lKZ97"
      }
    },
    {
      "cell_type": "code",
      "source": [
        "!pip install yellowbrick --quiet"
      ],
      "metadata": {
        "id": "5g08q6PIMDAR"
      },
      "execution_count": 1,
      "outputs": []
    },
    {
      "cell_type": "code",
      "source": [
        "!pip install xlrd --quiet"
      ],
      "metadata": {
        "id": "r9P4RkB0MZdF"
      },
      "execution_count": 2,
      "outputs": []
    },
    {
      "cell_type": "code",
      "execution_count": 3,
      "metadata": {
        "id": "prAeZQUaKNp_"
      },
      "outputs": [],
      "source": [
        "import pandas as pd\n",
        "import numpy as np\n",
        "import matplotlib.pyplot as plt\n",
        "import sklearn\n",
        "from sklearn import (\n",
        "    metrics,\n",
        "    model_selection,\n",
        ")\n",
        "from yellowbrick.classifier import (\n",
        "    ConfusionMatrix,\n",
        "    ROCAUC,\n",
        ")\n",
        "from yellowbrick.model_selection import (\n",
        "    LearningCurve,\n",
        ")\n"
      ]
    },
    {
      "cell_type": "code",
      "source": [],
      "metadata": {
        "id": "fW6Av9x6MfAi"
      },
      "execution_count": null,
      "outputs": []
    }
  ]
}