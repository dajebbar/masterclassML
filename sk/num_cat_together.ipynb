{
  "nbformat": 4,
  "nbformat_minor": 0,
  "metadata": {
    "colab": {
      "provenance": []
    },
    "kernelspec": {
      "name": "python3",
      "display_name": "Python 3"
    },
    "language_info": {
      "name": "python"
    }
  },
  "cells": [
    {
      "cell_type": "markdown",
      "source": [
        "# Using numerical and categorical variables together\n",
        "\n",
        "How to combine the preprocessing steps to treat numerical and categorical variables?.\n",
        "\n",
        "Load the entire adult census dataset."
      ],
      "metadata": {
        "id": "Y_Oyr2nPk4hA"
      }
    },
    {
      "cell_type": "code",
      "execution_count": 1,
      "metadata": {
        "id": "sQ-PKdJGkjCY"
      },
      "outputs": [],
      "source": [
        "import pandas as pd\n",
        "import numpy as np\n",
        "import matplotlib.pyplot as plt\n",
        "plt.style.use('ggplot')"
      ]
    },
    {
      "cell_type": "code",
      "source": [
        "df = pd.read_csv('adult_cencus.csv')"
      ],
      "metadata": {
        "id": "AY-wE7dUlmFi"
      },
      "execution_count": 2,
      "outputs": []
    },
    {
      "cell_type": "markdown",
      "source": [
        "#### **Dealing with missing values**"
      ],
      "metadata": {
        "id": "x_zLJzjJlyG9"
      }
    },
    {
      "cell_type": "code",
      "source": [
        "df.isna().sum()"
      ],
      "metadata": {
        "colab": {
          "base_uri": "https://localhost:8080/"
        },
        "id": "7CVDC7RdluHn",
        "outputId": "7c28b786-8f0e-4bb7-a8b0-eeebb0ff98d9"
      },
      "execution_count": 3,
      "outputs": [
        {
          "output_type": "execute_result",
          "data": {
            "text/plain": [
              "age                  0\n",
              "workclass         2799\n",
              "fnlwgt               0\n",
              "education            0\n",
              "education_num        0\n",
              "marital_status       0\n",
              "occupation        2809\n",
              "relationship         0\n",
              "race                 0\n",
              "sex                  0\n",
              "capital_gain         0\n",
              "capital_loss         0\n",
              "hours_per_week       0\n",
              "native_country     857\n",
              "class                0\n",
              "dtype: int64"
            ]
          },
          "metadata": {},
          "execution_count": 3
        }
      ]
    },
    {
      "cell_type": "code",
      "source": [
        "df[['workclass', 'occupation', 'native_country']].dtypes"
      ],
      "metadata": {
        "colab": {
          "base_uri": "https://localhost:8080/"
        },
        "id": "ID9TlFmsl4c8",
        "outputId": "85de24e2-c004-4049-8575-f6899598f589"
      },
      "execution_count": 5,
      "outputs": [
        {
          "output_type": "execute_result",
          "data": {
            "text/plain": [
              "workclass         object\n",
              "occupation        object\n",
              "native_country    object\n",
              "dtype: object"
            ]
          },
          "metadata": {},
          "execution_count": 5
        }
      ]
    },
    {
      "cell_type": "markdown",
      "source": [
        "All missing values are in categorical features, so i choose to fill them with **'unknown'**."
      ],
      "metadata": {
        "id": "vpycfWZZmOBA"
      }
    },
    {
      "cell_type": "code",
      "source": [
        "df[['workclass', 'occupation', 'native_country']].fillna('Unknown', inplace=True)"
      ],
      "metadata": {
        "colab": {
          "base_uri": "https://localhost:8080/"
        },
        "id": "4QHMyvSGmJcC",
        "outputId": "d7fd161b-52aa-449c-e9c7-6aacb582abda"
      },
      "execution_count": 6,
      "outputs": [
        {
          "output_type": "stream",
          "name": "stderr",
          "text": [
            "/usr/local/lib/python3.7/dist-packages/pandas/core/frame.py:5182: SettingWithCopyWarning: \n",
            "A value is trying to be set on a copy of a slice from a DataFrame\n",
            "\n",
            "See the caveats in the documentation: https://pandas.pydata.org/pandas-docs/stable/user_guide/indexing.html#returning-a-view-versus-a-copy\n",
            "  downcast=downcast,\n"
          ]
        }
      ]
    },
    {
      "cell_type": "markdown",
      "source": [
        "Before continuing the processing steps, since education and education_num features gives the same information, ill keep just one of them, so education will be removed from the dataset"
      ],
      "metadata": {
        "id": "dtb2BVOrmtmw"
      }
    },
    {
      "cell_type": "code",
      "source": [
        "data, target = df.drop(columns=['education', 'class']), df['class']"
      ],
      "metadata": {
        "id": "GCg9tLzPmoY6"
      },
      "execution_count": 7,
      "outputs": []
    },
    {
      "cell_type": "markdown",
      "source": [
        "### **Separate categorical and numerical features**"
      ],
      "metadata": {
        "id": "xBw2nCyVngCV"
      }
    },
    {
      "cell_type": "code",
      "source": [
        "from sklearn.compose import make_column_selector as selector\n",
        "\n",
        "numerical = selector(dtype_include=np.number)(data)\n",
        "categorical = selector(dtype_include=object)(data)"
      ],
      "metadata": {
        "id": "S2luwkOwnd7A"
      },
      "execution_count": 8,
      "outputs": []
    },
    {
      "cell_type": "markdown",
      "source": [
        "Now the dataset is ready to be preprocessed"
      ],
      "metadata": {
        "id": "Z1S6SENAoQlR"
      }
    },
    {
      "cell_type": "code",
      "source": [
        "data.describe().T"
      ],
      "metadata": {
        "colab": {
          "base_uri": "https://localhost:8080/",
          "height": 238
        },
        "id": "-uGV2IjcoP3u",
        "outputId": "0014bb74-1b59-4d9a-c055-ef863a105023"
      },
      "execution_count": 9,
      "outputs": [
        {
          "output_type": "execute_result",
          "data": {
            "text/plain": [
              "                  count           mean            std      min       25%  \\\n",
              "age             48842.0      38.643585      13.710510     17.0      28.0   \n",
              "fnlwgt          48842.0  189664.134597  105604.025423  12285.0  117550.5   \n",
              "education_num   48842.0      10.078089       2.570973      1.0       9.0   \n",
              "capital_gain    48842.0    1079.067626    7452.019058      0.0       0.0   \n",
              "capital_loss    48842.0      87.502314     403.004552      0.0       0.0   \n",
              "hours_per_week  48842.0      40.422382      12.391444      1.0      40.0   \n",
              "\n",
              "                     50%       75%        max  \n",
              "age                 37.0      48.0       90.0  \n",
              "fnlwgt          178144.5  237642.0  1490400.0  \n",
              "education_num       10.0      12.0       16.0  \n",
              "capital_gain         0.0       0.0    99999.0  \n",
              "capital_loss         0.0       0.0     4356.0  \n",
              "hours_per_week      40.0      45.0       99.0  "
            ],
            "text/html": [
              "\n",
              "  <div id=\"df-3233718b-83f6-44ce-a00c-148fe016b588\">\n",
              "    <div class=\"colab-df-container\">\n",
              "      <div>\n",
              "<style scoped>\n",
              "    .dataframe tbody tr th:only-of-type {\n",
              "        vertical-align: middle;\n",
              "    }\n",
              "\n",
              "    .dataframe tbody tr th {\n",
              "        vertical-align: top;\n",
              "    }\n",
              "\n",
              "    .dataframe thead th {\n",
              "        text-align: right;\n",
              "    }\n",
              "</style>\n",
              "<table border=\"1\" class=\"dataframe\">\n",
              "  <thead>\n",
              "    <tr style=\"text-align: right;\">\n",
              "      <th></th>\n",
              "      <th>count</th>\n",
              "      <th>mean</th>\n",
              "      <th>std</th>\n",
              "      <th>min</th>\n",
              "      <th>25%</th>\n",
              "      <th>50%</th>\n",
              "      <th>75%</th>\n",
              "      <th>max</th>\n",
              "    </tr>\n",
              "  </thead>\n",
              "  <tbody>\n",
              "    <tr>\n",
              "      <th>age</th>\n",
              "      <td>48842.0</td>\n",
              "      <td>38.643585</td>\n",
              "      <td>13.710510</td>\n",
              "      <td>17.0</td>\n",
              "      <td>28.0</td>\n",
              "      <td>37.0</td>\n",
              "      <td>48.0</td>\n",
              "      <td>90.0</td>\n",
              "    </tr>\n",
              "    <tr>\n",
              "      <th>fnlwgt</th>\n",
              "      <td>48842.0</td>\n",
              "      <td>189664.134597</td>\n",
              "      <td>105604.025423</td>\n",
              "      <td>12285.0</td>\n",
              "      <td>117550.5</td>\n",
              "      <td>178144.5</td>\n",
              "      <td>237642.0</td>\n",
              "      <td>1490400.0</td>\n",
              "    </tr>\n",
              "    <tr>\n",
              "      <th>education_num</th>\n",
              "      <td>48842.0</td>\n",
              "      <td>10.078089</td>\n",
              "      <td>2.570973</td>\n",
              "      <td>1.0</td>\n",
              "      <td>9.0</td>\n",
              "      <td>10.0</td>\n",
              "      <td>12.0</td>\n",
              "      <td>16.0</td>\n",
              "    </tr>\n",
              "    <tr>\n",
              "      <th>capital_gain</th>\n",
              "      <td>48842.0</td>\n",
              "      <td>1079.067626</td>\n",
              "      <td>7452.019058</td>\n",
              "      <td>0.0</td>\n",
              "      <td>0.0</td>\n",
              "      <td>0.0</td>\n",
              "      <td>0.0</td>\n",
              "      <td>99999.0</td>\n",
              "    </tr>\n",
              "    <tr>\n",
              "      <th>capital_loss</th>\n",
              "      <td>48842.0</td>\n",
              "      <td>87.502314</td>\n",
              "      <td>403.004552</td>\n",
              "      <td>0.0</td>\n",
              "      <td>0.0</td>\n",
              "      <td>0.0</td>\n",
              "      <td>0.0</td>\n",
              "      <td>4356.0</td>\n",
              "    </tr>\n",
              "    <tr>\n",
              "      <th>hours_per_week</th>\n",
              "      <td>48842.0</td>\n",
              "      <td>40.422382</td>\n",
              "      <td>12.391444</td>\n",
              "      <td>1.0</td>\n",
              "      <td>40.0</td>\n",
              "      <td>40.0</td>\n",
              "      <td>45.0</td>\n",
              "      <td>99.0</td>\n",
              "    </tr>\n",
              "  </tbody>\n",
              "</table>\n",
              "</div>\n",
              "      <button class=\"colab-df-convert\" onclick=\"convertToInteractive('df-3233718b-83f6-44ce-a00c-148fe016b588')\"\n",
              "              title=\"Convert this dataframe to an interactive table.\"\n",
              "              style=\"display:none;\">\n",
              "        \n",
              "  <svg xmlns=\"http://www.w3.org/2000/svg\" height=\"24px\"viewBox=\"0 0 24 24\"\n",
              "       width=\"24px\">\n",
              "    <path d=\"M0 0h24v24H0V0z\" fill=\"none\"/>\n",
              "    <path d=\"M18.56 5.44l.94 2.06.94-2.06 2.06-.94-2.06-.94-.94-2.06-.94 2.06-2.06.94zm-11 1L8.5 8.5l.94-2.06 2.06-.94-2.06-.94L8.5 2.5l-.94 2.06-2.06.94zm10 10l.94 2.06.94-2.06 2.06-.94-2.06-.94-.94-2.06-.94 2.06-2.06.94z\"/><path d=\"M17.41 7.96l-1.37-1.37c-.4-.4-.92-.59-1.43-.59-.52 0-1.04.2-1.43.59L10.3 9.45l-7.72 7.72c-.78.78-.78 2.05 0 2.83L4 21.41c.39.39.9.59 1.41.59.51 0 1.02-.2 1.41-.59l7.78-7.78 2.81-2.81c.8-.78.8-2.07 0-2.86zM5.41 20L4 18.59l7.72-7.72 1.47 1.35L5.41 20z\"/>\n",
              "  </svg>\n",
              "      </button>\n",
              "      \n",
              "  <style>\n",
              "    .colab-df-container {\n",
              "      display:flex;\n",
              "      flex-wrap:wrap;\n",
              "      gap: 12px;\n",
              "    }\n",
              "\n",
              "    .colab-df-convert {\n",
              "      background-color: #E8F0FE;\n",
              "      border: none;\n",
              "      border-radius: 50%;\n",
              "      cursor: pointer;\n",
              "      display: none;\n",
              "      fill: #1967D2;\n",
              "      height: 32px;\n",
              "      padding: 0 0 0 0;\n",
              "      width: 32px;\n",
              "    }\n",
              "\n",
              "    .colab-df-convert:hover {\n",
              "      background-color: #E2EBFA;\n",
              "      box-shadow: 0px 1px 2px rgba(60, 64, 67, 0.3), 0px 1px 3px 1px rgba(60, 64, 67, 0.15);\n",
              "      fill: #174EA6;\n",
              "    }\n",
              "\n",
              "    [theme=dark] .colab-df-convert {\n",
              "      background-color: #3B4455;\n",
              "      fill: #D2E3FC;\n",
              "    }\n",
              "\n",
              "    [theme=dark] .colab-df-convert:hover {\n",
              "      background-color: #434B5C;\n",
              "      box-shadow: 0px 1px 3px 1px rgba(0, 0, 0, 0.15);\n",
              "      filter: drop-shadow(0px 1px 2px rgba(0, 0, 0, 0.3));\n",
              "      fill: #FFFFFF;\n",
              "    }\n",
              "  </style>\n",
              "\n",
              "      <script>\n",
              "        const buttonEl =\n",
              "          document.querySelector('#df-3233718b-83f6-44ce-a00c-148fe016b588 button.colab-df-convert');\n",
              "        buttonEl.style.display =\n",
              "          google.colab.kernel.accessAllowed ? 'block' : 'none';\n",
              "\n",
              "        async function convertToInteractive(key) {\n",
              "          const element = document.querySelector('#df-3233718b-83f6-44ce-a00c-148fe016b588');\n",
              "          const dataTable =\n",
              "            await google.colab.kernel.invokeFunction('convertToInteractive',\n",
              "                                                     [key], {});\n",
              "          if (!dataTable) return;\n",
              "\n",
              "          const docLinkHtml = 'Like what you see? Visit the ' +\n",
              "            '<a target=\"_blank\" href=https://colab.research.google.com/notebooks/data_table.ipynb>data table notebook</a>'\n",
              "            + ' to learn more about interactive tables.';\n",
              "          element.innerHTML = '';\n",
              "          dataTable['output_type'] = 'display_data';\n",
              "          await google.colab.output.renderOutput(dataTable, element);\n",
              "          const docLink = document.createElement('div');\n",
              "          docLink.innerHTML = docLinkHtml;\n",
              "          element.appendChild(docLink);\n",
              "        }\n",
              "      </script>\n",
              "    </div>\n",
              "  </div>\n",
              "  "
            ]
          },
          "metadata": {},
          "execution_count": 9
        }
      ]
    },
    {
      "cell_type": "markdown",
      "source": [
        "I note that the numerical features need to be scaled, since their averages are very different."
      ],
      "metadata": {
        "id": "Go9BvqA-pgVa"
      }
    },
    {
      "cell_type": "markdown",
      "source": [
        "## Dispatch columns to a specific processor\n",
        "\n",
        "I know that I need to treat data differently depending on their nature (i.e. numerical or categorical).\n",
        "\n",
        "Scikit-learn provides a `ColumnTransformer` class which will send specific\n",
        "columns to a specific transformer, making it easy to fit a single predictive model on a dataset that combines both kinds of variables together (heterogeneously typed tabular data).\n",
        "\n",
        "We first define the columns depending on their data type:\n",
        "\n",
        "* **one-hot encoding** will be applied to categorical columns. Besides, we\n",
        "  use `handle_unknown=\"ignore\"` to solve the potential issues due to rare\n",
        "  categories.\n",
        "* **numerical scaling** numerical features which will be standardized.\n",
        "\n",
        "`ColumnTransfomer` preprocessor contains three values:\n",
        "- the preprocessor name, \n",
        "- the transformer, \n",
        "- and the columns.\n",
        "\n",
        "First, let's create the preprocessors for the numerical and categorical\n",
        "parts."
      ],
      "metadata": {
        "id": "hLqVrr2XqL19"
      }
    },
    {
      "cell_type": "code",
      "source": [
        "from sklearn.preprocessing import OneHotEncoder, StandardScaler\n",
        "\n",
        "scaler = StandardScaler()\n",
        "encoder = OneHotEncoder(handle_unknown='ignore')"
      ],
      "metadata": {
        "id": "oDST-tZkpcH1"
      },
      "execution_count": 11,
      "outputs": []
    },
    {
      "cell_type": "code",
      "source": [],
      "metadata": {
        "id": "8Pp9W7JbrVZt"
      },
      "execution_count": null,
      "outputs": []
    }
  ]
}