{
  "nbformat": 4,
  "nbformat_minor": 0,
  "metadata": {
    "colab": {
      "provenance": []
    },
    "kernelspec": {
      "name": "python3",
      "display_name": "Python 3"
    },
    "language_info": {
      "name": "python"
    }
  },
  "cells": [
    {
      "cell_type": "markdown",
      "source": [
        "# Cross-validation framework\n",
        "\n",
        "Go into details into the cross-validation framework.\n",
        "\n",
        "Before we dive in, let's linger on the reasons for always having training and testing sets. Let's first look at the limitation of using a dataset without keeping any samples out.\n",
        "\n",
        "To illustrate the different concepts, we will use the California housing\n",
        "dataset."
      ],
      "metadata": {
        "id": "5gi2TggNb7y7"
      }
    },
    {
      "cell_type": "code",
      "execution_count": 1,
      "metadata": {
        "id": "hMRvXR82bpG9"
      },
      "outputs": [],
      "source": [
        "from sklearn.datasets import fetch_california_housing\n",
        "\n",
        "housing = fetch_california_housing(as_frame=True)\n",
        "data, target = housing.data, housing.target"
      ]
    },
    {
      "cell_type": "markdown",
      "source": [
        "In this dataset, the aim is to predict the median value of houses in an area\n",
        "in California. The features collected are based on general real-estate and\n",
        "geographical information."
      ],
      "metadata": {
        "id": "4lTaZAVjcYNc"
      }
    },
    {
      "cell_type": "code",
      "source": [
        "print(housing.DESCR)"
      ],
      "metadata": {
        "colab": {
          "base_uri": "https://localhost:8080/"
        },
        "id": "XkDx1BCscMCz",
        "outputId": "aa7af648-af6f-4e9b-fa58-ae23372cc492"
      },
      "execution_count": 2,
      "outputs": [
        {
          "output_type": "stream",
          "name": "stdout",
          "text": [
            ".. _california_housing_dataset:\n",
            "\n",
            "California Housing dataset\n",
            "--------------------------\n",
            "\n",
            "**Data Set Characteristics:**\n",
            "\n",
            "    :Number of Instances: 20640\n",
            "\n",
            "    :Number of Attributes: 8 numeric, predictive attributes and the target\n",
            "\n",
            "    :Attribute Information:\n",
            "        - MedInc        median income in block group\n",
            "        - HouseAge      median house age in block group\n",
            "        - AveRooms      average number of rooms per household\n",
            "        - AveBedrms     average number of bedrooms per household\n",
            "        - Population    block group population\n",
            "        - AveOccup      average number of household members\n",
            "        - Latitude      block group latitude\n",
            "        - Longitude     block group longitude\n",
            "\n",
            "    :Missing Attribute Values: None\n",
            "\n",
            "This dataset was obtained from the StatLib repository.\n",
            "https://www.dcc.fc.up.pt/~ltorgo/Regression/cal_housing.html\n",
            "\n",
            "The target variable is the median house value for California districts,\n",
            "expressed in hundreds of thousands of dollars ($100,000).\n",
            "\n",
            "This dataset was derived from the 1990 U.S. census, using one row per census\n",
            "block group. A block group is the smallest geographical unit for which the U.S.\n",
            "Census Bureau publishes sample data (a block group typically has a population\n",
            "of 600 to 3,000 people).\n",
            "\n",
            "An household is a group of people residing within a home. Since the average\n",
            "number of rooms and bedrooms in this dataset are provided per household, these\n",
            "columns may take surpinsingly large values for block groups with few households\n",
            "and many empty houses, such as vacation resorts.\n",
            "\n",
            "It can be downloaded/loaded using the\n",
            ":func:`sklearn.datasets.fetch_california_housing` function.\n",
            "\n",
            ".. topic:: References\n",
            "\n",
            "    - Pace, R. Kelley and Ronald Barry, Sparse Spatial Autoregressions,\n",
            "      Statistics and Probability Letters, 33 (1997) 291-297\n",
            "\n"
          ]
        }
      ]
    },
    {
      "cell_type": "code",
      "source": [
        "data.head()"
      ],
      "metadata": {
        "colab": {
          "base_uri": "https://localhost:8080/",
          "height": 206
        },
        "id": "uIGNAR84clYY",
        "outputId": "22fc2222-b70a-4303-807f-f958f9fdf50d"
      },
      "execution_count": 3,
      "outputs": [
        {
          "output_type": "execute_result",
          "data": {
            "text/plain": [
              "   MedInc  HouseAge  AveRooms  AveBedrms  Population  AveOccup  Latitude  \\\n",
              "0  8.3252      41.0  6.984127   1.023810       322.0  2.555556     37.88   \n",
              "1  8.3014      21.0  6.238137   0.971880      2401.0  2.109842     37.86   \n",
              "2  7.2574      52.0  8.288136   1.073446       496.0  2.802260     37.85   \n",
              "3  5.6431      52.0  5.817352   1.073059       558.0  2.547945     37.85   \n",
              "4  3.8462      52.0  6.281853   1.081081       565.0  2.181467     37.85   \n",
              "\n",
              "   Longitude  \n",
              "0    -122.23  \n",
              "1    -122.22  \n",
              "2    -122.24  \n",
              "3    -122.25  \n",
              "4    -122.25  "
            ],
            "text/html": [
              "\n",
              "  <div id=\"df-27fe5eec-ab1c-460f-a651-4aafdd7b11fd\">\n",
              "    <div class=\"colab-df-container\">\n",
              "      <div>\n",
              "<style scoped>\n",
              "    .dataframe tbody tr th:only-of-type {\n",
              "        vertical-align: middle;\n",
              "    }\n",
              "\n",
              "    .dataframe tbody tr th {\n",
              "        vertical-align: top;\n",
              "    }\n",
              "\n",
              "    .dataframe thead th {\n",
              "        text-align: right;\n",
              "    }\n",
              "</style>\n",
              "<table border=\"1\" class=\"dataframe\">\n",
              "  <thead>\n",
              "    <tr style=\"text-align: right;\">\n",
              "      <th></th>\n",
              "      <th>MedInc</th>\n",
              "      <th>HouseAge</th>\n",
              "      <th>AveRooms</th>\n",
              "      <th>AveBedrms</th>\n",
              "      <th>Population</th>\n",
              "      <th>AveOccup</th>\n",
              "      <th>Latitude</th>\n",
              "      <th>Longitude</th>\n",
              "    </tr>\n",
              "  </thead>\n",
              "  <tbody>\n",
              "    <tr>\n",
              "      <th>0</th>\n",
              "      <td>8.3252</td>\n",
              "      <td>41.0</td>\n",
              "      <td>6.984127</td>\n",
              "      <td>1.023810</td>\n",
              "      <td>322.0</td>\n",
              "      <td>2.555556</td>\n",
              "      <td>37.88</td>\n",
              "      <td>-122.23</td>\n",
              "    </tr>\n",
              "    <tr>\n",
              "      <th>1</th>\n",
              "      <td>8.3014</td>\n",
              "      <td>21.0</td>\n",
              "      <td>6.238137</td>\n",
              "      <td>0.971880</td>\n",
              "      <td>2401.0</td>\n",
              "      <td>2.109842</td>\n",
              "      <td>37.86</td>\n",
              "      <td>-122.22</td>\n",
              "    </tr>\n",
              "    <tr>\n",
              "      <th>2</th>\n",
              "      <td>7.2574</td>\n",
              "      <td>52.0</td>\n",
              "      <td>8.288136</td>\n",
              "      <td>1.073446</td>\n",
              "      <td>496.0</td>\n",
              "      <td>2.802260</td>\n",
              "      <td>37.85</td>\n",
              "      <td>-122.24</td>\n",
              "    </tr>\n",
              "    <tr>\n",
              "      <th>3</th>\n",
              "      <td>5.6431</td>\n",
              "      <td>52.0</td>\n",
              "      <td>5.817352</td>\n",
              "      <td>1.073059</td>\n",
              "      <td>558.0</td>\n",
              "      <td>2.547945</td>\n",
              "      <td>37.85</td>\n",
              "      <td>-122.25</td>\n",
              "    </tr>\n",
              "    <tr>\n",
              "      <th>4</th>\n",
              "      <td>3.8462</td>\n",
              "      <td>52.0</td>\n",
              "      <td>6.281853</td>\n",
              "      <td>1.081081</td>\n",
              "      <td>565.0</td>\n",
              "      <td>2.181467</td>\n",
              "      <td>37.85</td>\n",
              "      <td>-122.25</td>\n",
              "    </tr>\n",
              "  </tbody>\n",
              "</table>\n",
              "</div>\n",
              "      <button class=\"colab-df-convert\" onclick=\"convertToInteractive('df-27fe5eec-ab1c-460f-a651-4aafdd7b11fd')\"\n",
              "              title=\"Convert this dataframe to an interactive table.\"\n",
              "              style=\"display:none;\">\n",
              "        \n",
              "  <svg xmlns=\"http://www.w3.org/2000/svg\" height=\"24px\"viewBox=\"0 0 24 24\"\n",
              "       width=\"24px\">\n",
              "    <path d=\"M0 0h24v24H0V0z\" fill=\"none\"/>\n",
              "    <path d=\"M18.56 5.44l.94 2.06.94-2.06 2.06-.94-2.06-.94-.94-2.06-.94 2.06-2.06.94zm-11 1L8.5 8.5l.94-2.06 2.06-.94-2.06-.94L8.5 2.5l-.94 2.06-2.06.94zm10 10l.94 2.06.94-2.06 2.06-.94-2.06-.94-.94-2.06-.94 2.06-2.06.94z\"/><path d=\"M17.41 7.96l-1.37-1.37c-.4-.4-.92-.59-1.43-.59-.52 0-1.04.2-1.43.59L10.3 9.45l-7.72 7.72c-.78.78-.78 2.05 0 2.83L4 21.41c.39.39.9.59 1.41.59.51 0 1.02-.2 1.41-.59l7.78-7.78 2.81-2.81c.8-.78.8-2.07 0-2.86zM5.41 20L4 18.59l7.72-7.72 1.47 1.35L5.41 20z\"/>\n",
              "  </svg>\n",
              "      </button>\n",
              "      \n",
              "  <style>\n",
              "    .colab-df-container {\n",
              "      display:flex;\n",
              "      flex-wrap:wrap;\n",
              "      gap: 12px;\n",
              "    }\n",
              "\n",
              "    .colab-df-convert {\n",
              "      background-color: #E8F0FE;\n",
              "      border: none;\n",
              "      border-radius: 50%;\n",
              "      cursor: pointer;\n",
              "      display: none;\n",
              "      fill: #1967D2;\n",
              "      height: 32px;\n",
              "      padding: 0 0 0 0;\n",
              "      width: 32px;\n",
              "    }\n",
              "\n",
              "    .colab-df-convert:hover {\n",
              "      background-color: #E2EBFA;\n",
              "      box-shadow: 0px 1px 2px rgba(60, 64, 67, 0.3), 0px 1px 3px 1px rgba(60, 64, 67, 0.15);\n",
              "      fill: #174EA6;\n",
              "    }\n",
              "\n",
              "    [theme=dark] .colab-df-convert {\n",
              "      background-color: #3B4455;\n",
              "      fill: #D2E3FC;\n",
              "    }\n",
              "\n",
              "    [theme=dark] .colab-df-convert:hover {\n",
              "      background-color: #434B5C;\n",
              "      box-shadow: 0px 1px 3px 1px rgba(0, 0, 0, 0.15);\n",
              "      filter: drop-shadow(0px 1px 2px rgba(0, 0, 0, 0.3));\n",
              "      fill: #FFFFFF;\n",
              "    }\n",
              "  </style>\n",
              "\n",
              "      <script>\n",
              "        const buttonEl =\n",
              "          document.querySelector('#df-27fe5eec-ab1c-460f-a651-4aafdd7b11fd button.colab-df-convert');\n",
              "        buttonEl.style.display =\n",
              "          google.colab.kernel.accessAllowed ? 'block' : 'none';\n",
              "\n",
              "        async function convertToInteractive(key) {\n",
              "          const element = document.querySelector('#df-27fe5eec-ab1c-460f-a651-4aafdd7b11fd');\n",
              "          const dataTable =\n",
              "            await google.colab.kernel.invokeFunction('convertToInteractive',\n",
              "                                                     [key], {});\n",
              "          if (!dataTable) return;\n",
              "\n",
              "          const docLinkHtml = 'Like what you see? Visit the ' +\n",
              "            '<a target=\"_blank\" href=https://colab.research.google.com/notebooks/data_table.ipynb>data table notebook</a>'\n",
              "            + ' to learn more about interactive tables.';\n",
              "          element.innerHTML = '';\n",
              "          dataTable['output_type'] = 'display_data';\n",
              "          await google.colab.output.renderOutput(dataTable, element);\n",
              "          const docLink = document.createElement('div');\n",
              "          docLink.innerHTML = docLinkHtml;\n",
              "          element.appendChild(docLink);\n",
              "        }\n",
              "      </script>\n",
              "    </div>\n",
              "  </div>\n",
              "  "
            ]
          },
          "metadata": {},
          "execution_count": 3
        }
      ]
    },
    {
      "cell_type": "code",
      "source": [
        "target"
      ],
      "metadata": {
        "colab": {
          "base_uri": "https://localhost:8080/"
        },
        "id": "5b6YdoescvWk",
        "outputId": "49965cdb-a5a3-4bae-df7c-8e080f30f964"
      },
      "execution_count": 4,
      "outputs": [
        {
          "output_type": "execute_result",
          "data": {
            "text/plain": [
              "0        4.526\n",
              "1        3.585\n",
              "2        3.521\n",
              "3        3.413\n",
              "4        3.422\n",
              "         ...  \n",
              "20635    0.781\n",
              "20636    0.771\n",
              "20637    0.923\n",
              "20638    0.847\n",
              "20639    0.894\n",
              "Name: MedHouseVal, Length: 20640, dtype: float64"
            ]
          },
          "metadata": {},
          "execution_count": 4
        }
      ]
    },
    {
      "cell_type": "markdown",
      "source": [
        "To simplify future visualization, let's transform the prices from the\n",
        "100 (k\\\\$) range to the thousand dollars (k\\\\$) range."
      ],
      "metadata": {
        "id": "Z6tMKjsOdD98"
      }
    },
    {
      "cell_type": "code",
      "source": [
        "target *= 100\n",
        "target.head()"
      ],
      "metadata": {
        "colab": {
          "base_uri": "https://localhost:8080/"
        },
        "id": "3T1GgYYLc8b8",
        "outputId": "808f59a6-00e5-487a-d0ff-fa35be283de1"
      },
      "execution_count": 5,
      "outputs": [
        {
          "output_type": "execute_result",
          "data": {
            "text/plain": [
              "0    452.6\n",
              "1    358.5\n",
              "2    352.1\n",
              "3    341.3\n",
              "4    342.2\n",
              "Name: MedHouseVal, dtype: float64"
            ]
          },
          "metadata": {},
          "execution_count": 5
        }
      ]
    },
    {
      "cell_type": "markdown",
      "source": [
        "## Training error vs testing error\n",
        "\n",
        "To solve this regression task, we will use a decision tree regressor."
      ],
      "metadata": {
        "id": "v3EmJ1SLd9zX"
      }
    },
    {
      "cell_type": "code",
      "source": [
        "from sklearn.tree import DecisionTreeRegressor\n",
        "\n",
        "regressor = DecisionTreeRegressor(random_state=0)\n",
        "regressor.fit(data, target)"
      ],
      "metadata": {
        "colab": {
          "base_uri": "https://localhost:8080/"
        },
        "id": "p409-tPqdJSl",
        "outputId": "6466ffde-87be-4f34-c3c2-ea6b8eb8b883"
      },
      "execution_count": 6,
      "outputs": [
        {
          "output_type": "execute_result",
          "data": {
            "text/plain": [
              "DecisionTreeRegressor(random_state=0)"
            ]
          },
          "metadata": {},
          "execution_count": 6
        }
      ]
    },
    {
      "cell_type": "markdown",
      "source": [
        "After training the regressor, we would like to know its potential generalization performance once deployed in production. For this purpose, we use the mean absolute error, which gives us an error in the native unit, i.e. k\\\\$."
      ],
      "metadata": {
        "id": "v4wvne0teLok"
      }
    },
    {
      "cell_type": "code",
      "source": [
        "from sklearn.metrics import mean_absolute_error\n",
        "\n",
        "target_predicted = regressor.predict(data)\n",
        "score = mean_absolute_error(target, target_predicted)\n",
        "print(f\"On average, our regressor makes an error of {score:.2f} k$\")"
      ],
      "metadata": {
        "colab": {
          "base_uri": "https://localhost:8080/"
        },
        "id": "vHXw1LfzeB_Y",
        "outputId": "7e3fe592-da9a-4a13-825a-eb887460da33"
      },
      "execution_count": 7,
      "outputs": [
        {
          "output_type": "stream",
          "name": "stdout",
          "text": [
            "On average, our regressor makes an error of 0.00 k$\n"
          ]
        }
      ]
    },
    {
      "cell_type": "markdown",
      "source": [
        "We get perfect prediction with no error. It is too optimistic and almost\n",
        "always revealing a methodological problem when doing machine learning.\n",
        "\n",
        "Indeed, we trained and predicted on the same dataset. Since our decision tree\n",
        "was fully grown, every sample in the dataset is stored in a leaf node.\n",
        "Therefore, our decision tree fully memorized the dataset given during `fit`\n",
        "and therefore made no error when predicting.\n",
        "\n",
        "This error computed above is called the **empirical error** or **training\n",
        "error**.\n",
        "\n",
        "We trained a predictive model to minimize the training error but our aim is\n",
        "to minimize the error on data that has not been seen during training.\n",
        "\n",
        "This error is also called the **generalization error** or the \"true\"\n",
        "**testing error**.\n",
        "\n",
        "Thus, the most basic evaluation involves:\n",
        "\n",
        "* splitting our dataset into two subsets: a training set and a testing set;\n",
        "* fitting the model on the training set;\n",
        "* estimating the training error on the training set;\n",
        "* estimating the testing error on the testing set.\n",
        "\n",
        "So let's split our dataset."
      ],
      "metadata": {
        "id": "cG_l-kPteoMy"
      }
    },
    {
      "cell_type": "code",
      "source": [
        "from sklearn.model_selection import train_test_split\n",
        "\n",
        "data_train, data_test, target_train, target_test = train_test_split(\n",
        "    data, target, random_state=0)"
      ],
      "metadata": {
        "id": "a0o7RYiGeSjg"
      },
      "execution_count": 8,
      "outputs": []
    },
    {
      "cell_type": "markdown",
      "source": [
        "Then, let's train our model."
      ],
      "metadata": {
        "id": "uxFqiKIMfkHn"
      }
    },
    {
      "cell_type": "code",
      "source": [
        "regressor.fit(data_train, target_train)"
      ],
      "metadata": {
        "colab": {
          "base_uri": "https://localhost:8080/"
        },
        "id": "ooeA6e0gfhVg",
        "outputId": "003f3a84-bb94-4407-9efc-40948ea34c9b"
      },
      "execution_count": 9,
      "outputs": [
        {
          "output_type": "execute_result",
          "data": {
            "text/plain": [
              "DecisionTreeRegressor(random_state=0)"
            ]
          },
          "metadata": {},
          "execution_count": 9
        }
      ]
    },
    {
      "cell_type": "markdown",
      "source": [
        "Finally, we estimate the different types of errors. Let's start by computing the training error."
      ],
      "metadata": {
        "id": "sgW9jIAWfr8K"
      }
    },
    {
      "cell_type": "code",
      "source": [
        "target_predicted = regressor.predict(data_train)\n",
        "score = mean_absolute_error(target_train, target_predicted)\n",
        "print(f\"The training error of our model is {score:.2f} k$\")"
      ],
      "metadata": {
        "colab": {
          "base_uri": "https://localhost:8080/"
        },
        "id": "9DZ43XBdfnXZ",
        "outputId": "cbe55646-8596-4ade-c678-f2af2a409800"
      },
      "execution_count": 10,
      "outputs": [
        {
          "output_type": "stream",
          "name": "stdout",
          "text": [
            "The training error of our model is 0.00 k$\n"
          ]
        }
      ]
    },
    {
      "cell_type": "markdown",
      "source": [
        "We observe the same phenomena as in the previous experiment: our model memorized the training set. However, we now compute the testing error."
      ],
      "metadata": {
        "id": "qRlVj1Xlf45h"
      }
    },
    {
      "cell_type": "code",
      "source": [
        "target_predicted = regressor.predict(data_test)\n",
        "score = mean_absolute_error(target_test, target_predicted)\n",
        "print(f\"The testing error of our model is {score:.2f} k$\")"
      ],
      "metadata": {
        "colab": {
          "base_uri": "https://localhost:8080/"
        },
        "id": "8KKu3IhKfyXM",
        "outputId": "8779c63a-a0bd-48bd-e853-354106d7c576"
      },
      "execution_count": 11,
      "outputs": [
        {
          "output_type": "stream",
          "name": "stdout",
          "text": [
            "The testing error of our model is 47.28 k$\n"
          ]
        }
      ]
    },
    {
      "cell_type": "markdown",
      "source": [
        "This testing error is actually about what we would expect from our model if it was used in a production environment."
      ],
      "metadata": {
        "id": "qs575OBFgISW"
      }
    },
    {
      "cell_type": "markdown",
      "source": [
        "## Stability of the cross-validation estimates\n",
        "\n",
        "When doing a single train-test split we don't give any indication regarding\n",
        "the robustness of the evaluation of our predictive model: in particular, if\n",
        "the test set is small, this estimate of the testing error will be unstable and\n",
        "wouldn't reflect the \"true error rate\" we would have observed with the same\n",
        "model on an unlimited amount of test data.\n",
        "\n",
        "For instance, we could have been lucky when we did our random split of our\n",
        "limited dataset and isolated some of the easiest cases to predict in the\n",
        "testing set just by chance: the estimation of the testing error would be\n",
        "overly optimistic, in this case.\n",
        "\n",
        "**Cross-validation** allows estimating the robustness of a predictive model by\n",
        "repeating the splitting procedure. It will give several training and testing\n",
        "errors and thus some **estimate of the variability of the model generalization\n",
        "performance**.\n",
        "\n",
        "There are [different cross-validation\n",
        "strategies](https://scikit-learn.org/stable/modules/cross_validation.html#cross-validation-iterators),\n",
        "for now we are going to focus on one called \"shuffle-split\". At each iteration\n",
        "of this strategy we:\n",
        "\n",
        "- randomly shuffle the order of the samples of a copy of the full dataset;\n",
        "- split the shuffled dataset into a train and a test set;\n",
        "- train a new model on the train set;\n",
        "- evaluate the testing error on the test set.\n",
        "\n",
        "We repeat this procedure `n_splits` times. Keep in mind that the computational\n",
        "cost increases with `n_splits`.\n",
        "\n",
        "![Screenshot from 2022-09-28 08-50-26.png](data:image/png;base64,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)\n",
        "\n",
        "In this case we will set `n_splits=40`, meaning that we will train 40 models\n",
        "in total and all of them will be discarded: we just record their\n",
        "generalization performance on each variant of the test set."
      ],
      "metadata": {
        "id": "WvUkmciAECOl"
      }
    },
    {
      "cell_type": "code",
      "source": [
        "from sklearn.model_selection import (\n",
        "    cross_validate,\n",
        "    ShuffleSplit\n",
        ")\n",
        "\n",
        "cv = ShuffleSplit(n_splits=40, test_size=.3, random_state=0)\n",
        "cv_results = cross_validate(\n",
        "    regressor, \n",
        "    data, \n",
        "    target, \n",
        "    cv=cv, \n",
        "    scoring='neg_mean_absolute_error'\n",
        ")"
      ],
      "metadata": {
        "id": "Jo86Yz1RgClz"
      },
      "execution_count": 12,
      "outputs": []
    },
    {
      "cell_type": "code",
      "source": [
        "import pandas as pd\n",
        "\n",
        "cv_results = pd.DataFrame(cv_results)\n",
        "cv_results.head()"
      ],
      "metadata": {
        "colab": {
          "base_uri": "https://localhost:8080/",
          "height": 206
        },
        "id": "oe5odTRyGdCX",
        "outputId": "b7ddb5c9-3433-452d-b0d3-167967a1bca1"
      },
      "execution_count": 13,
      "outputs": [
        {
          "output_type": "execute_result",
          "data": {
            "text/plain": [
              "   fit_time  score_time  test_score\n",
              "0  0.244349    0.006374  -46.909797\n",
              "1  0.207983    0.004382  -46.421170\n",
              "2  0.162671    0.005467  -47.411089\n",
              "3  0.175248    0.004385  -44.319824\n",
              "4  0.172271    0.005316  -47.607875"
            ],
            "text/html": [
              "\n",
              "  <div id=\"df-2155d5d5-c581-4035-b1fc-2e798f633722\">\n",
              "    <div class=\"colab-df-container\">\n",
              "      <div>\n",
              "<style scoped>\n",
              "    .dataframe tbody tr th:only-of-type {\n",
              "        vertical-align: middle;\n",
              "    }\n",
              "\n",
              "    .dataframe tbody tr th {\n",
              "        vertical-align: top;\n",
              "    }\n",
              "\n",
              "    .dataframe thead th {\n",
              "        text-align: right;\n",
              "    }\n",
              "</style>\n",
              "<table border=\"1\" class=\"dataframe\">\n",
              "  <thead>\n",
              "    <tr style=\"text-align: right;\">\n",
              "      <th></th>\n",
              "      <th>fit_time</th>\n",
              "      <th>score_time</th>\n",
              "      <th>test_score</th>\n",
              "    </tr>\n",
              "  </thead>\n",
              "  <tbody>\n",
              "    <tr>\n",
              "      <th>0</th>\n",
              "      <td>0.244349</td>\n",
              "      <td>0.006374</td>\n",
              "      <td>-46.909797</td>\n",
              "    </tr>\n",
              "    <tr>\n",
              "      <th>1</th>\n",
              "      <td>0.207983</td>\n",
              "      <td>0.004382</td>\n",
              "      <td>-46.421170</td>\n",
              "    </tr>\n",
              "    <tr>\n",
              "      <th>2</th>\n",
              "      <td>0.162671</td>\n",
              "      <td>0.005467</td>\n",
              "      <td>-47.411089</td>\n",
              "    </tr>\n",
              "    <tr>\n",
              "      <th>3</th>\n",
              "      <td>0.175248</td>\n",
              "      <td>0.004385</td>\n",
              "      <td>-44.319824</td>\n",
              "    </tr>\n",
              "    <tr>\n",
              "      <th>4</th>\n",
              "      <td>0.172271</td>\n",
              "      <td>0.005316</td>\n",
              "      <td>-47.607875</td>\n",
              "    </tr>\n",
              "  </tbody>\n",
              "</table>\n",
              "</div>\n",
              "      <button class=\"colab-df-convert\" onclick=\"convertToInteractive('df-2155d5d5-c581-4035-b1fc-2e798f633722')\"\n",
              "              title=\"Convert this dataframe to an interactive table.\"\n",
              "              style=\"display:none;\">\n",
              "        \n",
              "  <svg xmlns=\"http://www.w3.org/2000/svg\" height=\"24px\"viewBox=\"0 0 24 24\"\n",
              "       width=\"24px\">\n",
              "    <path d=\"M0 0h24v24H0V0z\" fill=\"none\"/>\n",
              "    <path d=\"M18.56 5.44l.94 2.06.94-2.06 2.06-.94-2.06-.94-.94-2.06-.94 2.06-2.06.94zm-11 1L8.5 8.5l.94-2.06 2.06-.94-2.06-.94L8.5 2.5l-.94 2.06-2.06.94zm10 10l.94 2.06.94-2.06 2.06-.94-2.06-.94-.94-2.06-.94 2.06-2.06.94z\"/><path d=\"M17.41 7.96l-1.37-1.37c-.4-.4-.92-.59-1.43-.59-.52 0-1.04.2-1.43.59L10.3 9.45l-7.72 7.72c-.78.78-.78 2.05 0 2.83L4 21.41c.39.39.9.59 1.41.59.51 0 1.02-.2 1.41-.59l7.78-7.78 2.81-2.81c.8-.78.8-2.07 0-2.86zM5.41 20L4 18.59l7.72-7.72 1.47 1.35L5.41 20z\"/>\n",
              "  </svg>\n",
              "      </button>\n",
              "      \n",
              "  <style>\n",
              "    .colab-df-container {\n",
              "      display:flex;\n",
              "      flex-wrap:wrap;\n",
              "      gap: 12px;\n",
              "    }\n",
              "\n",
              "    .colab-df-convert {\n",
              "      background-color: #E8F0FE;\n",
              "      border: none;\n",
              "      border-radius: 50%;\n",
              "      cursor: pointer;\n",
              "      display: none;\n",
              "      fill: #1967D2;\n",
              "      height: 32px;\n",
              "      padding: 0 0 0 0;\n",
              "      width: 32px;\n",
              "    }\n",
              "\n",
              "    .colab-df-convert:hover {\n",
              "      background-color: #E2EBFA;\n",
              "      box-shadow: 0px 1px 2px rgba(60, 64, 67, 0.3), 0px 1px 3px 1px rgba(60, 64, 67, 0.15);\n",
              "      fill: #174EA6;\n",
              "    }\n",
              "\n",
              "    [theme=dark] .colab-df-convert {\n",
              "      background-color: #3B4455;\n",
              "      fill: #D2E3FC;\n",
              "    }\n",
              "\n",
              "    [theme=dark] .colab-df-convert:hover {\n",
              "      background-color: #434B5C;\n",
              "      box-shadow: 0px 1px 3px 1px rgba(0, 0, 0, 0.15);\n",
              "      filter: drop-shadow(0px 1px 2px rgba(0, 0, 0, 0.3));\n",
              "      fill: #FFFFFF;\n",
              "    }\n",
              "  </style>\n",
              "\n",
              "      <script>\n",
              "        const buttonEl =\n",
              "          document.querySelector('#df-2155d5d5-c581-4035-b1fc-2e798f633722 button.colab-df-convert');\n",
              "        buttonEl.style.display =\n",
              "          google.colab.kernel.accessAllowed ? 'block' : 'none';\n",
              "\n",
              "        async function convertToInteractive(key) {\n",
              "          const element = document.querySelector('#df-2155d5d5-c581-4035-b1fc-2e798f633722');\n",
              "          const dataTable =\n",
              "            await google.colab.kernel.invokeFunction('convertToInteractive',\n",
              "                                                     [key], {});\n",
              "          if (!dataTable) return;\n",
              "\n",
              "          const docLinkHtml = 'Like what you see? Visit the ' +\n",
              "            '<a target=\"_blank\" href=https://colab.research.google.com/notebooks/data_table.ipynb>data table notebook</a>'\n",
              "            + ' to learn more about interactive tables.';\n",
              "          element.innerHTML = '';\n",
              "          dataTable['output_type'] = 'display_data';\n",
              "          await google.colab.output.renderOutput(dataTable, element);\n",
              "          const docLink = document.createElement('div');\n",
              "          docLink.innerHTML = docLinkHtml;\n",
              "          element.appendChild(docLink);\n",
              "        }\n",
              "      </script>\n",
              "    </div>\n",
              "  </div>\n",
              "  "
            ]
          },
          "metadata": {},
          "execution_count": 13
        }
      ]
    },
    {
      "cell_type": "markdown",
      "source": [
        "A score is a metric for which higher values mean better results. On the contrary, an error is a metric for which lower values mean better results. The parameter scoring in cross_validate always expect a function that is a score.\n",
        "\n",
        "To make it easy, all error metrics in scikit-learn, like mean_absolute_error, can be transformed into a score to be used in cross_validate. To do so, you need to pass a string of the error metric with an additional neg_ string at the front to the parameter scoring; for instance scoring=\"neg_mean_absolute_error\". In this case, the negative of the mean absolute error will be computed which would be equivalent to a score."
      ],
      "metadata": {
        "id": "1UghowJKHktE"
      }
    },
    {
      "cell_type": "markdown",
      "source": [
        "Let us revert the negation to get the actual error:"
      ],
      "metadata": {
        "id": "mHn9KWcWHsMU"
      }
    },
    {
      "cell_type": "code",
      "source": [
        "cv_results['test_error'] = -cv_results['test_score']"
      ],
      "metadata": {
        "id": "fwqqYmzRHlb2"
      },
      "execution_count": 14,
      "outputs": []
    },
    {
      "cell_type": "markdown",
      "source": [
        "Let's check the results reported by the cross-validation."
      ],
      "metadata": {
        "id": "herMRs4LH-8z"
      }
    },
    {
      "cell_type": "code",
      "source": [
        "cv_results.head(10)"
      ],
      "metadata": {
        "colab": {
          "base_uri": "https://localhost:8080/",
          "height": 363
        },
        "id": "tg_cGsG9H-Wx",
        "outputId": "bf4ace0d-88df-452e-dd97-3328ee76d601"
      },
      "execution_count": 16,
      "outputs": [
        {
          "output_type": "execute_result",
          "data": {
            "text/plain": [
              "   fit_time  score_time  test_score  test_error\n",
              "0  0.244349    0.006374  -46.909797   46.909797\n",
              "1  0.207983    0.004382  -46.421170   46.421170\n",
              "2  0.162671    0.005467  -47.411089   47.411089\n",
              "3  0.175248    0.004385  -44.319824   44.319824\n",
              "4  0.172271    0.005316  -47.607875   47.607875\n",
              "5  0.166171    0.004449  -45.901300   45.901300\n",
              "6  0.166897    0.004436  -46.572767   46.572767\n",
              "7  0.179103    0.004579  -46.194585   46.194585\n",
              "8  0.167248    0.004305  -45.590236   45.590236\n",
              "9  0.165279    0.004693  -45.727998   45.727998"
            ],
            "text/html": [
              "\n",
              "  <div id=\"df-f0d844db-e5e9-4883-ad02-648444a8d866\">\n",
              "    <div class=\"colab-df-container\">\n",
              "      <div>\n",
              "<style scoped>\n",
              "    .dataframe tbody tr th:only-of-type {\n",
              "        vertical-align: middle;\n",
              "    }\n",
              "\n",
              "    .dataframe tbody tr th {\n",
              "        vertical-align: top;\n",
              "    }\n",
              "\n",
              "    .dataframe thead th {\n",
              "        text-align: right;\n",
              "    }\n",
              "</style>\n",
              "<table border=\"1\" class=\"dataframe\">\n",
              "  <thead>\n",
              "    <tr style=\"text-align: right;\">\n",
              "      <th></th>\n",
              "      <th>fit_time</th>\n",
              "      <th>score_time</th>\n",
              "      <th>test_score</th>\n",
              "      <th>test_error</th>\n",
              "    </tr>\n",
              "  </thead>\n",
              "  <tbody>\n",
              "    <tr>\n",
              "      <th>0</th>\n",
              "      <td>0.244349</td>\n",
              "      <td>0.006374</td>\n",
              "      <td>-46.909797</td>\n",
              "      <td>46.909797</td>\n",
              "    </tr>\n",
              "    <tr>\n",
              "      <th>1</th>\n",
              "      <td>0.207983</td>\n",
              "      <td>0.004382</td>\n",
              "      <td>-46.421170</td>\n",
              "      <td>46.421170</td>\n",
              "    </tr>\n",
              "    <tr>\n",
              "      <th>2</th>\n",
              "      <td>0.162671</td>\n",
              "      <td>0.005467</td>\n",
              "      <td>-47.411089</td>\n",
              "      <td>47.411089</td>\n",
              "    </tr>\n",
              "    <tr>\n",
              "      <th>3</th>\n",
              "      <td>0.175248</td>\n",
              "      <td>0.004385</td>\n",
              "      <td>-44.319824</td>\n",
              "      <td>44.319824</td>\n",
              "    </tr>\n",
              "    <tr>\n",
              "      <th>4</th>\n",
              "      <td>0.172271</td>\n",
              "      <td>0.005316</td>\n",
              "      <td>-47.607875</td>\n",
              "      <td>47.607875</td>\n",
              "    </tr>\n",
              "    <tr>\n",
              "      <th>5</th>\n",
              "      <td>0.166171</td>\n",
              "      <td>0.004449</td>\n",
              "      <td>-45.901300</td>\n",
              "      <td>45.901300</td>\n",
              "    </tr>\n",
              "    <tr>\n",
              "      <th>6</th>\n",
              "      <td>0.166897</td>\n",
              "      <td>0.004436</td>\n",
              "      <td>-46.572767</td>\n",
              "      <td>46.572767</td>\n",
              "    </tr>\n",
              "    <tr>\n",
              "      <th>7</th>\n",
              "      <td>0.179103</td>\n",
              "      <td>0.004579</td>\n",
              "      <td>-46.194585</td>\n",
              "      <td>46.194585</td>\n",
              "    </tr>\n",
              "    <tr>\n",
              "      <th>8</th>\n",
              "      <td>0.167248</td>\n",
              "      <td>0.004305</td>\n",
              "      <td>-45.590236</td>\n",
              "      <td>45.590236</td>\n",
              "    </tr>\n",
              "    <tr>\n",
              "      <th>9</th>\n",
              "      <td>0.165279</td>\n",
              "      <td>0.004693</td>\n",
              "      <td>-45.727998</td>\n",
              "      <td>45.727998</td>\n",
              "    </tr>\n",
              "  </tbody>\n",
              "</table>\n",
              "</div>\n",
              "      <button class=\"colab-df-convert\" onclick=\"convertToInteractive('df-f0d844db-e5e9-4883-ad02-648444a8d866')\"\n",
              "              title=\"Convert this dataframe to an interactive table.\"\n",
              "              style=\"display:none;\">\n",
              "        \n",
              "  <svg xmlns=\"http://www.w3.org/2000/svg\" height=\"24px\"viewBox=\"0 0 24 24\"\n",
              "       width=\"24px\">\n",
              "    <path d=\"M0 0h24v24H0V0z\" fill=\"none\"/>\n",
              "    <path d=\"M18.56 5.44l.94 2.06.94-2.06 2.06-.94-2.06-.94-.94-2.06-.94 2.06-2.06.94zm-11 1L8.5 8.5l.94-2.06 2.06-.94-2.06-.94L8.5 2.5l-.94 2.06-2.06.94zm10 10l.94 2.06.94-2.06 2.06-.94-2.06-.94-.94-2.06-.94 2.06-2.06.94z\"/><path d=\"M17.41 7.96l-1.37-1.37c-.4-.4-.92-.59-1.43-.59-.52 0-1.04.2-1.43.59L10.3 9.45l-7.72 7.72c-.78.78-.78 2.05 0 2.83L4 21.41c.39.39.9.59 1.41.59.51 0 1.02-.2 1.41-.59l7.78-7.78 2.81-2.81c.8-.78.8-2.07 0-2.86zM5.41 20L4 18.59l7.72-7.72 1.47 1.35L5.41 20z\"/>\n",
              "  </svg>\n",
              "      </button>\n",
              "      \n",
              "  <style>\n",
              "    .colab-df-container {\n",
              "      display:flex;\n",
              "      flex-wrap:wrap;\n",
              "      gap: 12px;\n",
              "    }\n",
              "\n",
              "    .colab-df-convert {\n",
              "      background-color: #E8F0FE;\n",
              "      border: none;\n",
              "      border-radius: 50%;\n",
              "      cursor: pointer;\n",
              "      display: none;\n",
              "      fill: #1967D2;\n",
              "      height: 32px;\n",
              "      padding: 0 0 0 0;\n",
              "      width: 32px;\n",
              "    }\n",
              "\n",
              "    .colab-df-convert:hover {\n",
              "      background-color: #E2EBFA;\n",
              "      box-shadow: 0px 1px 2px rgba(60, 64, 67, 0.3), 0px 1px 3px 1px rgba(60, 64, 67, 0.15);\n",
              "      fill: #174EA6;\n",
              "    }\n",
              "\n",
              "    [theme=dark] .colab-df-convert {\n",
              "      background-color: #3B4455;\n",
              "      fill: #D2E3FC;\n",
              "    }\n",
              "\n",
              "    [theme=dark] .colab-df-convert:hover {\n",
              "      background-color: #434B5C;\n",
              "      box-shadow: 0px 1px 3px 1px rgba(0, 0, 0, 0.15);\n",
              "      filter: drop-shadow(0px 1px 2px rgba(0, 0, 0, 0.3));\n",
              "      fill: #FFFFFF;\n",
              "    }\n",
              "  </style>\n",
              "\n",
              "      <script>\n",
              "        const buttonEl =\n",
              "          document.querySelector('#df-f0d844db-e5e9-4883-ad02-648444a8d866 button.colab-df-convert');\n",
              "        buttonEl.style.display =\n",
              "          google.colab.kernel.accessAllowed ? 'block' : 'none';\n",
              "\n",
              "        async function convertToInteractive(key) {\n",
              "          const element = document.querySelector('#df-f0d844db-e5e9-4883-ad02-648444a8d866');\n",
              "          const dataTable =\n",
              "            await google.colab.kernel.invokeFunction('convertToInteractive',\n",
              "                                                     [key], {});\n",
              "          if (!dataTable) return;\n",
              "\n",
              "          const docLinkHtml = 'Like what you see? Visit the ' +\n",
              "            '<a target=\"_blank\" href=https://colab.research.google.com/notebooks/data_table.ipynb>data table notebook</a>'\n",
              "            + ' to learn more about interactive tables.';\n",
              "          element.innerHTML = '';\n",
              "          dataTable['output_type'] = 'display_data';\n",
              "          await google.colab.output.renderOutput(dataTable, element);\n",
              "          const docLink = document.createElement('div');\n",
              "          docLink.innerHTML = docLinkHtml;\n",
              "          element.appendChild(docLink);\n",
              "        }\n",
              "      </script>\n",
              "    </div>\n",
              "  </div>\n",
              "  "
            ]
          },
          "metadata": {},
          "execution_count": 16
        }
      ]
    },
    {
      "cell_type": "markdown",
      "source": [
        "We get 40 entries in our resulting dataframe because we performed 40 splits.\n",
        "Therefore, we can show the testing error distribution and thus, have an\n",
        "estimate of its variability."
      ],
      "metadata": {
        "id": "qHjXuTh5IjJH"
      }
    },
    {
      "cell_type": "code",
      "source": [
        "import matplotlib.pyplot as plt\n",
        "plt.style.use('ggplot')"
      ],
      "metadata": {
        "id": "4Qm7G2rVIBom"
      },
      "execution_count": 17,
      "outputs": []
    },
    {
      "cell_type": "code",
      "source": [
        "plt.figure(figsize=(8,5))\n",
        "plt.hist(cv_results['test_error'],bins=10, edgecolor=\"black\")\n",
        "plt.xlabel(\"Mean absolute error (k$)\")\n",
        "plt.title('Test Error Distribution')\n",
        "plt.show();"
      ],
      "metadata": {
        "colab": {
          "base_uri": "https://localhost:8080/",
          "height": 354
        },
        "id": "o38HKnwTIzke",
        "outputId": "f8d484f1-f74d-49b8-927e-9180524e3c8a"
      },
      "execution_count": 20,
      "outputs": [
        {
          "output_type": "display_data",
          "data": {
            "text/plain": [
              "<Figure size 576x360 with 1 Axes>"
            ],
            "image/png": "[encoded data removed]"
          },
          "metadata": {}
        }
      ]
    },
    {
      "cell_type": "code",
      "source": [],
      "metadata": {
        "id": "iwJoIHOOJhLs"
      },
      "execution_count": null,
      "outputs": []
    }
  ]
}