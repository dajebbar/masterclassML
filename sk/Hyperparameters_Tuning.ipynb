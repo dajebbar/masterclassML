{
  "nbformat": 4,
  "nbformat_minor": 0,
  "metadata": {
    "colab": {
      "provenance": []
    },
    "kernelspec": {
      "name": "python3",
      "display_name": "Python 3"
    },
    "language_info": {
      "name": "python"
    }
  },
  "cells": [
    {
      "cell_type": "code",
      "execution_count": 1,
      "metadata": {
        "id": "RitUExncG94S"
      },
      "outputs": [],
      "source": [
        "import pandas as pd\n",
        "from sklearn import model_selection\n",
        "from sklearn.compose import(\n",
        "    make_column_selector as selector,\n",
        "    ColumnTransformer,\n",
        ")\n",
        "\n",
        "from sklearn.preprocessing import OrdinalEncoder\n",
        "from sklearn.ensemble import HistGradientBoostingClassifier\n",
        "from sklearn.pipeline import Pipeline"
      ]
    },
    {
      "cell_type": "code",
      "source": [
        "df = pd.read_csv('adult_cencus.csv')\n",
        "df.sample(n=5)"
      ],
      "metadata": {
        "colab": {
          "base_uri": "https://localhost:8080/",
          "height": 374
        },
        "id": "omTWDKCrHpCS",
        "outputId": "15cb2ed0-5cbd-49c7-9f7f-afc30995d082"
      },
      "execution_count": 2,
      "outputs": [
        {
          "output_type": "execute_result",
          "data": {
            "text/plain": [
              "       age   workclass  fnlwgt      education  education_num  \\\n",
              "40383   33     Private  234537        HS-grad              9   \n",
              "26248   65     Private  180807        HS-grad              9   \n",
              "5698    51     Private  240988           11th              7   \n",
              "39304   35   Local-gov  184117        Masters             14   \n",
              "28943   23         NaN   86337   Some-college             10   \n",
              "\n",
              "            marital_status          occupation    relationship  \\\n",
              "40383   Married-civ-spouse        Craft-repair         Husband   \n",
              "26248            Separated     Protective-serv   Not-in-family   \n",
              "5698    Married-civ-spouse   Machine-op-inspct         Husband   \n",
              "39304        Never-married      Prof-specialty       Own-child   \n",
              "28943        Never-married                 NaN   Not-in-family   \n",
              "\n",
              "                      race      sex  capital_gain  capital_loss  \\\n",
              "40383                White     Male             0             0   \n",
              "26248                White     Male           991             0   \n",
              "5698    Asian-Pac-Islander     Male             0             0   \n",
              "39304                White   Female             0             0   \n",
              "28943                White   Female             0             0   \n",
              "\n",
              "       hours_per_week  native_country   class  \n",
              "40383              40   United-States   <=50K  \n",
              "26248              20   United-States   <=50K  \n",
              "5698               40     Philippines   <=50K  \n",
              "39304              25   United-States   <=50K  \n",
              "28943              15   United-States   <=50K  "
            ],
            "text/html": [
              "\n",
              "  <div id=\"df-442300d8-3fd7-4c09-869c-596cf2bea4b9\">\n",
              "    <div class=\"colab-df-container\">\n",
              "      <div>\n",
              "<style scoped>\n",
              "    .dataframe tbody tr th:only-of-type {\n",
              "        vertical-align: middle;\n",
              "    }\n",
              "\n",
              "    .dataframe tbody tr th {\n",
              "        vertical-align: top;\n",
              "    }\n",
              "\n",
              "    .dataframe thead th {\n",
              "        text-align: right;\n",
              "    }\n",
              "</style>\n",
              "<table border=\"1\" class=\"dataframe\">\n",
              "  <thead>\n",
              "    <tr style=\"text-align: right;\">\n",
              "      <th></th>\n",
              "      <th>age</th>\n",
              "      <th>workclass</th>\n",
              "      <th>fnlwgt</th>\n",
              "      <th>education</th>\n",
              "      <th>education_num</th>\n",
              "      <th>marital_status</th>\n",
              "      <th>occupation</th>\n",
              "      <th>relationship</th>\n",
              "      <th>race</th>\n",
              "      <th>sex</th>\n",
              "      <th>capital_gain</th>\n",
              "      <th>capital_loss</th>\n",
              "      <th>hours_per_week</th>\n",
              "      <th>native_country</th>\n",
              "      <th>class</th>\n",
              "    </tr>\n",
              "  </thead>\n",
              "  <tbody>\n",
              "    <tr>\n",
              "      <th>40383</th>\n",
              "      <td>33</td>\n",
              "      <td>Private</td>\n",
              "      <td>234537</td>\n",
              "      <td>HS-grad</td>\n",
              "      <td>9</td>\n",
              "      <td>Married-civ-spouse</td>\n",
              "      <td>Craft-repair</td>\n",
              "      <td>Husband</td>\n",
              "      <td>White</td>\n",
              "      <td>Male</td>\n",
              "      <td>0</td>\n",
              "      <td>0</td>\n",
              "      <td>40</td>\n",
              "      <td>United-States</td>\n",
              "      <td>&lt;=50K</td>\n",
              "    </tr>\n",
              "    <tr>\n",
              "      <th>26248</th>\n",
              "      <td>65</td>\n",
              "      <td>Private</td>\n",
              "      <td>180807</td>\n",
              "      <td>HS-grad</td>\n",
              "      <td>9</td>\n",
              "      <td>Separated</td>\n",
              "      <td>Protective-serv</td>\n",
              "      <td>Not-in-family</td>\n",
              "      <td>White</td>\n",
              "      <td>Male</td>\n",
              "      <td>991</td>\n",
              "      <td>0</td>\n",
              "      <td>20</td>\n",
              "      <td>United-States</td>\n",
              "      <td>&lt;=50K</td>\n",
              "    </tr>\n",
              "    <tr>\n",
              "      <th>5698</th>\n",
              "      <td>51</td>\n",
              "      <td>Private</td>\n",
              "      <td>240988</td>\n",
              "      <td>11th</td>\n",
              "      <td>7</td>\n",
              "      <td>Married-civ-spouse</td>\n",
              "      <td>Machine-op-inspct</td>\n",
              "      <td>Husband</td>\n",
              "      <td>Asian-Pac-Islander</td>\n",
              "      <td>Male</td>\n",
              "      <td>0</td>\n",
              "      <td>0</td>\n",
              "      <td>40</td>\n",
              "      <td>Philippines</td>\n",
              "      <td>&lt;=50K</td>\n",
              "    </tr>\n",
              "    <tr>\n",
              "      <th>39304</th>\n",
              "      <td>35</td>\n",
              "      <td>Local-gov</td>\n",
              "      <td>184117</td>\n",
              "      <td>Masters</td>\n",
              "      <td>14</td>\n",
              "      <td>Never-married</td>\n",
              "      <td>Prof-specialty</td>\n",
              "      <td>Own-child</td>\n",
              "      <td>White</td>\n",
              "      <td>Female</td>\n",
              "      <td>0</td>\n",
              "      <td>0</td>\n",
              "      <td>25</td>\n",
              "      <td>United-States</td>\n",
              "      <td>&lt;=50K</td>\n",
              "    </tr>\n",
              "    <tr>\n",
              "      <th>28943</th>\n",
              "      <td>23</td>\n",
              "      <td>NaN</td>\n",
              "      <td>86337</td>\n",
              "      <td>Some-college</td>\n",
              "      <td>10</td>\n",
              "      <td>Never-married</td>\n",
              "      <td>NaN</td>\n",
              "      <td>Not-in-family</td>\n",
              "      <td>White</td>\n",
              "      <td>Female</td>\n",
              "      <td>0</td>\n",
              "      <td>0</td>\n",
              "      <td>15</td>\n",
              "      <td>United-States</td>\n",
              "      <td>&lt;=50K</td>\n",
              "    </tr>\n",
              "  </tbody>\n",
              "</table>\n",
              "</div>\n",
              "      <button class=\"colab-df-convert\" onclick=\"convertToInteractive('df-442300d8-3fd7-4c09-869c-596cf2bea4b9')\"\n",
              "              title=\"Convert this dataframe to an interactive table.\"\n",
              "              style=\"display:none;\">\n",
              "        \n",
              "  <svg xmlns=\"http://www.w3.org/2000/svg\" height=\"24px\"viewBox=\"0 0 24 24\"\n",
              "       width=\"24px\">\n",
              "    <path d=\"M0 0h24v24H0V0z\" fill=\"none\"/>\n",
              "    <path d=\"M18.56 5.44l.94 2.06.94-2.06 2.06-.94-2.06-.94-.94-2.06-.94 2.06-2.06.94zm-11 1L8.5 8.5l.94-2.06 2.06-.94-2.06-.94L8.5 2.5l-.94 2.06-2.06.94zm10 10l.94 2.06.94-2.06 2.06-.94-2.06-.94-.94-2.06-.94 2.06-2.06.94z\"/><path d=\"M17.41 7.96l-1.37-1.37c-.4-.4-.92-.59-1.43-.59-.52 0-1.04.2-1.43.59L10.3 9.45l-7.72 7.72c-.78.78-.78 2.05 0 2.83L4 21.41c.39.39.9.59 1.41.59.51 0 1.02-.2 1.41-.59l7.78-7.78 2.81-2.81c.8-.78.8-2.07 0-2.86zM5.41 20L4 18.59l7.72-7.72 1.47 1.35L5.41 20z\"/>\n",
              "  </svg>\n",
              "      </button>\n",
              "      \n",
              "  <style>\n",
              "    .colab-df-container {\n",
              "      display:flex;\n",
              "      flex-wrap:wrap;\n",
              "      gap: 12px;\n",
              "    }\n",
              "\n",
              "    .colab-df-convert {\n",
              "      background-color: #E8F0FE;\n",
              "      border: none;\n",
              "      border-radius: 50%;\n",
              "      cursor: pointer;\n",
              "      display: none;\n",
              "      fill: #1967D2;\n",
              "      height: 32px;\n",
              "      padding: 0 0 0 0;\n",
              "      width: 32px;\n",
              "    }\n",
              "\n",
              "    .colab-df-convert:hover {\n",
              "      background-color: #E2EBFA;\n",
              "      box-shadow: 0px 1px 2px rgba(60, 64, 67, 0.3), 0px 1px 3px 1px rgba(60, 64, 67, 0.15);\n",
              "      fill: #174EA6;\n",
              "    }\n",
              "\n",
              "    [theme=dark] .colab-df-convert {\n",
              "      background-color: #3B4455;\n",
              "      fill: #D2E3FC;\n",
              "    }\n",
              "\n",
              "    [theme=dark] .colab-df-convert:hover {\n",
              "      background-color: #434B5C;\n",
              "      box-shadow: 0px 1px 3px 1px rgba(0, 0, 0, 0.15);\n",
              "      filter: drop-shadow(0px 1px 2px rgba(0, 0, 0, 0.3));\n",
              "      fill: #FFFFFF;\n",
              "    }\n",
              "  </style>\n",
              "\n",
              "      <script>\n",
              "        const buttonEl =\n",
              "          document.querySelector('#df-442300d8-3fd7-4c09-869c-596cf2bea4b9 button.colab-df-convert');\n",
              "        buttonEl.style.display =\n",
              "          google.colab.kernel.accessAllowed ? 'block' : 'none';\n",
              "\n",
              "        async function convertToInteractive(key) {\n",
              "          const element = document.querySelector('#df-442300d8-3fd7-4c09-869c-596cf2bea4b9');\n",
              "          const dataTable =\n",
              "            await google.colab.kernel.invokeFunction('convertToInteractive',\n",
              "                                                     [key], {});\n",
              "          if (!dataTable) return;\n",
              "\n",
              "          const docLinkHtml = 'Like what you see? Visit the ' +\n",
              "            '<a target=\"_blank\" href=https://colab.research.google.com/notebooks/data_table.ipynb>data table notebook</a>'\n",
              "            + ' to learn more about interactive tables.';\n",
              "          element.innerHTML = '';\n",
              "          dataTable['output_type'] = 'display_data';\n",
              "          await google.colab.output.renderOutput(dataTable, element);\n",
              "          const docLink = document.createElement('div');\n",
              "          docLink.innerHTML = docLinkHtml;\n",
              "          element.appendChild(docLink);\n",
              "        }\n",
              "      </script>\n",
              "    </div>\n",
              "  </div>\n",
              "  "
            ]
          },
          "metadata": {},
          "execution_count": 2
        }
      ]
    },
    {
      "cell_type": "code",
      "source": [
        "df.isna().sum()"
      ],
      "metadata": {
        "colab": {
          "base_uri": "https://localhost:8080/"
        },
        "id": "flJs3koKIVgS",
        "outputId": "6d18532a-9491-4c8d-f19b-24e6f9a54e3a"
      },
      "execution_count": 3,
      "outputs": [
        {
          "output_type": "execute_result",
          "data": {
            "text/plain": [
              "age                  0\n",
              "workclass         2799\n",
              "fnlwgt               0\n",
              "education            0\n",
              "education_num        0\n",
              "marital_status       0\n",
              "occupation        2809\n",
              "relationship         0\n",
              "race                 0\n",
              "sex                  0\n",
              "capital_gain         0\n",
              "capital_loss         0\n",
              "hours_per_week       0\n",
              "native_country     857\n",
              "class                0\n",
              "dtype: int64"
            ]
          },
          "metadata": {},
          "execution_count": 3
        }
      ]
    },
    {
      "cell_type": "code",
      "source": [
        "data, target = df.drop(columns=['education_num', 'class']), df['class'].map({' >50K':1, ' <=50K':0})"
      ],
      "metadata": {
        "id": "Lew3aPPXIkU2"
      },
      "execution_count": 4,
      "outputs": []
    },
    {
      "cell_type": "code",
      "source": [
        "target.isna().sum()"
      ],
      "metadata": {
        "colab": {
          "base_uri": "https://localhost:8080/"
        },
        "id": "AT1he0aolFie",
        "outputId": "a61109df-6648-419f-ea83-80fe59ec28a2"
      },
      "execution_count": 5,
      "outputs": [
        {
          "output_type": "execute_result",
          "data": {
            "text/plain": [
              "0"
            ]
          },
          "metadata": {},
          "execution_count": 5
        }
      ]
    },
    {
      "cell_type": "code",
      "source": [
        "X_full_train, X_test, y_full_train, y_test = model_selection.train_test_split(\n",
        "    data,\n",
        "    target,\n",
        "    test_size=.2,\n",
        "    random_state=42\n",
        ")\n",
        "\n",
        "X_full_train.shape, y_full_train.shape, X_test.shape, y_test.shape"
      ],
      "metadata": {
        "colab": {
          "base_uri": "https://localhost:8080/"
        },
        "id": "4WBsntQbJOrs",
        "outputId": "1f7d3a83-54f1-4397-8ce5-7a08b3db962b"
      },
      "execution_count": 6,
      "outputs": [
        {
          "output_type": "execute_result",
          "data": {
            "text/plain": [
              "((39073, 13), (39073,), (9769, 13), (9769,))"
            ]
          },
          "metadata": {},
          "execution_count": 6
        }
      ]
    },
    {
      "cell_type": "code",
      "source": [
        "categorical = selector(dtype_include=object)(data)\n",
        "cat_preprocessor = OrdinalEncoder(\n",
        "    handle_unknown='use_encoded_value', \n",
        "    unknown_value=-1\n",
        ")\n",
        "\n",
        "preprocessor = ColumnTransformer([\n",
        "    ('cat_preprocessor', cat_preprocessor, categorical)\n",
        "],\n",
        "remainder='passthrough', sparse_threshold=0\n",
        ")"
      ],
      "metadata": {
        "id": "hRcgiaJpJ1v7"
      },
      "execution_count": 7,
      "outputs": []
    },
    {
      "cell_type": "code",
      "source": [
        "model = Pipeline([\n",
        "    ('preprocessor', preprocessor),\n",
        "    ('classifier', HistGradientBoostingClassifier(random_state=42))\n",
        "])"
      ],
      "metadata": {
        "id": "XdJNGPBPLPh_"
      },
      "execution_count": 8,
      "outputs": []
    },
    {
      "cell_type": "code",
      "source": [
        "for param in model.get_params():\n",
        "  print(param)"
      ],
      "metadata": {
        "colab": {
          "base_uri": "https://localhost:8080/"
        },
        "id": "k9tl2tJWLsmW",
        "outputId": "71a742f6-a077-4bc8-97bc-b8a8fe06d9dc"
      },
      "execution_count": 9,
      "outputs": [
        {
          "output_type": "stream",
          "name": "stdout",
          "text": [
            "memory\n",
            "steps\n",
            "verbose\n",
            "preprocessor\n",
            "classifier\n",
            "preprocessor__n_jobs\n",
            "preprocessor__remainder\n",
            "preprocessor__sparse_threshold\n",
            "preprocessor__transformer_weights\n",
            "preprocessor__transformers\n",
            "preprocessor__verbose\n",
            "preprocessor__verbose_feature_names_out\n",
            "preprocessor__cat_preprocessor\n",
            "preprocessor__cat_preprocessor__categories\n",
            "preprocessor__cat_preprocessor__dtype\n",
            "preprocessor__cat_preprocessor__handle_unknown\n",
            "preprocessor__cat_preprocessor__unknown_value\n",
            "classifier__categorical_features\n",
            "classifier__early_stopping\n",
            "classifier__l2_regularization\n",
            "classifier__learning_rate\n",
            "classifier__loss\n",
            "classifier__max_bins\n",
            "classifier__max_depth\n",
            "classifier__max_iter\n",
            "classifier__max_leaf_nodes\n",
            "classifier__min_samples_leaf\n",
            "classifier__monotonic_cst\n",
            "classifier__n_iter_no_change\n",
            "classifier__random_state\n",
            "classifier__scoring\n",
            "classifier__tol\n",
            "classifier__validation_fraction\n",
            "classifier__verbose\n",
            "classifier__warm_start\n"
          ]
        }
      ]
    },
    {
      "cell_type": "markdown",
      "source": [
        "# Tuning hyperparameters manually"
      ],
      "metadata": {
        "id": "75migMLiMMV4"
      }
    },
    {
      "cell_type": "markdown",
      "source": [
        "Make a search of the best combinations of the `learning_rate` and `max_leaf_nodes`"
      ],
      "metadata": {
        "id": "Cs51M9rgMSXu"
      }
    },
    {
      "cell_type": "code",
      "source": [
        "best_params = {}\n",
        "score = 0\n",
        "\n",
        "for lr in [0.01, 0.1, 1, 10.]:\n",
        "  for leaf in [3, 10, 30]:\n",
        "    model.set_params(\n",
        "        classifier__learning_rate=lr, \n",
        "        classifier__max_leaf_nodes=leaf\n",
        "    )\n",
        "\n",
        "    cv_score = model_selection.cross_val_score(\n",
        "        model,\n",
        "        X_full_train,\n",
        "        y_full_train,\n",
        "        cv=10,\n",
        "        n_jobs=-1\n",
        "    )\n",
        "    if cv_score.mean() > score:\n",
        "      score = cv_score.mean()\n",
        "      best_params['lr'] = lr\n",
        "      best_params['max_leaf_nodes'] = leaf\n",
        "      best_params['score'] = score\n",
        "      best_params['std'] = score.std()\n",
        "    \n",
        "    print(f\"lr:{lr} - max-leaf-nodes:{leaf} - score:{cv_score.mean():.3f} \"\n",
        "          f\"std: {cv_score.std():.3f}\"\n",
        "    )\n",
        "print()\n",
        "print(f\"best lr: {best_params['lr']}, best max leaf nodes:{best_params['max_leaf_nodes']} \"\n",
        "      f\"best score: {best_params['score']:.3f} +/- {best_params['std']:.3f}\"\n",
        ")"
      ],
      "metadata": {
        "colab": {
          "base_uri": "https://localhost:8080/"
        },
        "id": "NannejP7L1h7",
        "outputId": "c11398a3-d650-44c9-ce2e-032bd2022522"
      },
      "execution_count": 10,
      "outputs": [
        {
          "output_type": "stream",
          "name": "stdout",
          "text": [
            "lr:0.01 - max-leaf-nodes:3 - score:0.800 std: 0.003\n",
            "lr:0.01 - max-leaf-nodes:10 - score:0.820 std: 0.004\n",
            "lr:0.01 - max-leaf-nodes:30 - score:0.849 std: 0.004\n",
            "lr:0.1 - max-leaf-nodes:3 - score:0.855 std: 0.004\n",
            "lr:0.1 - max-leaf-nodes:10 - score:0.871 std: 0.005\n",
            "lr:0.1 - max-leaf-nodes:30 - score:0.874 std: 0.004\n",
            "lr:1 - max-leaf-nodes:3 - score:0.866 std: 0.005\n",
            "lr:1 - max-leaf-nodes:10 - score:0.866 std: 0.006\n",
            "lr:1 - max-leaf-nodes:30 - score:0.860 std: 0.010\n",
            "lr:10.0 - max-leaf-nodes:3 - score:0.279 std: 0.008\n",
            "lr:10.0 - max-leaf-nodes:10 - score:0.743 std: 0.082\n",
            "lr:10.0 - max-leaf-nodes:30 - score:0.656 std: 0.161\n",
            "\n",
            "best lr: 0.1, best max leaf nodes:30 best score: 0.874 +/- 0.000\n"
          ]
        }
      ]
    },
    {
      "cell_type": "code",
      "source": [
        "model.set_params(\n",
        "    classifier__learning_rate=best_params['lr'], \n",
        "    classifier__max_leaf_nodes=best_params['max_leaf_nodes']\n",
        ")\n",
        "\n",
        "model.fit(X_full_train, y_full_train)"
      ],
      "metadata": {
        "colab": {
          "base_uri": "https://localhost:8080/"
        },
        "id": "X_H-B0LGQcoL",
        "outputId": "d0bd9a4c-2fa6-405b-f604-362381297a85"
      },
      "execution_count": 11,
      "outputs": [
        {
          "output_type": "execute_result",
          "data": {
            "text/plain": [
              "Pipeline(steps=[('preprocessor',\n",
              "                 ColumnTransformer(remainder='passthrough', sparse_threshold=0,\n",
              "                                   transformers=[('cat_preprocessor',\n",
              "                                                  OrdinalEncoder(handle_unknown='use_encoded_value',\n",
              "                                                                 unknown_value=-1),\n",
              "                                                  ['workclass', 'education',\n",
              "                                                   'marital_status',\n",
              "                                                   'occupation', 'relationship',\n",
              "                                                   'race', 'sex',\n",
              "                                                   'native_country'])])),\n",
              "                ('classifier',\n",
              "                 HistGradientBoostingClassifier(max_leaf_nodes=30,\n",
              "                                                random_state=42))])"
            ]
          },
          "metadata": {},
          "execution_count": 11
        }
      ]
    },
    {
      "cell_type": "code",
      "source": [
        "y_pred = model.predict(X_test)"
      ],
      "metadata": {
        "id": "qCTXKqVCSmnL"
      },
      "execution_count": 12,
      "outputs": []
    },
    {
      "cell_type": "code",
      "source": [
        "y_pred[:5]"
      ],
      "metadata": {
        "colab": {
          "base_uri": "https://localhost:8080/"
        },
        "id": "2HLbmx1LmkcK",
        "outputId": "f5b4e18b-fef8-4d08-c79c-f75d9ba6d869"
      },
      "execution_count": 13,
      "outputs": [
        {
          "output_type": "execute_result",
          "data": {
            "text/plain": [
              "array([0, 0, 0, 0, 0])"
            ]
          },
          "metadata": {},
          "execution_count": 13
        }
      ]
    },
    {
      "cell_type": "code",
      "source": [
        "score = model.score(X_test, y_test)\n",
        "score.round(3)"
      ],
      "metadata": {
        "colab": {
          "base_uri": "https://localhost:8080/"
        },
        "id": "H6ajeLKVSuWD",
        "outputId": "90848f51-3506-4646-c2e9-c8185f57cbde"
      },
      "execution_count": 14,
      "outputs": [
        {
          "output_type": "execute_result",
          "data": {
            "text/plain": [
              "0.874"
            ]
          },
          "metadata": {},
          "execution_count": 14
        }
      ]
    },
    {
      "cell_type": "code",
      "source": [
        "from sklearn import metrics\n",
        "\n",
        "recall_score = metrics.recall_score(y_test, y_pred)\n",
        "pecision_score = metrics.precision_score(y_test, y_pred)\n",
        "auc = metrics.roc_auc_score(y_test, y_pred)\n",
        "\n",
        "print(f'recall: {recall_score:.3f}')\n",
        "print(f'precision: {pecision_score:.3f}')\n",
        "print(f'auc: {auc:.3f}')"
      ],
      "metadata": {
        "colab": {
          "base_uri": "https://localhost:8080/"
        },
        "id": "3sd4eFlRS0RY",
        "outputId": "31192bad-858c-4531-bef5-258c4dcb2241"
      },
      "execution_count": 16,
      "outputs": [
        {
          "output_type": "stream",
          "name": "stdout",
          "text": [
            "recall: 0.642\n",
            "precision: 0.795\n",
            "auc: 0.795\n"
          ]
        }
      ]
    },
    {
      "cell_type": "code",
      "source": [],
      "metadata": {
        "id": "BRrQ115QTDC-"
      },
      "execution_count": 15,
      "outputs": []
    }
  ]
}