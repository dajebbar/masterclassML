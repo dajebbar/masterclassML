{
  "nbformat": 4,
  "nbformat_minor": 0,
  "metadata": {
    "colab": {
      "provenance": []
    },
    "kernelspec": {
      "name": "python3",
      "display_name": "Python 3"
    },
    "language_info": {
      "name": "python"
    }
  },
  "cells": [
    {
      "cell_type": "markdown",
      "source": [
        "# Using numerical and categorical variables together\n",
        "\n",
        "How to combine the preprocessing steps to treat numerical and categorical variables?.\n",
        "\n",
        "Load the entire adult census dataset."
      ],
      "metadata": {
        "id": "Y_Oyr2nPk4hA"
      }
    },
    {
      "cell_type": "code",
      "execution_count": 1,
      "metadata": {
        "id": "sQ-PKdJGkjCY"
      },
      "outputs": [],
      "source": [
        "import pandas as pd\n",
        "import numpy as np\n",
        "import matplotlib.pyplot as plt\n",
        "plt.style.use('ggplot')"
      ]
    },
    {
      "cell_type": "code",
      "source": [
        "df = pd.read_csv('adult_cencus.csv')"
      ],
      "metadata": {
        "id": "AY-wE7dUlmFi"
      },
      "execution_count": 2,
      "outputs": []
    },
    {
      "cell_type": "markdown",
      "source": [
        "#### **Dealing with missing values**"
      ],
      "metadata": {
        "id": "x_zLJzjJlyG9"
      }
    },
    {
      "cell_type": "code",
      "source": [
        "df.isna().sum()"
      ],
      "metadata": {
        "colab": {
          "base_uri": "https://localhost:8080/"
        },
        "id": "7CVDC7RdluHn",
        "outputId": "7c28b786-8f0e-4bb7-a8b0-eeebb0ff98d9"
      },
      "execution_count": 3,
      "outputs": [
        {
          "output_type": "execute_result",
          "data": {
            "text/plain": [
              "age                  0\n",
              "workclass         2799\n",
              "fnlwgt               0\n",
              "education            0\n",
              "education_num        0\n",
              "marital_status       0\n",
              "occupation        2809\n",
              "relationship         0\n",
              "race                 0\n",
              "sex                  0\n",
              "capital_gain         0\n",
              "capital_loss         0\n",
              "hours_per_week       0\n",
              "native_country     857\n",
              "class                0\n",
              "dtype: int64"
            ]
          },
          "metadata": {},
          "execution_count": 3
        }
      ]
    },
    {
      "cell_type": "code",
      "source": [
        "df[['workclass', 'occupation', 'native_country']].dtypes"
      ],
      "metadata": {
        "colab": {
          "base_uri": "https://localhost:8080/"
        },
        "id": "ID9TlFmsl4c8",
        "outputId": "85de24e2-c004-4049-8575-f6899598f589"
      },
      "execution_count": 5,
      "outputs": [
        {
          "output_type": "execute_result",
          "data": {
            "text/plain": [
              "workclass         object\n",
              "occupation        object\n",
              "native_country    object\n",
              "dtype: object"
            ]
          },
          "metadata": {},
          "execution_count": 5
        }
      ]
    },
    {
      "cell_type": "markdown",
      "source": [
        "All missing values are in categorical features, so i choose to fill them with **'unknown'**."
      ],
      "metadata": {
        "id": "vpycfWZZmOBA"
      }
    },
    {
      "cell_type": "code",
      "source": [
        "df[['workclass', 'occupation', 'native_country']].fillna('Unknown', inplace=True)"
      ],
      "metadata": {
        "colab": {
          "base_uri": "https://localhost:8080/"
        },
        "id": "4QHMyvSGmJcC",
        "outputId": "d7fd161b-52aa-449c-e9c7-6aacb582abda"
      },
      "execution_count": 6,
      "outputs": [
        {
          "output_type": "stream",
          "name": "stderr",
          "text": [
            "/usr/local/lib/python3.7/dist-packages/pandas/core/frame.py:5182: SettingWithCopyWarning: \n",
            "A value is trying to be set on a copy of a slice from a DataFrame\n",
            "\n",
            "See the caveats in the documentation: https://pandas.pydata.org/pandas-docs/stable/user_guide/indexing.html#returning-a-view-versus-a-copy\n",
            "  downcast=downcast,\n"
          ]
        }
      ]
    },
    {
      "cell_type": "markdown",
      "source": [
        "Before continuing the processing steps, since education and education_num features gives the same information, ill keep just one of them, so education will be removed from the dataset"
      ],
      "metadata": {
        "id": "dtb2BVOrmtmw"
      }
    },
    {
      "cell_type": "code",
      "source": [
        "data, target = df.drop(columns=['education', 'class']), df['class']"
      ],
      "metadata": {
        "id": "GCg9tLzPmoY6"
      },
      "execution_count": 7,
      "outputs": []
    },
    {
      "cell_type": "markdown",
      "source": [
        "### **Separate categorical and numerical features**"
      ],
      "metadata": {
        "id": "xBw2nCyVngCV"
      }
    },
    {
      "cell_type": "code",
      "source": [
        "from sklearn.compose import make_column_selector as selector\n",
        "\n",
        "numerical = selector(dtype_include=np.number)(data)\n",
        "categorical = selector(dtype_include=object)(data)"
      ],
      "metadata": {
        "id": "S2luwkOwnd7A"
      },
      "execution_count": 8,
      "outputs": []
    },
    {
      "cell_type": "markdown",
      "source": [
        "Now the dataset is ready to be preprocessed"
      ],
      "metadata": {
        "id": "Z1S6SENAoQlR"
      }
    },
    {
      "cell_type": "code",
      "source": [],
      "metadata": {
        "id": "-uGV2IjcoP3u"
      },
      "execution_count": null,
      "outputs": []
    }
  ]
}