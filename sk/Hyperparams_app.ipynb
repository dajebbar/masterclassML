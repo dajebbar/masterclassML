{
  "nbformat": 4,
  "nbformat_minor": 0,
  "metadata": {
    "colab": {
      "provenance": []
    },
    "kernelspec": {
      "name": "python3",
      "display_name": "Python 3"
    },
    "language_info": {
      "name": "python"
    }
  },
  "cells": [
    {
      "cell_type": "markdown",
      "source": [
        "Find the best set of hyperparameters which maximize the generalization performance on a training set."
      ],
      "metadata": {
        "id": "oQuROLkN-KM9"
      }
    },
    {
      "cell_type": "code",
      "execution_count": 1,
      "metadata": {
        "id": "BrFAxW34962W"
      },
      "outputs": [],
      "source": [
        "import numpy as np\n",
        "import pandas as pd\n",
        "from sklearn import model_selection\n",
        "from sklearn.compose import(\n",
        "    make_column_selector as selector,\n",
        "    ColumnTransformer,\n",
        ")\n",
        "\n",
        "from sklearn.preprocessing import (\n",
        "    OneHotEncoder,\n",
        "    StandardScaler,\n",
        ")\n",
        "from sklearn.linear_model import LogisticRegression\n",
        "from sklearn.pipeline import make_pipeline\n",
        "import plotly.express as px"
      ]
    },
    {
      "cell_type": "code",
      "source": [
        "df = pd.read_csv('adult_cencus.csv')"
      ],
      "metadata": {
        "id": "KyCigC2Y-sxH"
      },
      "execution_count": 2,
      "outputs": []
    },
    {
      "cell_type": "code",
      "source": [
        "data, target = df.drop(\n",
        "    columns=['education_num', 'class']),df['class'].map({' >50K':1, ' <=50K':0})"
      ],
      "metadata": {
        "id": "i0BzHj0z_BdZ"
      },
      "execution_count": 3,
      "outputs": []
    },
    {
      "cell_type": "code",
      "source": [
        "X_full_train, X_test, y_full_train, y_test = model_selection.train_test_split(\n",
        "    data,\n",
        "    target,\n",
        "    test_size=.2,\n",
        "    random_state=42\n",
        ")\n",
        "\n",
        "X_full_train.shape, y_full_train.shape, X_test.shape, y_test.shape"
      ],
      "metadata": {
        "colab": {
          "base_uri": "https://localhost:8080/"
        },
        "id": "rAcNFDSU_7qQ",
        "outputId": "b8f25834-0364-418d-eb01-88b1304c29bd"
      },
      "execution_count": 4,
      "outputs": [
        {
          "output_type": "execute_result",
          "data": {
            "text/plain": [
              "((39073, 13), (39073,), (9769, 13), (9769,))"
            ]
          },
          "metadata": {},
          "execution_count": 4
        }
      ]
    },
    {
      "cell_type": "code",
      "source": [
        "categorical = selector(dtype_include=object)(data)\n",
        "numerical = selector(dtype_include=np.number)(data)\n",
        "\n",
        "cat_preprocessor = OneHotEncoder(\n",
        "    handle_unknown='ignore', \n",
        ")\n",
        "\n",
        "preprocessor = ColumnTransformer([\n",
        "    ('num_preprocessor', StandardScaler(), numerical),\n",
        "    ('cat_preprocessor', cat_preprocessor, categorical)\n",
        "],\n",
        "remainder='passthrough', sparse_threshold=0\n",
        ")"
      ],
      "metadata": {
        "id": "lh8fZzj7_Wqx"
      },
      "execution_count": 5,
      "outputs": []
    },
    {
      "cell_type": "code",
      "source": [
        "model = make_pipeline(preprocessor, LogisticRegression(max_iter=1000))"
      ],
      "metadata": {
        "id": "82GDcge7_3T6"
      },
      "execution_count": 6,
      "outputs": []
    },
    {
      "cell_type": "code",
      "source": [
        "from scipy.stats import loguniform\n",
        "\n",
        "class loguniform_int:\n",
        "    \"\"\"Integer valued version of the log-uniform distribution\"\"\"\n",
        "    def __init__(self, a, b):\n",
        "        self._distribution = loguniform(a, b)\n",
        "\n",
        "    def rvs(self, *args, **kwargs):\n",
        "        \"\"\"Random variable sample\"\"\"\n",
        "        return self._distribution.rvs(*args, **kwargs).astype(int)"
      ],
      "metadata": {
        "id": "ME6cKX20AZYR"
      },
      "execution_count": 7,
      "outputs": []
    },
    {
      "cell_type": "code",
      "source": [
        "# for param in model.get_params():\n",
        "#   print(param)"
      ],
      "metadata": {
        "id": "mkvyOPQhA1Wk"
      },
      "execution_count": 8,
      "outputs": []
    },
    {
      "cell_type": "code",
      "source": [
        "%%time\n",
        "\n",
        "param_distributions = {\n",
        "    'columntransformer__num_preprocessor__with_mean': [True, False],\n",
        "    'columntransformer__num_preprocessor__with_std': [True, False],\n",
        "    'logisticregression__C': loguniform(0.001, 10),\n",
        "}\n",
        "\n",
        "model_random_search = model_selection.RandomizedSearchCV(\n",
        "    model, \n",
        "    param_distributions=param_distributions,\n",
        "    n_iter=20,\n",
        "    cv=5,\n",
        "    verbose=1,\n",
        "    error_score='raise'\n",
        ").fit(X_full_train, y_full_train)"
      ],
      "metadata": {
        "colab": {
          "base_uri": "https://localhost:8080/"
        },
        "id": "w5l2pF9PA8_j",
        "outputId": "9a74e8bc-b022-4931-e342-4727b22d06b3"
      },
      "execution_count": 9,
      "outputs": [
        {
          "output_type": "stream",
          "name": "stdout",
          "text": [
            "Fitting 5 folds for each of 20 candidates, totalling 100 fits\n",
            "CPU times: user 4min 34s, sys: 1min 15s, total: 5min 50s\n",
            "Wall time: 3min 6s\n"
          ]
        }
      ]
    },
    {
      "cell_type": "code",
      "source": [
        "accuracy = model_random_search.score(X_test, y_test)\n",
        "\n",
        "print(f\"The test accuracy score of the best model is \"\n",
        "      f\"{accuracy:.2f}\"\n",
        ")"
      ],
      "metadata": {
        "colab": {
          "base_uri": "https://localhost:8080/"
        },
        "id": "f-rSEsveCLNb",
        "outputId": "a9e06c2f-614a-410f-df00-06f4b3ee1e79"
      },
      "execution_count": 10,
      "outputs": [
        {
          "output_type": "stream",
          "name": "stdout",
          "text": [
            "The test accuracy score of the best model is 0.85\n"
          ]
        }
      ]
    },
    {
      "cell_type": "code",
      "source": [
        "from pprint import pprint\n",
        "\n",
        "print(\"The best parameters are:\")\n",
        "pprint(model_random_search.best_params_)"
      ],
      "metadata": {
        "colab": {
          "base_uri": "https://localhost:8080/"
        },
        "id": "II970KN_E6i9",
        "outputId": "7db5b7c3-45f3-4154-cf73-d8e319732e59"
      },
      "execution_count": 11,
      "outputs": [
        {
          "output_type": "stream",
          "name": "stdout",
          "text": [
            "The best parameters are:\n",
            "{'columntransformer__num_preprocessor__with_mean': True,\n",
            " 'columntransformer__num_preprocessor__with_std': True,\n",
            " 'logisticregression__C': 5.089436203781769}\n"
          ]
        }
      ]
    }
  ]
}