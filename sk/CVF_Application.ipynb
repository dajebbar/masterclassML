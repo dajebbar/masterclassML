{
  "nbformat": 4,
  "nbformat_minor": 0,
  "metadata": {
    "colab": {
      "provenance": []
    },
    "kernelspec": {
      "name": "python3",
      "display_name": "Python 3"
    },
    "language_info": {
      "name": "python"
    }
  },
  "cells": [
    {
      "cell_type": "markdown",
      "source": [
        "The aim is to make the following experiments:\n",
        "\n",
        "* train and test a support vector machine classifier through cross-validation;\n",
        "* study the effect of the parameter gamma of this classifier using a\n",
        "  validation curve;\n",
        "* use a learning curve to determine the usefulness of adding new samples in the dataset when building a classifier.\n"
      ],
      "metadata": {
        "id": "GYKqwRni4D_1"
      }
    },
    {
      "cell_type": "code",
      "execution_count": 1,
      "metadata": {
        "id": "qwiC9F-c34ly"
      },
      "outputs": [],
      "source": [
        "import pandas as pd\n",
        "import numpy as np\n",
        "import matplotlib.pyplot as plt\n",
        "import seaborn as sns\n",
        "import missingno as msno\n",
        "plt.style.use('ggplot')"
      ]
    },
    {
      "cell_type": "code",
      "source": [
        "df = pd.read_csv('transfusion.csv')\n",
        "df.sample(5)"
      ],
      "metadata": {
        "colab": {
          "base_uri": "https://localhost:8080/",
          "height": 206
        },
        "id": "M1Pjmjsl4c7p",
        "outputId": "741bb275-3068-40a9-d60b-1d0913c617bc"
      },
      "execution_count": 2,
      "outputs": [
        {
          "output_type": "execute_result",
          "data": {
            "text/plain": [
              "     Recency  Frequency  Monetary  Time  target\n",
              "505        2         41     10250    98       1\n",
              "260        4          4      1000    41       0\n",
              "296       14          5      1250    28       0\n",
              "396       21          2       500    21       1\n",
              "84         2          6      1500    28       1"
            ],
            "text/html": [
              "\n",
              "  <div id=\"df-17e964ae-8f1f-4253-becf-549b9add9e8f\">\n",
              "    <div class=\"colab-df-container\">\n",
              "      <div>\n",
              "<style scoped>\n",
              "    .dataframe tbody tr th:only-of-type {\n",
              "        vertical-align: middle;\n",
              "    }\n",
              "\n",
              "    .dataframe tbody tr th {\n",
              "        vertical-align: top;\n",
              "    }\n",
              "\n",
              "    .dataframe thead th {\n",
              "        text-align: right;\n",
              "    }\n",
              "</style>\n",
              "<table border=\"1\" class=\"dataframe\">\n",
              "  <thead>\n",
              "    <tr style=\"text-align: right;\">\n",
              "      <th></th>\n",
              "      <th>Recency</th>\n",
              "      <th>Frequency</th>\n",
              "      <th>Monetary</th>\n",
              "      <th>Time</th>\n",
              "      <th>target</th>\n",
              "    </tr>\n",
              "  </thead>\n",
              "  <tbody>\n",
              "    <tr>\n",
              "      <th>505</th>\n",
              "      <td>2</td>\n",
              "      <td>41</td>\n",
              "      <td>10250</td>\n",
              "      <td>98</td>\n",
              "      <td>1</td>\n",
              "    </tr>\n",
              "    <tr>\n",
              "      <th>260</th>\n",
              "      <td>4</td>\n",
              "      <td>4</td>\n",
              "      <td>1000</td>\n",
              "      <td>41</td>\n",
              "      <td>0</td>\n",
              "    </tr>\n",
              "    <tr>\n",
              "      <th>296</th>\n",
              "      <td>14</td>\n",
              "      <td>5</td>\n",
              "      <td>1250</td>\n",
              "      <td>28</td>\n",
              "      <td>0</td>\n",
              "    </tr>\n",
              "    <tr>\n",
              "      <th>396</th>\n",
              "      <td>21</td>\n",
              "      <td>2</td>\n",
              "      <td>500</td>\n",
              "      <td>21</td>\n",
              "      <td>1</td>\n",
              "    </tr>\n",
              "    <tr>\n",
              "      <th>84</th>\n",
              "      <td>2</td>\n",
              "      <td>6</td>\n",
              "      <td>1500</td>\n",
              "      <td>28</td>\n",
              "      <td>1</td>\n",
              "    </tr>\n",
              "  </tbody>\n",
              "</table>\n",
              "</div>\n",
              "      <button class=\"colab-df-convert\" onclick=\"convertToInteractive('df-17e964ae-8f1f-4253-becf-549b9add9e8f')\"\n",
              "              title=\"Convert this dataframe to an interactive table.\"\n",
              "              style=\"display:none;\">\n",
              "        \n",
              "  <svg xmlns=\"http://www.w3.org/2000/svg\" height=\"24px\"viewBox=\"0 0 24 24\"\n",
              "       width=\"24px\">\n",
              "    <path d=\"M0 0h24v24H0V0z\" fill=\"none\"/>\n",
              "    <path d=\"M18.56 5.44l.94 2.06.94-2.06 2.06-.94-2.06-.94-.94-2.06-.94 2.06-2.06.94zm-11 1L8.5 8.5l.94-2.06 2.06-.94-2.06-.94L8.5 2.5l-.94 2.06-2.06.94zm10 10l.94 2.06.94-2.06 2.06-.94-2.06-.94-.94-2.06-.94 2.06-2.06.94z\"/><path d=\"M17.41 7.96l-1.37-1.37c-.4-.4-.92-.59-1.43-.59-.52 0-1.04.2-1.43.59L10.3 9.45l-7.72 7.72c-.78.78-.78 2.05 0 2.83L4 21.41c.39.39.9.59 1.41.59.51 0 1.02-.2 1.41-.59l7.78-7.78 2.81-2.81c.8-.78.8-2.07 0-2.86zM5.41 20L4 18.59l7.72-7.72 1.47 1.35L5.41 20z\"/>\n",
              "  </svg>\n",
              "      </button>\n",
              "      \n",
              "  <style>\n",
              "    .colab-df-container {\n",
              "      display:flex;\n",
              "      flex-wrap:wrap;\n",
              "      gap: 12px;\n",
              "    }\n",
              "\n",
              "    .colab-df-convert {\n",
              "      background-color: #E8F0FE;\n",
              "      border: none;\n",
              "      border-radius: 50%;\n",
              "      cursor: pointer;\n",
              "      display: none;\n",
              "      fill: #1967D2;\n",
              "      height: 32px;\n",
              "      padding: 0 0 0 0;\n",
              "      width: 32px;\n",
              "    }\n",
              "\n",
              "    .colab-df-convert:hover {\n",
              "      background-color: #E2EBFA;\n",
              "      box-shadow: 0px 1px 2px rgba(60, 64, 67, 0.3), 0px 1px 3px 1px rgba(60, 64, 67, 0.15);\n",
              "      fill: #174EA6;\n",
              "    }\n",
              "\n",
              "    [theme=dark] .colab-df-convert {\n",
              "      background-color: #3B4455;\n",
              "      fill: #D2E3FC;\n",
              "    }\n",
              "\n",
              "    [theme=dark] .colab-df-convert:hover {\n",
              "      background-color: #434B5C;\n",
              "      box-shadow: 0px 1px 3px 1px rgba(0, 0, 0, 0.15);\n",
              "      filter: drop-shadow(0px 1px 2px rgba(0, 0, 0, 0.3));\n",
              "      fill: #FFFFFF;\n",
              "    }\n",
              "  </style>\n",
              "\n",
              "      <script>\n",
              "        const buttonEl =\n",
              "          document.querySelector('#df-17e964ae-8f1f-4253-becf-549b9add9e8f button.colab-df-convert');\n",
              "        buttonEl.style.display =\n",
              "          google.colab.kernel.accessAllowed ? 'block' : 'none';\n",
              "\n",
              "        async function convertToInteractive(key) {\n",
              "          const element = document.querySelector('#df-17e964ae-8f1f-4253-becf-549b9add9e8f');\n",
              "          const dataTable =\n",
              "            await google.colab.kernel.invokeFunction('convertToInteractive',\n",
              "                                                     [key], {});\n",
              "          if (!dataTable) return;\n",
              "\n",
              "          const docLinkHtml = 'Like what you see? Visit the ' +\n",
              "            '<a target=\"_blank\" href=https://colab.research.google.com/notebooks/data_table.ipynb>data table notebook</a>'\n",
              "            + ' to learn more about interactive tables.';\n",
              "          element.innerHTML = '';\n",
              "          dataTable['output_type'] = 'display_data';\n",
              "          await google.colab.output.renderOutput(dataTable, element);\n",
              "          const docLink = document.createElement('div');\n",
              "          docLink.innerHTML = docLinkHtml;\n",
              "          element.appendChild(docLink);\n",
              "        }\n",
              "      </script>\n",
              "    </div>\n",
              "  </div>\n",
              "  "
            ]
          },
          "metadata": {},
          "execution_count": 2
        }
      ]
    },
    {
      "cell_type": "code",
      "source": [
        "df.shape"
      ],
      "metadata": {
        "colab": {
          "base_uri": "https://localhost:8080/"
        },
        "id": "MREgHK3M4pD8",
        "outputId": "3a992c8f-96a8-4414-8e34-196b424bf1f0"
      },
      "execution_count": 3,
      "outputs": [
        {
          "output_type": "execute_result",
          "data": {
            "text/plain": [
              "(748, 5)"
            ]
          },
          "metadata": {},
          "execution_count": 3
        }
      ]
    },
    {
      "cell_type": "code",
      "source": [
        "msno.matrix(df, figsize=(10, 3))"
      ],
      "metadata": {
        "colab": {
          "base_uri": "https://localhost:8080/",
          "height": 299
        },
        "id": "b2sX78CY4rmv",
        "outputId": "fae73e18-8628-4a26-85ed-bf05c6a95bae"
      },
      "execution_count": 4,
      "outputs": [
        {
          "output_type": "execute_result",
          "data": {
            "text/plain": [
              "<matplotlib.axes._subplots.AxesSubplot at 0x7f0051667a50>"
            ]
          },
          "metadata": {},
          "execution_count": 4
        },
        {
          "output_type": "display_data",
          "data": {
            "text/plain": [
              "<Figure size 720x216 with 2 Axes>"
            ],
            "image/png": "[encoded data removed]"
          },
          "metadata": {}
        }
      ]
    },
    {
      "cell_type": "code",
      "source": [
        "data, target = df.drop(columns=['target']), df['target']"
      ],
      "metadata": {
        "id": "ELfZ9M0e4_SL"
      },
      "execution_count": 5,
      "outputs": []
    },
    {
      "cell_type": "code",
      "source": [
        "target.value_counts()"
      ],
      "metadata": {
        "colab": {
          "base_uri": "https://localhost:8080/"
        },
        "id": "QkvBvVDz67_q",
        "outputId": "507682a8-da23-4d7f-85f2-eec136b8a2e8"
      },
      "execution_count": 6,
      "outputs": [
        {
          "output_type": "execute_result",
          "data": {
            "text/plain": [
              "0    570\n",
              "1    178\n",
              "Name: target, dtype: int64"
            ]
          },
          "metadata": {},
          "execution_count": 6
        }
      ]
    },
    {
      "cell_type": "markdown",
      "source": [
        "We will use a support vector machine classifier (SVM). In its most simple\n",
        "form, a SVM classifier is a linear classifier behaving similarly to a logistic regression. Indeed, the optimization used to find the optimal weights of the linear model are different. Also, this classifier can become more flexible/expressive by using a so-called kernel that makes the model become non-linear.\n",
        "\n",
        "We will use an RBF kernel where a parameter `gamma` allows to tune the\n",
        "flexibility of the model.\n",
        "\n",
        "First let's create a predictive pipeline made of:\n",
        "\n",
        "* a [`sklearn.preprocessing.StandardScaler`](https://scikit-learn.org/stable/modules/generated/sklearn.preprocessing.StandardScaler.html)\n",
        "  with default parameter;\n",
        "* a [`sklearn.svm.SVC`](https://scikit-learn.org/stable/modules/generated/sklearn.svm.SVC.html)\n",
        "  where the parameter `kernel` could be set to `\"rbf\"`. Note that this is the default."
      ],
      "metadata": {
        "id": "7nF9HpjS5mb6"
      }
    },
    {
      "cell_type": "code",
      "source": [
        "from sklearn.pipeline import make_pipeline\n",
        "from sklearn.preprocessing import StandardScaler\n",
        "from sklearn.svm import SVC\n",
        "\n",
        "model = make_pipeline(StandardScaler(), SVC(kernel='rbf'))"
      ],
      "metadata": {
        "id": "EjLwWI8U5QPW"
      },
      "execution_count": 7,
      "outputs": []
    },
    {
      "cell_type": "markdown",
      "source": [
        "Evaluate the generalization performance of your model by cross-validation with\n",
        "a `ShuffleSplit` scheme. Thus, you can use\n",
        "[`sklearn.model_selection.cross_validate`](https://scikit-learn.org/stable/modules/generated/sklearn.model_selection.cross_validate.html)\n",
        "and pass a\n",
        "[`sklearn.model_selection.ShuffleSplit`](https://scikit-learn.org/stable/modules/generated/sklearn.model_selection.ShuffleSplit.html)\n",
        "to the `cv` parameter. Only fix the `random_state=0` in the `ShuffleSplit` and\n",
        "let the other parameters to the default.\n"
      ],
      "metadata": {
        "id": "LptfvBL27LAc"
      }
    },
    {
      "cell_type": "code",
      "source": [
        "from sklearn.model_selection import ShuffleSplit, cross_validate\n",
        "\n",
        "cv = ShuffleSplit(n_splits=30, test_size=.33, random_state=0)\n",
        "cv_results = cross_validate(\n",
        "    model,\n",
        "    data,\n",
        "    target,\n",
        "    cv=cv,\n",
        "    scoring='accuracy',\n",
        "    return_train_score=True,\n",
        "    n_jobs=-1\n",
        ")"
      ],
      "metadata": {
        "id": "ebas4rC46UVZ"
      },
      "execution_count": 8,
      "outputs": []
    },
    {
      "cell_type": "code",
      "source": [
        "cv_results = pd.DataFrame(cv_results)\n",
        "cv_results.head()"
      ],
      "metadata": {
        "colab": {
          "base_uri": "https://localhost:8080/",
          "height": 206
        },
        "id": "WZf_-qM08fCq",
        "outputId": "03c1dfc0-3a16-4fbc-c9d4-a42162e99ee4"
      },
      "execution_count": 9,
      "outputs": [
        {
          "output_type": "execute_result",
          "data": {
            "text/plain": [
              "   fit_time  score_time  test_score  train_score\n",
              "0  0.022598    0.011626    0.732794     0.790419\n",
              "1  0.021998    0.009116    0.757085     0.782435\n",
              "2  0.018048    0.009975    0.785425     0.788423\n",
              "3  0.019846    0.009160    0.765182     0.800399\n",
              "4  0.028325    0.008884    0.753036     0.808383"
            ],
            "text/html": [
              "\n",
              "  <div id=\"df-4d93f177-fae9-4658-99af-ca8e10c290ed\">\n",
              "    <div class=\"colab-df-container\">\n",
              "      <div>\n",
              "<style scoped>\n",
              "    .dataframe tbody tr th:only-of-type {\n",
              "        vertical-align: middle;\n",
              "    }\n",
              "\n",
              "    .dataframe tbody tr th {\n",
              "        vertical-align: top;\n",
              "    }\n",
              "\n",
              "    .dataframe thead th {\n",
              "        text-align: right;\n",
              "    }\n",
              "</style>\n",
              "<table border=\"1\" class=\"dataframe\">\n",
              "  <thead>\n",
              "    <tr style=\"text-align: right;\">\n",
              "      <th></th>\n",
              "      <th>fit_time</th>\n",
              "      <th>score_time</th>\n",
              "      <th>test_score</th>\n",
              "      <th>train_score</th>\n",
              "    </tr>\n",
              "  </thead>\n",
              "  <tbody>\n",
              "    <tr>\n",
              "      <th>0</th>\n",
              "      <td>0.022598</td>\n",
              "      <td>0.011626</td>\n",
              "      <td>0.732794</td>\n",
              "      <td>0.790419</td>\n",
              "    </tr>\n",
              "    <tr>\n",
              "      <th>1</th>\n",
              "      <td>0.021998</td>\n",
              "      <td>0.009116</td>\n",
              "      <td>0.757085</td>\n",
              "      <td>0.782435</td>\n",
              "    </tr>\n",
              "    <tr>\n",
              "      <th>2</th>\n",
              "      <td>0.018048</td>\n",
              "      <td>0.009975</td>\n",
              "      <td>0.785425</td>\n",
              "      <td>0.788423</td>\n",
              "    </tr>\n",
              "    <tr>\n",
              "      <th>3</th>\n",
              "      <td>0.019846</td>\n",
              "      <td>0.009160</td>\n",
              "      <td>0.765182</td>\n",
              "      <td>0.800399</td>\n",
              "    </tr>\n",
              "    <tr>\n",
              "      <th>4</th>\n",
              "      <td>0.028325</td>\n",
              "      <td>0.008884</td>\n",
              "      <td>0.753036</td>\n",
              "      <td>0.808383</td>\n",
              "    </tr>\n",
              "  </tbody>\n",
              "</table>\n",
              "</div>\n",
              "      <button class=\"colab-df-convert\" onclick=\"convertToInteractive('df-4d93f177-fae9-4658-99af-ca8e10c290ed')\"\n",
              "              title=\"Convert this dataframe to an interactive table.\"\n",
              "              style=\"display:none;\">\n",
              "        \n",
              "  <svg xmlns=\"http://www.w3.org/2000/svg\" height=\"24px\"viewBox=\"0 0 24 24\"\n",
              "       width=\"24px\">\n",
              "    <path d=\"M0 0h24v24H0V0z\" fill=\"none\"/>\n",
              "    <path d=\"M18.56 5.44l.94 2.06.94-2.06 2.06-.94-2.06-.94-.94-2.06-.94 2.06-2.06.94zm-11 1L8.5 8.5l.94-2.06 2.06-.94-2.06-.94L8.5 2.5l-.94 2.06-2.06.94zm10 10l.94 2.06.94-2.06 2.06-.94-2.06-.94-.94-2.06-.94 2.06-2.06.94z\"/><path d=\"M17.41 7.96l-1.37-1.37c-.4-.4-.92-.59-1.43-.59-.52 0-1.04.2-1.43.59L10.3 9.45l-7.72 7.72c-.78.78-.78 2.05 0 2.83L4 21.41c.39.39.9.59 1.41.59.51 0 1.02-.2 1.41-.59l7.78-7.78 2.81-2.81c.8-.78.8-2.07 0-2.86zM5.41 20L4 18.59l7.72-7.72 1.47 1.35L5.41 20z\"/>\n",
              "  </svg>\n",
              "      </button>\n",
              "      \n",
              "  <style>\n",
              "    .colab-df-container {\n",
              "      display:flex;\n",
              "      flex-wrap:wrap;\n",
              "      gap: 12px;\n",
              "    }\n",
              "\n",
              "    .colab-df-convert {\n",
              "      background-color: #E8F0FE;\n",
              "      border: none;\n",
              "      border-radius: 50%;\n",
              "      cursor: pointer;\n",
              "      display: none;\n",
              "      fill: #1967D2;\n",
              "      height: 32px;\n",
              "      padding: 0 0 0 0;\n",
              "      width: 32px;\n",
              "    }\n",
              "\n",
              "    .colab-df-convert:hover {\n",
              "      background-color: #E2EBFA;\n",
              "      box-shadow: 0px 1px 2px rgba(60, 64, 67, 0.3), 0px 1px 3px 1px rgba(60, 64, 67, 0.15);\n",
              "      fill: #174EA6;\n",
              "    }\n",
              "\n",
              "    [theme=dark] .colab-df-convert {\n",
              "      background-color: #3B4455;\n",
              "      fill: #D2E3FC;\n",
              "    }\n",
              "\n",
              "    [theme=dark] .colab-df-convert:hover {\n",
              "      background-color: #434B5C;\n",
              "      box-shadow: 0px 1px 3px 1px rgba(0, 0, 0, 0.15);\n",
              "      filter: drop-shadow(0px 1px 2px rgba(0, 0, 0, 0.3));\n",
              "      fill: #FFFFFF;\n",
              "    }\n",
              "  </style>\n",
              "\n",
              "      <script>\n",
              "        const buttonEl =\n",
              "          document.querySelector('#df-4d93f177-fae9-4658-99af-ca8e10c290ed button.colab-df-convert');\n",
              "        buttonEl.style.display =\n",
              "          google.colab.kernel.accessAllowed ? 'block' : 'none';\n",
              "\n",
              "        async function convertToInteractive(key) {\n",
              "          const element = document.querySelector('#df-4d93f177-fae9-4658-99af-ca8e10c290ed');\n",
              "          const dataTable =\n",
              "            await google.colab.kernel.invokeFunction('convertToInteractive',\n",
              "                                                     [key], {});\n",
              "          if (!dataTable) return;\n",
              "\n",
              "          const docLinkHtml = 'Like what you see? Visit the ' +\n",
              "            '<a target=\"_blank\" href=https://colab.research.google.com/notebooks/data_table.ipynb>data table notebook</a>'\n",
              "            + ' to learn more about interactive tables.';\n",
              "          element.innerHTML = '';\n",
              "          dataTable['output_type'] = 'display_data';\n",
              "          await google.colab.output.renderOutput(dataTable, element);\n",
              "          const docLink = document.createElement('div');\n",
              "          docLink.innerHTML = docLinkHtml;\n",
              "          element.appendChild(docLink);\n",
              "        }\n",
              "      </script>\n",
              "    </div>\n",
              "  </div>\n",
              "  "
            ]
          },
          "metadata": {},
          "execution_count": 9
        }
      ]
    },
    {
      "cell_type": "markdown",
      "source": [
        "As previously mentioned, the parameter `gamma` is one of the parameters\n",
        "controlling under/over-fitting in support vector machine with an RBF kernel.\n",
        "\n",
        "Evaluate the effect of the parameter `gamma` by using the\n",
        "[`sklearn.model_selection.validation_curve`](https://scikit-learn.org/stable/modules/generated/sklearn.model_selection.validation_curve.html)\n",
        "function. You can leave the default `scoring=None` which is equivalent to\n",
        "`scoring=\"accuracy\"` for classification problems. You can vary `gamma` between\n",
        "`10e-3` and `10e2` by generating samples on a logarithmic scale with the help\n",
        "of `np.logspace(-3, 2, num=30)`.\n",
        "\n",
        "Since we are manipulating a `Pipeline` the parameter name will be set to\n",
        "`svc__gamma` instead of only `gamma`. You can retrieve the parameter name\n",
        "using `model.get_params().keys()`. We will go more into detail regarding\n",
        "accessing and setting hyperparameter in the next section."
      ],
      "metadata": {
        "id": "K_Izj4zE9lLY"
      }
    },
    {
      "cell_type": "code",
      "source": [
        "model.get_params().keys()"
      ],
      "metadata": {
        "colab": {
          "base_uri": "https://localhost:8080/"
        },
        "id": "CwqthSvy86Pd",
        "outputId": "c3cf1132-c886-49b0-9af7-3ec0b43a83c4"
      },
      "execution_count": 10,
      "outputs": [
        {
          "output_type": "execute_result",
          "data": {
            "text/plain": [
              "dict_keys(['memory', 'steps', 'verbose', 'standardscaler', 'svc', 'standardscaler__copy', 'standardscaler__with_mean', 'standardscaler__with_std', 'svc__C', 'svc__break_ties', 'svc__cache_size', 'svc__class_weight', 'svc__coef0', 'svc__decision_function_shape', 'svc__degree', 'svc__gamma', 'svc__kernel', 'svc__max_iter', 'svc__probability', 'svc__random_state', 'svc__shrinking', 'svc__tol', 'svc__verbose'])"
            ]
          },
          "metadata": {},
          "execution_count": 10
        }
      ]
    },
    {
      "cell_type": "code",
      "source": [
        "from sklearn.model_selection import validation_curve\n",
        "\n",
        "gamma_range= np.logspace(-3, 2, num=30)\n",
        "\n",
        "train_error, test_error = validation_curve(\n",
        "    model,\n",
        "    data,\n",
        "    target,\n",
        "    cv=cv,\n",
        "    scoring='accuracy',\n",
        "    param_name='svc__gamma',\n",
        "    param_range= gamma_range,\n",
        "    n_jobs=-1\n",
        ")"
      ],
      "metadata": {
        "id": "cwtQxUkv9rBp"
      },
      "execution_count": 11,
      "outputs": []
    },
    {
      "cell_type": "markdown",
      "source": [
        "Plot the validation curve for the train and test scores."
      ],
      "metadata": {
        "id": "6eduLJHL_zDG"
      }
    },
    {
      "cell_type": "code",
      "source": [
        "plt.figure(figsize=(8, 5), dpi=105)\n",
        "\n",
        "plt.subplot(1,2,1)\n",
        "plt.plot(gamma_range, train_error.mean(axis=1), label='train err')\n",
        "plt.plot(gamma_range, test_error.mean(axis=1), label='test err')\n",
        "plt.xlabel('SVC gamma')\n",
        "plt.ylabel('Errors')\n",
        "plt.legend()\n",
        "\n",
        "plt.subplot(1,2,2)\n",
        "plt.errorbar(\n",
        "    gamma_range,\n",
        "    train_error.mean(axis=1),\n",
        "    yerr=train_error.std(axis=1),\n",
        "    label='train err' \n",
        ")\n",
        "plt.errorbar(\n",
        "    gamma_range,\n",
        "    test_error.mean(axis=1),\n",
        "    yerr=test_error.std(axis=1),\n",
        "    label='train err' \n",
        ")\n",
        "plt.xscale('log')\n",
        "plt.xlabel('SVC gamma')\n",
        "plt.ylabel('Accuracy')\n",
        "plt.legend()\n",
        "\n",
        "plt.suptitle('SVC gamma Vs Accuracy')\n",
        "plt.show();"
      ],
      "metadata": {
        "colab": {
          "base_uri": "https://localhost:8080/",
          "height": 539
        },
        "id": "ai12pWAk-rzQ",
        "outputId": "48fbb887-6111-49a0-ca57-dd6bae88fe1e"
      },
      "execution_count": 15,
      "outputs": [
        {
          "output_type": "display_data",
          "data": {
            "text/plain": [
              "<Figure size 840x525 with 2 Axes>"
            ],
            "image/png": "[encoded data removed]"
          },
          "metadata": {}
        }
      ]
    },
    {
      "cell_type": "markdown",
      "source": [
        "Looking at the curve, we can clearly identify the over-fitting regime of the SVC classifier when gamma > 1. The best setting is around gamma = 1 while for gamma < 1, it is not very clear if the classifier is under-fitting but the testing score is worse than for gamma = 1."
      ],
      "metadata": {
        "id": "ELXasRdtGrFt"
      }
    },
    {
      "cell_type": "markdown",
      "source": [
        "Now, you can perform an analysis to check whether adding new samples to the\n",
        "dataset could help our model to better generalize. Compute the learning curve\n",
        "(using [`sklearn.model_selection.learning_curve`](https://scikit-learn.org/stable/modules/generated/sklearn.model_selection.learning_curve.html))\n",
        "by computing the train and test scores for different training dataset size.\n",
        "Plot the train and test scores with respect to the number of samples."
      ],
      "metadata": {
        "id": "RSOwr2LqCczh"
      }
    },
    {
      "cell_type": "code",
      "source": [
        "from sklearn.model_selection import learning_curve\n",
        "\n",
        "train_sizes = np.linspace(.1, 1., num=5, endpoint=True)\n",
        "\n",
        "results = learning_curve(\n",
        "    model,\n",
        "    data,\n",
        "    target,\n",
        "    cv=cv,\n",
        "    scoring='accuracy',\n",
        "    train_sizes=train_sizes,\n",
        "    n_jobs=-1\n",
        ")\n",
        "\n",
        "train_size, train_err, test_err = results[:3]"
      ],
      "metadata": {
        "id": "mf5WZ9yQCdaz"
      },
      "execution_count": 13,
      "outputs": []
    },
    {
      "cell_type": "code",
      "source": [
        "plt.figure(figsize=(8, 5), dpi=105)\n",
        "plt.errorbar(\n",
        "    train_size, \n",
        "    train_err.mean(axis=1),\n",
        "    yerr=train_err.std(axis=1),\n",
        "    label='train err'\n",
        ")\n",
        "plt.errorbar(\n",
        "    train_size, \n",
        "    test_err.mean(axis=1),\n",
        "    yerr=test_err.std(axis=1),\n",
        "    label='test err'\n",
        ")\n",
        "\n",
        "\n",
        "plt.xlabel('Sample Sizes')\n",
        "plt.ylabel('Accuracy')\n",
        "plt.legend()\n",
        "plt.show();"
      ],
      "metadata": {
        "colab": {
          "base_uri": "https://localhost:8080/",
          "height": 484
        },
        "id": "_lvhLSdlDgNK",
        "outputId": "908d918b-a513-4c9f-eef2-608d3d5924a9"
      },
      "execution_count": 17,
      "outputs": [
        {
          "output_type": "display_data",
          "data": {
            "text/plain": [
              "<Figure size 840x525 with 1 Axes>"
            ],
            "image/png": "[encoded data removed]"
          },
          "metadata": {}
        }
      ]
    },
    {
      "cell_type": "markdown",
      "source": [
        "We observe that adding new samples to the training dataset does not seem to improve the training and testing scores. In particular, the testing score oscillates around 76% accuracy. Indeed, ~76% of the samples belong to the class \"not donated\". Notice then that a classifier that always predicts the \"not donated\" class would achieve an accuracy of 76% without using any information from the data itself. This can mean that our small pipeline is not able to use the input features to improve upon that simplistic baseline, and increasing the training set size does not help either.\n",
        "\n",
        "It could be the case that the input features are fundamentally not very informative and the classification problem is fundamentally impossible to solve to a high accuracy. But it could also be the case that our choice of using the default hyperparameter value of the SVC class was a bad idea, or that the choice of the SVC class is itself sub-optimal."
      ],
      "metadata": {
        "id": "AVI4hxeUGkwI"
      }
    },
    {
      "cell_type": "code",
      "source": [],
      "metadata": {
        "id": "KT5w9K_KElZ7"
      },
      "execution_count": 14,
      "outputs": []
    }
  ]
}